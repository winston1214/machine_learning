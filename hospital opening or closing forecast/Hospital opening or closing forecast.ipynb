{
 "cells": [
  {
   "cell_type": "markdown",
   "metadata": {
    "colab_type": "text",
    "id": "6KdBYvomM3Ql"
   },
   "source": [
    "2020 데이터사이언스 프로젝트 최종 발표\n",
    "\n",
    "# 국내 병원의 개/폐업 예측\n"
   ]
  },
  {
   "cell_type": "markdown",
   "metadata": {
    "colab_type": "text",
    "id": "ni4rFcyskMZX"
   },
   "source": [
    "팀원 : 김영민, 강민정\n"
   ]
  },
  {
   "cell_type": "markdown",
   "metadata": {
    "colab_type": "text",
    "id": "SKFDg3WbNOBf"
   },
   "source": [
    "본 프로젝트는 병원에 대한 회계 데이터를 통해 국내 병원 개/폐업 예측한다.\n",
    "\n",
    "(1) KDD 분석 절차에 따라 진행되며 EDA의 시각화를 통해  데이터의 특징 파악\n",
    "\n",
    "(2) 머신러닝 모델과 인공 신경망 모델의 성능을 비교하고 이를 통해 보다 높은 정확도를 얻어냄"
   ]
  },
  {
   "cell_type": "code",
   "execution_count": null,
   "metadata": {
    "colab": {},
    "colab_type": "code",
    "id": "M8p63iDBQ16g"
   },
   "outputs": [],
   "source": [
    "import pandas as pd\n",
    "import numpy as np\n",
    "import matplotlib.pyplot as plt\n",
    "import warnings\n",
    "warnings.filterwarnings('ignore')\n",
    "import seaborn as sns\n",
    "plt.style.use('ggplot')"
   ]
  },
  {
   "cell_type": "code",
   "execution_count": null,
   "metadata": {
    "colab": {
     "base_uri": "https://localhost:8080/",
     "height": 125
    },
    "colab_type": "code",
    "id": "cm7hq6ZZR2yI",
    "outputId": "cd70b1df-254d-468f-f0c8-f861487f42af"
   },
   "outputs": [
    {
     "name": "stdout",
     "output_type": "stream",
     "text": [
      "Go to this URL in a browser: https://accounts.google.com/o/oauth2/auth?client_id=947318989803-6bn6qk8qdgf4n4g3pfee6491hc0brc4i.apps.googleusercontent.com&redirect_uri=urn%3aietf%3awg%3aoauth%3a2.0%3aoob&response_type=code&scope=email%20https%3a%2f%2fwww.googleapis.com%2fauth%2fdocs.test%20https%3a%2f%2fwww.googleapis.com%2fauth%2fdrive%20https%3a%2f%2fwww.googleapis.com%2fauth%2fdrive.photos.readonly%20https%3a%2f%2fwww.googleapis.com%2fauth%2fpeopleapi.readonly\n",
      "\n",
      "Enter your authorization code:\n",
      "··········\n",
      "Mounted at /content/gdrive\n"
     ]
    }
   ],
   "source": [
    "# 구글 드라이브 마운트\n",
    "from google.colab import drive\n",
    "drive.mount('/content/gdrive')"
   ]
  },
  {
   "cell_type": "markdown",
   "metadata": {
    "colab_type": "text",
    "id": "kIKYq7ZlQ169"
   },
   "source": [
    "## 데이터 설명\n",
    "\n",
    "train.csv - 의료기관이 폐업했는지 여부를 포함하여 최근 2개년의 재무정보와 병원 기본정보 \n",
    "\n",
    "test.csv - 폐업 여부를 제외하고 train.csv와 동일 \n",
    "\n",
    "sample_submission.csv - inst_id와 open과 close를 예측하는 OC 두개의 열로 구성. OC의 값은 open 예측일 경우 1, close 예측일 경우 0.\n",
    "\n",
    "\n",
    "\n",
    "inst_id - 각 파일에서의 병원 고유 번호\n",
    "\n",
    "OC – 영업/폐업 분류, 2018년 폐업은 2017년 폐업으로 간주함\n",
    "\n",
    "sido – 병원의 광역 지역 정보\n",
    "\n",
    "sgg – 병원의 시군구 자료\n",
    "\n",
    "openDate – 병원 설립일\n",
    "\n",
    "bedCount - 병원이 갖추고 있는 병상의 수\n",
    "\n",
    "instkind – 병원, 의원, 요양병원, 한의원, 종합병원 등 병원의 종류\n",
    "\n",
    "·        종합병원 : 입원환자 100명 이상 수용 가능\n",
    "\n",
    "·        병원 : 입원 환자 30명 이상 100명 미만 수용 가능\n",
    "\n",
    "·        의원 : 입원 환자 30명 이하 수용 가능\n",
    "\n",
    "·        한방 병원(한의원) : 침술과 한약으로 치료하는 의료 기관.  \n",
    "\n",
    " \n",
    "\n",
    "revenue1 – 매출액, 2017(회계년도)년 데이터를 의미함\n",
    "\n",
    "salescost1 – 매출원가, 2017(회계년도)년 데이터를 의미함\n",
    "\n",
    "sga1 - 판매비와 관리비, 2017(회계년도)년 데이터를 의미함\n",
    "\n",
    "salary1 – 급여, 2017(회계년도)년 데이터를 의미함\n",
    "\n",
    "noi1 – 영업외수익, 2017(회계년도)년 데이터를 의미함\n",
    "\n",
    "noe1 – 영업외비용, 2017(회계년도)년 데이터를 의미함\n",
    "\n",
    "Interest1 – 이자비용, 2017(회계년도)년 데이터를 의미함\n",
    "\n",
    "ctax1 – 법인세비용, 2017(회계년도)년 데이터를 의미함\n",
    "\n",
    "Profit1 – 당기순이익, 2017(회계년도)년 데이터를 의미함\n",
    "\n",
    "liquidAsset1 – 유동자산, 2017(회계년도)년 데이터를 의미함\n",
    "\n",
    "quickAsset1 – 당좌자산, 2017(회계년도)년 데이터를 의미함\n",
    "\n",
    "receivableS1 - 미수금(단기), 2017(회계년도)년 데이터를 의미함\n",
    "\n",
    "inventoryAsset1 – 재고자산, 2017(회계년도)년 데이터를 의미함\n",
    "\n",
    "nonCAsset1 – 비유동자산, 2017(회계년도)년 데이터를 의미함\n",
    "\n",
    "tanAsset1 – 유형자산, 2017(회계년도)년 데이터를 의미함\n",
    "\n",
    "OnonCAsset1 - 기타 비유동자산, 2017(회계년도)년 데이터를 의미함\n",
    "\n",
    "receivableL1 – 장기미수금, 2017(회계년도)년 데이터를 의미함\n",
    "\n",
    "debt1 – 부채총계, 2017(회계년도)년 데이터를 의미함\n",
    "\n",
    "liquidLiabilities1 – 유동부채, 2017(회계년도)년 데이터를 의미함\n",
    "\n",
    "shortLoan1 – 단기차입금, 2017(회계년도)년 데이터를 의미함\n",
    "\n",
    "NCLiabilities1 – 비유동부채, 2017(회계년도)년 데이터를 의미함\n",
    "\n",
    "longLoan1 – 장기차입금, 2017(회계년도)년 데이터를 의미함\n",
    "\n",
    "netAsset1 – 순자산총계, 2017(회계년도)년 데이터를 의미함\n",
    "\n",
    "surplus1 – 이익잉여금, 2017(회계년도)년 데이터를 의미함\n",
    "\n",
    " \n",
    "\n",
    "revenue2 – 매출액, 2016(회계년도)년 데이터를 의미함\n",
    "\n",
    "salescost2 – 매출원가, 2016(회계년도)년 데이터를 의미함\n",
    "\n",
    "sga2 - 판매비와 관리비, 2016(회계년도)년 데이터를 의미함\n",
    "\n",
    "salary2 – 급여, 2016(회계년도)년 데이터를 의미함\n",
    "\n",
    "noi2 – 영업외수익, 2016(회계년도)년 데이터를 의미함\n",
    "\n",
    "noe2 – 영업외비용, 2016(회계년도)년 데이터를 의미함\n",
    "\n",
    "interest2 – 이자비용, 2016(회계년도)년 데이터를 의미함\n",
    "\n",
    "ctax2 – 법인세비용, 2016(회계년도)년 데이터를 의미함\n",
    "\n",
    "profit2 – 당기순이익, 2016(회계년도)년 데이터를 의미함\n",
    "\n",
    "liquidAsset2 – 유동자산, 2016(회계년도)년 데이터를 의미함\n",
    "\n",
    "quickAsset2 – 당좌자산, 2016(회계년도)년 데이터를 의미함\n",
    "\n",
    "receivableS2 - 미수금(단기), 2016(회계년도)년 데이터를 의미함\n",
    "\n",
    "inventoryAsset2 – 재고자산, 2016(회계년도)년 데이터를 의미함\n",
    "\n",
    "nonCAsset2 – 비유동자산, 2016(회계년도)년 데이터를 의미함\n",
    "\n",
    "tanAsset2 – 유형자산, 2016(회계년도)년 데이터를 의미함\n",
    "\n",
    "OnonCAsset2 - 기타 비유동자산, 2016(회계년도)년 데이터를 의미함\n",
    "\n",
    "receivableL2 – 장기미수금, 2016(회계년도)년 데이터를 의미함\n",
    "\n",
    "Debt2 – 부채총계, 2016(회계년도)년 데이터를 의미함\n",
    "\n",
    "liquidLiabilities2 – 유동부채, 2016(회계년도)년 데이터를 의미함\n",
    "\n",
    "shortLoan2 – 단기차입금, 2016(회계년도)년 데이터를 의미함\n",
    "\n",
    "NCLiabilities2 – 비유동부채, 2016(회계년도)년 데이터를 의미함\n",
    "\n",
    "longLoan2 – 장기차입금, 2016(회계년도)년 데이터를 의미함\n",
    "\n",
    "netAsset2 – 순자산총계, 2016(회계년도)년 데이터를 의미함\n",
    "\n",
    "surplus2 – 이익잉여금, 2016(회계년도)년 데이터를 의미함\n",
    "\n",
    "employee1 – 고용한 총 직원의 수, 2017(회계년도)년 데이터를 의미함\n",
    "\n",
    "employee2 – 고용한 총 직원의 수, 2016(회계년도)년 데이터를 의미함\n",
    "\n",
    "ownerChange – 대표자의 변동 "
   ]
  },
  {
   "cell_type": "code",
   "execution_count": null,
   "metadata": {
    "colab": {},
    "colab_type": "code",
    "id": "WXV0lwc7Q16_"
   },
   "outputs": [],
   "source": [
    "train = pd.read_csv('/content/gdrive/My Drive/hospital close or open/train.csv',parse_dates=['openDate']) # date 형식으로 되어 있으므로 datetime type 으로 변환 호출\n",
    "test=pd.read_csv('/content/gdrive/My Drive/hospital close or open/test.csv',parse_dates=['openDate'])\n",
    "answer = pd.read_csv('/content/gdrive/My Drive/hospital close or open/submission_sample.csv')"
   ]
  },
  {
   "cell_type": "code",
   "execution_count": null,
   "metadata": {
    "colab": {},
    "colab_type": "code",
    "id": "e7_JhTp0Q17I"
   },
   "outputs": [],
   "source": [
    "train_len = train.shape[0]\n",
    "train_id = train.inst_id\n",
    "test_len = test.shape[0]\n",
    "test_id = test.inst_id\n",
    "# 나중에 train과 test 따로 분류할 때 필요한 것들\n",
    "merge_data = pd.concat([train,test]).reset_index() # data 병합\n",
    "data=merge_data.copy()"
   ]
  },
  {
   "cell_type": "code",
   "execution_count": null,
   "metadata": {
    "colab": {
     "base_uri": "https://localhost:8080/",
     "height": 34
    },
    "colab_type": "code",
    "id": "OsMDHx4efKvx",
    "outputId": "00e8b513-9e6b-4d5e-b4de-05e1b9f00aa7"
   },
   "outputs": [
    {
     "data": {
      "text/plain": [
       "(127, 58)"
      ]
     },
     "execution_count": 7,
     "metadata": {
      "tags": []
     },
     "output_type": "execute_result"
    }
   ],
   "source": [
    "test.shape"
   ]
  },
  {
   "cell_type": "markdown",
   "metadata": {
    "colab_type": "text",
    "id": "hMLCQRMJQ17P"
   },
   "source": [
    "# EDA"
   ]
  },
  {
   "cell_type": "code",
   "execution_count": null,
   "metadata": {
    "colab": {
     "base_uri": "https://localhost:8080/",
     "height": 298
    },
    "colab_type": "code",
    "id": "5RM4VO0dVj2q",
    "outputId": "0bb5fe28-907e-499a-b3a3-95093100d367"
   },
   "outputs": [
    {
     "data": {
      "text/html": [
       "<div>\n",
       "<style scoped>\n",
       "    .dataframe tbody tr th:only-of-type {\n",
       "        vertical-align: middle;\n",
       "    }\n",
       "\n",
       "    .dataframe tbody tr th {\n",
       "        vertical-align: top;\n",
       "    }\n",
       "\n",
       "    .dataframe thead th {\n",
       "        text-align: right;\n",
       "    }\n",
       "</style>\n",
       "<table border=\"1\" class=\"dataframe\">\n",
       "  <thead>\n",
       "    <tr style=\"text-align: right;\">\n",
       "      <th></th>\n",
       "      <th>index</th>\n",
       "      <th>inst_id</th>\n",
       "      <th>OC</th>\n",
       "      <th>sido</th>\n",
       "      <th>sgg</th>\n",
       "      <th>openDate</th>\n",
       "      <th>bedCount</th>\n",
       "      <th>instkind</th>\n",
       "      <th>revenue1</th>\n",
       "      <th>salescost1</th>\n",
       "      <th>sga1</th>\n",
       "      <th>salary1</th>\n",
       "      <th>noi1</th>\n",
       "      <th>noe1</th>\n",
       "      <th>interest1</th>\n",
       "      <th>ctax1</th>\n",
       "      <th>profit1</th>\n",
       "      <th>liquidAsset1</th>\n",
       "      <th>quickAsset1</th>\n",
       "      <th>receivableS1</th>\n",
       "      <th>inventoryAsset1</th>\n",
       "      <th>nonCAsset1</th>\n",
       "      <th>tanAsset1</th>\n",
       "      <th>OnonCAsset1</th>\n",
       "      <th>receivableL1</th>\n",
       "      <th>debt1</th>\n",
       "      <th>liquidLiabilities1</th>\n",
       "      <th>shortLoan1</th>\n",
       "      <th>NCLiabilities1</th>\n",
       "      <th>longLoan1</th>\n",
       "      <th>netAsset1</th>\n",
       "      <th>surplus1</th>\n",
       "      <th>revenue2</th>\n",
       "      <th>salescost2</th>\n",
       "      <th>sga2</th>\n",
       "      <th>salary2</th>\n",
       "      <th>noi2</th>\n",
       "      <th>noe2</th>\n",
       "      <th>interest2</th>\n",
       "      <th>ctax2</th>\n",
       "      <th>profit2</th>\n",
       "      <th>liquidAsset2</th>\n",
       "      <th>quickAsset2</th>\n",
       "      <th>receivableS2</th>\n",
       "      <th>inventoryAsset2</th>\n",
       "      <th>nonCAsset2</th>\n",
       "      <th>tanAsset2</th>\n",
       "      <th>OnonCAsset2</th>\n",
       "      <th>receivableL2</th>\n",
       "      <th>debt2</th>\n",
       "      <th>liquidLiabilities2</th>\n",
       "      <th>shortLoan2</th>\n",
       "      <th>NCLiabilities2</th>\n",
       "      <th>longLoan2</th>\n",
       "      <th>netAsset2</th>\n",
       "      <th>surplus2</th>\n",
       "      <th>employee1</th>\n",
       "      <th>employee2</th>\n",
       "      <th>ownerChange</th>\n",
       "    </tr>\n",
       "  </thead>\n",
       "  <tbody>\n",
       "    <tr>\n",
       "      <th>0</th>\n",
       "      <td>0</td>\n",
       "      <td>1</td>\n",
       "      <td>open</td>\n",
       "      <td>choongnam</td>\n",
       "      <td>73</td>\n",
       "      <td>2007-12-28</td>\n",
       "      <td>175.0</td>\n",
       "      <td>nursing_hospital</td>\n",
       "      <td>4.217530e+09</td>\n",
       "      <td>0.0</td>\n",
       "      <td>3.961135e+09</td>\n",
       "      <td>2.033835e+09</td>\n",
       "      <td>15652441.0</td>\n",
       "      <td>1.523624e+07</td>\n",
       "      <td>1.323624e+07</td>\n",
       "      <td>31641798.0</td>\n",
       "      <td>225169678.0</td>\n",
       "      <td>1.012700e+09</td>\n",
       "      <td>9.976719e+08</td>\n",
       "      <td>4.700557e+08</td>\n",
       "      <td>1.502781e+07</td>\n",
       "      <td>2.514586e+09</td>\n",
       "      <td>2.360684e+09</td>\n",
       "      <td>1.434496e+08</td>\n",
       "      <td>0.0</td>\n",
       "      <td>6.828260e+08</td>\n",
       "      <td>2.013237e+08</td>\n",
       "      <td>0.000000e+00</td>\n",
       "      <td>4.815023e+08</td>\n",
       "      <td>3.510000e+08</td>\n",
       "      <td>2.844460e+09</td>\n",
       "      <td>1.496394e+09</td>\n",
       "      <td>4.297848e+09</td>\n",
       "      <td>0.0</td>\n",
       "      <td>4.057422e+09</td>\n",
       "      <td>2.063787e+09</td>\n",
       "      <td>16194675.0</td>\n",
       "      <td>2.998335e+07</td>\n",
       "      <td>1.568305e+07</td>\n",
       "      <td>18808074.0</td>\n",
       "      <td>207829685.0</td>\n",
       "      <td>8.301695e+08</td>\n",
       "      <td>8.165705e+08</td>\n",
       "      <td>5.237026e+08</td>\n",
       "      <td>1.359897e+07</td>\n",
       "      <td>2.548115e+09</td>\n",
       "      <td>2.386263e+09</td>\n",
       "      <td>1.458986e+08</td>\n",
       "      <td>0.0</td>\n",
       "      <td>7.589937e+08</td>\n",
       "      <td>2.228769e+08</td>\n",
       "      <td>0.000000e+00</td>\n",
       "      <td>5.361169e+08</td>\n",
       "      <td>3.900000e+08</td>\n",
       "      <td>2.619290e+09</td>\n",
       "      <td>1.271224e+09</td>\n",
       "      <td>62</td>\n",
       "      <td>64</td>\n",
       "      <td>same</td>\n",
       "    </tr>\n",
       "    <tr>\n",
       "      <th>1</th>\n",
       "      <td>1</td>\n",
       "      <td>3</td>\n",
       "      <td>open</td>\n",
       "      <td>gyeongnam</td>\n",
       "      <td>32</td>\n",
       "      <td>1997-04-01</td>\n",
       "      <td>410.0</td>\n",
       "      <td>general_hospital</td>\n",
       "      <td>NaN</td>\n",
       "      <td>NaN</td>\n",
       "      <td>NaN</td>\n",
       "      <td>NaN</td>\n",
       "      <td>NaN</td>\n",
       "      <td>NaN</td>\n",
       "      <td>NaN</td>\n",
       "      <td>NaN</td>\n",
       "      <td>NaN</td>\n",
       "      <td>NaN</td>\n",
       "      <td>NaN</td>\n",
       "      <td>NaN</td>\n",
       "      <td>NaN</td>\n",
       "      <td>NaN</td>\n",
       "      <td>NaN</td>\n",
       "      <td>NaN</td>\n",
       "      <td>NaN</td>\n",
       "      <td>NaN</td>\n",
       "      <td>NaN</td>\n",
       "      <td>NaN</td>\n",
       "      <td>NaN</td>\n",
       "      <td>NaN</td>\n",
       "      <td>NaN</td>\n",
       "      <td>NaN</td>\n",
       "      <td>NaN</td>\n",
       "      <td>NaN</td>\n",
       "      <td>NaN</td>\n",
       "      <td>NaN</td>\n",
       "      <td>NaN</td>\n",
       "      <td>NaN</td>\n",
       "      <td>NaN</td>\n",
       "      <td>NaN</td>\n",
       "      <td>NaN</td>\n",
       "      <td>NaN</td>\n",
       "      <td>NaN</td>\n",
       "      <td>NaN</td>\n",
       "      <td>NaN</td>\n",
       "      <td>NaN</td>\n",
       "      <td>NaN</td>\n",
       "      <td>NaN</td>\n",
       "      <td>NaN</td>\n",
       "      <td>NaN</td>\n",
       "      <td>NaN</td>\n",
       "      <td>NaN</td>\n",
       "      <td>NaN</td>\n",
       "      <td>NaN</td>\n",
       "      <td>NaN</td>\n",
       "      <td>NaN</td>\n",
       "      <td>801</td>\n",
       "      <td>813</td>\n",
       "      <td>same</td>\n",
       "    </tr>\n",
       "    <tr>\n",
       "      <th>2</th>\n",
       "      <td>2</td>\n",
       "      <td>4</td>\n",
       "      <td>open</td>\n",
       "      <td>gyeonggi</td>\n",
       "      <td>89</td>\n",
       "      <td>2016-12-28</td>\n",
       "      <td>468.0</td>\n",
       "      <td>nursing_hospital</td>\n",
       "      <td>1.004522e+09</td>\n",
       "      <td>515483669.0</td>\n",
       "      <td>4.472197e+08</td>\n",
       "      <td>2.964023e+08</td>\n",
       "      <td>76156.0</td>\n",
       "      <td>3.000000e+04</td>\n",
       "      <td>0.000000e+00</td>\n",
       "      <td>0.0</td>\n",
       "      <td>41864754.0</td>\n",
       "      <td>2.724421e+08</td>\n",
       "      <td>2.536822e+08</td>\n",
       "      <td>8.095950e+06</td>\n",
       "      <td>1.875997e+07</td>\n",
       "      <td>1.204810e+08</td>\n",
       "      <td>1.204810e+08</td>\n",
       "      <td>0.000000e+00</td>\n",
       "      <td>0.0</td>\n",
       "      <td>9.241434e+07</td>\n",
       "      <td>9.241434e+07</td>\n",
       "      <td>0.000000e+00</td>\n",
       "      <td>0.000000e+00</td>\n",
       "      <td>0.000000e+00</td>\n",
       "      <td>3.005088e+08</td>\n",
       "      <td>0.000000e+00</td>\n",
       "      <td>0.000000e+00</td>\n",
       "      <td>0.0</td>\n",
       "      <td>0.000000e+00</td>\n",
       "      <td>0.000000e+00</td>\n",
       "      <td>0.0</td>\n",
       "      <td>0.000000e+00</td>\n",
       "      <td>0.000000e+00</td>\n",
       "      <td>0.0</td>\n",
       "      <td>0.0</td>\n",
       "      <td>0.000000e+00</td>\n",
       "      <td>0.000000e+00</td>\n",
       "      <td>0.000000e+00</td>\n",
       "      <td>0.000000e+00</td>\n",
       "      <td>0.000000e+00</td>\n",
       "      <td>0.000000e+00</td>\n",
       "      <td>0.000000e+00</td>\n",
       "      <td>0.0</td>\n",
       "      <td>0.000000e+00</td>\n",
       "      <td>0.000000e+00</td>\n",
       "      <td>0.000000e+00</td>\n",
       "      <td>0.000000e+00</td>\n",
       "      <td>0.000000e+00</td>\n",
       "      <td>0.000000e+00</td>\n",
       "      <td>0.000000e+00</td>\n",
       "      <td>234</td>\n",
       "      <td>1</td>\n",
       "      <td>same</td>\n",
       "    </tr>\n",
       "    <tr>\n",
       "      <th>3</th>\n",
       "      <td>3</td>\n",
       "      <td>7</td>\n",
       "      <td>open</td>\n",
       "      <td>incheon</td>\n",
       "      <td>141</td>\n",
       "      <td>2000-08-14</td>\n",
       "      <td>353.0</td>\n",
       "      <td>general_hospital</td>\n",
       "      <td>7.250734e+10</td>\n",
       "      <td>0.0</td>\n",
       "      <td>7.067740e+10</td>\n",
       "      <td>3.178605e+10</td>\n",
       "      <td>506223059.0</td>\n",
       "      <td>1.259568e+09</td>\n",
       "      <td>1.196881e+09</td>\n",
       "      <td>173769780.0</td>\n",
       "      <td>902830288.0</td>\n",
       "      <td>1.304154e+10</td>\n",
       "      <td>1.153475e+10</td>\n",
       "      <td>0.000000e+00</td>\n",
       "      <td>1.506793e+09</td>\n",
       "      <td>4.317936e+10</td>\n",
       "      <td>3.832078e+10</td>\n",
       "      <td>3.945208e+09</td>\n",
       "      <td>0.0</td>\n",
       "      <td>4.236380e+10</td>\n",
       "      <td>2.799188e+10</td>\n",
       "      <td>1.988520e+10</td>\n",
       "      <td>1.437192e+10</td>\n",
       "      <td>7.253040e+09</td>\n",
       "      <td>1.385710e+10</td>\n",
       "      <td>8.643659e+09</td>\n",
       "      <td>6.685834e+10</td>\n",
       "      <td>0.0</td>\n",
       "      <td>6.492419e+10</td>\n",
       "      <td>2.971135e+10</td>\n",
       "      <td>476807804.0</td>\n",
       "      <td>1.353672e+09</td>\n",
       "      <td>1.277422e+09</td>\n",
       "      <td>218891720.0</td>\n",
       "      <td>838387466.0</td>\n",
       "      <td>1.112572e+10</td>\n",
       "      <td>9.890540e+09</td>\n",
       "      <td>0.000000e+00</td>\n",
       "      <td>1.235181e+09</td>\n",
       "      <td>3.958356e+10</td>\n",
       "      <td>3.485576e+10</td>\n",
       "      <td>3.915906e+09</td>\n",
       "      <td>0.0</td>\n",
       "      <td>3.775501e+10</td>\n",
       "      <td>1.701860e+10</td>\n",
       "      <td>9.219427e+09</td>\n",
       "      <td>2.073641e+10</td>\n",
       "      <td>1.510000e+10</td>\n",
       "      <td>1.295427e+10</td>\n",
       "      <td>7.740829e+09</td>\n",
       "      <td>663</td>\n",
       "      <td>663</td>\n",
       "      <td>same</td>\n",
       "    </tr>\n",
       "    <tr>\n",
       "      <th>4</th>\n",
       "      <td>4</td>\n",
       "      <td>9</td>\n",
       "      <td>open</td>\n",
       "      <td>gyeongnam</td>\n",
       "      <td>32</td>\n",
       "      <td>2005-09-01</td>\n",
       "      <td>196.0</td>\n",
       "      <td>general_hospital</td>\n",
       "      <td>4.904354e+10</td>\n",
       "      <td>0.0</td>\n",
       "      <td>4.765605e+10</td>\n",
       "      <td>2.446078e+10</td>\n",
       "      <td>112352259.0</td>\n",
       "      <td>1.419089e+09</td>\n",
       "      <td>1.307249e+09</td>\n",
       "      <td>0.0</td>\n",
       "      <td>80749696.0</td>\n",
       "      <td>6.317084e+09</td>\n",
       "      <td>5.873265e+09</td>\n",
       "      <td>4.099320e+09</td>\n",
       "      <td>4.438186e+08</td>\n",
       "      <td>4.366733e+10</td>\n",
       "      <td>4.330613e+10</td>\n",
       "      <td>2.223400e+08</td>\n",
       "      <td>0.0</td>\n",
       "      <td>4.989811e+10</td>\n",
       "      <td>2.890919e+10</td>\n",
       "      <td>1.793038e+10</td>\n",
       "      <td>2.098892e+10</td>\n",
       "      <td>1.350000e+10</td>\n",
       "      <td>8.631164e+07</td>\n",
       "      <td>9.025550e+09</td>\n",
       "      <td>4.808280e+10</td>\n",
       "      <td>0.0</td>\n",
       "      <td>4.712580e+10</td>\n",
       "      <td>2.346004e+10</td>\n",
       "      <td>597748128.0</td>\n",
       "      <td>1.522108e+09</td>\n",
       "      <td>1.349851e+09</td>\n",
       "      <td>0.0</td>\n",
       "      <td>32642585.0</td>\n",
       "      <td>4.906776e+09</td>\n",
       "      <td>4.464017e+09</td>\n",
       "      <td>3.365227e+09</td>\n",
       "      <td>4.427591e+08</td>\n",
       "      <td>4.653138e+10</td>\n",
       "      <td>4.562945e+10</td>\n",
       "      <td>7.893407e+08</td>\n",
       "      <td>0.0</td>\n",
       "      <td>5.143259e+10</td>\n",
       "      <td>3.007259e+10</td>\n",
       "      <td>1.759375e+10</td>\n",
       "      <td>2.136001e+10</td>\n",
       "      <td>1.410803e+10</td>\n",
       "      <td>5.561941e+06</td>\n",
       "      <td>9.025550e+09</td>\n",
       "      <td>206</td>\n",
       "      <td>197</td>\n",
       "      <td>same</td>\n",
       "    </tr>\n",
       "  </tbody>\n",
       "</table>\n",
       "</div>"
      ],
      "text/plain": [
       "   index  inst_id    OC  ... employee1  employee2 ownerChange\n",
       "0      0        1  open  ...        62         64        same\n",
       "1      1        3  open  ...       801        813        same\n",
       "2      2        4  open  ...       234          1        same\n",
       "3      3        7  open  ...       663        663        same\n",
       "4      4        9  open  ...       206        197        same\n",
       "\n",
       "[5 rows x 59 columns]"
      ]
     },
     "execution_count": 6,
     "metadata": {
      "tags": []
     },
     "output_type": "execute_result"
    }
   ],
   "source": [
    "data.head()"
   ]
  },
  {
   "cell_type": "code",
   "execution_count": null,
   "metadata": {
    "colab": {
     "base_uri": "https://localhost:8080/",
     "height": 34
    },
    "colab_type": "code",
    "id": "vg-40Td6Q17Q",
    "outputId": "b0abe1cb-8c28-4918-ef4b-35905e0824b6"
   },
   "outputs": [
    {
     "data": {
      "text/plain": [
       "(301, 58)"
      ]
     },
     "execution_count": 5,
     "metadata": {
      "tags": []
     },
     "output_type": "execute_result"
    }
   ],
   "source": [
    "train.shape"
   ]
  },
  {
   "cell_type": "code",
   "execution_count": null,
   "metadata": {
    "colab": {
     "base_uri": "https://localhost:8080/",
     "height": 1000
    },
    "colab_type": "code",
    "id": "_Jx3vGSRQ17k",
    "outputId": "ca3e594b-b33c-4408-d541-0ba32dacc961"
   },
   "outputs": [
    {
     "data": {
      "text/plain": [
       "inst_id               0.000000\n",
       "OC                    0.000000\n",
       "sido                  0.000000\n",
       "sgg                   0.000000\n",
       "openDate              0.000000\n",
       "bedCount              1.661130\n",
       "instkind              0.332226\n",
       "revenue1              2.657807\n",
       "salescost1            2.657807\n",
       "sga1                  2.657807\n",
       "salary1               2.657807\n",
       "noi1                  2.657807\n",
       "noe1                  2.657807\n",
       "interest1             2.657807\n",
       "ctax1                 2.657807\n",
       "profit1               2.657807\n",
       "liquidAsset1          2.657807\n",
       "quickAsset1           2.657807\n",
       "receivableS1          2.657807\n",
       "inventoryAsset1       2.657807\n",
       "nonCAsset1            2.657807\n",
       "tanAsset1             2.657807\n",
       "OnonCAsset1           2.657807\n",
       "receivableL1          2.657807\n",
       "debt1                 2.657807\n",
       "liquidLiabilities1    2.657807\n",
       "shortLoan1            2.657807\n",
       "NCLiabilities1        2.657807\n",
       "longLoan1             2.657807\n",
       "netAsset1             2.657807\n",
       "surplus1              2.657807\n",
       "revenue2              2.657807\n",
       "salescost2            2.657807\n",
       "sga2                  2.657807\n",
       "salary2               2.657807\n",
       "noi2                  2.657807\n",
       "noe2                  2.657807\n",
       "interest2             2.657807\n",
       "ctax2                 2.657807\n",
       "profit2               2.657807\n",
       "liquidAsset2          2.657807\n",
       "quickAsset2           2.657807\n",
       "receivableS2          2.657807\n",
       "inventoryAsset2       2.657807\n",
       "nonCAsset2            2.657807\n",
       "tanAsset2             2.657807\n",
       "OnonCAsset2           2.657807\n",
       "receivableL2          2.657807\n",
       "debt2                 2.657807\n",
       "liquidLiabilities2    2.657807\n",
       "shortLoan2            2.657807\n",
       "NCLiabilities2        2.657807\n",
       "longLoan2             2.657807\n",
       "netAsset2             2.657807\n",
       "surplus2              2.657807\n",
       "employee1             3.322259\n",
       "employee2             4.318937\n",
       "ownerChange           3.986711\n",
       "dtype: float64"
      ]
     },
     "execution_count": 6,
     "metadata": {
      "tags": []
     },
     "output_type": "execute_result"
    }
   ],
   "source": [
    "# 결측치 확인\n",
    "train.isnull().sum()/train.shape[0]*100"
   ]
  },
  {
   "cell_type": "code",
   "execution_count": null,
   "metadata": {
    "colab": {
     "base_uri": "https://localhost:8080/",
     "height": 602
    },
    "colab_type": "code",
    "id": "HPi6-LniQ18D",
    "outputId": "cf9aa3ab-f85e-4a7f-80d0-3f87207e3c4c"
   },
   "outputs": [
    {
     "data": {
      "text/plain": [
       "<matplotlib.axes._subplots.AxesSubplot at 0x7fdcfc24fba8>"
      ]
     },
     "execution_count": 9,
     "metadata": {
      "tags": []
     },
     "output_type": "execute_result"
    },
    {
     "data": {
      "image/png": "[encoded data removed]",
      "text/plain": [
       "<Figure size 1728x720 with 2 Axes>"
      ]
     },
     "metadata": {
      "needs_background": "light",
      "tags": []
     },
     "output_type": "display_data"
    }
   ],
   "source": [
    "import missingno as msno\n",
    "msno.bar(train,color=(0.9,0.4,1)) # 결측치가 거의 없음을 알 수 있다."
   ]
  },
  {
   "cell_type": "code",
   "execution_count": null,
   "metadata": {
    "colab": {
     "base_uri": "https://localhost:8080/",
     "height": 166
    },
    "colab_type": "code",
    "id": "lJ-qZS_fQ17s",
    "outputId": "f8571c58-dac7-4f39-a9d7-20075535f22e"
   },
   "outputs": [
    {
     "data": {
      "text/html": [
       "<div>\n",
       "<style scoped>\n",
       "    .dataframe tbody tr th:only-of-type {\n",
       "        vertical-align: middle;\n",
       "    }\n",
       "\n",
       "    .dataframe tbody tr th {\n",
       "        vertical-align: top;\n",
       "    }\n",
       "\n",
       "    .dataframe thead th {\n",
       "        text-align: right;\n",
       "    }\n",
       "</style>\n",
       "<table border=\"1\" class=\"dataframe\">\n",
       "  <thead>\n",
       "    <tr style=\"text-align: right;\">\n",
       "      <th></th>\n",
       "      <th>OC</th>\n",
       "      <th>sido</th>\n",
       "      <th>instkind</th>\n",
       "      <th>employee1</th>\n",
       "      <th>employee2</th>\n",
       "      <th>ownerChange</th>\n",
       "    </tr>\n",
       "  </thead>\n",
       "  <tbody>\n",
       "    <tr>\n",
       "      <th>count</th>\n",
       "      <td>301</td>\n",
       "      <td>428</td>\n",
       "      <td>425</td>\n",
       "      <td>410.0</td>\n",
       "      <td>400.0</td>\n",
       "      <td>401</td>\n",
       "    </tr>\n",
       "    <tr>\n",
       "      <th>unique</th>\n",
       "      <td>2</td>\n",
       "      <td>17</td>\n",
       "      <td>7</td>\n",
       "      <td>268.0</td>\n",
       "      <td>263.0</td>\n",
       "      <td>2</td>\n",
       "    </tr>\n",
       "    <tr>\n",
       "      <th>top</th>\n",
       "      <td>open</td>\n",
       "      <td>gyeonggi</td>\n",
       "      <td>nursing_hospital</td>\n",
       "      <td>73.0</td>\n",
       "      <td>70.0</td>\n",
       "      <td>same</td>\n",
       "    </tr>\n",
       "    <tr>\n",
       "      <th>freq</th>\n",
       "      <td>286</td>\n",
       "      <td>68</td>\n",
       "      <td>207</td>\n",
       "      <td>6.0</td>\n",
       "      <td>6.0</td>\n",
       "      <td>348</td>\n",
       "    </tr>\n",
       "  </tbody>\n",
       "</table>\n",
       "</div>"
      ],
      "text/plain": [
       "          OC      sido          instkind  employee1  employee2 ownerChange\n",
       "count    301       428               425      410.0      400.0         401\n",
       "unique     2        17                 7      268.0      263.0           2\n",
       "top     open  gyeonggi  nursing_hospital       73.0       70.0        same\n",
       "freq     286        68               207        6.0        6.0         348"
      ]
     },
     "execution_count": 7,
     "metadata": {
      "tags": []
     },
     "output_type": "execute_result"
    }
   ],
   "source": [
    "data.describe(include='object')"
   ]
  },
  {
   "cell_type": "code",
   "execution_count": null,
   "metadata": {
    "colab": {
     "base_uri": "https://localhost:8080/",
     "height": 304
    },
    "colab_type": "code",
    "id": "AqYYLQKAQ173",
    "outputId": "f085de05-62af-45a3-a829-c37ac7a130ae"
   },
   "outputs": [
    {
     "data": {
      "text/html": [
       "<div>\n",
       "<style scoped>\n",
       "    .dataframe tbody tr th:only-of-type {\n",
       "        vertical-align: middle;\n",
       "    }\n",
       "\n",
       "    .dataframe tbody tr th {\n",
       "        vertical-align: top;\n",
       "    }\n",
       "\n",
       "    .dataframe thead th {\n",
       "        text-align: right;\n",
       "    }\n",
       "</style>\n",
       "<table border=\"1\" class=\"dataframe\">\n",
       "  <thead>\n",
       "    <tr style=\"text-align: right;\">\n",
       "      <th></th>\n",
       "      <th>index</th>\n",
       "      <th>inst_id</th>\n",
       "      <th>sgg</th>\n",
       "      <th>bedCount</th>\n",
       "      <th>revenue1</th>\n",
       "      <th>salescost1</th>\n",
       "      <th>sga1</th>\n",
       "      <th>salary1</th>\n",
       "      <th>noi1</th>\n",
       "      <th>noe1</th>\n",
       "      <th>interest1</th>\n",
       "      <th>ctax1</th>\n",
       "      <th>profit1</th>\n",
       "      <th>liquidAsset1</th>\n",
       "      <th>quickAsset1</th>\n",
       "      <th>receivableS1</th>\n",
       "      <th>inventoryAsset1</th>\n",
       "      <th>nonCAsset1</th>\n",
       "      <th>tanAsset1</th>\n",
       "      <th>OnonCAsset1</th>\n",
       "      <th>receivableL1</th>\n",
       "      <th>debt1</th>\n",
       "      <th>liquidLiabilities1</th>\n",
       "      <th>shortLoan1</th>\n",
       "      <th>NCLiabilities1</th>\n",
       "      <th>longLoan1</th>\n",
       "      <th>netAsset1</th>\n",
       "      <th>surplus1</th>\n",
       "      <th>revenue2</th>\n",
       "      <th>salescost2</th>\n",
       "      <th>sga2</th>\n",
       "      <th>salary2</th>\n",
       "      <th>noi2</th>\n",
       "      <th>noe2</th>\n",
       "      <th>interest2</th>\n",
       "      <th>ctax2</th>\n",
       "      <th>profit2</th>\n",
       "      <th>liquidAsset2</th>\n",
       "      <th>quickAsset2</th>\n",
       "      <th>receivableS2</th>\n",
       "      <th>inventoryAsset2</th>\n",
       "      <th>nonCAsset2</th>\n",
       "      <th>tanAsset2</th>\n",
       "      <th>OnonCAsset2</th>\n",
       "      <th>receivableL2</th>\n",
       "      <th>debt2</th>\n",
       "      <th>liquidLiabilities2</th>\n",
       "      <th>shortLoan2</th>\n",
       "      <th>NCLiabilities2</th>\n",
       "      <th>longLoan2</th>\n",
       "      <th>netAsset2</th>\n",
       "      <th>surplus2</th>\n",
       "    </tr>\n",
       "  </thead>\n",
       "  <tbody>\n",
       "    <tr>\n",
       "      <th>count</th>\n",
       "      <td>428.000000</td>\n",
       "      <td>428.000000</td>\n",
       "      <td>428.000000</td>\n",
       "      <td>415.000000</td>\n",
       "      <td>4.180000e+02</td>\n",
       "      <td>4.180000e+02</td>\n",
       "      <td>4.180000e+02</td>\n",
       "      <td>4.180000e+02</td>\n",
       "      <td>4.180000e+02</td>\n",
       "      <td>4.180000e+02</td>\n",
       "      <td>4.180000e+02</td>\n",
       "      <td>4.180000e+02</td>\n",
       "      <td>4.180000e+02</td>\n",
       "      <td>4.180000e+02</td>\n",
       "      <td>4.180000e+02</td>\n",
       "      <td>4.180000e+02</td>\n",
       "      <td>4.180000e+02</td>\n",
       "      <td>4.180000e+02</td>\n",
       "      <td>4.180000e+02</td>\n",
       "      <td>4.180000e+02</td>\n",
       "      <td>4.180000e+02</td>\n",
       "      <td>4.180000e+02</td>\n",
       "      <td>4.180000e+02</td>\n",
       "      <td>4.180000e+02</td>\n",
       "      <td>4.180000e+02</td>\n",
       "      <td>4.180000e+02</td>\n",
       "      <td>4.180000e+02</td>\n",
       "      <td>4.180000e+02</td>\n",
       "      <td>4.180000e+02</td>\n",
       "      <td>4.180000e+02</td>\n",
       "      <td>4.180000e+02</td>\n",
       "      <td>4.180000e+02</td>\n",
       "      <td>4.180000e+02</td>\n",
       "      <td>4.180000e+02</td>\n",
       "      <td>4.180000e+02</td>\n",
       "      <td>4.180000e+02</td>\n",
       "      <td>4.180000e+02</td>\n",
       "      <td>4.180000e+02</td>\n",
       "      <td>4.180000e+02</td>\n",
       "      <td>4.180000e+02</td>\n",
       "      <td>4.180000e+02</td>\n",
       "      <td>4.180000e+02</td>\n",
       "      <td>4.180000e+02</td>\n",
       "      <td>4.180000e+02</td>\n",
       "      <td>4.180000e+02</td>\n",
       "      <td>4.180000e+02</td>\n",
       "      <td>4.180000e+02</td>\n",
       "      <td>4.180000e+02</td>\n",
       "      <td>4.180000e+02</td>\n",
       "      <td>4.180000e+02</td>\n",
       "      <td>4.180000e+02</td>\n",
       "      <td>4.180000e+02</td>\n",
       "    </tr>\n",
       "    <tr>\n",
       "      <th>mean</th>\n",
       "      <td>124.184579</td>\n",
       "      <td>215.154206</td>\n",
       "      <td>85.436916</td>\n",
       "      <td>153.474699</td>\n",
       "      <td>1.448543e+10</td>\n",
       "      <td>2.600554e+09</td>\n",
       "      <td>1.125100e+10</td>\n",
       "      <td>6.180720e+09</td>\n",
       "      <td>3.437587e+08</td>\n",
       "      <td>6.188967e+08</td>\n",
       "      <td>2.257509e+08</td>\n",
       "      <td>8.935490e+07</td>\n",
       "      <td>2.651644e+08</td>\n",
       "      <td>3.800178e+09</td>\n",
       "      <td>3.659224e+09</td>\n",
       "      <td>7.492878e+08</td>\n",
       "      <td>1.342707e+08</td>\n",
       "      <td>1.279572e+10</td>\n",
       "      <td>1.183862e+10</td>\n",
       "      <td>3.598601e+08</td>\n",
       "      <td>9.612425e+05</td>\n",
       "      <td>1.014456e+10</td>\n",
       "      <td>5.099996e+09</td>\n",
       "      <td>2.107920e+09</td>\n",
       "      <td>5.234815e+09</td>\n",
       "      <td>3.112421e+09</td>\n",
       "      <td>6.175341e+09</td>\n",
       "      <td>1.481226e+09</td>\n",
       "      <td>1.319103e+10</td>\n",
       "      <td>2.380418e+09</td>\n",
       "      <td>1.007089e+10</td>\n",
       "      <td>5.504214e+09</td>\n",
       "      <td>2.855701e+08</td>\n",
       "      <td>6.291298e+08</td>\n",
       "      <td>2.184204e+08</td>\n",
       "      <td>7.226584e+07</td>\n",
       "      <td>3.253740e+08</td>\n",
       "      <td>3.488588e+09</td>\n",
       "      <td>3.353887e+09</td>\n",
       "      <td>6.336579e+08</td>\n",
       "      <td>1.246209e+08</td>\n",
       "      <td>1.159619e+10</td>\n",
       "      <td>1.076116e+10</td>\n",
       "      <td>3.316925e+08</td>\n",
       "      <td>1.619825e+05</td>\n",
       "      <td>9.268181e+09</td>\n",
       "      <td>4.390742e+09</td>\n",
       "      <td>1.710907e+09</td>\n",
       "      <td>5.076444e+09</td>\n",
       "      <td>3.240094e+09</td>\n",
       "      <td>5.525791e+09</td>\n",
       "      <td>1.178941e+09</td>\n",
       "    </tr>\n",
       "    <tr>\n",
       "      <th>std</th>\n",
       "      <td>85.469723</td>\n",
       "      <td>124.453370</td>\n",
       "      <td>51.867136</td>\n",
       "      <td>121.469400</td>\n",
       "      <td>2.429913e+10</td>\n",
       "      <td>9.986687e+09</td>\n",
       "      <td>1.684542e+10</td>\n",
       "      <td>9.483958e+09</td>\n",
       "      <td>9.418323e+08</td>\n",
       "      <td>1.335157e+09</td>\n",
       "      <td>3.444631e+08</td>\n",
       "      <td>2.682287e+08</td>\n",
       "      <td>1.373525e+09</td>\n",
       "      <td>6.682408e+09</td>\n",
       "      <td>6.470950e+09</td>\n",
       "      <td>1.721884e+09</td>\n",
       "      <td>2.767994e+08</td>\n",
       "      <td>1.892751e+10</td>\n",
       "      <td>1.761218e+10</td>\n",
       "      <td>9.739191e+08</td>\n",
       "      <td>1.631077e+07</td>\n",
       "      <td>1.553113e+10</td>\n",
       "      <td>8.355798e+09</td>\n",
       "      <td>4.105065e+09</td>\n",
       "      <td>8.916033e+09</td>\n",
       "      <td>5.126111e+09</td>\n",
       "      <td>1.198735e+10</td>\n",
       "      <td>7.548149e+09</td>\n",
       "      <td>2.257143e+10</td>\n",
       "      <td>9.104843e+09</td>\n",
       "      <td>1.546733e+10</td>\n",
       "      <td>8.733907e+09</td>\n",
       "      <td>7.271677e+08</td>\n",
       "      <td>1.320242e+09</td>\n",
       "      <td>3.830729e+08</td>\n",
       "      <td>2.370850e+08</td>\n",
       "      <td>1.316972e+09</td>\n",
       "      <td>6.582253e+09</td>\n",
       "      <td>6.359864e+09</td>\n",
       "      <td>1.584505e+09</td>\n",
       "      <td>2.680708e+08</td>\n",
       "      <td>1.829542e+10</td>\n",
       "      <td>1.715745e+10</td>\n",
       "      <td>9.086105e+08</td>\n",
       "      <td>3.193096e+06</td>\n",
       "      <td>1.513045e+10</td>\n",
       "      <td>7.795737e+09</td>\n",
       "      <td>3.673698e+09</td>\n",
       "      <td>9.220942e+09</td>\n",
       "      <td>5.661182e+09</td>\n",
       "      <td>1.051916e+10</td>\n",
       "      <td>4.720339e+09</td>\n",
       "    </tr>\n",
       "    <tr>\n",
       "      <th>min</th>\n",
       "      <td>0.000000</td>\n",
       "      <td>1.000000</td>\n",
       "      <td>1.000000</td>\n",
       "      <td>0.000000</td>\n",
       "      <td>0.000000e+00</td>\n",
       "      <td>0.000000e+00</td>\n",
       "      <td>0.000000e+00</td>\n",
       "      <td>0.000000e+00</td>\n",
       "      <td>0.000000e+00</td>\n",
       "      <td>0.000000e+00</td>\n",
       "      <td>0.000000e+00</td>\n",
       "      <td>0.000000e+00</td>\n",
       "      <td>-5.734451e+09</td>\n",
       "      <td>0.000000e+00</td>\n",
       "      <td>0.000000e+00</td>\n",
       "      <td>0.000000e+00</td>\n",
       "      <td>0.000000e+00</td>\n",
       "      <td>0.000000e+00</td>\n",
       "      <td>0.000000e+00</td>\n",
       "      <td>0.000000e+00</td>\n",
       "      <td>0.000000e+00</td>\n",
       "      <td>0.000000e+00</td>\n",
       "      <td>0.000000e+00</td>\n",
       "      <td>0.000000e+00</td>\n",
       "      <td>0.000000e+00</td>\n",
       "      <td>0.000000e+00</td>\n",
       "      <td>-2.019624e+10</td>\n",
       "      <td>-8.636718e+09</td>\n",
       "      <td>0.000000e+00</td>\n",
       "      <td>0.000000e+00</td>\n",
       "      <td>0.000000e+00</td>\n",
       "      <td>0.000000e+00</td>\n",
       "      <td>0.000000e+00</td>\n",
       "      <td>0.000000e+00</td>\n",
       "      <td>0.000000e+00</td>\n",
       "      <td>0.000000e+00</td>\n",
       "      <td>-4.645265e+09</td>\n",
       "      <td>0.000000e+00</td>\n",
       "      <td>0.000000e+00</td>\n",
       "      <td>0.000000e+00</td>\n",
       "      <td>0.000000e+00</td>\n",
       "      <td>0.000000e+00</td>\n",
       "      <td>0.000000e+00</td>\n",
       "      <td>0.000000e+00</td>\n",
       "      <td>0.000000e+00</td>\n",
       "      <td>0.000000e+00</td>\n",
       "      <td>0.000000e+00</td>\n",
       "      <td>0.000000e+00</td>\n",
       "      <td>0.000000e+00</td>\n",
       "      <td>0.000000e+00</td>\n",
       "      <td>-2.014780e+10</td>\n",
       "      <td>-8.600000e+09</td>\n",
       "    </tr>\n",
       "    <tr>\n",
       "      <th>25%</th>\n",
       "      <td>53.000000</td>\n",
       "      <td>107.750000</td>\n",
       "      <td>37.750000</td>\n",
       "      <td>63.000000</td>\n",
       "      <td>3.238344e+09</td>\n",
       "      <td>0.000000e+00</td>\n",
       "      <td>2.880497e+09</td>\n",
       "      <td>1.629412e+09</td>\n",
       "      <td>9.943713e+06</td>\n",
       "      <td>8.032983e+07</td>\n",
       "      <td>5.149973e+07</td>\n",
       "      <td>0.000000e+00</td>\n",
       "      <td>0.000000e+00</td>\n",
       "      <td>7.493618e+08</td>\n",
       "      <td>7.129472e+08</td>\n",
       "      <td>7.493450e+04</td>\n",
       "      <td>3.387425e+06</td>\n",
       "      <td>3.415747e+09</td>\n",
       "      <td>3.012105e+09</td>\n",
       "      <td>1.953452e+06</td>\n",
       "      <td>0.000000e+00</td>\n",
       "      <td>2.033662e+09</td>\n",
       "      <td>5.294816e+08</td>\n",
       "      <td>0.000000e+00</td>\n",
       "      <td>5.930316e+08</td>\n",
       "      <td>0.000000e+00</td>\n",
       "      <td>1.381459e+09</td>\n",
       "      <td>0.000000e+00</td>\n",
       "      <td>2.785462e+09</td>\n",
       "      <td>0.000000e+00</td>\n",
       "      <td>2.298428e+09</td>\n",
       "      <td>1.352012e+09</td>\n",
       "      <td>6.499917e+06</td>\n",
       "      <td>6.147118e+07</td>\n",
       "      <td>3.303029e+07</td>\n",
       "      <td>0.000000e+00</td>\n",
       "      <td>0.000000e+00</td>\n",
       "      <td>4.521446e+08</td>\n",
       "      <td>4.288854e+08</td>\n",
       "      <td>0.000000e+00</td>\n",
       "      <td>5.694805e+05</td>\n",
       "      <td>2.492128e+09</td>\n",
       "      <td>2.399974e+09</td>\n",
       "      <td>0.000000e+00</td>\n",
       "      <td>0.000000e+00</td>\n",
       "      <td>1.332548e+09</td>\n",
       "      <td>3.006586e+08</td>\n",
       "      <td>0.000000e+00</td>\n",
       "      <td>2.597232e+07</td>\n",
       "      <td>0.000000e+00</td>\n",
       "      <td>9.690131e+08</td>\n",
       "      <td>0.000000e+00</td>\n",
       "    </tr>\n",
       "    <tr>\n",
       "      <th>50%</th>\n",
       "      <td>106.500000</td>\n",
       "      <td>214.500000</td>\n",
       "      <td>79.500000</td>\n",
       "      <td>143.000000</td>\n",
       "      <td>5.801359e+09</td>\n",
       "      <td>2.055491e+08</td>\n",
       "      <td>5.047266e+09</td>\n",
       "      <td>2.810168e+09</td>\n",
       "      <td>4.747870e+07</td>\n",
       "      <td>2.032758e+08</td>\n",
       "      <td>1.189172e+08</td>\n",
       "      <td>2.995076e+06</td>\n",
       "      <td>9.965785e+07</td>\n",
       "      <td>1.578011e+09</td>\n",
       "      <td>1.501107e+09</td>\n",
       "      <td>2.158564e+08</td>\n",
       "      <td>2.960868e+07</td>\n",
       "      <td>6.518124e+09</td>\n",
       "      <td>5.786464e+09</td>\n",
       "      <td>3.910150e+07</td>\n",
       "      <td>0.000000e+00</td>\n",
       "      <td>4.729797e+09</td>\n",
       "      <td>1.902453e+09</td>\n",
       "      <td>3.979896e+08</td>\n",
       "      <td>2.291686e+09</td>\n",
       "      <td>1.561333e+09</td>\n",
       "      <td>3.093833e+09</td>\n",
       "      <td>0.000000e+00</td>\n",
       "      <td>5.236848e+09</td>\n",
       "      <td>1.486073e+08</td>\n",
       "      <td>4.496822e+09</td>\n",
       "      <td>2.500213e+09</td>\n",
       "      <td>4.572981e+07</td>\n",
       "      <td>1.747830e+08</td>\n",
       "      <td>1.032387e+08</td>\n",
       "      <td>3.865600e+05</td>\n",
       "      <td>1.065252e+08</td>\n",
       "      <td>1.331182e+09</td>\n",
       "      <td>1.286523e+09</td>\n",
       "      <td>1.227085e+08</td>\n",
       "      <td>2.468505e+07</td>\n",
       "      <td>5.683984e+09</td>\n",
       "      <td>5.229885e+09</td>\n",
       "      <td>3.000000e+07</td>\n",
       "      <td>0.000000e+00</td>\n",
       "      <td>3.980001e+09</td>\n",
       "      <td>1.454651e+09</td>\n",
       "      <td>1.189736e+08</td>\n",
       "      <td>1.976311e+09</td>\n",
       "      <td>1.426160e+09</td>\n",
       "      <td>2.808020e+09</td>\n",
       "      <td>0.000000e+00</td>\n",
       "    </tr>\n",
       "    <tr>\n",
       "      <th>75%</th>\n",
       "      <td>193.250000</td>\n",
       "      <td>322.250000</td>\n",
       "      <td>132.000000</td>\n",
       "      <td>195.000000</td>\n",
       "      <td>1.422214e+10</td>\n",
       "      <td>9.618685e+08</td>\n",
       "      <td>1.143769e+10</td>\n",
       "      <td>6.783268e+09</td>\n",
       "      <td>2.405069e+08</td>\n",
       "      <td>5.323127e+08</td>\n",
       "      <td>2.516842e+08</td>\n",
       "      <td>4.558505e+07</td>\n",
       "      <td>3.375300e+08</td>\n",
       "      <td>3.590824e+09</td>\n",
       "      <td>3.432644e+09</td>\n",
       "      <td>7.617950e+08</td>\n",
       "      <td>1.298422e+08</td>\n",
       "      <td>1.366471e+10</td>\n",
       "      <td>1.265639e+10</td>\n",
       "      <td>2.131992e+08</td>\n",
       "      <td>0.000000e+00</td>\n",
       "      <td>1.172534e+10</td>\n",
       "      <td>5.800804e+09</td>\n",
       "      <td>2.298713e+09</td>\n",
       "      <td>5.289025e+09</td>\n",
       "      <td>3.743593e+09</td>\n",
       "      <td>6.183039e+09</td>\n",
       "      <td>3.513497e+08</td>\n",
       "      <td>1.314929e+10</td>\n",
       "      <td>8.675697e+08</td>\n",
       "      <td>1.017787e+10</td>\n",
       "      <td>5.904736e+09</td>\n",
       "      <td>1.909986e+08</td>\n",
       "      <td>5.031205e+08</td>\n",
       "      <td>2.315386e+08</td>\n",
       "      <td>3.033703e+07</td>\n",
       "      <td>3.464353e+08</td>\n",
       "      <td>3.127088e+09</td>\n",
       "      <td>2.978800e+09</td>\n",
       "      <td>6.607480e+08</td>\n",
       "      <td>9.265860e+07</td>\n",
       "      <td>1.239357e+10</td>\n",
       "      <td>1.144001e+10</td>\n",
       "      <td>2.147219e+08</td>\n",
       "      <td>0.000000e+00</td>\n",
       "      <td>1.013772e+10</td>\n",
       "      <td>4.828360e+09</td>\n",
       "      <td>1.698335e+09</td>\n",
       "      <td>4.999309e+09</td>\n",
       "      <td>3.676547e+09</td>\n",
       "      <td>5.524990e+09</td>\n",
       "      <td>2.579386e+08</td>\n",
       "    </tr>\n",
       "    <tr>\n",
       "      <th>max</th>\n",
       "      <td>300.000000</td>\n",
       "      <td>431.000000</td>\n",
       "      <td>178.000000</td>\n",
       "      <td>771.000000</td>\n",
       "      <td>1.810000e+11</td>\n",
       "      <td>1.160000e+11</td>\n",
       "      <td>1.270000e+11</td>\n",
       "      <td>8.239561e+10</td>\n",
       "      <td>9.144171e+09</td>\n",
       "      <td>1.149680e+10</td>\n",
       "      <td>2.841475e+09</td>\n",
       "      <td>2.808883e+09</td>\n",
       "      <td>1.120816e+10</td>\n",
       "      <td>4.387028e+10</td>\n",
       "      <td>4.197965e+10</td>\n",
       "      <td>2.144183e+10</td>\n",
       "      <td>2.067764e+09</td>\n",
       "      <td>1.560000e+11</td>\n",
       "      <td>1.560000e+11</td>\n",
       "      <td>1.008517e+10</td>\n",
       "      <td>3.253928e+08</td>\n",
       "      <td>1.290000e+11</td>\n",
       "      <td>6.891635e+10</td>\n",
       "      <td>3.805927e+10</td>\n",
       "      <td>8.528633e+10</td>\n",
       "      <td>4.112490e+10</td>\n",
       "      <td>1.390000e+11</td>\n",
       "      <td>1.340000e+11</td>\n",
       "      <td>1.700000e+11</td>\n",
       "      <td>1.070000e+11</td>\n",
       "      <td>1.220000e+11</td>\n",
       "      <td>7.890070e+10</td>\n",
       "      <td>6.445390e+09</td>\n",
       "      <td>1.251842e+10</td>\n",
       "      <td>3.925279e+09</td>\n",
       "      <td>2.790916e+09</td>\n",
       "      <td>1.130354e+10</td>\n",
       "      <td>5.559159e+10</td>\n",
       "      <td>5.348187e+10</td>\n",
       "      <td>1.808435e+10</td>\n",
       "      <td>1.812222e+09</td>\n",
       "      <td>1.640000e+11</td>\n",
       "      <td>1.630000e+11</td>\n",
       "      <td>8.767966e+09</td>\n",
       "      <td>6.524231e+07</td>\n",
       "      <td>1.310000e+11</td>\n",
       "      <td>6.846878e+10</td>\n",
       "      <td>3.714334e+10</td>\n",
       "      <td>7.855654e+10</td>\n",
       "      <td>3.620288e+10</td>\n",
       "      <td>1.250000e+11</td>\n",
       "      <td>6.852730e+10</td>\n",
       "    </tr>\n",
       "  </tbody>\n",
       "</table>\n",
       "</div>"
      ],
      "text/plain": [
       "            index     inst_id  ...     netAsset2      surplus2\n",
       "count  428.000000  428.000000  ...  4.180000e+02  4.180000e+02\n",
       "mean   124.184579  215.154206  ...  5.525791e+09  1.178941e+09\n",
       "std     85.469723  124.453370  ...  1.051916e+10  4.720339e+09\n",
       "min      0.000000    1.000000  ... -2.014780e+10 -8.600000e+09\n",
       "25%     53.000000  107.750000  ...  9.690131e+08  0.000000e+00\n",
       "50%    106.500000  214.500000  ...  2.808020e+09  0.000000e+00\n",
       "75%    193.250000  322.250000  ...  5.524990e+09  2.579386e+08\n",
       "max    300.000000  431.000000  ...  1.250000e+11  6.852730e+10\n",
       "\n",
       "[8 rows x 52 columns]"
      ]
     },
     "execution_count": 8,
     "metadata": {
      "tags": []
     },
     "output_type": "execute_result"
    }
   ],
   "source": [
    "data.describe()"
   ]
  },
  {
   "cell_type": "code",
   "execution_count": null,
   "metadata": {
    "colab": {
     "base_uri": "https://localhost:8080/",
     "height": 542
    },
    "colab_type": "code",
    "id": "VrF-silFQ18K",
    "outputId": "c98804c9-ef99-456e-a2f0-68b2c5c4f135"
   },
   "outputs": [
    {
     "data": {
      "text/html": [
       "<html>\n",
       "<head><meta charset=\"utf-8\" /></head>\n",
       "<body>\n",
       "    <div>\n",
       "            <script src=\"https://cdnjs.cloudflare.com/ajax/libs/mathjax/2.7.5/MathJax.js?config=TeX-AMS-MML_SVG\"></script><script type=\"text/javascript\">if (window.MathJax) {MathJax.Hub.Config({SVG: {font: \"STIX-Web\"}});}</script>\n",
       "                <script type=\"text/javascript\">window.PlotlyConfig = {MathJaxConfig: 'local'};</script>\n",
       "        <script src=\"https://cdn.plot.ly/plotly-latest.min.js\"></script>    \n",
       "            <div id=\"b0035232-a806-46f5-a7d2-84b11c257cbf\" class=\"plotly-graph-div\" style=\"height:525px; width:100%;\"></div>\n",
       "            <script type=\"text/javascript\">\n",
       "                \n",
       "                    window.PLOTLYENV=window.PLOTLYENV || {};\n",
       "                    \n",
       "                if (document.getElementById(\"b0035232-a806-46f5-a7d2-84b11c257cbf\")) {\n",
       "                    Plotly.newPlot(\n",
       "                        'b0035232-a806-46f5-a7d2-84b11c257cbf',\n",
       "                        [{\"domain\": {\"x\": [0.0, 1.0], \"y\": [0.0, 1.0]}, \"hoverlabel\": {\"namelength\": 0}, \"hovertemplate\": \"status=%{label}<br>count=%{value}\", \"labels\": [\"open\", \" close\"], \"legendgroup\": \"\", \"name\": \"\", \"pull\": 0.05, \"rotation\": 90, \"showlegend\": true, \"textinfo\": \"value+percent+label\", \"type\": \"pie\", \"values\": [286, 15]}],\n",
       "                        {\"legend\": {\"tracegroupgap\": 0}, \"template\": {\"data\": {\"bar\": [{\"error_x\": {\"color\": \"rgb(36,36,36)\"}, \"error_y\": {\"color\": \"rgb(36,36,36)\"}, \"marker\": {\"line\": {\"color\": \"rgb(234,234,242)\", \"width\": 0.5}}, \"type\": \"bar\"}], \"barpolar\": [{\"marker\": {\"line\": {\"color\": \"rgb(234,234,242)\", \"width\": 0.5}}, \"type\": \"barpolar\"}], \"carpet\": [{\"aaxis\": {\"endlinecolor\": \"rgb(36,36,36)\", \"gridcolor\": \"white\", \"linecolor\": \"white\", \"minorgridcolor\": \"white\", \"startlinecolor\": \"rgb(36,36,36)\"}, \"baxis\": {\"endlinecolor\": \"rgb(36,36,36)\", \"gridcolor\": \"white\", \"linecolor\": \"white\", \"minorgridcolor\": \"white\", \"startlinecolor\": \"rgb(36,36,36)\"}, \"type\": \"carpet\"}], \"choropleth\": [{\"colorbar\": {\"outlinewidth\": 0, \"tickcolor\": \"rgb(36,36,36)\", \"ticklen\": 8, \"ticks\": \"outside\", \"tickwidth\": 2}, \"type\": \"choropleth\"}], \"contour\": [{\"colorbar\": {\"outlinewidth\": 0, \"tickcolor\": \"rgb(36,36,36)\", \"ticklen\": 8, \"ticks\": \"outside\", \"tickwidth\": 2}, \"colorscale\": [[0.0, \"rgb(2,4,25)\"], [0.06274509803921569, \"rgb(24,15,41)\"], [0.12549019607843137, \"rgb(47,23,57)\"], [0.18823529411764706, \"rgb(71,28,72)\"], [0.25098039215686274, \"rgb(97,30,82)\"], [0.3137254901960784, \"rgb(123,30,89)\"], [0.3764705882352941, \"rgb(150,27,91)\"], [0.4392156862745098, \"rgb(177,22,88)\"], [0.5019607843137255, \"rgb(203,26,79)\"], [0.5647058823529412, \"rgb(223,47,67)\"], [0.6274509803921569, \"rgb(236,76,61)\"], [0.6901960784313725, \"rgb(242,107,73)\"], [0.7529411764705882, \"rgb(244,135,95)\"], [0.8156862745098039, \"rgb(245,162,122)\"], [0.8784313725490196, \"rgb(246,188,153)\"], [0.9411764705882353, \"rgb(247,212,187)\"], [1.0, \"rgb(250,234,220)\"]], \"type\": \"contour\"}], \"contourcarpet\": [{\"colorbar\": {\"outlinewidth\": 0, \"tickcolor\": \"rgb(36,36,36)\", \"ticklen\": 8, \"ticks\": \"outside\", \"tickwidth\": 2}, \"type\": \"contourcarpet\"}], \"heatmap\": [{\"colorbar\": {\"outlinewidth\": 0, \"tickcolor\": \"rgb(36,36,36)\", \"ticklen\": 8, \"ticks\": \"outside\", \"tickwidth\": 2}, \"colorscale\": [[0.0, \"rgb(2,4,25)\"], [0.06274509803921569, \"rgb(24,15,41)\"], [0.12549019607843137, \"rgb(47,23,57)\"], [0.18823529411764706, \"rgb(71,28,72)\"], [0.25098039215686274, \"rgb(97,30,82)\"], [0.3137254901960784, \"rgb(123,30,89)\"], [0.3764705882352941, \"rgb(150,27,91)\"], [0.4392156862745098, \"rgb(177,22,88)\"], [0.5019607843137255, \"rgb(203,26,79)\"], [0.5647058823529412, \"rgb(223,47,67)\"], [0.6274509803921569, \"rgb(236,76,61)\"], [0.6901960784313725, \"rgb(242,107,73)\"], [0.7529411764705882, \"rgb(244,135,95)\"], [0.8156862745098039, \"rgb(245,162,122)\"], [0.8784313725490196, \"rgb(246,188,153)\"], [0.9411764705882353, \"rgb(247,212,187)\"], [1.0, \"rgb(250,234,220)\"]], \"type\": \"heatmap\"}], \"heatmapgl\": [{\"colorbar\": {\"outlinewidth\": 0, \"tickcolor\": \"rgb(36,36,36)\", \"ticklen\": 8, \"ticks\": \"outside\", \"tickwidth\": 2}, \"colorscale\": [[0.0, \"rgb(2,4,25)\"], [0.06274509803921569, \"rgb(24,15,41)\"], [0.12549019607843137, \"rgb(47,23,57)\"], [0.18823529411764706, \"rgb(71,28,72)\"], [0.25098039215686274, \"rgb(97,30,82)\"], [0.3137254901960784, \"rgb(123,30,89)\"], [0.3764705882352941, \"rgb(150,27,91)\"], [0.4392156862745098, \"rgb(177,22,88)\"], [0.5019607843137255, \"rgb(203,26,79)\"], [0.5647058823529412, \"rgb(223,47,67)\"], [0.6274509803921569, \"rgb(236,76,61)\"], [0.6901960784313725, \"rgb(242,107,73)\"], [0.7529411764705882, \"rgb(244,135,95)\"], [0.8156862745098039, \"rgb(245,162,122)\"], [0.8784313725490196, \"rgb(246,188,153)\"], [0.9411764705882353, \"rgb(247,212,187)\"], [1.0, \"rgb(250,234,220)\"]], \"type\": \"heatmapgl\"}], \"histogram\": [{\"marker\": {\"colorbar\": {\"outlinewidth\": 0, \"tickcolor\": \"rgb(36,36,36)\", \"ticklen\": 8, \"ticks\": \"outside\", \"tickwidth\": 2}}, \"type\": \"histogram\"}], \"histogram2d\": [{\"colorbar\": {\"outlinewidth\": 0, \"tickcolor\": \"rgb(36,36,36)\", \"ticklen\": 8, \"ticks\": \"outside\", \"tickwidth\": 2}, \"colorscale\": [[0.0, \"rgb(2,4,25)\"], [0.06274509803921569, \"rgb(24,15,41)\"], [0.12549019607843137, \"rgb(47,23,57)\"], [0.18823529411764706, \"rgb(71,28,72)\"], [0.25098039215686274, \"rgb(97,30,82)\"], [0.3137254901960784, \"rgb(123,30,89)\"], [0.3764705882352941, \"rgb(150,27,91)\"], [0.4392156862745098, \"rgb(177,22,88)\"], [0.5019607843137255, \"rgb(203,26,79)\"], [0.5647058823529412, \"rgb(223,47,67)\"], [0.6274509803921569, \"rgb(236,76,61)\"], [0.6901960784313725, \"rgb(242,107,73)\"], [0.7529411764705882, \"rgb(244,135,95)\"], [0.8156862745098039, \"rgb(245,162,122)\"], [0.8784313725490196, \"rgb(246,188,153)\"], [0.9411764705882353, \"rgb(247,212,187)\"], [1.0, \"rgb(250,234,220)\"]], \"type\": \"histogram2d\"}], \"histogram2dcontour\": [{\"colorbar\": {\"outlinewidth\": 0, \"tickcolor\": \"rgb(36,36,36)\", \"ticklen\": 8, \"ticks\": \"outside\", \"tickwidth\": 2}, \"colorscale\": [[0.0, \"rgb(2,4,25)\"], [0.06274509803921569, \"rgb(24,15,41)\"], [0.12549019607843137, \"rgb(47,23,57)\"], [0.18823529411764706, \"rgb(71,28,72)\"], [0.25098039215686274, \"rgb(97,30,82)\"], [0.3137254901960784, \"rgb(123,30,89)\"], [0.3764705882352941, \"rgb(150,27,91)\"], [0.4392156862745098, \"rgb(177,22,88)\"], [0.5019607843137255, \"rgb(203,26,79)\"], [0.5647058823529412, \"rgb(223,47,67)\"], [0.6274509803921569, \"rgb(236,76,61)\"], [0.6901960784313725, \"rgb(242,107,73)\"], [0.7529411764705882, \"rgb(244,135,95)\"], [0.8156862745098039, \"rgb(245,162,122)\"], [0.8784313725490196, \"rgb(246,188,153)\"], [0.9411764705882353, \"rgb(247,212,187)\"], [1.0, \"rgb(250,234,220)\"]], \"type\": \"histogram2dcontour\"}], \"mesh3d\": [{\"colorbar\": {\"outlinewidth\": 0, \"tickcolor\": \"rgb(36,36,36)\", \"ticklen\": 8, \"ticks\": \"outside\", \"tickwidth\": 2}, \"type\": \"mesh3d\"}], \"parcoords\": [{\"line\": {\"colorbar\": {\"outlinewidth\": 0, \"tickcolor\": \"rgb(36,36,36)\", \"ticklen\": 8, \"ticks\": \"outside\", \"tickwidth\": 2}}, \"type\": \"parcoords\"}], \"pie\": [{\"automargin\": true, \"type\": \"pie\"}], \"scatter\": [{\"marker\": {\"colorbar\": {\"outlinewidth\": 0, \"tickcolor\": \"rgb(36,36,36)\", \"ticklen\": 8, \"ticks\": \"outside\", \"tickwidth\": 2}}, \"type\": \"scatter\"}], \"scatter3d\": [{\"line\": {\"colorbar\": {\"outlinewidth\": 0, \"tickcolor\": \"rgb(36,36,36)\", \"ticklen\": 8, \"ticks\": \"outside\", \"tickwidth\": 2}}, \"marker\": {\"colorbar\": {\"outlinewidth\": 0, \"tickcolor\": \"rgb(36,36,36)\", \"ticklen\": 8, \"ticks\": \"outside\", \"tickwidth\": 2}}, \"type\": \"scatter3d\"}], \"scattercarpet\": [{\"marker\": {\"colorbar\": {\"outlinewidth\": 0, \"tickcolor\": \"rgb(36,36,36)\", \"ticklen\": 8, \"ticks\": \"outside\", \"tickwidth\": 2}}, \"type\": \"scattercarpet\"}], \"scattergeo\": [{\"marker\": {\"colorbar\": {\"outlinewidth\": 0, \"tickcolor\": \"rgb(36,36,36)\", \"ticklen\": 8, \"ticks\": \"outside\", \"tickwidth\": 2}}, \"type\": \"scattergeo\"}], \"scattergl\": [{\"marker\": {\"colorbar\": {\"outlinewidth\": 0, \"tickcolor\": \"rgb(36,36,36)\", \"ticklen\": 8, \"ticks\": \"outside\", \"tickwidth\": 2}}, \"type\": \"scattergl\"}], \"scattermapbox\": [{\"marker\": {\"colorbar\": {\"outlinewidth\": 0, \"tickcolor\": \"rgb(36,36,36)\", \"ticklen\": 8, \"ticks\": \"outside\", \"tickwidth\": 2}}, \"type\": \"scattermapbox\"}], \"scatterpolar\": [{\"marker\": {\"colorbar\": {\"outlinewidth\": 0, \"tickcolor\": \"rgb(36,36,36)\", \"ticklen\": 8, \"ticks\": \"outside\", \"tickwidth\": 2}}, \"type\": \"scatterpolar\"}], \"scatterpolargl\": [{\"marker\": {\"colorbar\": {\"outlinewidth\": 0, \"tickcolor\": \"rgb(36,36,36)\", \"ticklen\": 8, \"ticks\": \"outside\", \"tickwidth\": 2}}, \"type\": \"scatterpolargl\"}], \"scatterternary\": [{\"marker\": {\"colorbar\": {\"outlinewidth\": 0, \"tickcolor\": \"rgb(36,36,36)\", \"ticklen\": 8, \"ticks\": \"outside\", \"tickwidth\": 2}}, \"type\": \"scatterternary\"}], \"surface\": [{\"colorbar\": {\"outlinewidth\": 0, \"tickcolor\": \"rgb(36,36,36)\", \"ticklen\": 8, \"ticks\": \"outside\", \"tickwidth\": 2}, \"colorscale\": [[0.0, \"rgb(2,4,25)\"], [0.06274509803921569, \"rgb(24,15,41)\"], [0.12549019607843137, \"rgb(47,23,57)\"], [0.18823529411764706, \"rgb(71,28,72)\"], [0.25098039215686274, \"rgb(97,30,82)\"], [0.3137254901960784, \"rgb(123,30,89)\"], [0.3764705882352941, \"rgb(150,27,91)\"], [0.4392156862745098, \"rgb(177,22,88)\"], [0.5019607843137255, \"rgb(203,26,79)\"], [0.5647058823529412, \"rgb(223,47,67)\"], [0.6274509803921569, \"rgb(236,76,61)\"], [0.6901960784313725, \"rgb(242,107,73)\"], [0.7529411764705882, \"rgb(244,135,95)\"], [0.8156862745098039, \"rgb(245,162,122)\"], [0.8784313725490196, \"rgb(246,188,153)\"], [0.9411764705882353, \"rgb(247,212,187)\"], [1.0, \"rgb(250,234,220)\"]], \"type\": \"surface\"}], \"table\": [{\"cells\": {\"fill\": {\"color\": \"rgb(231,231,240)\"}, \"line\": {\"color\": \"white\"}}, \"header\": {\"fill\": {\"color\": \"rgb(183,183,191)\"}, \"line\": {\"color\": \"white\"}}, \"type\": \"table\"}]}, \"layout\": {\"annotationdefaults\": {\"arrowcolor\": \"rgb(67,103,167)\"}, \"coloraxis\": {\"colorbar\": {\"outlinewidth\": 0, \"tickcolor\": \"rgb(36,36,36)\", \"ticklen\": 8, \"ticks\": \"outside\", \"tickwidth\": 2}}, \"colorscale\": {\"sequential\": [[0.0, \"rgb(2,4,25)\"], [0.06274509803921569, \"rgb(24,15,41)\"], [0.12549019607843137, \"rgb(47,23,57)\"], [0.18823529411764706, \"rgb(71,28,72)\"], [0.25098039215686274, \"rgb(97,30,82)\"], [0.3137254901960784, \"rgb(123,30,89)\"], [0.3764705882352941, \"rgb(150,27,91)\"], [0.4392156862745098, \"rgb(177,22,88)\"], [0.5019607843137255, \"rgb(203,26,79)\"], [0.5647058823529412, \"rgb(223,47,67)\"], [0.6274509803921569, \"rgb(236,76,61)\"], [0.6901960784313725, \"rgb(242,107,73)\"], [0.7529411764705882, \"rgb(244,135,95)\"], [0.8156862745098039, \"rgb(245,162,122)\"], [0.8784313725490196, \"rgb(246,188,153)\"], [0.9411764705882353, \"rgb(247,212,187)\"], [1.0, \"rgb(250,234,220)\"]], \"sequentialminus\": [[0.0, \"rgb(2,4,25)\"], [0.06274509803921569, \"rgb(24,15,41)\"], [0.12549019607843137, \"rgb(47,23,57)\"], [0.18823529411764706, \"rgb(71,28,72)\"], [0.25098039215686274, \"rgb(97,30,82)\"], [0.3137254901960784, \"rgb(123,30,89)\"], [0.3764705882352941, \"rgb(150,27,91)\"], [0.4392156862745098, \"rgb(177,22,88)\"], [0.5019607843137255, \"rgb(203,26,79)\"], [0.5647058823529412, \"rgb(223,47,67)\"], [0.6274509803921569, \"rgb(236,76,61)\"], [0.6901960784313725, \"rgb(242,107,73)\"], [0.7529411764705882, \"rgb(244,135,95)\"], [0.8156862745098039, \"rgb(245,162,122)\"], [0.8784313725490196, \"rgb(246,188,153)\"], [0.9411764705882353, \"rgb(247,212,187)\"], [1.0, \"rgb(250,234,220)\"]]}, \"colorway\": [\"rgb(76,114,176)\", \"rgb(221,132,82)\", \"rgb(85,168,104)\", \"rgb(196,78,82)\", \"rgb(129,114,179)\", \"rgb(147,120,96)\", \"rgb(218,139,195)\", \"rgb(140,140,140)\", \"rgb(204,185,116)\", \"rgb(100,181,205)\"], \"font\": {\"color\": \"rgb(36,36,36)\"}, \"geo\": {\"bgcolor\": \"white\", \"lakecolor\": \"white\", \"landcolor\": \"rgb(234,234,242)\", \"showlakes\": true, \"showland\": true, \"subunitcolor\": \"white\"}, \"hoverlabel\": {\"align\": \"left\"}, \"hovermode\": \"closest\", \"paper_bgcolor\": \"white\", \"plot_bgcolor\": \"rgb(234,234,242)\", \"polar\": {\"angularaxis\": {\"gridcolor\": \"white\", \"linecolor\": \"white\", \"showgrid\": true, \"ticks\": \"\"}, \"bgcolor\": \"rgb(234,234,242)\", \"radialaxis\": {\"gridcolor\": \"white\", \"linecolor\": \"white\", \"showgrid\": true, \"ticks\": \"\"}}, \"scene\": {\"xaxis\": {\"backgroundcolor\": \"rgb(234,234,242)\", \"gridcolor\": \"white\", \"gridwidth\": 2, \"linecolor\": \"white\", \"showbackground\": true, \"showgrid\": true, \"ticks\": \"\", \"zerolinecolor\": \"white\"}, \"yaxis\": {\"backgroundcolor\": \"rgb(234,234,242)\", \"gridcolor\": \"white\", \"gridwidth\": 2, \"linecolor\": \"white\", \"showbackground\": true, \"showgrid\": true, \"ticks\": \"\", \"zerolinecolor\": \"white\"}, \"zaxis\": {\"backgroundcolor\": \"rgb(234,234,242)\", \"gridcolor\": \"white\", \"gridwidth\": 2, \"linecolor\": \"white\", \"showbackground\": true, \"showgrid\": true, \"ticks\": \"\", \"zerolinecolor\": \"white\"}}, \"shapedefaults\": {\"fillcolor\": \"rgb(67,103,167)\", \"line\": {\"width\": 0}, \"opacity\": 0.5}, \"ternary\": {\"aaxis\": {\"gridcolor\": \"white\", \"linecolor\": \"white\", \"showgrid\": true, \"ticks\": \"\"}, \"baxis\": {\"gridcolor\": \"white\", \"linecolor\": \"white\", \"showgrid\": true, \"ticks\": \"\"}, \"bgcolor\": \"rgb(234,234,242)\", \"caxis\": {\"gridcolor\": \"white\", \"linecolor\": \"white\", \"showgrid\": true, \"ticks\": \"\"}}, \"xaxis\": {\"automargin\": true, \"gridcolor\": \"white\", \"linecolor\": \"white\", \"showgrid\": true, \"ticks\": \"\", \"title\": {\"standoff\": 15}, \"zerolinecolor\": \"white\"}, \"yaxis\": {\"automargin\": true, \"gridcolor\": \"white\", \"linecolor\": \"white\", \"showgrid\": true, \"ticks\": \"\", \"title\": {\"standoff\": 15}, \"zerolinecolor\": \"white\"}}}, \"title\": {\"text\": \"Open or Close?\"}},\n",
       "                        {\"responsive\": true}\n",
       "                    ).then(function(){\n",
       "                            \n",
       "var gd = document.getElementById('b0035232-a806-46f5-a7d2-84b11c257cbf');\n",
       "var x = new MutationObserver(function (mutations, observer) {{\n",
       "        var display = window.getComputedStyle(gd).display;\n",
       "        if (!display || display === 'none') {{\n",
       "            console.log([gd, 'removed!']);\n",
       "            Plotly.purge(gd);\n",
       "            observer.disconnect();\n",
       "        }}\n",
       "}});\n",
       "\n",
       "// Listen for the removal of the full notebook cells\n",
       "var notebookContainer = gd.closest('#notebook-container');\n",
       "if (notebookContainer) {{\n",
       "    x.observe(notebookContainer, {childList: true});\n",
       "}}\n",
       "\n",
       "// Listen for the clearing of the current output cell\n",
       "var outputEl = gd.closest('.output');\n",
       "if (outputEl) {{\n",
       "    x.observe(outputEl, {childList: true});\n",
       "}}\n",
       "\n",
       "                        })\n",
       "                };\n",
       "                \n",
       "            </script>\n",
       "        </div>\n",
       "</body>\n",
       "</html>"
      ]
     },
     "metadata": {
      "tags": []
     },
     "output_type": "display_data"
    }
   ],
   "source": [
    "import plotly.express as px # 전체 open close\n",
    "oc = pd.DataFrame(train['OC'].value_counts())\n",
    "oc['status']=oc.index\n",
    "oc.rename(columns={\"OC\":\"count\"},inplace=True)\n",
    "fig=px.pie(oc,values=\"count\",names=\"status\",title=\"Open or Close?\",template='seaborn')\n",
    "fig.update_traces(rotation=90,pull=0.05,textinfo=\"value+percent+label\")\n",
    "fig.show()"
   ]
  },
  {
   "cell_type": "code",
   "execution_count": null,
   "metadata": {
    "colab": {
     "base_uri": "https://localhost:8080/",
     "height": 581
    },
    "colab_type": "code",
    "id": "lwVxoO71Q18U",
    "outputId": "55b8f67a-6bb4-4ce9-ec9a-022db9cc1d15"
   },
   "outputs": [
    {
     "data": {
      "text/plain": [
       "Text(0.5, 1.0, 'Distribution of hospitals by region(+OC)')"
      ]
     },
     "execution_count": 11,
     "metadata": {
      "tags": []
     },
     "output_type": "execute_result"
    },
    {
     "data": {
      "image/png": "[encoded data removed]",
      "text/plain": [
       "<Figure size 1440x576 with 2 Axes>"
      ]
     },
     "metadata": {
      "needs_background": "light",
      "tags": []
     },
     "output_type": "display_data"
    }
   ],
   "source": [
    "fig,(ax1,ax2) = plt.subplots(1,2,figsize=(20,8))\n",
    "sns.countplot(train['sido'],ax=ax1)\n",
    "ax1.set(title=\"Distribution of hospitals by region\") #지역별 병원 분포\n",
    "ax1.tick_params(labelrotation=60)\n",
    "\n",
    "sns.countplot(train['sido'],hue=train['OC'],ax=ax2)\n",
    "plt.xticks(rotation=60)\n",
    "plt.title(\"Distribution of hospitals by region(+OC)\") # 지역별 병원 분포에 open close"
   ]
  },
  {
   "cell_type": "code",
   "execution_count": null,
   "metadata": {
    "colab": {
     "base_uri": "https://localhost:8080/",
     "height": 582
    },
    "colab_type": "code",
    "id": "KYHeVkbiQ18b",
    "outputId": "1ee77f81-47fe-4eed-b520-2bb74660bb89"
   },
   "outputs": [
    {
     "data": {
      "text/plain": [
       "<matplotlib.legend.Legend at 0x7fdcf929d6a0>"
      ]
     },
     "execution_count": 12,
     "metadata": {
      "tags": []
     },
     "output_type": "execute_result"
    },
    {
     "data": {
      "image/png": "[encoded data removed]",
      "text/plain": [
       "<Figure size 1440x576 with 2 Axes>"
      ]
     },
     "metadata": {
      "needs_background": "light",
      "tags": []
     },
     "output_type": "display_data"
    }
   ],
   "source": [
    "fig,(ax1,ax2) = plt.subplots(1,2,figsize=(20,8))\n",
    "sns.countplot(train['instkind'],ax=ax1)\n",
    "ax1.set(title='kind of hospital') # 병원 종류\n",
    "ax1.tick_params(labelrotation=30)\n",
    "sns.countplot(train['instkind'],hue=train['OC'],ax=ax2)\n",
    "ax2.set(title='kind of hospital(+OC)') # 병원 종류 + open close\n",
    "ax2.tick_params(labelrotation=30)\n",
    "plt.legend(loc='upper right')"
   ]
  },
  {
   "cell_type": "code",
   "execution_count": null,
   "metadata": {
    "colab": {
     "base_uri": "https://localhost:8080/",
     "height": 501
    },
    "colab_type": "code",
    "id": "0P5R7-kgQ18f",
    "outputId": "2b1c70e7-8e8e-4e8e-82ee-53b2097fa076"
   },
   "outputs": [
    {
     "data": {
      "text/plain": [
       "Text(0.5, 1.0, 'Did they change the owner?')"
      ]
     },
     "execution_count": 13,
     "metadata": {
      "tags": []
     },
     "output_type": "execute_result"
    },
    {
     "data": {
      "image/png": "[encoded data removed]",
      "text/plain": [
       "<Figure size 864x576 with 1 Axes>"
      ]
     },
     "metadata": {
      "tags": []
     },
     "output_type": "display_data"
    }
   ],
   "source": [
    "plt.figure(figsize=(12,8))\n",
    "data['ownerChange'].value_counts(dropna=False).plot(kind='pie',autopct=\"%.2f%%\")\n",
    "plt.title(\"Did they change the owner?\") # 오너가 바뀌었냐"
   ]
  },
  {
   "cell_type": "markdown",
   "metadata": {
    "colab_type": "text",
    "id": "_6R5k53_Q18k"
   },
   "source": [
    "# PreProcessing"
   ]
  },
  {
   "cell_type": "code",
   "execution_count": null,
   "metadata": {
    "colab": {},
    "colab_type": "code",
    "id": "pXCedCG4Q18l"
   },
   "outputs": [],
   "source": [
    "data['OC'] = data['OC'].apply(lambda x: x.lstrip() if type(x) == str else x) # close가 안이쁘게 저장되어 있음"
   ]
  },
  {
   "cell_type": "code",
   "execution_count": null,
   "metadata": {
    "colab": {},
    "colab_type": "code",
    "id": "Avj1Dv-RQ18p"
   },
   "outputs": [],
   "source": [
    "for i in range(data.shape[0]): # employee가 변화 없다고 가정\n",
    "    if pd.isnull(data['employee1'][i]) != pd.isnull(data['employee2'][i]): # 직원 하나 있고 하나 없을때\n",
    "        if pd.isnull(data['employee1'][i]) == True: \n",
    "            data['employee1'][i] = data['employee2'][i]\n",
    "        elif pd.isnull(data['employee2'][i]) == True:\n",
    "            data['employee2'][i] = data['employee1'][i]\n",
    "    else:\n",
    "        continue"
   ]
  },
  {
   "cell_type": "code",
   "execution_count": null,
   "metadata": {
    "colab": {},
    "colab_type": "code",
    "id": "PjRgLzYZQ18s"
   },
   "outputs": [],
   "source": [
    "# 직원 수 변화\n",
    "def change_type(x):\n",
    "    if type(x) == str:\n",
    "        x= x.replace(',','') # ,가 있는게 있음\n",
    "        return float(x)\n",
    "    else:\n",
    "        return x\n",
    "data['employee1'] = data['employee1'].apply(lambda x: change_type(x))\n",
    "data['employee2'] = data['employee2'].apply(lambda x: change_type(x))\n",
    "data['employee_change']=data['employee1']-data['employee2']"
   ]
  },
  {
   "cell_type": "code",
   "execution_count": null,
   "metadata": {
    "colab": {},
    "colab_type": "code",
    "id": "eOOZHJ3WQ18w"
   },
   "outputs": [],
   "source": [
    "import datetime as dt\n",
    "data['openYear'] = data['openDate'].dt.year # 오픈 연도만 저장\n",
    "data.drop('openDate',axis=1,inplace=True) # 자세한 날짜 필요 없으므로 삭제"
   ]
  },
  {
   "cell_type": "code",
   "execution_count": null,
   "metadata": {
    "colab": {
     "base_uri": "https://localhost:8080/",
     "height": 215
    },
    "colab_type": "code",
    "id": "cKaoWcNZQ180",
    "outputId": "f884e7d7-87c6-48e2-ef19-aa600e5dbf5b"
   },
   "outputs": [
    {
     "data": {
      "text/html": [
       "<div>\n",
       "<style scoped>\n",
       "    .dataframe tbody tr th:only-of-type {\n",
       "        vertical-align: middle;\n",
       "    }\n",
       "\n",
       "    .dataframe tbody tr th {\n",
       "        vertical-align: top;\n",
       "    }\n",
       "\n",
       "    .dataframe thead th {\n",
       "        text-align: right;\n",
       "    }\n",
       "</style>\n",
       "<table border=\"1\" class=\"dataframe\">\n",
       "  <thead>\n",
       "    <tr style=\"text-align: right;\">\n",
       "      <th></th>\n",
       "      <th>index</th>\n",
       "      <th>inst_id</th>\n",
       "      <th>OC</th>\n",
       "      <th>sido</th>\n",
       "      <th>sgg</th>\n",
       "      <th>bedCount</th>\n",
       "      <th>instkind</th>\n",
       "      <th>revenue1</th>\n",
       "      <th>salescost1</th>\n",
       "      <th>sga1</th>\n",
       "      <th>salary1</th>\n",
       "      <th>noi1</th>\n",
       "      <th>noe1</th>\n",
       "      <th>interest1</th>\n",
       "      <th>ctax1</th>\n",
       "      <th>profit1</th>\n",
       "      <th>liquidAsset1</th>\n",
       "      <th>quickAsset1</th>\n",
       "      <th>receivableS1</th>\n",
       "      <th>inventoryAsset1</th>\n",
       "      <th>nonCAsset1</th>\n",
       "      <th>tanAsset1</th>\n",
       "      <th>OnonCAsset1</th>\n",
       "      <th>receivableL1</th>\n",
       "      <th>debt1</th>\n",
       "      <th>liquidLiabilities1</th>\n",
       "      <th>shortLoan1</th>\n",
       "      <th>NCLiabilities1</th>\n",
       "      <th>longLoan1</th>\n",
       "      <th>netAsset1</th>\n",
       "      <th>surplus1</th>\n",
       "      <th>revenue2</th>\n",
       "      <th>salescost2</th>\n",
       "      <th>sga2</th>\n",
       "      <th>salary2</th>\n",
       "      <th>noi2</th>\n",
       "      <th>noe2</th>\n",
       "      <th>interest2</th>\n",
       "      <th>ctax2</th>\n",
       "      <th>profit2</th>\n",
       "      <th>liquidAsset2</th>\n",
       "      <th>quickAsset2</th>\n",
       "      <th>receivableS2</th>\n",
       "      <th>inventoryAsset2</th>\n",
       "      <th>nonCAsset2</th>\n",
       "      <th>tanAsset2</th>\n",
       "      <th>OnonCAsset2</th>\n",
       "      <th>receivableL2</th>\n",
       "      <th>debt2</th>\n",
       "      <th>liquidLiabilities2</th>\n",
       "      <th>shortLoan2</th>\n",
       "      <th>NCLiabilities2</th>\n",
       "      <th>longLoan2</th>\n",
       "      <th>netAsset2</th>\n",
       "      <th>surplus2</th>\n",
       "      <th>employee1</th>\n",
       "      <th>employee2</th>\n",
       "      <th>ownerChange</th>\n",
       "      <th>employee_change</th>\n",
       "      <th>openYear</th>\n",
       "    </tr>\n",
       "  </thead>\n",
       "  <tbody>\n",
       "    <tr>\n",
       "      <th>0</th>\n",
       "      <td>0</td>\n",
       "      <td>1</td>\n",
       "      <td>open</td>\n",
       "      <td>choongnam</td>\n",
       "      <td>73</td>\n",
       "      <td>175.0</td>\n",
       "      <td>nursing_hospital</td>\n",
       "      <td>4.217530e+09</td>\n",
       "      <td>0.0</td>\n",
       "      <td>3.961135e+09</td>\n",
       "      <td>2.033835e+09</td>\n",
       "      <td>15652441.0</td>\n",
       "      <td>1.523624e+07</td>\n",
       "      <td>1.323624e+07</td>\n",
       "      <td>31641798.0</td>\n",
       "      <td>225169678.0</td>\n",
       "      <td>1.012700e+09</td>\n",
       "      <td>9.976719e+08</td>\n",
       "      <td>4.700557e+08</td>\n",
       "      <td>1.502781e+07</td>\n",
       "      <td>2.514586e+09</td>\n",
       "      <td>2.360684e+09</td>\n",
       "      <td>1.434496e+08</td>\n",
       "      <td>0.0</td>\n",
       "      <td>-6.828260e+08</td>\n",
       "      <td>-2.013237e+08</td>\n",
       "      <td>0.000000e+00</td>\n",
       "      <td>-4.815023e+08</td>\n",
       "      <td>-3.510000e+08</td>\n",
       "      <td>2.844460e+09</td>\n",
       "      <td>1.496394e+09</td>\n",
       "      <td>4.297848e+09</td>\n",
       "      <td>0.0</td>\n",
       "      <td>4.057422e+09</td>\n",
       "      <td>2.063787e+09</td>\n",
       "      <td>16194675.0</td>\n",
       "      <td>2.998335e+07</td>\n",
       "      <td>1.568305e+07</td>\n",
       "      <td>18808074.0</td>\n",
       "      <td>207829685.0</td>\n",
       "      <td>8.301695e+08</td>\n",
       "      <td>8.165705e+08</td>\n",
       "      <td>5.237026e+08</td>\n",
       "      <td>1.359897e+07</td>\n",
       "      <td>2.548115e+09</td>\n",
       "      <td>2.386263e+09</td>\n",
       "      <td>1.458986e+08</td>\n",
       "      <td>0.0</td>\n",
       "      <td>-7.589937e+08</td>\n",
       "      <td>-2.228769e+08</td>\n",
       "      <td>0.000000e+00</td>\n",
       "      <td>-5.361169e+08</td>\n",
       "      <td>-3.900000e+08</td>\n",
       "      <td>2.619290e+09</td>\n",
       "      <td>1.271224e+09</td>\n",
       "      <td>62.0</td>\n",
       "      <td>64.0</td>\n",
       "      <td>same</td>\n",
       "      <td>-2.0</td>\n",
       "      <td>2007.0</td>\n",
       "    </tr>\n",
       "    <tr>\n",
       "      <th>1</th>\n",
       "      <td>1</td>\n",
       "      <td>3</td>\n",
       "      <td>open</td>\n",
       "      <td>gyeongnam</td>\n",
       "      <td>32</td>\n",
       "      <td>410.0</td>\n",
       "      <td>general_hospital</td>\n",
       "      <td>NaN</td>\n",
       "      <td>NaN</td>\n",
       "      <td>NaN</td>\n",
       "      <td>NaN</td>\n",
       "      <td>NaN</td>\n",
       "      <td>NaN</td>\n",
       "      <td>NaN</td>\n",
       "      <td>NaN</td>\n",
       "      <td>NaN</td>\n",
       "      <td>NaN</td>\n",
       "      <td>NaN</td>\n",
       "      <td>NaN</td>\n",
       "      <td>NaN</td>\n",
       "      <td>NaN</td>\n",
       "      <td>NaN</td>\n",
       "      <td>NaN</td>\n",
       "      <td>NaN</td>\n",
       "      <td>NaN</td>\n",
       "      <td>NaN</td>\n",
       "      <td>NaN</td>\n",
       "      <td>NaN</td>\n",
       "      <td>NaN</td>\n",
       "      <td>NaN</td>\n",
       "      <td>NaN</td>\n",
       "      <td>NaN</td>\n",
       "      <td>NaN</td>\n",
       "      <td>NaN</td>\n",
       "      <td>NaN</td>\n",
       "      <td>NaN</td>\n",
       "      <td>NaN</td>\n",
       "      <td>NaN</td>\n",
       "      <td>NaN</td>\n",
       "      <td>NaN</td>\n",
       "      <td>NaN</td>\n",
       "      <td>NaN</td>\n",
       "      <td>NaN</td>\n",
       "      <td>NaN</td>\n",
       "      <td>NaN</td>\n",
       "      <td>NaN</td>\n",
       "      <td>NaN</td>\n",
       "      <td>NaN</td>\n",
       "      <td>NaN</td>\n",
       "      <td>NaN</td>\n",
       "      <td>NaN</td>\n",
       "      <td>NaN</td>\n",
       "      <td>NaN</td>\n",
       "      <td>NaN</td>\n",
       "      <td>NaN</td>\n",
       "      <td>801.0</td>\n",
       "      <td>813.0</td>\n",
       "      <td>same</td>\n",
       "      <td>-12.0</td>\n",
       "      <td>1997.0</td>\n",
       "    </tr>\n",
       "    <tr>\n",
       "      <th>2</th>\n",
       "      <td>2</td>\n",
       "      <td>4</td>\n",
       "      <td>open</td>\n",
       "      <td>gyeonggi</td>\n",
       "      <td>89</td>\n",
       "      <td>468.0</td>\n",
       "      <td>nursing_hospital</td>\n",
       "      <td>1.004522e+09</td>\n",
       "      <td>515483669.0</td>\n",
       "      <td>4.472197e+08</td>\n",
       "      <td>2.964023e+08</td>\n",
       "      <td>76156.0</td>\n",
       "      <td>3.000000e+04</td>\n",
       "      <td>0.000000e+00</td>\n",
       "      <td>0.0</td>\n",
       "      <td>41864754.0</td>\n",
       "      <td>2.724421e+08</td>\n",
       "      <td>2.536822e+08</td>\n",
       "      <td>8.095950e+06</td>\n",
       "      <td>1.875997e+07</td>\n",
       "      <td>1.204810e+08</td>\n",
       "      <td>1.204810e+08</td>\n",
       "      <td>0.000000e+00</td>\n",
       "      <td>0.0</td>\n",
       "      <td>-9.241434e+07</td>\n",
       "      <td>-9.241434e+07</td>\n",
       "      <td>0.000000e+00</td>\n",
       "      <td>0.000000e+00</td>\n",
       "      <td>0.000000e+00</td>\n",
       "      <td>3.005088e+08</td>\n",
       "      <td>0.000000e+00</td>\n",
       "      <td>0.000000e+00</td>\n",
       "      <td>0.0</td>\n",
       "      <td>0.000000e+00</td>\n",
       "      <td>0.000000e+00</td>\n",
       "      <td>0.0</td>\n",
       "      <td>0.000000e+00</td>\n",
       "      <td>0.000000e+00</td>\n",
       "      <td>0.0</td>\n",
       "      <td>0.0</td>\n",
       "      <td>0.000000e+00</td>\n",
       "      <td>0.000000e+00</td>\n",
       "      <td>0.000000e+00</td>\n",
       "      <td>0.000000e+00</td>\n",
       "      <td>0.000000e+00</td>\n",
       "      <td>0.000000e+00</td>\n",
       "      <td>0.000000e+00</td>\n",
       "      <td>0.0</td>\n",
       "      <td>0.000000e+00</td>\n",
       "      <td>0.000000e+00</td>\n",
       "      <td>0.000000e+00</td>\n",
       "      <td>0.000000e+00</td>\n",
       "      <td>0.000000e+00</td>\n",
       "      <td>0.000000e+00</td>\n",
       "      <td>0.000000e+00</td>\n",
       "      <td>234.0</td>\n",
       "      <td>1.0</td>\n",
       "      <td>same</td>\n",
       "      <td>233.0</td>\n",
       "      <td>2016.0</td>\n",
       "    </tr>\n",
       "    <tr>\n",
       "      <th>3</th>\n",
       "      <td>3</td>\n",
       "      <td>7</td>\n",
       "      <td>open</td>\n",
       "      <td>incheon</td>\n",
       "      <td>141</td>\n",
       "      <td>353.0</td>\n",
       "      <td>general_hospital</td>\n",
       "      <td>7.250734e+10</td>\n",
       "      <td>0.0</td>\n",
       "      <td>7.067740e+10</td>\n",
       "      <td>3.178605e+10</td>\n",
       "      <td>506223059.0</td>\n",
       "      <td>1.259568e+09</td>\n",
       "      <td>1.196881e+09</td>\n",
       "      <td>173769780.0</td>\n",
       "      <td>902830288.0</td>\n",
       "      <td>1.304154e+10</td>\n",
       "      <td>1.153475e+10</td>\n",
       "      <td>0.000000e+00</td>\n",
       "      <td>1.506793e+09</td>\n",
       "      <td>4.317936e+10</td>\n",
       "      <td>3.832078e+10</td>\n",
       "      <td>3.945208e+09</td>\n",
       "      <td>0.0</td>\n",
       "      <td>-4.236380e+10</td>\n",
       "      <td>-2.799188e+10</td>\n",
       "      <td>-1.988520e+10</td>\n",
       "      <td>-1.437192e+10</td>\n",
       "      <td>-7.253040e+09</td>\n",
       "      <td>1.385710e+10</td>\n",
       "      <td>8.643659e+09</td>\n",
       "      <td>6.685834e+10</td>\n",
       "      <td>0.0</td>\n",
       "      <td>6.492419e+10</td>\n",
       "      <td>2.971135e+10</td>\n",
       "      <td>476807804.0</td>\n",
       "      <td>1.353672e+09</td>\n",
       "      <td>1.277422e+09</td>\n",
       "      <td>218891720.0</td>\n",
       "      <td>838387466.0</td>\n",
       "      <td>1.112572e+10</td>\n",
       "      <td>9.890540e+09</td>\n",
       "      <td>0.000000e+00</td>\n",
       "      <td>1.235181e+09</td>\n",
       "      <td>3.958356e+10</td>\n",
       "      <td>3.485576e+10</td>\n",
       "      <td>3.915906e+09</td>\n",
       "      <td>0.0</td>\n",
       "      <td>-3.775501e+10</td>\n",
       "      <td>-1.701860e+10</td>\n",
       "      <td>-9.219427e+09</td>\n",
       "      <td>-2.073641e+10</td>\n",
       "      <td>-1.510000e+10</td>\n",
       "      <td>1.295427e+10</td>\n",
       "      <td>7.740829e+09</td>\n",
       "      <td>663.0</td>\n",
       "      <td>663.0</td>\n",
       "      <td>same</td>\n",
       "      <td>0.0</td>\n",
       "      <td>2000.0</td>\n",
       "    </tr>\n",
       "    <tr>\n",
       "      <th>4</th>\n",
       "      <td>4</td>\n",
       "      <td>9</td>\n",
       "      <td>open</td>\n",
       "      <td>gyeongnam</td>\n",
       "      <td>32</td>\n",
       "      <td>196.0</td>\n",
       "      <td>general_hospital</td>\n",
       "      <td>4.904354e+10</td>\n",
       "      <td>0.0</td>\n",
       "      <td>4.765605e+10</td>\n",
       "      <td>2.446078e+10</td>\n",
       "      <td>112352259.0</td>\n",
       "      <td>1.419089e+09</td>\n",
       "      <td>1.307249e+09</td>\n",
       "      <td>0.0</td>\n",
       "      <td>80749696.0</td>\n",
       "      <td>6.317084e+09</td>\n",
       "      <td>5.873265e+09</td>\n",
       "      <td>4.099320e+09</td>\n",
       "      <td>4.438186e+08</td>\n",
       "      <td>4.366733e+10</td>\n",
       "      <td>4.330613e+10</td>\n",
       "      <td>2.223400e+08</td>\n",
       "      <td>0.0</td>\n",
       "      <td>-4.989811e+10</td>\n",
       "      <td>-2.890919e+10</td>\n",
       "      <td>-1.793038e+10</td>\n",
       "      <td>-2.098892e+10</td>\n",
       "      <td>-1.350000e+10</td>\n",
       "      <td>8.631164e+07</td>\n",
       "      <td>9.025550e+09</td>\n",
       "      <td>4.808280e+10</td>\n",
       "      <td>0.0</td>\n",
       "      <td>4.712580e+10</td>\n",
       "      <td>2.346004e+10</td>\n",
       "      <td>597748128.0</td>\n",
       "      <td>1.522108e+09</td>\n",
       "      <td>1.349851e+09</td>\n",
       "      <td>0.0</td>\n",
       "      <td>32642585.0</td>\n",
       "      <td>4.906776e+09</td>\n",
       "      <td>4.464017e+09</td>\n",
       "      <td>3.365227e+09</td>\n",
       "      <td>4.427591e+08</td>\n",
       "      <td>4.653138e+10</td>\n",
       "      <td>4.562945e+10</td>\n",
       "      <td>7.893407e+08</td>\n",
       "      <td>0.0</td>\n",
       "      <td>-5.143259e+10</td>\n",
       "      <td>-3.007259e+10</td>\n",
       "      <td>-1.759375e+10</td>\n",
       "      <td>-2.136001e+10</td>\n",
       "      <td>-1.410803e+10</td>\n",
       "      <td>5.561941e+06</td>\n",
       "      <td>9.025550e+09</td>\n",
       "      <td>206.0</td>\n",
       "      <td>197.0</td>\n",
       "      <td>same</td>\n",
       "      <td>9.0</td>\n",
       "      <td>2005.0</td>\n",
       "    </tr>\n",
       "  </tbody>\n",
       "</table>\n",
       "</div>"
      ],
      "text/plain": [
       "   index  inst_id    OC  ... ownerChange  employee_change  openYear\n",
       "0      0        1  open  ...        same             -2.0    2007.0\n",
       "1      1        3  open  ...        same            -12.0    1997.0\n",
       "2      2        4  open  ...        same            233.0    2016.0\n",
       "3      3        7  open  ...        same              0.0    2000.0\n",
       "4      4        9  open  ...        same              9.0    2005.0\n",
       "\n",
       "[5 rows x 60 columns]"
      ]
     },
     "execution_count": 18,
     "metadata": {
      "tags": []
     },
     "output_type": "execute_result"
    }
   ],
   "source": [
    "debt = ['debt1','debt2','liquidLiabilities1','liquidLiabilities2','shortLoan1','shortLoan2','NCLiabilities1','NCLiabilities2',\n",
    "       'longLoan1','longLoan2'] # 부채는 모두 마이너스 처리\n",
    "for i in debt:\n",
    "    data[i]=data[i].apply(lambda x: 0 if x==0 else -x)\n",
    "data.head()"
   ]
  },
  {
   "cell_type": "markdown",
   "metadata": {
    "colab_type": "text",
    "id": "G-GmdPUhQ186"
   },
   "source": [
    "# PreProcessing\n",
    "- Processing Missing value"
   ]
  },
  {
   "cell_type": "code",
   "execution_count": null,
   "metadata": {
    "colab": {},
    "colab_type": "code",
    "id": "hLHR30nqQ187"
   },
   "outputs": [],
   "source": [
    "data['openYear'].fillna(int(data['openYear'].median()),inplace=True)"
   ]
  },
  {
   "cell_type": "code",
   "execution_count": null,
   "metadata": {
    "colab": {
     "base_uri": "https://localhost:8080/",
     "height": 432
    },
    "colab_type": "code",
    "id": "uUf0T3GjQ18_",
    "outputId": "525c12de-cc8a-4eb6-af65-fda2659d9de9"
   },
   "outputs": [
    {
     "data": {
      "text/html": [
       "<div>\n",
       "<style scoped>\n",
       "    .dataframe tbody tr th:only-of-type {\n",
       "        vertical-align: middle;\n",
       "    }\n",
       "\n",
       "    .dataframe tbody tr th {\n",
       "        vertical-align: top;\n",
       "    }\n",
       "\n",
       "    .dataframe thead th {\n",
       "        text-align: right;\n",
       "    }\n",
       "</style>\n",
       "<table border=\"1\" class=\"dataframe\">\n",
       "  <thead>\n",
       "    <tr style=\"text-align: right;\">\n",
       "      <th></th>\n",
       "      <th>bedCount</th>\n",
       "      <th>instkind</th>\n",
       "    </tr>\n",
       "  </thead>\n",
       "  <tbody>\n",
       "    <tr>\n",
       "      <th>71</th>\n",
       "      <td>NaN</td>\n",
       "      <td>traditional_hospital</td>\n",
       "    </tr>\n",
       "    <tr>\n",
       "      <th>193</th>\n",
       "      <td>NaN</td>\n",
       "      <td>NaN</td>\n",
       "    </tr>\n",
       "    <tr>\n",
       "      <th>297</th>\n",
       "      <td>NaN</td>\n",
       "      <td>hospital</td>\n",
       "    </tr>\n",
       "    <tr>\n",
       "      <th>298</th>\n",
       "      <td>NaN</td>\n",
       "      <td>hospital</td>\n",
       "    </tr>\n",
       "    <tr>\n",
       "      <th>300</th>\n",
       "      <td>NaN</td>\n",
       "      <td>traditional_hospital</td>\n",
       "    </tr>\n",
       "    <tr>\n",
       "      <th>311</th>\n",
       "      <td>NaN</td>\n",
       "      <td>traditional_clinic</td>\n",
       "    </tr>\n",
       "    <tr>\n",
       "      <th>323</th>\n",
       "      <td>NaN</td>\n",
       "      <td>hospital</td>\n",
       "    </tr>\n",
       "    <tr>\n",
       "      <th>341</th>\n",
       "      <td>NaN</td>\n",
       "      <td>nursing_hospital</td>\n",
       "    </tr>\n",
       "    <tr>\n",
       "      <th>379</th>\n",
       "      <td>NaN</td>\n",
       "      <td>hospital</td>\n",
       "    </tr>\n",
       "    <tr>\n",
       "      <th>385</th>\n",
       "      <td>NaN</td>\n",
       "      <td>nursing_hospital</td>\n",
       "    </tr>\n",
       "    <tr>\n",
       "      <th>400</th>\n",
       "      <td>NaN</td>\n",
       "      <td>nursing_hospital</td>\n",
       "    </tr>\n",
       "    <tr>\n",
       "      <th>424</th>\n",
       "      <td>NaN</td>\n",
       "      <td>traditional_hospital</td>\n",
       "    </tr>\n",
       "    <tr>\n",
       "      <th>426</th>\n",
       "      <td>NaN</td>\n",
       "      <td>NaN</td>\n",
       "    </tr>\n",
       "  </tbody>\n",
       "</table>\n",
       "</div>"
      ],
      "text/plain": [
       "     bedCount              instkind\n",
       "71        NaN  traditional_hospital\n",
       "193       NaN                   NaN\n",
       "297       NaN              hospital\n",
       "298       NaN              hospital\n",
       "300       NaN  traditional_hospital\n",
       "311       NaN    traditional_clinic\n",
       "323       NaN              hospital\n",
       "341       NaN      nursing_hospital\n",
       "379       NaN              hospital\n",
       "385       NaN      nursing_hospital\n",
       "400       NaN      nursing_hospital\n",
       "424       NaN  traditional_hospital\n",
       "426       NaN                   NaN"
      ]
     },
     "execution_count": 20,
     "metadata": {
      "tags": []
     },
     "output_type": "execute_result"
    }
   ],
   "source": [
    "data[data['bedCount'].isnull()][['bedCount','instkind']]"
   ]
  },
  {
   "cell_type": "code",
   "execution_count": null,
   "metadata": {
    "colab": {
     "base_uri": "https://localhost:8080/",
     "height": 518
    },
    "colab_type": "code",
    "id": "qCATtrzBQ19D",
    "outputId": "5b180012-4c95-4d96-b567-0bcbadedadc2"
   },
   "outputs": [
    {
     "data": {
      "text/plain": [
       "<matplotlib.axes._subplots.AxesSubplot at 0x7fdcfc124320>"
      ]
     },
     "execution_count": 21,
     "metadata": {
      "tags": []
     },
     "output_type": "execute_result"
    },
    {
     "data": {
      "image/png": "[encoded data removed]",
      "text/plain": [
       "<Figure size 864x576 with 1 Axes>"
      ]
     },
     "metadata": {
      "needs_background": "light",
      "tags": []
     },
     "output_type": "display_data"
    }
   ],
   "source": [
    "plt.figure(figsize=(12,8))\n",
    "sns.boxplot(x=data['instkind'],y=data['bedCount'])"
   ]
  },
  {
   "cell_type": "markdown",
   "metadata": {
    "colab_type": "text",
    "id": "C8MclZpHQ19I"
   },
   "source": [
    "# #### 이상치가 많으므로 결측치 대체는 중위값으로 한다."
   ]
  },
  {
   "cell_type": "code",
   "execution_count": null,
   "metadata": {
    "colab": {},
    "colab_type": "code",
    "id": "LkxxdIrPQ19J"
   },
   "outputs": [],
   "source": [
    "data['bedCount'].fillna(data.groupby('instkind')['bedCount'].transform('median'),inplace=True)"
   ]
  },
  {
   "cell_type": "code",
   "execution_count": null,
   "metadata": {
    "colab": {
     "base_uri": "https://localhost:8080/",
     "height": 106
    },
    "colab_type": "code",
    "id": "3BegNISHQ19O",
    "outputId": "a008893b-bb16-4326-95e9-c56bc5f7c756"
   },
   "outputs": [
    {
     "data": {
      "text/html": [
       "<div>\n",
       "<style scoped>\n",
       "    .dataframe tbody tr th:only-of-type {\n",
       "        vertical-align: middle;\n",
       "    }\n",
       "\n",
       "    .dataframe tbody tr th {\n",
       "        vertical-align: top;\n",
       "    }\n",
       "\n",
       "    .dataframe thead th {\n",
       "        text-align: right;\n",
       "    }\n",
       "</style>\n",
       "<table border=\"1\" class=\"dataframe\">\n",
       "  <thead>\n",
       "    <tr style=\"text-align: right;\">\n",
       "      <th></th>\n",
       "      <th>bedCount</th>\n",
       "      <th>instkind</th>\n",
       "    </tr>\n",
       "  </thead>\n",
       "  <tbody>\n",
       "    <tr>\n",
       "      <th>193</th>\n",
       "      <td>NaN</td>\n",
       "      <td>NaN</td>\n",
       "    </tr>\n",
       "    <tr>\n",
       "      <th>426</th>\n",
       "      <td>NaN</td>\n",
       "      <td>NaN</td>\n",
       "    </tr>\n",
       "  </tbody>\n",
       "</table>\n",
       "</div>"
      ],
      "text/plain": [
       "     bedCount instkind\n",
       "193       NaN      NaN\n",
       "426       NaN      NaN"
      ]
     },
     "execution_count": 23,
     "metadata": {
      "tags": []
     },
     "output_type": "execute_result"
    }
   ],
   "source": [
    "data[data['bedCount'].isnull()][['bedCount','instkind']] # 둘다 결측치인 것은 영향 안받음"
   ]
  },
  {
   "cell_type": "code",
   "execution_count": null,
   "metadata": {
    "colab": {
     "base_uri": "https://localhost:8080/",
     "height": 136
    },
    "colab_type": "code",
    "id": "C3iqZ0EkQ19U",
    "outputId": "3b6fc341-faf6-4f43-8dff-8114a69270fa"
   },
   "outputs": [
    {
     "data": {
      "text/html": [
       "<div>\n",
       "<style scoped>\n",
       "    .dataframe tbody tr th:only-of-type {\n",
       "        vertical-align: middle;\n",
       "    }\n",
       "\n",
       "    .dataframe tbody tr th {\n",
       "        vertical-align: top;\n",
       "    }\n",
       "\n",
       "    .dataframe thead th {\n",
       "        text-align: right;\n",
       "    }\n",
       "</style>\n",
       "<table border=\"1\" class=\"dataframe\">\n",
       "  <thead>\n",
       "    <tr style=\"text-align: right;\">\n",
       "      <th></th>\n",
       "      <th>bedCount</th>\n",
       "      <th>instkind</th>\n",
       "    </tr>\n",
       "  </thead>\n",
       "  <tbody>\n",
       "    <tr>\n",
       "      <th>193</th>\n",
       "      <td>NaN</td>\n",
       "      <td>NaN</td>\n",
       "    </tr>\n",
       "    <tr>\n",
       "      <th>421</th>\n",
       "      <td>49.0</td>\n",
       "      <td>NaN</td>\n",
       "    </tr>\n",
       "    <tr>\n",
       "      <th>426</th>\n",
       "      <td>NaN</td>\n",
       "      <td>NaN</td>\n",
       "    </tr>\n",
       "  </tbody>\n",
       "</table>\n",
       "</div>"
      ],
      "text/plain": [
       "     bedCount instkind\n",
       "193       NaN      NaN\n",
       "421      49.0      NaN\n",
       "426       NaN      NaN"
      ]
     },
     "execution_count": 24,
     "metadata": {
      "tags": []
     },
     "output_type": "execute_result"
    }
   ],
   "source": [
    "data[data['instkind'].isnull()][['bedCount','instkind']] # instkind 결측치 확인"
   ]
  },
  {
   "cell_type": "code",
   "execution_count": null,
   "metadata": {
    "colab": {
     "base_uri": "https://localhost:8080/",
     "height": 175
    },
    "colab_type": "code",
    "id": "9i0HQecEQ19e",
    "outputId": "39afe0b5-927b-4538-acf9-9274053f717c"
   },
   "outputs": [
    {
     "data": {
      "text/plain": [
       "instkind\n",
       "clinic                    0.0\n",
       "dental_clinic             0.0\n",
       "general_hospital        243.0\n",
       "hospital                 85.0\n",
       "nursing_hospital        157.5\n",
       "traditional_clinic        0.0\n",
       "traditional_hospital     44.0\n",
       "Name: bedCount, dtype: float64"
      ]
     },
     "execution_count": 25,
     "metadata": {
      "tags": []
     },
     "output_type": "execute_result"
    }
   ],
   "source": [
    "data.groupby('instkind')['bedCount'].median() # bedCount 가 49는 traditional hospital에 가까움으로 이 값으로 대체"
   ]
  },
  {
   "cell_type": "code",
   "execution_count": null,
   "metadata": {
    "colab": {},
    "colab_type": "code",
    "id": "1_n3YcP7Q19h"
   },
   "outputs": [],
   "source": [
    "data['instkind'].iloc[421] = 'traditional_hospital'"
   ]
  },
  {
   "cell_type": "code",
   "execution_count": null,
   "metadata": {
    "colab": {
     "base_uri": "https://localhost:8080/",
     "height": 136
    },
    "colab_type": "code",
    "id": "vF11JquLQ19k",
    "outputId": "76aa677e-9677-4b15-8b37-d501da058783"
   },
   "outputs": [
    {
     "data": {
      "text/html": [
       "<div>\n",
       "<style scoped>\n",
       "    .dataframe tbody tr th:only-of-type {\n",
       "        vertical-align: middle;\n",
       "    }\n",
       "\n",
       "    .dataframe tbody tr th {\n",
       "        vertical-align: top;\n",
       "    }\n",
       "\n",
       "    .dataframe thead th {\n",
       "        text-align: right;\n",
       "    }\n",
       "</style>\n",
       "<table border=\"1\" class=\"dataframe\">\n",
       "  <thead>\n",
       "    <tr style=\"text-align: right;\">\n",
       "      <th></th>\n",
       "      <th>employee1</th>\n",
       "      <th>employee2</th>\n",
       "      <th>bedCount</th>\n",
       "    </tr>\n",
       "  </thead>\n",
       "  <tbody>\n",
       "    <tr>\n",
       "      <th>employee1</th>\n",
       "      <td>1.000000</td>\n",
       "      <td>0.972793</td>\n",
       "      <td>0.505255</td>\n",
       "    </tr>\n",
       "    <tr>\n",
       "      <th>employee2</th>\n",
       "      <td>0.972793</td>\n",
       "      <td>1.000000</td>\n",
       "      <td>0.509500</td>\n",
       "    </tr>\n",
       "    <tr>\n",
       "      <th>bedCount</th>\n",
       "      <td>0.505255</td>\n",
       "      <td>0.509500</td>\n",
       "      <td>1.000000</td>\n",
       "    </tr>\n",
       "  </tbody>\n",
       "</table>\n",
       "</div>"
      ],
      "text/plain": [
       "           employee1  employee2  bedCount\n",
       "employee1   1.000000   0.972793  0.505255\n",
       "employee2   0.972793   1.000000  0.509500\n",
       "bedCount    0.505255   0.509500  1.000000"
      ]
     },
     "execution_count": 27,
     "metadata": {
      "tags": []
     },
     "output_type": "execute_result"
    }
   ],
   "source": [
    "data[['employee1','employee2','bedCount']].corr() # 직원 수와 bedCount의 상관관계가 0.5로 약간 높은 양의 상관관계가 있다."
   ]
  },
  {
   "cell_type": "code",
   "execution_count": null,
   "metadata": {
    "colab": {
     "base_uri": "https://localhost:8080/",
     "height": 126
    },
    "colab_type": "code",
    "id": "nmsjeEddQ19o",
    "outputId": "d5384ef0-1cc2-4c68-b59f-7e82b8615a5e"
   },
   "outputs": [
    {
     "data": {
      "text/html": [
       "<div>\n",
       "<style scoped>\n",
       "    .dataframe tbody tr th:only-of-type {\n",
       "        vertical-align: middle;\n",
       "    }\n",
       "\n",
       "    .dataframe tbody tr th {\n",
       "        vertical-align: top;\n",
       "    }\n",
       "\n",
       "    .dataframe thead th {\n",
       "        text-align: right;\n",
       "    }\n",
       "</style>\n",
       "<table border=\"1\" class=\"dataframe\">\n",
       "  <thead>\n",
       "    <tr style=\"text-align: right;\">\n",
       "      <th></th>\n",
       "      <th>index</th>\n",
       "      <th>inst_id</th>\n",
       "      <th>OC</th>\n",
       "      <th>sido</th>\n",
       "      <th>sgg</th>\n",
       "      <th>bedCount</th>\n",
       "      <th>instkind</th>\n",
       "      <th>revenue1</th>\n",
       "      <th>salescost1</th>\n",
       "      <th>sga1</th>\n",
       "      <th>salary1</th>\n",
       "      <th>noi1</th>\n",
       "      <th>noe1</th>\n",
       "      <th>interest1</th>\n",
       "      <th>ctax1</th>\n",
       "      <th>profit1</th>\n",
       "      <th>liquidAsset1</th>\n",
       "      <th>quickAsset1</th>\n",
       "      <th>receivableS1</th>\n",
       "      <th>inventoryAsset1</th>\n",
       "      <th>nonCAsset1</th>\n",
       "      <th>tanAsset1</th>\n",
       "      <th>OnonCAsset1</th>\n",
       "      <th>receivableL1</th>\n",
       "      <th>debt1</th>\n",
       "      <th>liquidLiabilities1</th>\n",
       "      <th>shortLoan1</th>\n",
       "      <th>NCLiabilities1</th>\n",
       "      <th>longLoan1</th>\n",
       "      <th>netAsset1</th>\n",
       "      <th>surplus1</th>\n",
       "      <th>revenue2</th>\n",
       "      <th>salescost2</th>\n",
       "      <th>sga2</th>\n",
       "      <th>salary2</th>\n",
       "      <th>noi2</th>\n",
       "      <th>noe2</th>\n",
       "      <th>interest2</th>\n",
       "      <th>ctax2</th>\n",
       "      <th>profit2</th>\n",
       "      <th>liquidAsset2</th>\n",
       "      <th>quickAsset2</th>\n",
       "      <th>receivableS2</th>\n",
       "      <th>inventoryAsset2</th>\n",
       "      <th>nonCAsset2</th>\n",
       "      <th>tanAsset2</th>\n",
       "      <th>OnonCAsset2</th>\n",
       "      <th>receivableL2</th>\n",
       "      <th>debt2</th>\n",
       "      <th>liquidLiabilities2</th>\n",
       "      <th>shortLoan2</th>\n",
       "      <th>NCLiabilities2</th>\n",
       "      <th>longLoan2</th>\n",
       "      <th>netAsset2</th>\n",
       "      <th>surplus2</th>\n",
       "      <th>employee1</th>\n",
       "      <th>employee2</th>\n",
       "      <th>ownerChange</th>\n",
       "      <th>employee_change</th>\n",
       "      <th>openYear</th>\n",
       "    </tr>\n",
       "  </thead>\n",
       "  <tbody>\n",
       "    <tr>\n",
       "      <th>193</th>\n",
       "      <td>193</td>\n",
       "      <td>281</td>\n",
       "      <td>close</td>\n",
       "      <td>gyeonggi</td>\n",
       "      <td>12</td>\n",
       "      <td>NaN</td>\n",
       "      <td>NaN</td>\n",
       "      <td>3.054388e+08</td>\n",
       "      <td>2.241614e+07</td>\n",
       "      <td>4.674753e+08</td>\n",
       "      <td>2.548688e+08</td>\n",
       "      <td>13451554.0</td>\n",
       "      <td>9.012973e+07</td>\n",
       "      <td>4239523.0</td>\n",
       "      <td>0.0</td>\n",
       "      <td>-2.611308e+08</td>\n",
       "      <td>0.000000e+00</td>\n",
       "      <td>0.000000e+00</td>\n",
       "      <td>0.0</td>\n",
       "      <td>0.000000e+00</td>\n",
       "      <td>0.000000e+00</td>\n",
       "      <td>0.000000e+00</td>\n",
       "      <td>0.000000e+00</td>\n",
       "      <td>0.0</td>\n",
       "      <td>0.000000e+00</td>\n",
       "      <td>0.000000e+00</td>\n",
       "      <td>0.0</td>\n",
       "      <td>0.000000e+00</td>\n",
       "      <td>0.000000e+00</td>\n",
       "      <td>0.000000e+00</td>\n",
       "      <td>0.0</td>\n",
       "      <td>5.342966e+08</td>\n",
       "      <td>6.435569e+07</td>\n",
       "      <td>8.693647e+08</td>\n",
       "      <td>6.757184e+08</td>\n",
       "      <td>1333.0</td>\n",
       "      <td>2.431707e+07</td>\n",
       "      <td>5929772.0</td>\n",
       "      <td>0.0</td>\n",
       "      <td>-4.237396e+08</td>\n",
       "      <td>0.000000e+00</td>\n",
       "      <td>0.000000e+00</td>\n",
       "      <td>0.0</td>\n",
       "      <td>0.000000e+00</td>\n",
       "      <td>0.000000e+00</td>\n",
       "      <td>0.000000e+00</td>\n",
       "      <td>0.000000e+00</td>\n",
       "      <td>0.0</td>\n",
       "      <td>0.000000e+00</td>\n",
       "      <td>0.000000e+00</td>\n",
       "      <td>0.0</td>\n",
       "      <td>0.000000e+00</td>\n",
       "      <td>0.000000e+00</td>\n",
       "      <td>0.0</td>\n",
       "      <td>0.0</td>\n",
       "      <td>15.0</td>\n",
       "      <td>15.0</td>\n",
       "      <td>change</td>\n",
       "      <td>0.0</td>\n",
       "      <td>2012.0</td>\n",
       "    </tr>\n",
       "    <tr>\n",
       "      <th>426</th>\n",
       "      <td>125</td>\n",
       "      <td>430</td>\n",
       "      <td>NaN</td>\n",
       "      <td>jeju</td>\n",
       "      <td>76</td>\n",
       "      <td>NaN</td>\n",
       "      <td>NaN</td>\n",
       "      <td>4.892710e+10</td>\n",
       "      <td>4.157148e+10</td>\n",
       "      <td>4.721485e+09</td>\n",
       "      <td>1.514547e+09</td>\n",
       "      <td>85098148.0</td>\n",
       "      <td>1.270081e+09</td>\n",
       "      <td>837926647.0</td>\n",
       "      <td>31802061.0</td>\n",
       "      <td>1.417343e+09</td>\n",
       "      <td>1.028286e+10</td>\n",
       "      <td>9.002630e+09</td>\n",
       "      <td>15569326.0</td>\n",
       "      <td>1.280235e+09</td>\n",
       "      <td>2.952030e+10</td>\n",
       "      <td>8.782117e+09</td>\n",
       "      <td>7.537349e+09</td>\n",
       "      <td>0.0</td>\n",
       "      <td>-3.859089e+10</td>\n",
       "      <td>-9.342814e+09</td>\n",
       "      <td>0.0</td>\n",
       "      <td>-2.924807e+10</td>\n",
       "      <td>-2.563120e+10</td>\n",
       "      <td>1.212281e+09</td>\n",
       "      <td>0.0</td>\n",
       "      <td>4.758477e+10</td>\n",
       "      <td>4.015853e+10</td>\n",
       "      <td>5.061219e+09</td>\n",
       "      <td>1.404341e+09</td>\n",
       "      <td>99795507.0</td>\n",
       "      <td>1.274426e+09</td>\n",
       "      <td>843338692.0</td>\n",
       "      <td>0.0</td>\n",
       "      <td>1.190396e+09</td>\n",
       "      <td>7.848233e+09</td>\n",
       "      <td>6.707102e+09</td>\n",
       "      <td>15569326.0</td>\n",
       "      <td>1.141131e+09</td>\n",
       "      <td>2.915067e+10</td>\n",
       "      <td>7.869001e+09</td>\n",
       "      <td>7.112780e+09</td>\n",
       "      <td>0.0</td>\n",
       "      <td>-3.720397e+10</td>\n",
       "      <td>-8.485918e+09</td>\n",
       "      <td>0.0</td>\n",
       "      <td>-2.871805e+10</td>\n",
       "      <td>-2.563120e+10</td>\n",
       "      <td>-205062936.0</td>\n",
       "      <td>0.0</td>\n",
       "      <td>363.0</td>\n",
       "      <td>343.0</td>\n",
       "      <td>same</td>\n",
       "      <td>20.0</td>\n",
       "      <td>2001.0</td>\n",
       "    </tr>\n",
       "  </tbody>\n",
       "</table>\n",
       "</div>"
      ],
      "text/plain": [
       "     index  inst_id     OC  ... ownerChange  employee_change  openYear\n",
       "193    193      281  close  ...      change              0.0    2012.0\n",
       "426    125      430    NaN  ...        same             20.0    2001.0\n",
       "\n",
       "[2 rows x 60 columns]"
      ]
     },
     "execution_count": 28,
     "metadata": {
      "tags": []
     },
     "output_type": "execute_result"
    }
   ],
   "source": [
    "# 위 상관계수를 기반으로 직원 수에 따라서 bedCount->bedCOunt 와 instkind 상관관계 높음(데이터 설명에 의해)\n",
    "data[data['instkind'].isnull()]"
   ]
  },
  {
   "cell_type": "code",
   "execution_count": null,
   "metadata": {
    "colab": {
     "base_uri": "https://localhost:8080/",
     "height": 547
    },
    "colab_type": "code",
    "id": "ppmKd8CEQ19r",
    "outputId": "72c9652b-6e6f-4724-a6cd-7ba4130bb87c"
   },
   "outputs": [
    {
     "data": {
      "image/png": "[encoded data removed]",
      "text/plain": [
       "<Figure size 1440x576 with 2 Axes>"
      ]
     },
     "metadata": {
      "needs_background": "light",
      "tags": []
     },
     "output_type": "display_data"
    }
   ],
   "source": [
    "fig,(ax1,ax2) = plt.subplots(1,2,figsize=(20,8))\n",
    "sns.boxplot(data=data,x='instkind',y='employee1',ax=ax1)\n",
    "sns.boxplot(data=data,x='instkind',y='employee2',ax=ax2)\n",
    "ax1.tick_params(labelrotation=30)\n",
    "ax2.tick_params(labelrotation=30)"
   ]
  },
  {
   "cell_type": "code",
   "execution_count": null,
   "metadata": {
    "colab": {
     "base_uri": "https://localhost:8080/",
     "height": 175
    },
    "colab_type": "code",
    "id": "JP5biVmWQ19v",
    "outputId": "d6cf4ce4-3112-4588-8ebc-27e8091ac15d"
   },
   "outputs": [
    {
     "data": {
      "text/plain": [
       "instkind\n",
       "clinic                   35.0\n",
       "dental_clinic           107.0\n",
       "general_hospital        385.0\n",
       "hospital                 94.0\n",
       "nursing_hospital         73.5\n",
       "traditional_clinic       93.0\n",
       "traditional_hospital     42.0\n",
       "Name: employee1, dtype: float64"
      ]
     },
     "execution_count": 30,
     "metadata": {
      "tags": []
     },
     "output_type": "execute_result"
    }
   ],
   "source": [
    "data.groupby('instkind')['employee1'].median()"
   ]
  },
  {
   "cell_type": "code",
   "execution_count": null,
   "metadata": {
    "colab": {},
    "colab_type": "code",
    "id": "j_wQ41suQ19y"
   },
   "outputs": [],
   "source": [
    "# 15 = clinc\n",
    "# 343 = general_hospital\n",
    "data['instkind'].iloc[193] = 'clinic'\n",
    "data['instkind'].iloc[426] = 'general_hospital'\n",
    "data['bedCount'].iloc[193] = 0 # clinc의 중위값으로 대체\n",
    "data['bedCount'].iloc[426] = 243 # general_hospital 의 중위값으로 대체"
   ]
  },
  {
   "cell_type": "code",
   "execution_count": null,
   "metadata": {
    "colab": {},
    "colab_type": "code",
    "id": "g6VX5P8qQ193"
   },
   "outputs": [],
   "source": [
    "data['ownerChange'].fillna(data['ownerChange'].mode()[0],inplace=True) # 최빈값으로 대체"
   ]
  },
  {
   "cell_type": "markdown",
   "metadata": {
    "colab_type": "text",
    "id": "S2mFTXrkQ196"
   },
   "source": [
    "- 직원 수 결측치 처리"
   ]
  },
  {
   "cell_type": "code",
   "execution_count": null,
   "metadata": {
    "colab": {
     "base_uri": "https://localhost:8080/",
     "height": 1000
    },
    "colab_type": "code",
    "id": "WwaWU0fgQ197",
    "outputId": "4723932a-7cb2-44c4-99ee-b696f5771f25",
    "scrolled": true
   },
   "outputs": [
    {
     "data": {
      "text/html": [
       "<div>\n",
       "<style scoped>\n",
       "    .dataframe tbody tr th:only-of-type {\n",
       "        vertical-align: middle;\n",
       "    }\n",
       "\n",
       "    .dataframe tbody tr th {\n",
       "        vertical-align: top;\n",
       "    }\n",
       "\n",
       "    .dataframe thead th {\n",
       "        text-align: right;\n",
       "    }\n",
       "</style>\n",
       "<table border=\"1\" class=\"dataframe\">\n",
       "  <thead>\n",
       "    <tr style=\"text-align: right;\">\n",
       "      <th></th>\n",
       "      <th>col</th>\n",
       "      <th>corr</th>\n",
       "    </tr>\n",
       "  </thead>\n",
       "  <tbody>\n",
       "    <tr>\n",
       "      <th>0</th>\n",
       "      <td>index</td>\n",
       "      <td>-0.235603</td>\n",
       "    </tr>\n",
       "    <tr>\n",
       "      <th>1</th>\n",
       "      <td>inst_id</td>\n",
       "      <td>-0.271752</td>\n",
       "    </tr>\n",
       "    <tr>\n",
       "      <th>2</th>\n",
       "      <td>sgg</td>\n",
       "      <td>0.0251274</td>\n",
       "    </tr>\n",
       "    <tr>\n",
       "      <th>3</th>\n",
       "      <td>bedCount</td>\n",
       "      <td>0.507025</td>\n",
       "    </tr>\n",
       "    <tr>\n",
       "      <th>4</th>\n",
       "      <td>revenue1</td>\n",
       "      <td>0.88632</td>\n",
       "    </tr>\n",
       "    <tr>\n",
       "      <th>5</th>\n",
       "      <td>salescost1</td>\n",
       "      <td>0.593692</td>\n",
       "    </tr>\n",
       "    <tr>\n",
       "      <th>6</th>\n",
       "      <td>sga1</td>\n",
       "      <td>0.868367</td>\n",
       "    </tr>\n",
       "    <tr>\n",
       "      <th>7</th>\n",
       "      <td>salary1</td>\n",
       "      <td>0.870879</td>\n",
       "    </tr>\n",
       "    <tr>\n",
       "      <th>8</th>\n",
       "      <td>noi1</td>\n",
       "      <td>0.585692</td>\n",
       "    </tr>\n",
       "    <tr>\n",
       "      <th>9</th>\n",
       "      <td>noe1</td>\n",
       "      <td>0.621877</td>\n",
       "    </tr>\n",
       "    <tr>\n",
       "      <th>10</th>\n",
       "      <td>interest1</td>\n",
       "      <td>0.439253</td>\n",
       "    </tr>\n",
       "    <tr>\n",
       "      <th>11</th>\n",
       "      <td>ctax1</td>\n",
       "      <td>0.54814</td>\n",
       "    </tr>\n",
       "    <tr>\n",
       "      <th>12</th>\n",
       "      <td>profit1</td>\n",
       "      <td>0.390353</td>\n",
       "    </tr>\n",
       "    <tr>\n",
       "      <th>13</th>\n",
       "      <td>liquidAsset1</td>\n",
       "      <td>0.743854</td>\n",
       "    </tr>\n",
       "    <tr>\n",
       "      <th>14</th>\n",
       "      <td>quickAsset1</td>\n",
       "      <td>0.740648</td>\n",
       "    </tr>\n",
       "    <tr>\n",
       "      <th>15</th>\n",
       "      <td>receivableS1</td>\n",
       "      <td>0.427205</td>\n",
       "    </tr>\n",
       "    <tr>\n",
       "      <th>16</th>\n",
       "      <td>inventoryAsset1</td>\n",
       "      <td>0.653327</td>\n",
       "    </tr>\n",
       "    <tr>\n",
       "      <th>17</th>\n",
       "      <td>nonCAsset1</td>\n",
       "      <td>0.760217</td>\n",
       "    </tr>\n",
       "    <tr>\n",
       "      <th>18</th>\n",
       "      <td>tanAsset1</td>\n",
       "      <td>0.750643</td>\n",
       "    </tr>\n",
       "    <tr>\n",
       "      <th>19</th>\n",
       "      <td>OnonCAsset1</td>\n",
       "      <td>0.502299</td>\n",
       "    </tr>\n",
       "    <tr>\n",
       "      <th>20</th>\n",
       "      <td>receivableL1</td>\n",
       "      <td>-0.0234059</td>\n",
       "    </tr>\n",
       "    <tr>\n",
       "      <th>21</th>\n",
       "      <td>debt1</td>\n",
       "      <td>-0.785368</td>\n",
       "    </tr>\n",
       "    <tr>\n",
       "      <th>22</th>\n",
       "      <td>liquidLiabilities1</td>\n",
       "      <td>-0.779534</td>\n",
       "    </tr>\n",
       "    <tr>\n",
       "      <th>23</th>\n",
       "      <td>shortLoan1</td>\n",
       "      <td>-0.423056</td>\n",
       "    </tr>\n",
       "    <tr>\n",
       "      <th>24</th>\n",
       "      <td>NCLiabilities1</td>\n",
       "      <td>-0.648732</td>\n",
       "    </tr>\n",
       "    <tr>\n",
       "      <th>25</th>\n",
       "      <td>longLoan1</td>\n",
       "      <td>-0.317576</td>\n",
       "    </tr>\n",
       "    <tr>\n",
       "      <th>26</th>\n",
       "      <td>netAsset1</td>\n",
       "      <td>0.589399</td>\n",
       "    </tr>\n",
       "    <tr>\n",
       "      <th>27</th>\n",
       "      <td>surplus1</td>\n",
       "      <td>0.257669</td>\n",
       "    </tr>\n",
       "    <tr>\n",
       "      <th>28</th>\n",
       "      <td>revenue2</td>\n",
       "      <td>0.879571</td>\n",
       "    </tr>\n",
       "    <tr>\n",
       "      <th>29</th>\n",
       "      <td>salescost2</td>\n",
       "      <td>0.603817</td>\n",
       "    </tr>\n",
       "    <tr>\n",
       "      <th>30</th>\n",
       "      <td>sga2</td>\n",
       "      <td>0.86562</td>\n",
       "    </tr>\n",
       "    <tr>\n",
       "      <th>31</th>\n",
       "      <td>salary2</td>\n",
       "      <td>0.858302</td>\n",
       "    </tr>\n",
       "    <tr>\n",
       "      <th>32</th>\n",
       "      <td>noi2</td>\n",
       "      <td>0.725655</td>\n",
       "    </tr>\n",
       "    <tr>\n",
       "      <th>33</th>\n",
       "      <td>noe2</td>\n",
       "      <td>0.640054</td>\n",
       "    </tr>\n",
       "    <tr>\n",
       "      <th>34</th>\n",
       "      <td>interest2</td>\n",
       "      <td>0.429575</td>\n",
       "    </tr>\n",
       "    <tr>\n",
       "      <th>35</th>\n",
       "      <td>ctax2</td>\n",
       "      <td>0.460125</td>\n",
       "    </tr>\n",
       "    <tr>\n",
       "      <th>36</th>\n",
       "      <td>profit2</td>\n",
       "      <td>0.424901</td>\n",
       "    </tr>\n",
       "    <tr>\n",
       "      <th>37</th>\n",
       "      <td>liquidAsset2</td>\n",
       "      <td>0.724232</td>\n",
       "    </tr>\n",
       "    <tr>\n",
       "      <th>38</th>\n",
       "      <td>quickAsset2</td>\n",
       "      <td>0.721297</td>\n",
       "    </tr>\n",
       "    <tr>\n",
       "      <th>39</th>\n",
       "      <td>receivableS2</td>\n",
       "      <td>0.430457</td>\n",
       "    </tr>\n",
       "    <tr>\n",
       "      <th>40</th>\n",
       "      <td>inventoryAsset2</td>\n",
       "      <td>0.665483</td>\n",
       "    </tr>\n",
       "    <tr>\n",
       "      <th>41</th>\n",
       "      <td>nonCAsset2</td>\n",
       "      <td>0.729863</td>\n",
       "    </tr>\n",
       "    <tr>\n",
       "      <th>42</th>\n",
       "      <td>tanAsset2</td>\n",
       "      <td>0.717978</td>\n",
       "    </tr>\n",
       "    <tr>\n",
       "      <th>43</th>\n",
       "      <td>OnonCAsset2</td>\n",
       "      <td>0.479219</td>\n",
       "    </tr>\n",
       "    <tr>\n",
       "      <th>44</th>\n",
       "      <td>receivableL2</td>\n",
       "      <td>-0.0152661</td>\n",
       "    </tr>\n",
       "    <tr>\n",
       "      <th>45</th>\n",
       "      <td>debt2</td>\n",
       "      <td>-0.749207</td>\n",
       "    </tr>\n",
       "    <tr>\n",
       "      <th>46</th>\n",
       "      <td>liquidLiabilities2</td>\n",
       "      <td>-0.690657</td>\n",
       "    </tr>\n",
       "    <tr>\n",
       "      <th>47</th>\n",
       "      <td>shortLoan2</td>\n",
       "      <td>-0.3257</td>\n",
       "    </tr>\n",
       "    <tr>\n",
       "      <th>48</th>\n",
       "      <td>NCLiabilities2</td>\n",
       "      <td>-0.657552</td>\n",
       "    </tr>\n",
       "    <tr>\n",
       "      <th>49</th>\n",
       "      <td>longLoan2</td>\n",
       "      <td>-0.440354</td>\n",
       "    </tr>\n",
       "    <tr>\n",
       "      <th>50</th>\n",
       "      <td>netAsset2</td>\n",
       "      <td>0.633265</td>\n",
       "    </tr>\n",
       "    <tr>\n",
       "      <th>51</th>\n",
       "      <td>surplus2</td>\n",
       "      <td>0.309428</td>\n",
       "    </tr>\n",
       "    <tr>\n",
       "      <th>52</th>\n",
       "      <td>employee1</td>\n",
       "      <td>1</td>\n",
       "    </tr>\n",
       "    <tr>\n",
       "      <th>53</th>\n",
       "      <td>employee2</td>\n",
       "      <td>0.972793</td>\n",
       "    </tr>\n",
       "    <tr>\n",
       "      <th>54</th>\n",
       "      <td>employee_change</td>\n",
       "      <td>0.507594</td>\n",
       "    </tr>\n",
       "    <tr>\n",
       "      <th>55</th>\n",
       "      <td>openYear</td>\n",
       "      <td>-0.303488</td>\n",
       "    </tr>\n",
       "  </tbody>\n",
       "</table>\n",
       "</div>"
      ],
      "text/plain": [
       "                   col       corr\n",
       "0                index  -0.235603\n",
       "1              inst_id  -0.271752\n",
       "2                  sgg  0.0251274\n",
       "3             bedCount   0.507025\n",
       "4             revenue1    0.88632\n",
       "5           salescost1   0.593692\n",
       "6                 sga1   0.868367\n",
       "7              salary1   0.870879\n",
       "8                 noi1   0.585692\n",
       "9                 noe1   0.621877\n",
       "10           interest1   0.439253\n",
       "11               ctax1    0.54814\n",
       "12             profit1   0.390353\n",
       "13        liquidAsset1   0.743854\n",
       "14         quickAsset1   0.740648\n",
       "15        receivableS1   0.427205\n",
       "16     inventoryAsset1   0.653327\n",
       "17          nonCAsset1   0.760217\n",
       "18           tanAsset1   0.750643\n",
       "19         OnonCAsset1   0.502299\n",
       "20        receivableL1 -0.0234059\n",
       "21               debt1  -0.785368\n",
       "22  liquidLiabilities1  -0.779534\n",
       "23          shortLoan1  -0.423056\n",
       "24      NCLiabilities1  -0.648732\n",
       "25           longLoan1  -0.317576\n",
       "26           netAsset1   0.589399\n",
       "27            surplus1   0.257669\n",
       "28            revenue2   0.879571\n",
       "29          salescost2   0.603817\n",
       "30                sga2    0.86562\n",
       "31             salary2   0.858302\n",
       "32                noi2   0.725655\n",
       "33                noe2   0.640054\n",
       "34           interest2   0.429575\n",
       "35               ctax2   0.460125\n",
       "36             profit2   0.424901\n",
       "37        liquidAsset2   0.724232\n",
       "38         quickAsset2   0.721297\n",
       "39        receivableS2   0.430457\n",
       "40     inventoryAsset2   0.665483\n",
       "41          nonCAsset2   0.729863\n",
       "42           tanAsset2   0.717978\n",
       "43         OnonCAsset2   0.479219\n",
       "44        receivableL2 -0.0152661\n",
       "45               debt2  -0.749207\n",
       "46  liquidLiabilities2  -0.690657\n",
       "47          shortLoan2    -0.3257\n",
       "48      NCLiabilities2  -0.657552\n",
       "49           longLoan2  -0.440354\n",
       "50           netAsset2   0.633265\n",
       "51            surplus2   0.309428\n",
       "52           employee1          1\n",
       "53           employee2   0.972793\n",
       "54     employee_change   0.507594\n",
       "55            openYear  -0.303488"
      ]
     },
     "execution_count": 33,
     "metadata": {
      "tags": []
     },
     "output_type": "execute_result"
    }
   ],
   "source": [
    "df=pd.DataFrame(columns=['col','corr'])\n",
    "for i in range(len(data.corr().keys())):\n",
    "    df.loc[i,'col'] = data.corr().keys()[i]\n",
    "    df.loc[i,'corr'] = data.corr()['employee1'][i]\n",
    "df"
   ]
  },
  {
   "cell_type": "code",
   "execution_count": null,
   "metadata": {
    "colab": {
     "base_uri": "https://localhost:8080/",
     "height": 193
    },
    "colab_type": "code",
    "id": "kvWZXnOEQ19-",
    "outputId": "b9ac7308-7dcd-4454-f8d7-5f05d433274c"
   },
   "outputs": [
    {
     "data": {
      "text/plain": [
       "['revenue1',\n",
       " 'sga1',\n",
       " 'salary1',\n",
       " 'liquidAsset1',\n",
       " 'quickAsset1',\n",
       " 'nonCAsset1',\n",
       " 'tanAsset1',\n",
       " 'debt1',\n",
       " 'liquidLiabilities1',\n",
       " 'employee1']"
      ]
     },
     "execution_count": 34,
     "metadata": {
      "tags": []
     },
     "output_type": "execute_result"
    }
   ],
   "source": [
    "corr_features=[]\n",
    "for i in df[abs(df['corr'])>0.7].reset_index()['col']: # 해당년도의 변수만 고려\n",
    "    if i[-1] != '2':\n",
    "        corr_features.append(i)\n",
    "corr_features"
   ]
  },
  {
   "cell_type": "code",
   "execution_count": null,
   "metadata": {
    "colab": {
     "base_uri": "https://localhost:8080/",
     "height": 402
    },
    "colab_type": "code",
    "id": "ioEzKADbQ1-B",
    "outputId": "8814b546-a134-4f8c-c41e-0512cf61433d"
   },
   "outputs": [
    {
     "data": {
      "text/html": [
       "<div>\n",
       "<style scoped>\n",
       "    .dataframe tbody tr th:only-of-type {\n",
       "        vertical-align: middle;\n",
       "    }\n",
       "\n",
       "    .dataframe tbody tr th {\n",
       "        vertical-align: top;\n",
       "    }\n",
       "\n",
       "    .dataframe thead th {\n",
       "        text-align: right;\n",
       "    }\n",
       "</style>\n",
       "<table border=\"1\" class=\"dataframe\">\n",
       "  <thead>\n",
       "    <tr style=\"text-align: right;\">\n",
       "      <th></th>\n",
       "      <th>revenue1</th>\n",
       "      <th>sga1</th>\n",
       "      <th>salary1</th>\n",
       "      <th>liquidAsset1</th>\n",
       "      <th>quickAsset1</th>\n",
       "      <th>nonCAsset1</th>\n",
       "      <th>tanAsset1</th>\n",
       "      <th>debt1</th>\n",
       "      <th>liquidLiabilities1</th>\n",
       "      <th>employee1</th>\n",
       "    </tr>\n",
       "  </thead>\n",
       "  <tbody>\n",
       "    <tr>\n",
       "      <th>0</th>\n",
       "      <td>4.217530e+09</td>\n",
       "      <td>3.961135e+09</td>\n",
       "      <td>2.033835e+09</td>\n",
       "      <td>1.012700e+09</td>\n",
       "      <td>9.976719e+08</td>\n",
       "      <td>2.514586e+09</td>\n",
       "      <td>2.360684e+09</td>\n",
       "      <td>-6.828260e+08</td>\n",
       "      <td>-2.013237e+08</td>\n",
       "      <td>62.0</td>\n",
       "    </tr>\n",
       "    <tr>\n",
       "      <th>2</th>\n",
       "      <td>1.004522e+09</td>\n",
       "      <td>4.472197e+08</td>\n",
       "      <td>2.964023e+08</td>\n",
       "      <td>2.724421e+08</td>\n",
       "      <td>2.536822e+08</td>\n",
       "      <td>1.204810e+08</td>\n",
       "      <td>1.204810e+08</td>\n",
       "      <td>-9.241434e+07</td>\n",
       "      <td>-9.241434e+07</td>\n",
       "      <td>234.0</td>\n",
       "    </tr>\n",
       "    <tr>\n",
       "      <th>3</th>\n",
       "      <td>7.250734e+10</td>\n",
       "      <td>7.067740e+10</td>\n",
       "      <td>3.178605e+10</td>\n",
       "      <td>1.304154e+10</td>\n",
       "      <td>1.153475e+10</td>\n",
       "      <td>4.317936e+10</td>\n",
       "      <td>3.832078e+10</td>\n",
       "      <td>-4.236380e+10</td>\n",
       "      <td>-2.799188e+10</td>\n",
       "      <td>663.0</td>\n",
       "    </tr>\n",
       "    <tr>\n",
       "      <th>4</th>\n",
       "      <td>4.904354e+10</td>\n",
       "      <td>4.765605e+10</td>\n",
       "      <td>2.446078e+10</td>\n",
       "      <td>6.317084e+09</td>\n",
       "      <td>5.873265e+09</td>\n",
       "      <td>4.366733e+10</td>\n",
       "      <td>4.330613e+10</td>\n",
       "      <td>-4.989811e+10</td>\n",
       "      <td>-2.890919e+10</td>\n",
       "      <td>206.0</td>\n",
       "    </tr>\n",
       "    <tr>\n",
       "      <th>5</th>\n",
       "      <td>3.358054e+10</td>\n",
       "      <td>2.372791e+10</td>\n",
       "      <td>1.665533e+10</td>\n",
       "      <td>5.635105e+09</td>\n",
       "      <td>5.481680e+09</td>\n",
       "      <td>1.864970e+10</td>\n",
       "      <td>1.849938e+10</td>\n",
       "      <td>0.000000e+00</td>\n",
       "      <td>-1.849938e+10</td>\n",
       "      <td>397.0</td>\n",
       "    </tr>\n",
       "    <tr>\n",
       "      <th>...</th>\n",
       "      <td>...</td>\n",
       "      <td>...</td>\n",
       "      <td>...</td>\n",
       "      <td>...</td>\n",
       "      <td>...</td>\n",
       "      <td>...</td>\n",
       "      <td>...</td>\n",
       "      <td>...</td>\n",
       "      <td>...</td>\n",
       "      <td>...</td>\n",
       "    </tr>\n",
       "    <tr>\n",
       "      <th>421</th>\n",
       "      <td>5.583625e+08</td>\n",
       "      <td>5.482900e+08</td>\n",
       "      <td>2.826852e+08</td>\n",
       "      <td>0.000000e+00</td>\n",
       "      <td>0.000000e+00</td>\n",
       "      <td>0.000000e+00</td>\n",
       "      <td>0.000000e+00</td>\n",
       "      <td>0.000000e+00</td>\n",
       "      <td>0.000000e+00</td>\n",
       "      <td>21.0</td>\n",
       "    </tr>\n",
       "    <tr>\n",
       "      <th>422</th>\n",
       "      <td>4.471030e+08</td>\n",
       "      <td>2.581514e+08</td>\n",
       "      <td>1.191270e+08</td>\n",
       "      <td>2.811359e+08</td>\n",
       "      <td>2.336135e+08</td>\n",
       "      <td>2.143994e+09</td>\n",
       "      <td>2.143994e+09</td>\n",
       "      <td>-5.800356e+07</td>\n",
       "      <td>-3.354087e+07</td>\n",
       "      <td>111.0</td>\n",
       "    </tr>\n",
       "    <tr>\n",
       "      <th>423</th>\n",
       "      <td>2.233031e+10</td>\n",
       "      <td>1.849255e+10</td>\n",
       "      <td>1.232241e+10</td>\n",
       "      <td>1.829292e+10</td>\n",
       "      <td>1.818429e+10</td>\n",
       "      <td>1.307623e+10</td>\n",
       "      <td>1.265639e+10</td>\n",
       "      <td>-1.582736e+10</td>\n",
       "      <td>-1.285973e+10</td>\n",
       "      <td>560.0</td>\n",
       "    </tr>\n",
       "    <tr>\n",
       "      <th>424</th>\n",
       "      <td>1.833906e+10</td>\n",
       "      <td>1.760117e+10</td>\n",
       "      <td>6.824241e+09</td>\n",
       "      <td>3.706256e+09</td>\n",
       "      <td>3.706256e+09</td>\n",
       "      <td>7.787147e+09</td>\n",
       "      <td>7.339147e+09</td>\n",
       "      <td>-1.938710e+09</td>\n",
       "      <td>-1.893267e+09</td>\n",
       "      <td>132.0</td>\n",
       "    </tr>\n",
       "    <tr>\n",
       "      <th>426</th>\n",
       "      <td>4.892710e+10</td>\n",
       "      <td>4.721485e+09</td>\n",
       "      <td>1.514547e+09</td>\n",
       "      <td>1.028286e+10</td>\n",
       "      <td>9.002630e+09</td>\n",
       "      <td>2.952030e+10</td>\n",
       "      <td>8.782117e+09</td>\n",
       "      <td>-3.859089e+10</td>\n",
       "      <td>-9.342814e+09</td>\n",
       "      <td>363.0</td>\n",
       "    </tr>\n",
       "  </tbody>\n",
       "</table>\n",
       "<p>403 rows × 10 columns</p>\n",
       "</div>"
      ],
      "text/plain": [
       "         revenue1          sga1  ...  liquidLiabilities1  employee1\n",
       "0    4.217530e+09  3.961135e+09  ...       -2.013237e+08       62.0\n",
       "2    1.004522e+09  4.472197e+08  ...       -9.241434e+07      234.0\n",
       "3    7.250734e+10  7.067740e+10  ...       -2.799188e+10      663.0\n",
       "4    4.904354e+10  4.765605e+10  ...       -2.890919e+10      206.0\n",
       "5    3.358054e+10  2.372791e+10  ...       -1.849938e+10      397.0\n",
       "..            ...           ...  ...                 ...        ...\n",
       "421  5.583625e+08  5.482900e+08  ...        0.000000e+00       21.0\n",
       "422  4.471030e+08  2.581514e+08  ...       -3.354087e+07      111.0\n",
       "423  2.233031e+10  1.849255e+10  ...       -1.285973e+10      560.0\n",
       "424  1.833906e+10  1.760117e+10  ...       -1.893267e+09      132.0\n",
       "426  4.892710e+10  4.721485e+09  ...       -9.342814e+09      363.0\n",
       "\n",
       "[403 rows x 10 columns]"
      ]
     },
     "execution_count": 35,
     "metadata": {
      "tags": []
     },
     "output_type": "execute_result"
    }
   ],
   "source": [
    "emp = data[corr_features]\n",
    "train_emp = emp[emp['employee1'].notnull()]\n",
    "train_emp.dropna(axis=0,inplace=True)\n",
    "train_emp # 회계데이터가 결측치이면 삭제"
   ]
  },
  {
   "cell_type": "code",
   "execution_count": null,
   "metadata": {
    "colab": {
     "base_uri": "https://localhost:8080/",
     "height": 550
    },
    "colab_type": "code",
    "id": "YWfZgffgQ1-E",
    "outputId": "06881395-7772-4279-8620-a2b43a6c8b4c"
   },
   "outputs": [
    {
     "data": {
      "text/html": [
       "<div>\n",
       "<style scoped>\n",
       "    .dataframe tbody tr th:only-of-type {\n",
       "        vertical-align: middle;\n",
       "    }\n",
       "\n",
       "    .dataframe tbody tr th {\n",
       "        vertical-align: top;\n",
       "    }\n",
       "\n",
       "    .dataframe thead th {\n",
       "        text-align: right;\n",
       "    }\n",
       "</style>\n",
       "<table border=\"1\" class=\"dataframe\">\n",
       "  <thead>\n",
       "    <tr style=\"text-align: right;\">\n",
       "      <th></th>\n",
       "      <th>revenue1</th>\n",
       "      <th>sga1</th>\n",
       "      <th>salary1</th>\n",
       "      <th>liquidAsset1</th>\n",
       "      <th>quickAsset1</th>\n",
       "      <th>nonCAsset1</th>\n",
       "      <th>tanAsset1</th>\n",
       "      <th>debt1</th>\n",
       "      <th>liquidLiabilities1</th>\n",
       "      <th>employee1</th>\n",
       "    </tr>\n",
       "  </thead>\n",
       "  <tbody>\n",
       "    <tr>\n",
       "      <th>48</th>\n",
       "      <td>8.872427e+09</td>\n",
       "      <td>7.638920e+09</td>\n",
       "      <td>4.488958e+09</td>\n",
       "      <td>1.302115e+09</td>\n",
       "      <td>1.186743e+09</td>\n",
       "      <td>8.347311e+09</td>\n",
       "      <td>8.178953e+09</td>\n",
       "      <td>-6.749132e+09</td>\n",
       "      <td>-5.759132e+09</td>\n",
       "      <td>NaN</td>\n",
       "    </tr>\n",
       "    <tr>\n",
       "      <th>60</th>\n",
       "      <td>NaN</td>\n",
       "      <td>NaN</td>\n",
       "      <td>NaN</td>\n",
       "      <td>NaN</td>\n",
       "      <td>NaN</td>\n",
       "      <td>NaN</td>\n",
       "      <td>NaN</td>\n",
       "      <td>NaN</td>\n",
       "      <td>NaN</td>\n",
       "      <td>NaN</td>\n",
       "    </tr>\n",
       "    <tr>\n",
       "      <th>93</th>\n",
       "      <td>5.423357e+09</td>\n",
       "      <td>5.212041e+09</td>\n",
       "      <td>2.958250e+09</td>\n",
       "      <td>2.851343e+09</td>\n",
       "      <td>2.734711e+09</td>\n",
       "      <td>5.453158e+09</td>\n",
       "      <td>5.438850e+09</td>\n",
       "      <td>-4.457667e+09</td>\n",
       "      <td>-1.864667e+09</td>\n",
       "      <td>NaN</td>\n",
       "    </tr>\n",
       "    <tr>\n",
       "      <th>212</th>\n",
       "      <td>2.233031e+10</td>\n",
       "      <td>1.849255e+10</td>\n",
       "      <td>1.232241e+10</td>\n",
       "      <td>1.829292e+10</td>\n",
       "      <td>1.818429e+10</td>\n",
       "      <td>1.307623e+10</td>\n",
       "      <td>1.265639e+10</td>\n",
       "      <td>-1.582736e+10</td>\n",
       "      <td>-1.285973e+10</td>\n",
       "      <td>NaN</td>\n",
       "    </tr>\n",
       "    <tr>\n",
       "      <th>242</th>\n",
       "      <td>6.845503e+08</td>\n",
       "      <td>5.619356e+08</td>\n",
       "      <td>3.014000e+08</td>\n",
       "      <td>1.332665e+09</td>\n",
       "      <td>1.331507e+09</td>\n",
       "      <td>7.721058e+08</td>\n",
       "      <td>5.021058e+08</td>\n",
       "      <td>-9.528087e+07</td>\n",
       "      <td>-9.491087e+07</td>\n",
       "      <td>NaN</td>\n",
       "    </tr>\n",
       "    <tr>\n",
       "      <th>258</th>\n",
       "      <td>NaN</td>\n",
       "      <td>NaN</td>\n",
       "      <td>NaN</td>\n",
       "      <td>NaN</td>\n",
       "      <td>NaN</td>\n",
       "      <td>NaN</td>\n",
       "      <td>NaN</td>\n",
       "      <td>NaN</td>\n",
       "      <td>NaN</td>\n",
       "      <td>NaN</td>\n",
       "    </tr>\n",
       "    <tr>\n",
       "      <th>263</th>\n",
       "      <td>3.007769e+09</td>\n",
       "      <td>2.258240e+09</td>\n",
       "      <td>1.775322e+09</td>\n",
       "      <td>9.443247e+08</td>\n",
       "      <td>8.065135e+08</td>\n",
       "      <td>2.105344e+09</td>\n",
       "      <td>1.999416e+09</td>\n",
       "      <td>-1.898375e+09</td>\n",
       "      <td>-3.590747e+08</td>\n",
       "      <td>NaN</td>\n",
       "    </tr>\n",
       "    <tr>\n",
       "      <th>285</th>\n",
       "      <td>9.618709e+09</td>\n",
       "      <td>9.751211e+09</td>\n",
       "      <td>4.979714e+09</td>\n",
       "      <td>3.764172e+09</td>\n",
       "      <td>3.597632e+09</td>\n",
       "      <td>6.189316e+09</td>\n",
       "      <td>4.821055e+09</td>\n",
       "      <td>-4.946246e+09</td>\n",
       "      <td>-1.736071e+09</td>\n",
       "      <td>NaN</td>\n",
       "    </tr>\n",
       "    <tr>\n",
       "      <th>298</th>\n",
       "      <td>0.000000e+00</td>\n",
       "      <td>5.479428e+07</td>\n",
       "      <td>7.500000e+06</td>\n",
       "      <td>3.867238e+09</td>\n",
       "      <td>3.867238e+09</td>\n",
       "      <td>5.569636e+09</td>\n",
       "      <td>5.419756e+09</td>\n",
       "      <td>-6.249466e+09</td>\n",
       "      <td>-2.050342e+09</td>\n",
       "      <td>NaN</td>\n",
       "    </tr>\n",
       "    <tr>\n",
       "      <th>303</th>\n",
       "      <td>2.326031e+10</td>\n",
       "      <td>2.308749e+10</td>\n",
       "      <td>1.168734e+10</td>\n",
       "      <td>1.265313e+10</td>\n",
       "      <td>1.133922e+10</td>\n",
       "      <td>2.945467e+10</td>\n",
       "      <td>2.830632e+10</td>\n",
       "      <td>0.000000e+00</td>\n",
       "      <td>-2.830632e+10</td>\n",
       "      <td>NaN</td>\n",
       "    </tr>\n",
       "    <tr>\n",
       "      <th>314</th>\n",
       "      <td>6.637116e+09</td>\n",
       "      <td>7.465698e+09</td>\n",
       "      <td>3.715042e+09</td>\n",
       "      <td>0.000000e+00</td>\n",
       "      <td>0.000000e+00</td>\n",
       "      <td>0.000000e+00</td>\n",
       "      <td>0.000000e+00</td>\n",
       "      <td>0.000000e+00</td>\n",
       "      <td>0.000000e+00</td>\n",
       "      <td>NaN</td>\n",
       "    </tr>\n",
       "    <tr>\n",
       "      <th>323</th>\n",
       "      <td>3.207567e+09</td>\n",
       "      <td>3.242981e+09</td>\n",
       "      <td>1.628328e+09</td>\n",
       "      <td>5.021155e+09</td>\n",
       "      <td>4.648823e+09</td>\n",
       "      <td>3.596652e+10</td>\n",
       "      <td>3.495010e+10</td>\n",
       "      <td>-2.436758e+10</td>\n",
       "      <td>-9.299760e+09</td>\n",
       "      <td>NaN</td>\n",
       "    </tr>\n",
       "    <tr>\n",
       "      <th>353</th>\n",
       "      <td>2.179021e+09</td>\n",
       "      <td>1.507567e+09</td>\n",
       "      <td>9.073957e+08</td>\n",
       "      <td>3.535250e+09</td>\n",
       "      <td>3.432644e+09</td>\n",
       "      <td>1.668178e+10</td>\n",
       "      <td>1.665105e+10</td>\n",
       "      <td>-1.249684e+10</td>\n",
       "      <td>-5.800804e+09</td>\n",
       "      <td>NaN</td>\n",
       "    </tr>\n",
       "    <tr>\n",
       "      <th>389</th>\n",
       "      <td>1.904012e+10</td>\n",
       "      <td>1.863099e+10</td>\n",
       "      <td>9.159503e+09</td>\n",
       "      <td>1.384768e+08</td>\n",
       "      <td>1.384768e+08</td>\n",
       "      <td>4.592049e+09</td>\n",
       "      <td>2.829904e+09</td>\n",
       "      <td>-4.485200e+07</td>\n",
       "      <td>-1.009045e+09</td>\n",
       "      <td>NaN</td>\n",
       "    </tr>\n",
       "    <tr>\n",
       "      <th>394</th>\n",
       "      <td>2.846454e+09</td>\n",
       "      <td>2.975635e+09</td>\n",
       "      <td>1.226583e+09</td>\n",
       "      <td>1.358300e+09</td>\n",
       "      <td>1.358300e+09</td>\n",
       "      <td>1.800441e+09</td>\n",
       "      <td>1.650368e+09</td>\n",
       "      <td>-1.452610e+09</td>\n",
       "      <td>-1.372151e+09</td>\n",
       "      <td>NaN</td>\n",
       "    </tr>\n",
       "    <tr>\n",
       "      <th>425</th>\n",
       "      <td>1.424266e+10</td>\n",
       "      <td>1.148722e+10</td>\n",
       "      <td>6.279155e+09</td>\n",
       "      <td>0.000000e+00</td>\n",
       "      <td>0.000000e+00</td>\n",
       "      <td>0.000000e+00</td>\n",
       "      <td>0.000000e+00</td>\n",
       "      <td>0.000000e+00</td>\n",
       "      <td>0.000000e+00</td>\n",
       "      <td>NaN</td>\n",
       "    </tr>\n",
       "    <tr>\n",
       "      <th>427</th>\n",
       "      <td>1.092444e+10</td>\n",
       "      <td>8.709839e+09</td>\n",
       "      <td>3.784543e+09</td>\n",
       "      <td>0.000000e+00</td>\n",
       "      <td>0.000000e+00</td>\n",
       "      <td>0.000000e+00</td>\n",
       "      <td>0.000000e+00</td>\n",
       "      <td>0.000000e+00</td>\n",
       "      <td>0.000000e+00</td>\n",
       "      <td>NaN</td>\n",
       "    </tr>\n",
       "  </tbody>\n",
       "</table>\n",
       "</div>"
      ],
      "text/plain": [
       "         revenue1          sga1  ...  liquidLiabilities1  employee1\n",
       "48   8.872427e+09  7.638920e+09  ...       -5.759132e+09        NaN\n",
       "60            NaN           NaN  ...                 NaN        NaN\n",
       "93   5.423357e+09  5.212041e+09  ...       -1.864667e+09        NaN\n",
       "212  2.233031e+10  1.849255e+10  ...       -1.285973e+10        NaN\n",
       "242  6.845503e+08  5.619356e+08  ...       -9.491087e+07        NaN\n",
       "258           NaN           NaN  ...                 NaN        NaN\n",
       "263  3.007769e+09  2.258240e+09  ...       -3.590747e+08        NaN\n",
       "285  9.618709e+09  9.751211e+09  ...       -1.736071e+09        NaN\n",
       "298  0.000000e+00  5.479428e+07  ...       -2.050342e+09        NaN\n",
       "303  2.326031e+10  2.308749e+10  ...       -2.830632e+10        NaN\n",
       "314  6.637116e+09  7.465698e+09  ...        0.000000e+00        NaN\n",
       "323  3.207567e+09  3.242981e+09  ...       -9.299760e+09        NaN\n",
       "353  2.179021e+09  1.507567e+09  ...       -5.800804e+09        NaN\n",
       "389  1.904012e+10  1.863099e+10  ...       -1.009045e+09        NaN\n",
       "394  2.846454e+09  2.975635e+09  ...       -1.372151e+09        NaN\n",
       "425  1.424266e+10  1.148722e+10  ...        0.000000e+00        NaN\n",
       "427  1.092444e+10  8.709839e+09  ...        0.000000e+00        NaN\n",
       "\n",
       "[17 rows x 10 columns]"
      ]
     },
     "execution_count": 36,
     "metadata": {
      "tags": []
     },
     "output_type": "execute_result"
    }
   ],
   "source": [
    "test_emp = emp[emp['employee1'].isnull()]\n",
    "test_emp"
   ]
  },
  {
   "cell_type": "code",
   "execution_count": null,
   "metadata": {
    "colab": {},
    "colab_type": "code",
    "id": "DMvpR1aMQ1-H"
   },
   "outputs": [],
   "source": [
    "test_emp.drop([test_emp.index[1],test_emp.index[5]],inplace=True)"
   ]
  },
  {
   "cell_type": "code",
   "execution_count": null,
   "metadata": {
    "colab": {},
    "colab_type": "code",
    "id": "R_3iYEJBQ1-M"
   },
   "outputs": [],
   "source": [
    "train_x1 = train_emp.drop(['employee1'],axis=1)\n",
    "train_y1 = train_emp['employee1']\n",
    "test_x1 = test_emp.drop(['employee1'],axis=1)\n",
    "test_y1 = test_emp['employee1']"
   ]
  },
  {
   "cell_type": "code",
   "execution_count": null,
   "metadata": {
    "colab": {
     "base_uri": "https://localhost:8080/",
     "height": 70
    },
    "colab_type": "code",
    "id": "AffKsu_YQ1-Q",
    "outputId": "02698147-54be-4f2a-faf6-96be7c463537"
   },
   "outputs": [
    {
     "data": {
      "text/plain": [
       "array([103.91  ,  81.69  , 435.4   ,  21.91  ,  61.27  , 149.8275,\n",
       "       115.36  , 228.09  ,  90.33  , 114.19  , 225.2   , 172.652 ,\n",
       "        44.24  , 140.02  , 124.75  ])"
      ]
     },
     "execution_count": 39,
     "metadata": {
      "tags": []
     },
     "output_type": "execute_result"
    }
   ],
   "source": [
    "from sklearn.ensemble import RandomForestRegressor\n",
    "rf=RandomForestRegressor()\n",
    "rf.fit(train_x1,train_y1)\n",
    "pred1 = rf.predict(test_x1)\n",
    "pred1"
   ]
  },
  {
   "cell_type": "code",
   "execution_count": null,
   "metadata": {
    "colab": {
     "base_uri": "https://localhost:8080/",
     "height": 1000
    },
    "colab_type": "code",
    "id": "EEqlek5AQ1-T",
    "outputId": "ed94e7c5-fa92-4134-a857-4afe5f4e2a1e",
    "scrolled": true
   },
   "outputs": [
    {
     "data": {
      "text/html": [
       "<div>\n",
       "<style scoped>\n",
       "    .dataframe tbody tr th:only-of-type {\n",
       "        vertical-align: middle;\n",
       "    }\n",
       "\n",
       "    .dataframe tbody tr th {\n",
       "        vertical-align: top;\n",
       "    }\n",
       "\n",
       "    .dataframe thead th {\n",
       "        text-align: right;\n",
       "    }\n",
       "</style>\n",
       "<table border=\"1\" class=\"dataframe\">\n",
       "  <thead>\n",
       "    <tr style=\"text-align: right;\">\n",
       "      <th></th>\n",
       "      <th>col</th>\n",
       "      <th>corr</th>\n",
       "    </tr>\n",
       "  </thead>\n",
       "  <tbody>\n",
       "    <tr>\n",
       "      <th>0</th>\n",
       "      <td>index</td>\n",
       "      <td>-0.252003</td>\n",
       "    </tr>\n",
       "    <tr>\n",
       "      <th>1</th>\n",
       "      <td>inst_id</td>\n",
       "      <td>-0.284224</td>\n",
       "    </tr>\n",
       "    <tr>\n",
       "      <th>2</th>\n",
       "      <td>sgg</td>\n",
       "      <td>0.0232896</td>\n",
       "    </tr>\n",
       "    <tr>\n",
       "      <th>3</th>\n",
       "      <td>bedCount</td>\n",
       "      <td>0.511327</td>\n",
       "    </tr>\n",
       "    <tr>\n",
       "      <th>4</th>\n",
       "      <td>revenue1</td>\n",
       "      <td>0.871015</td>\n",
       "    </tr>\n",
       "    <tr>\n",
       "      <th>5</th>\n",
       "      <td>salescost1</td>\n",
       "      <td>0.593576</td>\n",
       "    </tr>\n",
       "    <tr>\n",
       "      <th>6</th>\n",
       "      <td>sga1</td>\n",
       "      <td>0.855941</td>\n",
       "    </tr>\n",
       "    <tr>\n",
       "      <th>7</th>\n",
       "      <td>salary1</td>\n",
       "      <td>0.847373</td>\n",
       "    </tr>\n",
       "    <tr>\n",
       "      <th>8</th>\n",
       "      <td>noi1</td>\n",
       "      <td>0.592255</td>\n",
       "    </tr>\n",
       "    <tr>\n",
       "      <th>9</th>\n",
       "      <td>noe1</td>\n",
       "      <td>0.584647</td>\n",
       "    </tr>\n",
       "    <tr>\n",
       "      <th>10</th>\n",
       "      <td>interest1</td>\n",
       "      <td>0.449565</td>\n",
       "    </tr>\n",
       "    <tr>\n",
       "      <th>11</th>\n",
       "      <td>ctax1</td>\n",
       "      <td>0.487203</td>\n",
       "    </tr>\n",
       "    <tr>\n",
       "      <th>12</th>\n",
       "      <td>profit1</td>\n",
       "      <td>0.325222</td>\n",
       "    </tr>\n",
       "    <tr>\n",
       "      <th>13</th>\n",
       "      <td>liquidAsset1</td>\n",
       "      <td>0.731837</td>\n",
       "    </tr>\n",
       "    <tr>\n",
       "      <th>14</th>\n",
       "      <td>quickAsset1</td>\n",
       "      <td>0.727266</td>\n",
       "    </tr>\n",
       "    <tr>\n",
       "      <th>15</th>\n",
       "      <td>receivableS1</td>\n",
       "      <td>0.470095</td>\n",
       "    </tr>\n",
       "    <tr>\n",
       "      <th>16</th>\n",
       "      <td>inventoryAsset1</td>\n",
       "      <td>0.676041</td>\n",
       "    </tr>\n",
       "    <tr>\n",
       "      <th>17</th>\n",
       "      <td>nonCAsset1</td>\n",
       "      <td>0.785131</td>\n",
       "    </tr>\n",
       "    <tr>\n",
       "      <th>18</th>\n",
       "      <td>tanAsset1</td>\n",
       "      <td>0.778555</td>\n",
       "    </tr>\n",
       "    <tr>\n",
       "      <th>19</th>\n",
       "      <td>OnonCAsset1</td>\n",
       "      <td>0.480342</td>\n",
       "    </tr>\n",
       "    <tr>\n",
       "      <th>20</th>\n",
       "      <td>receivableL1</td>\n",
       "      <td>-0.0225652</td>\n",
       "    </tr>\n",
       "    <tr>\n",
       "      <th>21</th>\n",
       "      <td>debt1</td>\n",
       "      <td>-0.799778</td>\n",
       "    </tr>\n",
       "    <tr>\n",
       "      <th>22</th>\n",
       "      <td>liquidLiabilities1</td>\n",
       "      <td>-0.798968</td>\n",
       "    </tr>\n",
       "    <tr>\n",
       "      <th>23</th>\n",
       "      <td>shortLoan1</td>\n",
       "      <td>-0.443299</td>\n",
       "    </tr>\n",
       "    <tr>\n",
       "      <th>24</th>\n",
       "      <td>NCLiabilities1</td>\n",
       "      <td>-0.65702</td>\n",
       "    </tr>\n",
       "    <tr>\n",
       "      <th>25</th>\n",
       "      <td>longLoan1</td>\n",
       "      <td>-0.313485</td>\n",
       "    </tr>\n",
       "    <tr>\n",
       "      <th>26</th>\n",
       "      <td>netAsset1</td>\n",
       "      <td>0.602162</td>\n",
       "    </tr>\n",
       "    <tr>\n",
       "      <th>27</th>\n",
       "      <td>surplus1</td>\n",
       "      <td>0.254931</td>\n",
       "    </tr>\n",
       "    <tr>\n",
       "      <th>28</th>\n",
       "      <td>revenue2</td>\n",
       "      <td>0.871303</td>\n",
       "    </tr>\n",
       "    <tr>\n",
       "      <th>29</th>\n",
       "      <td>salescost2</td>\n",
       "      <td>0.604885</td>\n",
       "    </tr>\n",
       "    <tr>\n",
       "      <th>30</th>\n",
       "      <td>sga2</td>\n",
       "      <td>0.859028</td>\n",
       "    </tr>\n",
       "    <tr>\n",
       "      <th>31</th>\n",
       "      <td>salary2</td>\n",
       "      <td>0.841125</td>\n",
       "    </tr>\n",
       "    <tr>\n",
       "      <th>32</th>\n",
       "      <td>noi2</td>\n",
       "      <td>0.733567</td>\n",
       "    </tr>\n",
       "    <tr>\n",
       "      <th>33</th>\n",
       "      <td>noe2</td>\n",
       "      <td>0.609521</td>\n",
       "    </tr>\n",
       "    <tr>\n",
       "      <th>34</th>\n",
       "      <td>interest2</td>\n",
       "      <td>0.442635</td>\n",
       "    </tr>\n",
       "    <tr>\n",
       "      <th>35</th>\n",
       "      <td>ctax2</td>\n",
       "      <td>0.446843</td>\n",
       "    </tr>\n",
       "    <tr>\n",
       "      <th>36</th>\n",
       "      <td>profit2</td>\n",
       "      <td>0.391835</td>\n",
       "    </tr>\n",
       "    <tr>\n",
       "      <th>37</th>\n",
       "      <td>liquidAsset2</td>\n",
       "      <td>0.722183</td>\n",
       "    </tr>\n",
       "    <tr>\n",
       "      <th>38</th>\n",
       "      <td>quickAsset2</td>\n",
       "      <td>0.718276</td>\n",
       "    </tr>\n",
       "    <tr>\n",
       "      <th>39</th>\n",
       "      <td>receivableS2</td>\n",
       "      <td>0.476565</td>\n",
       "    </tr>\n",
       "    <tr>\n",
       "      <th>40</th>\n",
       "      <td>inventoryAsset2</td>\n",
       "      <td>0.684413</td>\n",
       "    </tr>\n",
       "    <tr>\n",
       "      <th>41</th>\n",
       "      <td>nonCAsset2</td>\n",
       "      <td>0.762387</td>\n",
       "    </tr>\n",
       "    <tr>\n",
       "      <th>42</th>\n",
       "      <td>tanAsset2</td>\n",
       "      <td>0.752395</td>\n",
       "    </tr>\n",
       "    <tr>\n",
       "      <th>43</th>\n",
       "      <td>OnonCAsset2</td>\n",
       "      <td>0.455679</td>\n",
       "    </tr>\n",
       "    <tr>\n",
       "      <th>44</th>\n",
       "      <td>receivableL2</td>\n",
       "      <td>-0.0139631</td>\n",
       "    </tr>\n",
       "    <tr>\n",
       "      <th>45</th>\n",
       "      <td>debt2</td>\n",
       "      <td>-0.767005</td>\n",
       "    </tr>\n",
       "    <tr>\n",
       "      <th>46</th>\n",
       "      <td>liquidLiabilities2</td>\n",
       "      <td>-0.719429</td>\n",
       "    </tr>\n",
       "    <tr>\n",
       "      <th>47</th>\n",
       "      <td>shortLoan2</td>\n",
       "      <td>-0.348928</td>\n",
       "    </tr>\n",
       "    <tr>\n",
       "      <th>48</th>\n",
       "      <td>NCLiabilities2</td>\n",
       "      <td>-0.664054</td>\n",
       "    </tr>\n",
       "    <tr>\n",
       "      <th>49</th>\n",
       "      <td>longLoan2</td>\n",
       "      <td>-0.433973</td>\n",
       "    </tr>\n",
       "    <tr>\n",
       "      <th>50</th>\n",
       "      <td>netAsset2</td>\n",
       "      <td>0.661182</td>\n",
       "    </tr>\n",
       "    <tr>\n",
       "      <th>51</th>\n",
       "      <td>surplus2</td>\n",
       "      <td>0.315799</td>\n",
       "    </tr>\n",
       "    <tr>\n",
       "      <th>52</th>\n",
       "      <td>employee1</td>\n",
       "      <td>0.972793</td>\n",
       "    </tr>\n",
       "    <tr>\n",
       "      <th>53</th>\n",
       "      <td>employee2</td>\n",
       "      <td>1</td>\n",
       "    </tr>\n",
       "    <tr>\n",
       "      <th>54</th>\n",
       "      <td>employee_change</td>\n",
       "      <td>0.294174</td>\n",
       "    </tr>\n",
       "    <tr>\n",
       "      <th>55</th>\n",
       "      <td>openYear</td>\n",
       "      <td>-0.338898</td>\n",
       "    </tr>\n",
       "  </tbody>\n",
       "</table>\n",
       "</div>"
      ],
      "text/plain": [
       "                   col       corr\n",
       "0                index  -0.252003\n",
       "1              inst_id  -0.284224\n",
       "2                  sgg  0.0232896\n",
       "3             bedCount   0.511327\n",
       "4             revenue1   0.871015\n",
       "5           salescost1   0.593576\n",
       "6                 sga1   0.855941\n",
       "7              salary1   0.847373\n",
       "8                 noi1   0.592255\n",
       "9                 noe1   0.584647\n",
       "10           interest1   0.449565\n",
       "11               ctax1   0.487203\n",
       "12             profit1   0.325222\n",
       "13        liquidAsset1   0.731837\n",
       "14         quickAsset1   0.727266\n",
       "15        receivableS1   0.470095\n",
       "16     inventoryAsset1   0.676041\n",
       "17          nonCAsset1   0.785131\n",
       "18           tanAsset1   0.778555\n",
       "19         OnonCAsset1   0.480342\n",
       "20        receivableL1 -0.0225652\n",
       "21               debt1  -0.799778\n",
       "22  liquidLiabilities1  -0.798968\n",
       "23          shortLoan1  -0.443299\n",
       "24      NCLiabilities1   -0.65702\n",
       "25           longLoan1  -0.313485\n",
       "26           netAsset1   0.602162\n",
       "27            surplus1   0.254931\n",
       "28            revenue2   0.871303\n",
       "29          salescost2   0.604885\n",
       "30                sga2   0.859028\n",
       "31             salary2   0.841125\n",
       "32                noi2   0.733567\n",
       "33                noe2   0.609521\n",
       "34           interest2   0.442635\n",
       "35               ctax2   0.446843\n",
       "36             profit2   0.391835\n",
       "37        liquidAsset2   0.722183\n",
       "38         quickAsset2   0.718276\n",
       "39        receivableS2   0.476565\n",
       "40     inventoryAsset2   0.684413\n",
       "41          nonCAsset2   0.762387\n",
       "42           tanAsset2   0.752395\n",
       "43         OnonCAsset2   0.455679\n",
       "44        receivableL2 -0.0139631\n",
       "45               debt2  -0.767005\n",
       "46  liquidLiabilities2  -0.719429\n",
       "47          shortLoan2  -0.348928\n",
       "48      NCLiabilities2  -0.664054\n",
       "49           longLoan2  -0.433973\n",
       "50           netAsset2   0.661182\n",
       "51            surplus2   0.315799\n",
       "52           employee1   0.972793\n",
       "53           employee2          1\n",
       "54     employee_change   0.294174\n",
       "55            openYear  -0.338898"
      ]
     },
     "execution_count": 40,
     "metadata": {
      "tags": []
     },
     "output_type": "execute_result"
    }
   ],
   "source": [
    "df=pd.DataFrame(columns=['col','corr'])\n",
    "for i in range(len(data.corr().keys())):\n",
    "    df.loc[i,'col'] = data.corr().keys()[i]\n",
    "    df.loc[i,'corr'] = data.corr()['employee2'][i]\n",
    "df"
   ]
  },
  {
   "cell_type": "code",
   "execution_count": null,
   "metadata": {
    "colab": {
     "base_uri": "https://localhost:8080/",
     "height": 210
    },
    "colab_type": "code",
    "id": "rv6eenWbQ1-W",
    "outputId": "e2c4c0e4-2e78-467e-f2ec-0fe06ee75d4e"
   },
   "outputs": [
    {
     "data": {
      "text/plain": [
       "['revenue2',\n",
       " 'sga2',\n",
       " 'salary2',\n",
       " 'noi2',\n",
       " 'liquidAsset2',\n",
       " 'quickAsset2',\n",
       " 'nonCAsset2',\n",
       " 'tanAsset2',\n",
       " 'debt2',\n",
       " 'liquidLiabilities2',\n",
       " 'employee2']"
      ]
     },
     "execution_count": 41,
     "metadata": {
      "tags": []
     },
     "output_type": "execute_result"
    }
   ],
   "source": [
    "corr_features2=[]\n",
    "for i in df[abs(df['corr'])>0.7].reset_index()['col']: # 해당년도의 변수만 고려\n",
    "    if i[-1] != '1':\n",
    "        corr_features2.append(i)\n",
    "corr_features2"
   ]
  },
  {
   "cell_type": "code",
   "execution_count": null,
   "metadata": {
    "colab": {
     "base_uri": "https://localhost:8080/",
     "height": 402
    },
    "colab_type": "code",
    "id": "82Z6dhR0Q1-c",
    "outputId": "ba13f40d-313d-4c5a-e0a8-f035d8d4bd71"
   },
   "outputs": [
    {
     "data": {
      "text/html": [
       "<div>\n",
       "<style scoped>\n",
       "    .dataframe tbody tr th:only-of-type {\n",
       "        vertical-align: middle;\n",
       "    }\n",
       "\n",
       "    .dataframe tbody tr th {\n",
       "        vertical-align: top;\n",
       "    }\n",
       "\n",
       "    .dataframe thead th {\n",
       "        text-align: right;\n",
       "    }\n",
       "</style>\n",
       "<table border=\"1\" class=\"dataframe\">\n",
       "  <thead>\n",
       "    <tr style=\"text-align: right;\">\n",
       "      <th></th>\n",
       "      <th>revenue2</th>\n",
       "      <th>sga2</th>\n",
       "      <th>salary2</th>\n",
       "      <th>noi2</th>\n",
       "      <th>liquidAsset2</th>\n",
       "      <th>quickAsset2</th>\n",
       "      <th>nonCAsset2</th>\n",
       "      <th>tanAsset2</th>\n",
       "      <th>debt2</th>\n",
       "      <th>liquidLiabilities2</th>\n",
       "      <th>employee2</th>\n",
       "    </tr>\n",
       "  </thead>\n",
       "  <tbody>\n",
       "    <tr>\n",
       "      <th>0</th>\n",
       "      <td>4.297848e+09</td>\n",
       "      <td>4.057422e+09</td>\n",
       "      <td>2.063787e+09</td>\n",
       "      <td>16194675.0</td>\n",
       "      <td>8.301695e+08</td>\n",
       "      <td>8.165705e+08</td>\n",
       "      <td>2.548115e+09</td>\n",
       "      <td>2.386263e+09</td>\n",
       "      <td>-7.589937e+08</td>\n",
       "      <td>-2.228769e+08</td>\n",
       "      <td>64.0</td>\n",
       "    </tr>\n",
       "    <tr>\n",
       "      <th>2</th>\n",
       "      <td>0.000000e+00</td>\n",
       "      <td>0.000000e+00</td>\n",
       "      <td>0.000000e+00</td>\n",
       "      <td>0.0</td>\n",
       "      <td>0.000000e+00</td>\n",
       "      <td>0.000000e+00</td>\n",
       "      <td>0.000000e+00</td>\n",
       "      <td>0.000000e+00</td>\n",
       "      <td>0.000000e+00</td>\n",
       "      <td>0.000000e+00</td>\n",
       "      <td>1.0</td>\n",
       "    </tr>\n",
       "    <tr>\n",
       "      <th>3</th>\n",
       "      <td>6.685834e+10</td>\n",
       "      <td>6.492419e+10</td>\n",
       "      <td>2.971135e+10</td>\n",
       "      <td>476807804.0</td>\n",
       "      <td>1.112572e+10</td>\n",
       "      <td>9.890540e+09</td>\n",
       "      <td>3.958356e+10</td>\n",
       "      <td>3.485576e+10</td>\n",
       "      <td>-3.775501e+10</td>\n",
       "      <td>-1.701860e+10</td>\n",
       "      <td>663.0</td>\n",
       "    </tr>\n",
       "    <tr>\n",
       "      <th>4</th>\n",
       "      <td>4.808280e+10</td>\n",
       "      <td>4.712580e+10</td>\n",
       "      <td>2.346004e+10</td>\n",
       "      <td>597748128.0</td>\n",
       "      <td>4.906776e+09</td>\n",
       "      <td>4.464017e+09</td>\n",
       "      <td>4.653138e+10</td>\n",
       "      <td>4.562945e+10</td>\n",
       "      <td>-5.143259e+10</td>\n",
       "      <td>-3.007259e+10</td>\n",
       "      <td>197.0</td>\n",
       "    </tr>\n",
       "    <tr>\n",
       "      <th>5</th>\n",
       "      <td>3.433445e+10</td>\n",
       "      <td>2.409622e+10</td>\n",
       "      <td>1.638792e+10</td>\n",
       "      <td>125681154.0</td>\n",
       "      <td>4.869419e+09</td>\n",
       "      <td>4.725857e+09</td>\n",
       "      <td>2.212715e+10</td>\n",
       "      <td>2.186113e+10</td>\n",
       "      <td>0.000000e+00</td>\n",
       "      <td>-2.186113e+10</td>\n",
       "      <td>390.0</td>\n",
       "    </tr>\n",
       "    <tr>\n",
       "      <th>...</th>\n",
       "      <td>...</td>\n",
       "      <td>...</td>\n",
       "      <td>...</td>\n",
       "      <td>...</td>\n",
       "      <td>...</td>\n",
       "      <td>...</td>\n",
       "      <td>...</td>\n",
       "      <td>...</td>\n",
       "      <td>...</td>\n",
       "      <td>...</td>\n",
       "      <td>...</td>\n",
       "    </tr>\n",
       "    <tr>\n",
       "      <th>421</th>\n",
       "      <td>1.160742e+09</td>\n",
       "      <td>7.614171e+08</td>\n",
       "      <td>4.590994e+08</td>\n",
       "      <td>1045466.0</td>\n",
       "      <td>0.000000e+00</td>\n",
       "      <td>0.000000e+00</td>\n",
       "      <td>0.000000e+00</td>\n",
       "      <td>0.000000e+00</td>\n",
       "      <td>0.000000e+00</td>\n",
       "      <td>0.000000e+00</td>\n",
       "      <td>21.0</td>\n",
       "    </tr>\n",
       "    <tr>\n",
       "      <th>422</th>\n",
       "      <td>4.649570e+08</td>\n",
       "      <td>3.153264e+08</td>\n",
       "      <td>7.356901e+07</td>\n",
       "      <td>368343.0</td>\n",
       "      <td>3.813002e+07</td>\n",
       "      <td>0.000000e+00</td>\n",
       "      <td>2.212408e+09</td>\n",
       "      <td>2.212408e+09</td>\n",
       "      <td>-1.022401e+09</td>\n",
       "      <td>-4.924418e+07</td>\n",
       "      <td>111.0</td>\n",
       "    </tr>\n",
       "    <tr>\n",
       "      <th>423</th>\n",
       "      <td>2.239509e+10</td>\n",
       "      <td>1.805503e+10</td>\n",
       "      <td>1.138885e+10</td>\n",
       "      <td>483447584.0</td>\n",
       "      <td>1.708819e+10</td>\n",
       "      <td>1.701879e+10</td>\n",
       "      <td>1.239357e+10</td>\n",
       "      <td>1.173006e+10</td>\n",
       "      <td>-1.563217e+10</td>\n",
       "      <td>-1.288180e+10</td>\n",
       "      <td>560.0</td>\n",
       "    </tr>\n",
       "    <tr>\n",
       "      <th>424</th>\n",
       "      <td>1.911503e+10</td>\n",
       "      <td>1.824717e+10</td>\n",
       "      <td>7.250614e+09</td>\n",
       "      <td>41234195.0</td>\n",
       "      <td>4.588941e+09</td>\n",
       "      <td>4.588941e+09</td>\n",
       "      <td>7.162190e+09</td>\n",
       "      <td>6.820410e+09</td>\n",
       "      <td>-3.176628e+09</td>\n",
       "      <td>-1.376742e+09</td>\n",
       "      <td>137.0</td>\n",
       "    </tr>\n",
       "    <tr>\n",
       "      <th>426</th>\n",
       "      <td>4.758477e+10</td>\n",
       "      <td>5.061219e+09</td>\n",
       "      <td>1.404341e+09</td>\n",
       "      <td>99795507.0</td>\n",
       "      <td>7.848233e+09</td>\n",
       "      <td>6.707102e+09</td>\n",
       "      <td>2.915067e+10</td>\n",
       "      <td>7.869001e+09</td>\n",
       "      <td>-3.720397e+10</td>\n",
       "      <td>-8.485918e+09</td>\n",
       "      <td>343.0</td>\n",
       "    </tr>\n",
       "  </tbody>\n",
       "</table>\n",
       "<p>403 rows × 11 columns</p>\n",
       "</div>"
      ],
      "text/plain": [
       "         revenue2          sga2  ...  liquidLiabilities2  employee2\n",
       "0    4.297848e+09  4.057422e+09  ...       -2.228769e+08       64.0\n",
       "2    0.000000e+00  0.000000e+00  ...        0.000000e+00        1.0\n",
       "3    6.685834e+10  6.492419e+10  ...       -1.701860e+10      663.0\n",
       "4    4.808280e+10  4.712580e+10  ...       -3.007259e+10      197.0\n",
       "5    3.433445e+10  2.409622e+10  ...       -2.186113e+10      390.0\n",
       "..            ...           ...  ...                 ...        ...\n",
       "421  1.160742e+09  7.614171e+08  ...        0.000000e+00       21.0\n",
       "422  4.649570e+08  3.153264e+08  ...       -4.924418e+07      111.0\n",
       "423  2.239509e+10  1.805503e+10  ...       -1.288180e+10      560.0\n",
       "424  1.911503e+10  1.824717e+10  ...       -1.376742e+09      137.0\n",
       "426  4.758477e+10  5.061219e+09  ...       -8.485918e+09      343.0\n",
       "\n",
       "[403 rows x 11 columns]"
      ]
     },
     "execution_count": 42,
     "metadata": {
      "tags": []
     },
     "output_type": "execute_result"
    }
   ],
   "source": [
    "emp2 = data[corr_features2]\n",
    "train_emp2 = emp2[emp2['employee2'].notnull()]\n",
    "train_emp2.dropna(axis=0,inplace=True)\n",
    "train_emp2 # 회계데이터가 결측치이면 삭제"
   ]
  },
  {
   "cell_type": "code",
   "execution_count": null,
   "metadata": {
    "colab": {},
    "colab_type": "code",
    "id": "NSLCtFoCQ1-h"
   },
   "outputs": [],
   "source": [
    "test_emp2 = emp2[emp2['employee2'].isnull()]\n",
    "test_emp2.drop([test_emp2.index[1],test_emp2.index[5]],inplace=True)"
   ]
  },
  {
   "cell_type": "code",
   "execution_count": null,
   "metadata": {
    "colab": {},
    "colab_type": "code",
    "id": "G583bsH8Q1-p"
   },
   "outputs": [],
   "source": [
    "train_x2 = train_emp2.drop(['employee2'],axis=1)\n",
    "train_y2 = train_emp2['employee2']\n",
    "test_x2 = test_emp2.drop(['employee2'],axis=1)\n",
    "test_y2 = test_emp2['employee2']"
   ]
  },
  {
   "cell_type": "code",
   "execution_count": null,
   "metadata": {
    "colab": {
     "base_uri": "https://localhost:8080/",
     "height": 87
    },
    "colab_type": "code",
    "id": "wGsq4sIgQ1-w",
    "outputId": "9073e94a-866a-403a-b327-76e018d1f0f4"
   },
   "outputs": [
    {
     "data": {
      "text/plain": [
       "array([114.43      ,  85.28      , 441.11      ,  10.78      ,\n",
       "        53.94      , 139.71      ,  34.63      , 256.44      ,\n",
       "       118.74      , 120.47      , 117.52412373, 154.46      ,\n",
       "        43.04      , 145.51      , 110.92      ])"
      ]
     },
     "execution_count": 45,
     "metadata": {
      "tags": []
     },
     "output_type": "execute_result"
    }
   ],
   "source": [
    "rf.fit(train_x2,train_y2)\n",
    "pred2 = rf.predict(test_x2)\n",
    "pred2"
   ]
  },
  {
   "cell_type": "code",
   "execution_count": null,
   "metadata": {
    "colab": {
     "base_uri": "https://localhost:8080/",
     "height": 34
    },
    "colab_type": "code",
    "id": "D8HAx732Q1-1",
    "outputId": "53b608e3-7035-446a-8d17-6d31c39f7a8e"
   },
   "outputs": [
    {
     "data": {
      "text/plain": [
       "[48, 93, 212, 242, 263, 285, 298, 303, 314, 323, 353, 389, 394, 425, 427]"
      ]
     },
     "execution_count": 46,
     "metadata": {
      "tags": []
     },
     "output_type": "execute_result"
    }
   ],
   "source": [
    "idx = list(data[data['employee1'].isnull()].index)\n",
    "idx.remove(60)\n",
    "idx.remove(258)\n",
    "idx"
   ]
  },
  {
   "cell_type": "code",
   "execution_count": null,
   "metadata": {
    "colab": {},
    "colab_type": "code",
    "id": "vigOJ-_cQ1-4"
   },
   "outputs": [],
   "source": [
    "data['employee1'][idx] = pred1\n",
    "data['employee2'][idx] = pred2"
   ]
  },
  {
   "cell_type": "code",
   "execution_count": null,
   "metadata": {
    "colab": {
     "base_uri": "https://localhost:8080/",
     "height": 284
    },
    "colab_type": "code",
    "id": "Ro3ucl8lQ1-7",
    "outputId": "8d22cdd2-ad58-4ecd-cad3-5161613820e9"
   },
   "outputs": [
    {
     "data": {
      "text/html": [
       "<div>\n",
       "<style scoped>\n",
       "    .dataframe tbody tr th:only-of-type {\n",
       "        vertical-align: middle;\n",
       "    }\n",
       "\n",
       "    .dataframe tbody tr th {\n",
       "        vertical-align: top;\n",
       "    }\n",
       "\n",
       "    .dataframe thead th {\n",
       "        text-align: right;\n",
       "    }\n",
       "</style>\n",
       "<table border=\"1\" class=\"dataframe\">\n",
       "  <thead>\n",
       "    <tr style=\"text-align: right;\">\n",
       "      <th></th>\n",
       "      <th>employee1</th>\n",
       "      <th>employee2</th>\n",
       "      <th>bedCount</th>\n",
       "    </tr>\n",
       "    <tr>\n",
       "      <th>instkind</th>\n",
       "      <th></th>\n",
       "      <th></th>\n",
       "      <th></th>\n",
       "    </tr>\n",
       "  </thead>\n",
       "  <tbody>\n",
       "    <tr>\n",
       "      <th>clinic</th>\n",
       "      <td>28.0</td>\n",
       "      <td>27.5</td>\n",
       "      <td>0.0</td>\n",
       "    </tr>\n",
       "    <tr>\n",
       "      <th>dental_clinic</th>\n",
       "      <td>107.0</td>\n",
       "      <td>109.0</td>\n",
       "      <td>0.0</td>\n",
       "    </tr>\n",
       "    <tr>\n",
       "      <th>general_hospital</th>\n",
       "      <td>377.0</td>\n",
       "      <td>346.0</td>\n",
       "      <td>243.0</td>\n",
       "    </tr>\n",
       "    <tr>\n",
       "      <th>hospital</th>\n",
       "      <td>96.5</td>\n",
       "      <td>90.0</td>\n",
       "      <td>85.0</td>\n",
       "    </tr>\n",
       "    <tr>\n",
       "      <th>nursing_hospital</th>\n",
       "      <td>74.5</td>\n",
       "      <td>74.0</td>\n",
       "      <td>157.5</td>\n",
       "    </tr>\n",
       "    <tr>\n",
       "      <th>traditional_clinic</th>\n",
       "      <td>86.0</td>\n",
       "      <td>82.5</td>\n",
       "      <td>0.0</td>\n",
       "    </tr>\n",
       "    <tr>\n",
       "      <th>traditional_hospital</th>\n",
       "      <td>42.0</td>\n",
       "      <td>34.0</td>\n",
       "      <td>44.0</td>\n",
       "    </tr>\n",
       "  </tbody>\n",
       "</table>\n",
       "</div>"
      ],
      "text/plain": [
       "                      employee1  employee2  bedCount\n",
       "instkind                                            \n",
       "clinic                     28.0       27.5       0.0\n",
       "dental_clinic             107.0      109.0       0.0\n",
       "general_hospital          377.0      346.0     243.0\n",
       "hospital                   96.5       90.0      85.0\n",
       "nursing_hospital           74.5       74.0     157.5\n",
       "traditional_clinic         86.0       82.5       0.0\n",
       "traditional_hospital       42.0       34.0      44.0"
      ]
     },
     "execution_count": 48,
     "metadata": {
      "tags": []
     },
     "output_type": "execute_result"
    }
   ],
   "source": [
    "data.groupby('instkind')['employee1','employee2','bedCount'].median() # 두개 다 결측치인 것은 병원 종류별 중앙값으로 대체"
   ]
  },
  {
   "cell_type": "code",
   "execution_count": null,
   "metadata": {
    "colab": {},
    "colab_type": "code",
    "id": "lfxvbgtAQ1_E"
   },
   "outputs": [],
   "source": [
    "data['employee1'].iloc[60] = 75\n",
    "data['employee2'].iloc[60] = 74\n",
    "data['employee1'].iloc[258] = 28\n",
    "data['employee2'].iloc[258] = 28"
   ]
  },
  {
   "cell_type": "code",
   "execution_count": null,
   "metadata": {
    "colab": {},
    "colab_type": "code",
    "id": "6Z-bgis-Q1_O"
   },
   "outputs": [],
   "source": [
    "data['employee1'] = data['employee1'].apply(lambda x: round(x)) # 직원 수 반올림\n",
    "data['employee2'] = data['employee2'].apply(lambda x: round(x))"
   ]
  },
  {
   "cell_type": "code",
   "execution_count": null,
   "metadata": {
    "colab": {},
    "colab_type": "code",
    "id": "ElHelH7aQ1_U"
   },
   "outputs": [],
   "source": [
    "data['employee_change'] = data['employee1'] - data['employee2'] #  update employee_change column"
   ]
  },
  {
   "cell_type": "markdown",
   "metadata": {
    "colab_type": "text",
    "id": "vrfV2_VhQ1_d"
   },
   "source": [
    "# Preprocessing\n",
    "- 회계데이터 결측치 처리"
   ]
  },
  {
   "cell_type": "code",
   "execution_count": null,
   "metadata": {
    "colab": {},
    "colab_type": "code",
    "id": "dNPqzVpoQ1_r"
   },
   "outputs": [],
   "source": [
    "tmp2016=[]\n",
    "tmp2017=[]\n",
    "for i in data.columns:\n",
    "  if i[-1] == '2':\n",
    "    tmp2016.append(i)\n",
    "  elif i[-1] == '1':\n",
    "    tmp2017.append(i)\n",
    "tmp2016.remove('employee2')\n",
    "tmp2017.remove('employee1')\n",
    "acc2016 = data[tmp2016]\n",
    "acc2017 = data[tmp2017]"
   ]
  },
  {
   "cell_type": "code",
   "execution_count": null,
   "metadata": {
    "colab": {
     "base_uri": "https://localhost:8080/",
     "height": 52
    },
    "colab_type": "code",
    "id": "ZXibLOx-Q1_4",
    "outputId": "3d1f2515-5d73-431e-8b12-ba7d792bffa4"
   },
   "outputs": [
    {
     "name": "stdout",
     "output_type": "stream",
     "text": [
      "2016:  [1, 14, 32, 55, 60, 248, 257, 258, 316, 357]\n",
      "2017:  [1, 14, 32, 55, 60, 248, 257, 258, 316, 357]\n"
     ]
    }
   ],
   "source": [
    "zero_idx2016=[]\n",
    "zero_idx2017=[]\n",
    "for i in range(acc2016.shape[0]):\n",
    "  if sum(acc2016.iloc[i].values==0) == 0:\n",
    "    zero_idx2016.append(i)\n",
    "for j in range(acc2017.shape[0]):\n",
    "  if sum(acc2017.iloc[j].values==0) == 0:\n",
    "    zero_idx2017.append(j)\n",
    "print('2016: ',zero_idx2016) # 2016년 회계 데이터 전체가 0인 index들\n",
    "print('2017: ',zero_idx2017) # 2017년 회계 데이터 전체가 0인 index들\n",
    "# 회계데이터가 모두 0인 데이터는 없습니다. 나온 결과값 모두 결측치 값입니다."
   ]
  },
  {
   "cell_type": "code",
   "execution_count": null,
   "metadata": {
    "colab": {},
    "colab_type": "code",
    "id": "OcYFQ_jgQ2Ad"
   },
   "outputs": [],
   "source": [
    "data['old'] = 2018-data['openYear'] # 2018년 데이터이므로 오픈한지 얼마나 지났는지"
   ]
  },
  {
   "cell_type": "code",
   "execution_count": null,
   "metadata": {
    "colab": {},
    "colab_type": "code",
    "id": "34HX-M1bnQsR"
   },
   "outputs": [],
   "source": [
    "from xgboost import XGBRegressor # xgb로 회계데이터 모델링\n",
    "xgb = XGBRegressor(n_estimators=1000)"
   ]
  },
  {
   "cell_type": "code",
   "execution_count": null,
   "metadata": {
    "colab": {},
    "colab_type": "code",
    "id": "w0NM3NT0no5l"
   },
   "outputs": [],
   "source": [
    "df= data.drop(['index','inst_id','OC','sido','sgg','ownerChange','openYear','instkind','employee_change'],axis=1)"
   ]
  },
  {
   "cell_type": "code",
   "execution_count": null,
   "metadata": {
    "colab": {},
    "colab_type": "code",
    "id": "92N9v56lByNC"
   },
   "outputs": [],
   "source": [
    "idx=list(data.index)\n",
    "for i in zero_idx2016:\n",
    "  idx.remove(i)"
   ]
  },
  {
   "cell_type": "code",
   "execution_count": null,
   "metadata": {
    "colab": {
     "base_uri": "https://localhost:8080/",
     "height": 862
    },
    "colab_type": "code",
    "id": "12SOS3Qstvxs",
    "outputId": "aee08056-57dc-4012-8f74-db7ecb6c9af4"
   },
   "outputs": [
    {
     "data": {
      "text/plain": [
       "['revenue2',\n",
       " 'revenue1',\n",
       " 'salescost2',\n",
       " 'salescost1',\n",
       " 'sga2',\n",
       " 'sga1',\n",
       " 'salary2',\n",
       " 'salary1',\n",
       " 'noi2',\n",
       " 'noi1',\n",
       " 'noe2',\n",
       " 'noe1',\n",
       " 'interest2',\n",
       " 'interest1',\n",
       " 'ctax2',\n",
       " 'ctax1',\n",
       " 'profit2',\n",
       " 'profit1',\n",
       " 'liquidAsset2',\n",
       " 'liquidAsset1',\n",
       " 'quickAsset2',\n",
       " 'quickAsset1',\n",
       " 'receivableS2',\n",
       " 'receivableS1',\n",
       " 'inventoryAsset2',\n",
       " 'inventoryAsset1',\n",
       " 'nonCAsset2',\n",
       " 'nonCAsset1',\n",
       " 'tanAsset2',\n",
       " 'tanAsset1',\n",
       " 'OnonCAsset2',\n",
       " 'OnonCAsset1',\n",
       " 'receivableL2',\n",
       " 'receivableL1',\n",
       " 'debt2',\n",
       " 'debt1',\n",
       " 'liquidLiabilities2',\n",
       " 'liquidLiabilities1',\n",
       " 'shortLoan2',\n",
       " 'shortLoan1',\n",
       " 'NCLiabilities2',\n",
       " 'NCLiabilities1',\n",
       " 'longLoan2',\n",
       " 'longLoan1',\n",
       " 'netAsset2',\n",
       " 'netAsset1',\n",
       " 'surplus2',\n",
       " 'surplus1']"
      ]
     },
     "execution_count": 60,
     "metadata": {
      "tags": []
     },
     "output_type": "execute_result"
    }
   ],
   "source": [
    "na_col = []\n",
    "for i,j in zip(tmp2016,tmp2017):\n",
    "  na_col.append(i)\n",
    "  na_col.append(j)\n",
    "na_col # 결측치가 있는 데이터 모아놓기"
   ]
  },
  {
   "cell_type": "code",
   "execution_count": null,
   "metadata": {
    "colab": {
     "base_uri": "https://localhost:8080/",
     "height": 1000
    },
    "colab_type": "code",
    "id": "lqSZSLGBuD0O",
    "outputId": "385314d7-9a38-4227-ef97-f8e85233f628"
   },
   "outputs": [
    {
     "name": "stdout",
     "output_type": "stream",
     "text": [
      "[05:57:11] WARNING: /workspace/src/objective/regression_obj.cu:152: reg:linear is now deprecated in favor of reg:squarederror.\n",
      "[05:57:13] WARNING: /workspace/src/objective/regression_obj.cu:152: reg:linear is now deprecated in favor of reg:squarederror.\n",
      "[05:57:14] WARNING: /workspace/src/objective/regression_obj.cu:152: reg:linear is now deprecated in favor of reg:squarederror.\n",
      "[05:57:15] WARNING: /workspace/src/objective/regression_obj.cu:152: reg:linear is now deprecated in favor of reg:squarederror.\n",
      "[05:57:16] WARNING: /workspace/src/objective/regression_obj.cu:152: reg:linear is now deprecated in favor of reg:squarederror.\n",
      "[05:57:17] WARNING: /workspace/src/objective/regression_obj.cu:152: reg:linear is now deprecated in favor of reg:squarederror.\n",
      "[05:57:19] WARNING: /workspace/src/objective/regression_obj.cu:152: reg:linear is now deprecated in favor of reg:squarederror.\n",
      "[05:57:20] WARNING: /workspace/src/objective/regression_obj.cu:152: reg:linear is now deprecated in favor of reg:squarederror.\n",
      "[05:57:21] WARNING: /workspace/src/objective/regression_obj.cu:152: reg:linear is now deprecated in favor of reg:squarederror.\n",
      "[05:57:22] WARNING: /workspace/src/objective/regression_obj.cu:152: reg:linear is now deprecated in favor of reg:squarederror.\n",
      "[05:57:23] WARNING: /workspace/src/objective/regression_obj.cu:152: reg:linear is now deprecated in favor of reg:squarederror.\n",
      "[05:57:24] WARNING: /workspace/src/objective/regression_obj.cu:152: reg:linear is now deprecated in favor of reg:squarederror.\n",
      "[05:57:26] WARNING: /workspace/src/objective/regression_obj.cu:152: reg:linear is now deprecated in favor of reg:squarederror.\n",
      "[05:57:27] WARNING: /workspace/src/objective/regression_obj.cu:152: reg:linear is now deprecated in favor of reg:squarederror.\n",
      "[05:57:28] WARNING: /workspace/src/objective/regression_obj.cu:152: reg:linear is now deprecated in favor of reg:squarederror.\n",
      "[05:57:29] WARNING: /workspace/src/objective/regression_obj.cu:152: reg:linear is now deprecated in favor of reg:squarederror.\n",
      "[05:57:30] WARNING: /workspace/src/objective/regression_obj.cu:152: reg:linear is now deprecated in favor of reg:squarederror.\n",
      "[05:57:32] WARNING: /workspace/src/objective/regression_obj.cu:152: reg:linear is now deprecated in favor of reg:squarederror.\n",
      "[05:57:33] WARNING: /workspace/src/objective/regression_obj.cu:152: reg:linear is now deprecated in favor of reg:squarederror.\n",
      "[05:57:34] WARNING: /workspace/src/objective/regression_obj.cu:152: reg:linear is now deprecated in favor of reg:squarederror.\n",
      "[05:57:35] WARNING: /workspace/src/objective/regression_obj.cu:152: reg:linear is now deprecated in favor of reg:squarederror.\n",
      "[05:57:36] WARNING: /workspace/src/objective/regression_obj.cu:152: reg:linear is now deprecated in favor of reg:squarederror.\n",
      "[05:57:38] WARNING: /workspace/src/objective/regression_obj.cu:152: reg:linear is now deprecated in favor of reg:squarederror.\n",
      "[05:57:39] WARNING: /workspace/src/objective/regression_obj.cu:152: reg:linear is now deprecated in favor of reg:squarederror.\n",
      "[05:57:40] WARNING: /workspace/src/objective/regression_obj.cu:152: reg:linear is now deprecated in favor of reg:squarederror.\n",
      "[05:57:41] WARNING: /workspace/src/objective/regression_obj.cu:152: reg:linear is now deprecated in favor of reg:squarederror.\n",
      "[05:57:42] WARNING: /workspace/src/objective/regression_obj.cu:152: reg:linear is now deprecated in favor of reg:squarederror.\n",
      "[05:57:43] WARNING: /workspace/src/objective/regression_obj.cu:152: reg:linear is now deprecated in favor of reg:squarederror.\n",
      "[05:57:45] WARNING: /workspace/src/objective/regression_obj.cu:152: reg:linear is now deprecated in favor of reg:squarederror.\n",
      "[05:57:46] WARNING: /workspace/src/objective/regression_obj.cu:152: reg:linear is now deprecated in favor of reg:squarederror.\n",
      "[05:57:47] WARNING: /workspace/src/objective/regression_obj.cu:152: reg:linear is now deprecated in favor of reg:squarederror.\n",
      "[05:57:48] WARNING: /workspace/src/objective/regression_obj.cu:152: reg:linear is now deprecated in favor of reg:squarederror.\n",
      "[05:57:49] WARNING: /workspace/src/objective/regression_obj.cu:152: reg:linear is now deprecated in favor of reg:squarederror.\n",
      "[05:57:50] WARNING: /workspace/src/objective/regression_obj.cu:152: reg:linear is now deprecated in favor of reg:squarederror.\n",
      "[05:57:52] WARNING: /workspace/src/objective/regression_obj.cu:152: reg:linear is now deprecated in favor of reg:squarederror.\n",
      "[05:57:53] WARNING: /workspace/src/objective/regression_obj.cu:152: reg:linear is now deprecated in favor of reg:squarederror.\n",
      "[05:57:54] WARNING: /workspace/src/objective/regression_obj.cu:152: reg:linear is now deprecated in favor of reg:squarederror.\n",
      "[05:57:55] WARNING: /workspace/src/objective/regression_obj.cu:152: reg:linear is now deprecated in favor of reg:squarederror.\n",
      "[05:57:56] WARNING: /workspace/src/objective/regression_obj.cu:152: reg:linear is now deprecated in favor of reg:squarederror.\n",
      "[05:57:58] WARNING: /workspace/src/objective/regression_obj.cu:152: reg:linear is now deprecated in favor of reg:squarederror.\n",
      "[05:57:59] WARNING: /workspace/src/objective/regression_obj.cu:152: reg:linear is now deprecated in favor of reg:squarederror.\n",
      "[05:58:00] WARNING: /workspace/src/objective/regression_obj.cu:152: reg:linear is now deprecated in favor of reg:squarederror.\n",
      "[05:58:01] WARNING: /workspace/src/objective/regression_obj.cu:152: reg:linear is now deprecated in favor of reg:squarederror.\n",
      "[05:58:02] WARNING: /workspace/src/objective/regression_obj.cu:152: reg:linear is now deprecated in favor of reg:squarederror.\n",
      "[05:58:04] WARNING: /workspace/src/objective/regression_obj.cu:152: reg:linear is now deprecated in favor of reg:squarederror.\n",
      "[05:58:05] WARNING: /workspace/src/objective/regression_obj.cu:152: reg:linear is now deprecated in favor of reg:squarederror.\n",
      "[05:58:06] WARNING: /workspace/src/objective/regression_obj.cu:152: reg:linear is now deprecated in favor of reg:squarederror.\n",
      "[05:58:07] WARNING: /workspace/src/objective/regression_obj.cu:152: reg:linear is now deprecated in favor of reg:squarederror.\n"
     ]
    },
    {
     "data": {
      "text/plain": [
       "index                0\n",
       "inst_id              0\n",
       "OC                 127\n",
       "sido                 0\n",
       "sgg                  0\n",
       "                  ... \n",
       "employee2            0\n",
       "ownerChange          0\n",
       "employee_change      0\n",
       "openYear             0\n",
       "old                  0\n",
       "Length: 61, dtype: int64"
      ]
     },
     "execution_count": 61,
     "metadata": {
      "tags": []
     },
     "output_type": "execute_result"
    }
   ],
   "source": [
    "for i in na_col:\n",
    "  train_x = df.drop(i,axis=1).iloc[idx]\n",
    "  train_y = df[i].iloc[idx]\n",
    "  test_x = df.drop(i,axis=1).iloc[zero_idx2016]\n",
    "  xgb.fit(train_x,train_y)\n",
    "  pred = xgb.predict(test_x)\n",
    "  data[i][zero_idx2016] = pred\n",
    "data.isnull().sum()"
   ]
  },
  {
   "cell_type": "markdown",
   "metadata": {
    "colab_type": "text",
    "id": "_f2Un5KlQ2Ac"
   },
   "source": [
    "# Preprocessing\n",
    "- final"
   ]
  },
  {
   "cell_type": "code",
   "execution_count": null,
   "metadata": {
    "colab": {},
    "colab_type": "code",
    "id": "dUHaoQCRvPui"
   },
   "outputs": [],
   "source": [
    "data['profit_diff'] = data['profit1'] - data['profit2']\n",
    "data['debt_diff'] = data['debt1'] - data['debt2']\n",
    "data['surplus_diff'] = data['surplus1'] - data['surplus2']\n",
    "data['netasset_diff'] = data['netAsset1'] - data['netAsset2']"
   ]
  },
  {
   "cell_type": "code",
   "execution_count": null,
   "metadata": {
    "colab": {},
    "colab_type": "code",
    "id": "hXlgjTF5wZM6"
   },
   "outputs": [],
   "source": [
    "dic={'open':1,'close':0}\n",
    "data['OC'] = data['OC'].map(dic)"
   ]
  },
  {
   "cell_type": "code",
   "execution_count": null,
   "metadata": {
    "colab": {},
    "colab_type": "code",
    "id": "bwreazDJzEvA"
   },
   "outputs": [],
   "source": [
    "dic={'same':1,'change':0}\n",
    "data['ownerChange'] = data['ownerChange'].map(dic)"
   ]
  },
  {
   "cell_type": "code",
   "execution_count": null,
   "metadata": {
    "colab": {},
    "colab_type": "code",
    "id": "1QZmPaLazhlj"
   },
   "outputs": [],
   "source": [
    "data.drop(['sgg','openYear','index'],axis=1,inplace=True) # 필요없는 것 다른 것으로 대체할 수 있는 것은 삭제"
   ]
  },
  {
   "cell_type": "code",
   "execution_count": null,
   "metadata": {
    "colab": {},
    "colab_type": "code",
    "id": "OtYwS6x421Lo"
   },
   "outputs": [],
   "source": [
    "# 충남 충북 -> 충청\n",
    "# 경남 경북 -> 경상\n",
    "# 전남 전북 -> 전라\n",
    "# 경기 -> 경기\n",
    "# 강원 -> 강원\n",
    "# 제주 -> 제주\n",
    "# 인천 부산 대구 울산 세종 대전 광주 ->광역시"
   ]
  },
  {
   "cell_type": "code",
   "execution_count": null,
   "metadata": {
    "colab": {},
    "colab_type": "code",
    "id": "FuZOpHclnKvo"
   },
   "outputs": [],
   "source": [
    "sido_dic={\"choongnam\":\"충청\",\"choongbuk\":\"충청\",\"gyeongnam\":\"경상\",\"gyeongbuk\":\"경상\", \"jeonnam\":'전라',\"jeonbuk\":\"전라\",\n",
    "         'seoul':'서울','gangwon':'강원','jeju':'제주',\"sejong\":\"광역시\",\"daejeon\":\"광역시\",\n",
    "         \"busan\":\"광역시\",\"daegu\":\"광역시\",'ulsan':\"광역시\",\"gwangju\":'광역시','incheon':\"광역시\",'gyeonggi':\"경기\"}\n",
    "data['sido'] = data.sido.map(sido_dic)"
   ]
  },
  {
   "cell_type": "code",
   "execution_count": null,
   "metadata": {
    "colab": {},
    "colab_type": "code",
    "id": "x_Tg2_qg1OGx"
   },
   "outputs": [],
   "source": [
    "from sklearn.preprocessing import OneHotEncoder # onehotencoding dataframe 변환 함수\n",
    "def ohe_trans(data,col):\n",
    "    ohe=OneHotEncoder()\n",
    "    x= ohe.fit_transform(data[col].values.reshape(-1,1)).toarray()\n",
    "    tp = []\n",
    "    for i in range(data[col].unique().size): # onehot 컬럼 생성\n",
    "        tp.append(col[0]+str(i)) \n",
    "    ohe_df = pd.DataFrame(x,columns = tp)\n",
    "    return ohe_df\n"
   ]
  },
  {
   "cell_type": "code",
   "execution_count": null,
   "metadata": {
    "colab": {},
    "colab_type": "code",
    "id": "Rq9S9_yvqO6P"
   },
   "outputs": [],
   "source": [
    "ohe_sido = ohe_trans(data,'sido')\n",
    "ohe_kind = ohe_trans(data,'instkind')\n",
    "data.drop(['sido','instkind'],axis=1,inplace=True)"
   ]
  },
  {
   "cell_type": "code",
   "execution_count": null,
   "metadata": {
    "colab": {},
    "colab_type": "code",
    "id": "cO2CC0I0qk27"
   },
   "outputs": [],
   "source": [
    "data=pd.concat([data,ohe_sido,ohe_kind],axis=1)"
   ]
  },
  {
   "cell_type": "code",
   "execution_count": null,
   "metadata": {
    "colab": {},
    "colab_type": "code",
    "id": "aCiGvKaSqxIT"
   },
   "outputs": [],
   "source": [
    "train_data = data.iloc[:train_len]\n",
    "test_data = data.iloc[train_len:]"
   ]
  },
  {
   "cell_type": "code",
   "execution_count": null,
   "metadata": {
    "colab": {},
    "colab_type": "code",
    "id": "VQZHaq176YiC"
   },
   "outputs": [],
   "source": [
    "train_data.drop('inst_id',axis=1,inplace=True)\n",
    "test_data.drop('inst_id',axis=1,inplace=True)"
   ]
  },
  {
   "cell_type": "markdown",
   "metadata": {
    "colab_type": "text",
    "id": "SEAeMQKdrOP0"
   },
   "source": [
    "# **MODELING**\n",
    "- use ML(XGBCLASSIFIER,RANDOMFORESTCLASSIFIER)"
   ]
  },
  {
   "cell_type": "code",
   "execution_count": null,
   "metadata": {
    "colab": {},
    "colab_type": "code",
    "id": "jM3dtBqvrYx4"
   },
   "outputs": [],
   "source": [
    "from sklearn.ensemble import RandomForestClassifier\n",
    "from xgboost import XGBClassifier\n",
    "rf = RandomForestClassifier(n_estimators = 1000)\n",
    "xgb = XGBClassifier(n_estimators = 1000)"
   ]
  },
  {
   "cell_type": "code",
   "execution_count": null,
   "metadata": {
    "colab": {},
    "colab_type": "code",
    "id": "O-KerWJHr9tg"
   },
   "outputs": [],
   "source": [
    "train_x = train_data.drop('OC',axis=1)\n",
    "train_y = train_data['OC']\n",
    "test_x = test_data.drop('OC',axis=1)\n",
    "test_y = test_data['OC']"
   ]
  },
  {
   "cell_type": "code",
   "execution_count": null,
   "metadata": {
    "colab": {},
    "colab_type": "code",
    "id": "lmJvjGbxsNkn"
   },
   "outputs": [],
   "source": [
    "rf.fit(train_x,train_y)\n",
    "pred_rf = rf.predict(test_x)\n",
    "xgb.fit(train_x,train_y)\n",
    "pred_xgb = xgb.predict(test_x)"
   ]
  },
  {
   "cell_type": "code",
   "execution_count": null,
   "metadata": {
    "colab": {},
    "colab_type": "code",
    "id": "k8GOo-wSt0X5"
   },
   "outputs": [],
   "source": [
    "answer['OC'] = pred_rf\n",
    "#answer.to_csv('rf_predict(hos oc).csv',index=False)"
   ]
  },
  {
   "cell_type": "code",
   "execution_count": null,
   "metadata": {
    "colab": {},
    "colab_type": "code",
    "id": "xMcAcm3h3nvV"
   },
   "outputs": [],
   "source": [
    "answer['OC'] = pred_xgb\n",
    "#answer.to_csv('xgb_predict(hos oc).csv',index=False)"
   ]
  },
  {
   "cell_type": "markdown",
   "metadata": {
    "colab_type": "text",
    "id": "lbSt_zOhDrOV"
   },
   "source": [
    "![image.png](data:image/png;base64,iVBORw0KGgoAAAANSUhEUgAABHoAAABrCAYAAAAICuVYAAAgAElEQVR4Ae2d708bV9r+98/jVd4kb5AqfVNp0apJpaibSlGrNkJ1LExjZBrCgmLawIMoBBL6hQVE0MYqEFnFDYiQrROy5CdWiAKtIXZlCPBcj86cc2bOjMf2QAwkm2sl5PHMmfvc85kTuufi/vGXnZ0d8IcMuAa4BrgGuAa4BrgGuAa4BrgGuAa4BrgGuAa4BrgG3v818Jfd3V3whwy4BrgGuAa4BrgGuAa4BrgGuAa4BrgGuAa4BrgGuAbe/zXwl//93/8Ff8iAa4BrgGuAa4BrgGuAa4BrgGuAa4BrgGuAa4BrgGvg/V8Df4HxP77Q9/+F8h3yHXINcA1wDXANcA1wDXANcA1wDXANcA1wDXANfLhrwCX0GJoPD0mABEiABEiABEiABEiABEiABEiABEiABN4zAhR63rMXRndJgARIgARIgARIgARIgARIgARIgARIoBQBCj2lyPA8CZAACZAACZAACZAACZAACeyTwHZuHdmNzQp3byOXzWO7zKhq2Sk5xVYe2Vw5D+Sdwo9coaSV0hcK+f3dV9oir5AACVQgQKGnAiBeJgESIAESIAESIAESIAESIIGgBLIPJtARi6A+pH7CUVwef+oRc/J4OBLHhbAzrnlwETljkmrZMUy6D3NLGGqPGn624UY67x4DYPXOAJobHD/rw/7jim58NYMuk0NDN6Ze6VEvMdpi2NSs7M9uJPcjKmnz/CSBD5wAhZ4PfAHw8UmABEiABEiABEiABEiABKpDYDs9iEgogkjHGOaeryP7chGjSkzp+MWJ7ln9OW4JLNG+WSxvrCE93GZ9bx5/aTlSLTuln2oNt9ojqA+3oCeVQW5tEUOtQnhpw+gL567cXG/x83TE0Dy8iOyuM67oaHcR1y5GUH/xKkbTa8hlkugQ38O9mLPu28TywixSKfdPcuQqLoQiaB5ecoleRfZ5ggRIoCwBCj1l8fAiCZAACZAACZAACZAACZAACQQlkMfy/CJWTRFkbRKXRaRKR1KJF08xJCJdGnuR0iE8u/rcINLWVNWyU8LvJ2OIhiK40D3rCCqP1Lnri/ImLdbEBpHWfpYw5z1d+KVbCldjGftSLinPtU+t2+dcB7sZGeXTMoyHe5zPZYdfSIAEQKGHi4AESIAESIAESIAESIAESIAEDozAXXQJoSc2hsdijlcJNIvvnTMws5PS10UaVQuGnpRypFp2gNV/yQgiM8oIWMS1RsPP9KCMrjHEmlKeec8v9InoIM+zZJXg1TnjSWOTd8sopxi65orTx7z2+Z0ESKA8AQo95fnw6qES2MDSvWfI7xzqpO/MZFsr97G09s64Q0dIgARIgARIgARIgASqQeDFhFvYWRiwol0iw09d1lfGlfiSdFK8XAOqZQeAFGJiGHpkzqDr5sj6OFIMiqJrbhPbvy9hTqRZpTPIbZn3+B2v4aaVBuats6OEqiYleJm36uihlgksm9FQ5hgekwAJBCZAoScwqsMbOH+lDjUn6lDTOnN4k74DM+WTl3DsRB3qBtR/cV6N4jPB4cQXuL7yDjh4kC7oZ/1mAn8c5Dy0TQIkQAIkQAIkQAIkcKgEHo+0oD4URdcdFaky1yvr84y4hR7ckec7Sgg91bIjHn6uxyfiBkCqW5yXAo0UnqJobm1BfTiKSFNMFo8Ot3gEIi9OJRiFvUJPBqPfRVDvJ/QoJpcTJdK6vFPwOwmQQFkCFHrK4jmaix+m0PMM1/9eh5raS7itozW1+PEhCD0A0p1nUHPiDOL3j2bdcVYSIAESIAESIAESIIEqExD1eURnrdYxPNZ5WvsRevZrp5BHNrtu/MhW7kGEnsfDMUuQEr6ns4pLNokO8TzfTWAZQGHDtL2u2rQbkUGu6J/SQo/0x10IuspvguZI4IMicOBCz3ZO/4MvxXUbuew6cvoXX6lhAIStIOPKmHgvLn2QQs/9Lhw/UYfj3y847+gDE3rwrB8nRQRT8zRc/010iPCIBEiABEiABEiABEjgfSEgiguLFKZwG4Ye6r9kirypPaZuvYUdnQ5mt3pX0TpBUrfkvTHceOgGLqN+hCijBR0RBaR+fhB1h/aauvUUQ00i0mcYD9+FtK2tvBKs3M99aN8K+Yp7XiGwld8Xiz12HoUKPCvbCfjUAXxGkDEBp+OwygTeWuhZUYW8XCF4u+tIj3cjKtRe/Y8+3IKupFGAxG9MQxyjT7aLvF69M4DmBtNWG26k9S/LddkaUM9jfOqwR6kQG/cbY+pD3tzUoukP/cSHKPTIZ/ZEs3xoQg8eofdTkarWhIRe3oe++jghCZAACZAACZAACZDAWxPYXUeqR0TExNBh7oGEYV2MueeuaxrfYszVsuOaySnG3DVnXvAUY1apZO12uL0cK/dW5fdQUkjyROgYxZhdf+PX5+2uZKZPh3icW8JQuyiIrfaNYXPPWcaPzCQ6RBc1+74W9LgKSiuu+rr96WH4agZdpp2Gbky9MubdeolUX5tMn9M2GuJuERHA8s/uffiF9jF3F7OKdnwEPD2f9Wmk5FXyWbgfZExFhgYHHgYi8HZCz4sEmrWYY+Ra5uZ6EQnF0D4yi4dreeQys2rRRnHtgfBrG+nrMdSHxZi7WM6uYyU9gcuiyrsnl1PaiiDSMYa55+vIvlzEaEcMzcOLyFoKpVqITb24JQqEGT8LGVnILPsf93lrzM8DVkvBSOeMu/1hIGzuQamBOFq/j6Mz+cK5sPMI49+L810Yf/LGOf9qBp2R8zj56Vmc/PQ8vm6X94r7W4cWIPb3jtAzjZVff8TX58TYszhZ34bxpQ3Hlt/RzgaWEm04Z9k/i5PnGtA57VPg+NUMeptDyo+zONfcj9Qrw08A+WfTbl87J7D02j1p/t5P1rNfv7eB/NIEYvXS19jMn3Kg5U/ceIZL6P111W0E9xH/WKRttSFlFmI2hZ5nq0j1NeC0eq5znTNYMccKizsbeD5t8DrXgHjifnFx56CMPF76fg06p/JvKWGw8PEv/T8ifasOMdd/dH1nlicrvUfXejuLc+2jmLfes+Ap117vnHdNvcDtHnltfMm9Jsp4wkskQAIkQAIkQAIkQAKCgC3ORHB5ZMlpX27TUa3UG3QrdXFBnWsaRFqrINWyY89rHOj26v2qlbq4pM5F+hdlN7DCDDrExr571rhxDbf+UbxnMwZYh7q9ullzx++cNfjRGCKi1XvPXVcXMq/Ng/2+JoMHwi3oSWWQW1vEkFVQ2iNWeZ0o/IaeixHUtwxi7uU2UMhgqlMIfGbHMVWEun3YtVcVe9KHvyuDuhj1xasYTa8hl0miQ9gN92LO2vNuY3k8jnrhX2IRy7k8snr/HLqKKZVaV1gYsFhGOpNYLmwimx6T+/WWCciSp0HsbGJ5oXj/nBy5KruwDas1XdFn8W9hEdfEc5R8LpH/F4ShFzy/VyLwFkKP+sdwMWYtJldEj3hfOU+1eKUI29XlcxnMPTAifACsJuKWEmqrxnphxAaRzpV6FC30+FRvL3UL8kh1R1Hf6FFJS44vf2HrXhy1nqLBfyRCsqDy33/EkhIknHGncLo5jlj4rFV8uObEKdQKASMi/wHaQo9lsw7H/noWtR+pAs0nzqD1bqnN95+4femUnPejszhXf96+77Objgi1Mtmk/K1DzUdncPKv8p5jX/2E58r0ys2Q8s07/3lXYeSVsfNyvi9D+KzW8dGqM7PzAsPfaH/OWKLScTXms386/kALOl+Oql9Airc+rzgIAeTYR8qeSPNqnXFSnMy5LJ5nbP9rvvzJEIWCMSr/xtXVwHMK1WwB8c81nzoc/+QsJIsziP3qCC35yQaLZ22fqwWCrzsV3+OzfpxWvI9/FcK5T05JJn+LY74APB/6Qr67z39yc8/0o85izsgiX/A8SQIkQAIkQAIkQAKlCOxmcKtD1raJ/jhr/UHbrJGjO1bJVuIRRAcXUdjdxuMx2XGreTwjLVfLTik/ofZyoRbceLAJbD2108xGlQviVuuP86EIOqbWrZbo2TviD/oRRHru+ghYxmR6HxfuxtTv20B2Fl3Whr8Xc959napZZO8TDTOHdqiFr+5Z57kejVmBAReuG2KY1yGVhmcKWshMWPdF7WLbSuix0tq8BuR3LYI1G63sc8luuTee0gWqt5HLubNflsdEoe8IZCaLynQRgRMGY73H7rqj565kR48zPkX6YIsQtIbt6KAgPgcZo1MZyzM0fOFhIAL7Fnr0L6f2RAJdQuk1Inr8Zi6oheoseJ9R3sJk6UGpGhoLvvgu9Q9nL6F+6UHrF5T9i7TY6B7P/IlUq4zEqBFdkwqzaBURKlZhXS3KvMDwl3Kj74gcf+J2szzXmNTjjIie2hB6F5UIIESFr5RQ8Gk/nvt5uKa7VBlizM4G5hPTjtBhiCd1nbP4Q4lQ+XsTSGSUD8aYz/75DFtizM4GUlfUM37chbS6zxZ6hAjzVT/SWec57Gtf/uhEAr2eRqMlPoQwrou63W2TgoO3y5jhx7HPuzCvbK/8U4lLJy7ZEUD2XLUhXH+mfHg9g9a/SWbHO1XtnyCM/Nj6nAs8J95g3mbXgGHt384zJBIL7oije3Epxlyq0HHNYFPqPc5/L5/9mMk1k8D4fRVtZQs6IQwbmqv9XN9OWxFmPo/OUyRAAiRAAiRAAiRAAj4EimviGCk99oZc3JjHwqAUd3TKT3PfrJ1pUC07Pi46p3K/4YbYvOu0nHAbeu4Y/6dQjNxds9KF7DFC5OmexLIhJDgGPUeZSbSL2jvaftNVjJq1itRwvU88SqFHtpKPoOMXM1jBk8rmeTzrq96vjr90rqrUPHvf+2ICzYLb4JIzxnMkU93MKCAAOqWtc8YS2Ty3WF91wWzpt/LXuy9Xdi6Y0VseY247nosiIONnEZARQ5eRkhbE5yBjEIRhsUs8U4HA/oSe3Iystn5lEqu7SmjxLihj4u3ftYLbjaSZZ2iMEYf6F5r+Byb/wUXRNbeJ7d+XMCfSstIZaCVc3q7m/64b1/oG0CN+RpJ4rEUEzxzQ6nVjL1JBfkEV3V/iRF4LGKdw7hspRIiIk7wSRIBZtFpREmfQafwbtzfVxmbcjugxzlmzqoLFNSfOY9iP4+sEvrbmOIXGaSdKxPT4+cBZKap8HMe87Zs5ArDH/L0fz80x2QmcU9E1OrXI9r/2EhKutC5db0akITnij5gp1SoFiNC0EhzmpNBzeuiZ2xFbzPgC142/LGDlJ5y2/NBt15257NbsypIdWXVCpYUFYOR2otS3PcxZmEaj4nbupjdtzWNfP7M3ysYzzH5HZd6jTgOr+bwf/hlYjvh4LqHXi3OuManej2dufiUBEiABEiABEiABEqgSAd0VyxOpsWfrb2FHd85y77E8Huzbvmy8kw1QGNgz46F+lYKEp2YOdK0aoyaN1ysd6RJus2vNWnta8V3vX5TQc6G9FzfUfvXG+F2s2N1X9lq8WjpReDQh07JadQ0e1dXs4jDc9bPLB0YU2/E8pI7OapnAsl3cOYjPQcYIMVFFC5Vj6HGJXysT2IfQk0fyB5EveBW3LLGhtNCzMBhDRNTdETmXrcMyb7GkTyov1RBgpPATRXNrC+rDUUSaYrL4VLgFQzqzZesuukSdoKY4esYnMdoXR0R8N8eYc2pFVeeemtfe8viPyQYnXahI+FDtw0/U4etJvanWLbXrcNJI1Skp9GgRoEwNF1fK1SeiPs8jO2oHWHWigrwikv3s5ca8wHWVfnRapV7ZQo9XmDAEFZGmZtUgsmoWxdF4TqZfeW3o77Yr9vNqQUdd8Z63o3R8atsUiUJAeUb27OUP9jKnjtIJ0iZeP5uXp8ubcu/IGJifResnKgrsxCmcFvV5Vtyimy2EiUg0casW88w294ZJHpIACZAACZAACZAACZDAfxuBIO3mSz5zdlbW6RF73lgLImFPAe7nSpBp6cZQYhJDP6hILjvFSglKnlq1gF87+jUrNTCiGhVFOiddAQ4L/aKYdBTX0trbPB4Oq/lcgRnl7ei7rU+VdeNKrdIiWFmf9/BclRi6HOKXIAT2LPTk7vRa6VTtCR3WV1rosYog357ADb2Yvytda0engjWPPLWLcOkQsvrWMaR1hE42KaOJvpvAsn7CrbwrykcXcK6/koS+TQ/V4pGIEqr2/1xCz+c/uaNhRIDm3Ta7lk9rYgaJIVUrp7YB4xqnqxizJ31HiwAn6tDqLtLvehRZRFnX/xFFjkMYtqpvOdEaNSWFnnJjnGtalCkp9Bi+ino0svi0+9OOOlIRPXXlInpk9TD5nLZtJQDZ332EHvuaWywqzciFsvQX226AOXVqWtWEHuc9lH6PyvWdVcyPteEzK5VQij61V2adlCwt7JyQqXS6RtCxZqZtlX75vEICJEACJEACJEACJPDfRGDfQs/uGpKi+HJTL24mhnFZpapF+jw1jAruVufL41J8kfV/jMghO8pH0PUTelSh5MQYutplLaj6jqSd8ofcXVkLKRRB9Eo32kUXr5Y2q2ZQvV2QWdiuYMd4uZKNtyh1EJ+DjJHpgYEYGj7xsDKBvQk9hbvoEhE6F7sx+ouuxD2MyyLvsuEqRs3K4Z65bfHFVbVdDcp4w87keSnKxHDDHXuGVLeIEvIuNnPCpxiy/pH1wt28aFNGI4nK5NVM2xJT69St2rM4qerCOLV4lG9r02j8uA7HPj4jC/HWnkJd5EekPFEWJSN6Frtw3EoBKpG6ZSIQx6/vo1fX9VGFjnXalFVLyDtefbfn99Zo2ZlFqyruq1N9Sgo99thTaL1XYiJ9WgshXvHJFlPcIo1dvFkLJ/ZcdbDTwQzbxyxmRk0gfU18+jAyL5c83sucdlTRKVhFqksaBaCjfyrU6AnyHt3TvMHK9CW7CLcjFG4gEdapdC/sY2+6ndsWv5EACZAACZAACZAACRwqgd1N5Pac/iTTpnK6i9ehOvx+Tbbf1K3HI6IYchtu2LWHnAgau0aPHwrd0cwSXwKmOPnY0YJR1Kxpu7WOh/Nqrz6/hGxWdU8rUwza1441n9pXNw3joZ22JS4E8TnIGGDfDH148JRDYG9CzytRUCtmpVCJNCr5I8LDRKqUTK3quVMqUkYVhwp5xBe7ArtP/R7VqcvuwqX8lqqiN4fSeShb/SwKJdMFqrwL1bx3P8dOMea6vkfYWuxSG2pTkHmD25fEhtpTb8ZnOltoaZ52ukrBKdxc462dY9v4E88XnznRGuK8FlFUAeWtmUsqvewsOs3CLTtvsKWyepwxbl/zSXWvEYFUUuiBft46uLte2c46B1oIKdl1q4LQY87liqRymB0LT6gUtsqMHMfKHRnPV3FOJ22v5tuEUbdJtKdz18HZSl6yaiiZqXzIP8J4Txyd004NI+cdlX6PWLuPJSNSDHAigbRQJ55Qz1nzbRNCQhTztrkvh4HXSIAESIAESIAESIAE9k2gsJHB3HivrLXiSq2RJrdfzqKnVe23VFHjC+26JkuJaXfXkR7vRlSUs9CFkBvidg0Z+y5RjNm0HY7i8r90YRl7lPtAFc617Wr7Pr5bN+rW2a5C1G6T78I3XYy5yxUlUKkYs4q4iXm7PytxpKhWjvGku7OyoZG6VwpNnkAGoxhzSa1Oj3FF6xjziEO/YseeIXbhZ68dbd+n8VEQnyuPeQuG3mfgdxeBvQk9rlv1F5/UrVdPiyuxa9XSVAO1yBOOY8hWQbVdsQlW6qMrCmgNt/4hhCVVFMtvrrVJGWXkXajanve8MeV+Du226XZdHkf4qbHFCydy4ni4H4lfZ5DSP0KcMUqn2EKP6GR1rg3D0xPotFuxn0HrnFPjx/RXp4Yd+1zcI+xPoFXV1LEKQ4vBZveuE2dwrm8CqcSP+FrUcvlUt4I3OnzVfoHY2DTG+0J2NIjoxKX/V1roAazIGxUBZPs0PYrYV6dwzBUttKAihdowrw2Lz6ARPXqsa64JdNarLmGiE5fqKBaIkelDuWPhX4A5hQk9r9Ui3no/0xhuP2+JbmYUki6gbJ7T3bOsLm66u2Ol97il36F6x78aqYInjK5swjmjWLTw7/j3qkNZuWfnNRIgARIgARIgARIggbck8BtuWH88V0KOVyzZymBU7Hu+G8At0ZAmt470WNwqo+FXokI6sy1boodjaB+5a7V3X0lP4LLIytD7J2vgS9xsjaC+sRs3n6wDW+tIq1ouujGO78Ppei3/X2d36M+lopIZIj1ooU+lF73jQg90e3WzM5U6FylZ21WJFEWCjk65GkS6AOSeP3VSqzTUf8vu0hd67lplS3QbcrMOjvecr51HY1Y3aZG+5Z+wsom5HrG+nOLQe7Kj7Gs/tfvi0+uf37nKY4IxNOflcTACByD06KrZcdyYlx2ytnMZTIncxVAEdg0e0W7volCZW9BzJ4Nsdt34ydst5NLX5X0dU+vWueydXmsxR3pE3qMq4CyEovRLq05PITOLnu+EXXf7NwuHKsRcXyZsLRg296i4X6qWTuU6UQe709KrUbtrldhQe38+G3thGdZCT6hvFCG7mG4daj46j/ivZbo27awi1XlepoUZ9k82jTrtzcUMoq23EhlsH2rP4utBp906lC2Z9qR8/egsGhOq3bpCUFboEWPWZhBXxZftuT46i6/7ZpyW73ZEjie1aS9CT4m5jp25hHHdztx69oCM1PNV/PB5vqI5lZH8vX4pqBnvRgh5Cds/3cnLnWb2fOgLuVaMSCrLZIX3mF8aReMZWfjaYe+3hozopBNn0HrPUB0rAuAAEiABEiABEiABEiCBtyPg84dzbdBTi9TOXAiV6QSVy2DugSusG6sJ0R47AjtTQrUAd4kYOsqkTDtvKKGnI1kqi0M7LiNJIqKt+EUpZAW6x7j9cA/XcKtd7k1vPNgEtp5iVAhhZvcsEUxgNf1x2MtSIxFE+39D1kpt2sbKVLclxkX7F5HbUN2qm3ox9VzU6dlGNj0h98Gmbd3ZKtyNqd+3AR0QcbEXc0LBsRsQ9eLWf9ZQ2AUKa4sYEj6GYuj4Zd3CZZVLudiNqYx4BhHZddXaO1u+iBEB7djs1fuODD+1T9kHlXwWAwOMqcjQnpAHeyFwAEKP6NyziNEOR721QvtEKODgb0rN1IWZxML0+3H+8WB3Dak+VSlcjY10TzoRQ9lFDLW7wxnFP8ie25liVVMrnlUWegIB1xEYIrrkyQbyr9XPq0cYv6QiT054Ilosw2+wpcZuma3Oy02688axXyizad/50x5X0rY95k+UHFPOF33tjZ7L345ORTreWYVokoJia4ZJaT/0Z1BGenylzyBzKhtb+RL+ZfpRJ6K4igohqzVQ6l3a72jD/x1p3177s6/0aLxOAiRAAiRAAiRAAiRwkATKCD1F06q0ICM6J/dwEjf6xpCyOiIX3SBPqA27XTdGp+T0mB1efkOPEDI6Z2RzHLEPGxnAjcSSva8qVUO1aFa9wY8N4tag3Mu920IPAJHK1mLsTcWe8o4hmKkIH7HXvCn/Pi/i9rEw2CY7Q+t9bTiK5r6kvV/dfplElyiKrK+Lz6arGFowbAuAIhBCFXO2xjZdxaiR9WKl8Zn+CTvhFnQlnH3v9hOPDRFo0TfriigKYke/z0Ky2/LbV+gJ4LNlp8JzBWGo/eFncAJVEHrKTLaVt6N0cq4K4mXuKXWpoGzltv1H2HO5K5r7Dz6Cs7rIrqvujvJDdZ2qUXV0jsC7o59y5z6syKj/14ZUySTUg3czf+8nVyt4sy28eZxwsteq5lS6Uwh+jKipGlAaIgESIAESIAESIIH3gkBAoWd3E4/HpGjSPKzFF1XWQmz6y/wxW0dNOGlZeaS6xR/LY+i6I6NBCnOiu7KRFfHvASVOOLVRpZ0oLvcMo6dvAD19wxidf2lnY2jcj4dFkeIWXEvnYc8dJApIGzjCz8KGzDTx279u59aR9duPWsWyS99nPY7ez2ad7JXix5QFtLPlCm8bdkRkj9//7Gcot68KYMfPdvG5AD4jwJggDIsn55kSBA5W6Ckx6Qd5WkVriGLMrb+q9KedN/jjyQQadeqXSt36IPkA0O3pdev2o+AQVOgZf1Jl77IJfF1bB6dodJXt0xwJkAAJkAAJkAAJkMA7SqCC0KMa4lywiivH0PHzU5UmJB8n9+8JS3C5ZUR/uB9Ulbto7EXKLORipSepzIhYi1W82RGQRNpNBsnBAfSMOBEhujtT8w9juJUYQ4eOMOmcsaN+8GjMauet04XeN6HHzY7fSOD9JECh5xDf28pkE06q4r12zRSRqvOxqJvywj/t5hD9O/qpNrB07xH+KJNtdvQ+HpQHQvRbQPrVB/nwBwWVdkmABEiABEiABEjgPSBQQegpZLCQmsWtkV5cVqk97VOetJ8yT7n6s6zPY9dKtcaqNuDhOG4kJtClBZt/JLBcIkpET1HIGfV5djOylk0oimsPpDg0KmzFBpFWohKFHk2OnyRweAQo9BweazmTVRtmFUv3ZpDOiFot7vbah+0O5yMBEiABEiABEiABEiABEjhKAhWEHtM1W1hpwWiFTujWbZkJ2bq91d2SXXZDiqLjtiMYrSa7ZQcnXaPHnLfMsa7j0jz+UqVpRdF8fRKplOzIdatH1m6N9iWRWsjI+j9l7PESCZDA2xOg0PP2DGmBBEiABEiABEiABEiABEiABPZJYA9Cj+h7oyN0xl+Wn8/u3NSNpKdQc6rb225dmNpE8gdRNPgqpswUr/KzAHd6rVo+otDzwmAMEatlvPHZoAoRN8YQ+ccEHleyx+skQAJvTYBCz1sjpAESIAESIAESIAESIAESIAES2C+BUkJPHstPnIgbbf3xsIyQsVul6wvmpxZ5wnEM+dTusYQeH0FHno/j1u+mMX3s789Cv6jzE0XXnJHSpW8B3rtizIbrPCSB95YAhZ739tXRcRIgARIgARIgARIgARIggfeWgN31KIkO0TXr4iDmsk7npm3VEj3SPYmHa5vA7iZW02MyFetiN5JKjElfV6lRI4hhlOMAACAASURBVE8lCtHO+qKIomlBz52M3QU5a9mWHZ9kh60I6q8ksKK6I2cfDKNZ+HFlUrbjXpvEZVEAWrVyz/2iWm13J7G8sQlsrSM9flWme7VOlKztwxo97+0KpePvMQEKPe/xy6PrJEACJEACJEACJEACJEAC7ycBLYDUC3HF89NhtSLfxkpqQAo75vVYL249z6uH3kSyU94f6fsNBbyEVQzZHO867kZStdxe/rnb6rRlzh3tHMOCTvN6Irtn1YfbcPOFmG4bK7d7i+6JdBj3+LwK/ZzymXwG8BQJkEDVCVDoqTpSGiQBEiABEiABEiABEiABEiCB6hEobMhIn6yIpPH+b3cTuWwehQrdsry3ye/byOkoIiUAmeO2c+vI5rbNU9ax7Y/PtaLBPEECJHDoBCj0HDpyTkgCJEACJEACJEACJEACJEACJEACJEACB0OAQs/BcKVVEiABEiABEiABEiABEiABEiABEiABEjh0AhR6Dh05JyQBEiABEiABEiABEiABEiABEiABEiCBgyFAoedguNIqCZAACZAACZAACZAACZAACZAACZAACRw6AQo9h46cE5IACZAACZAACZAACZAACZAACZAACZDAwRCg0HMwXGmVBEiABEiABEiABEiABEiABEiABEiABA6dAIWeQ0fOCUmABEiABEiABEiABEiABEiABEiABEjgYAhQ6DkYrrRKAiRAAiRAAiRAAiRAAiRAAiRAAiRAAodOgELPoSPnhCRAAiRAAiRAAiRAAiRAAiRAAiRAAiRwMAQo9BwMV1olARIgARIgARIgARIgARIgARIgARIggUMnQKHn0JFzQhIgARIgARIgARIgARIgARIgARIgARI4GAIUeg6GK62SAAmQAAmQAAmQAAmQAAmQAAmQAAmQwKET+MuDBw/AHzLgGuAa4BrgGuAa4BrgGuAa4BrgGuAa4BrgGuAa4Bp4/9cAI3oOXVvjhCRAAiRAAiRAAiRAAiRAAiRAAiRAAiRwMAQo9BwMV1olARIgARIgARIgARIgARIgARIgARIggUMnQKHn0JFzQhIgARIgARIgARIgARIgARIgARIgARI4GAIUeg6GK62SAAmQAAmQAAmQAAmQAAmQAAmQAAmQwKEToNBz6Mg5IQmQAAmQAAmQAAmQAAmQAAmQAAmQAAkcDAEKPQfDlVZJgARIgARIgARIgARIgARIgARIgARI4NAJUOg5dOSckARIgARIgARIgARIgARIgARIgARIgAQOhgCFnoPhSqskQAIkQAIkQAIkQAIkQAIkQAIkQAIkcOgEKPQcOnJOSAIkQAIkQAIkQAIkQAIkQAIkQAIkQAIHQ4BCz8FwpVUSIAESIAESIAESIAESIAESIAESIAESOHQCFHoOHTknJAESIAESIAESIAESIAESIAESIAESIIGDIUCh52C40ioJkAAJkAAJkAAJkAAJkAAJkAAJkAAJHDoBCj2HjpwTkgAJkAAJkAAJkAAJkAAJkAAJkAAJkMDBEKDQczBcaZUESIAESIAESIAESIAESIAESIAESIAEDp0AhZ5DR84JSYAESIAESIAESIAESIAE/tsJbOfWkd3YrPCY28hl89guM6padkpOsZVHNlfOA3mn8CNXKGml9IVCfn/3lbbIKyRAAhUIUOipAIiXSYAESIAESIAESIAESIAESCAogeyDCXTEIqgPqZ9wFJfHn3rEnDwejsRxIeyMax5cRM6YpFp2DJPuw9wShtqjhp9tuJHOu8cAWL0zgOYGx8/6sP+4ohtfzaDL5NDQjalXetRLjLYYNjUr+7Mbyf2ISto8P0ngAydAoecDXwB8fBIgARIgARIgARIgARIggeoQ2E4PIhKKINIxhrnn68i+XMSoElM6fnGie1Z/jlsCS7RvFssba0gPt1nfm8dfWo5Uy07pp1rDrfYI6sMt6EllkFtbxFCrEF7aMPrCuSs311v8PB0xNA8vIrvrjCs62l3EtYsR1F+8itH0GnKZJDrE93Av5qz7NrG8MItUyv2THLmKC6EImoeXXKJXkX2eIAESKEuAQk9ZPLxIAiRAAiRAAiRAAiRAAiRAAkEJ5LE8v4hVUwRZm8RlEanSkVTixVMMiUiXxl6kdAjPrj43iLQ1VbXslPD7yRiioQgudM86gsojde76orxJizWxQaS1nyXMeU8XfumWwtVYxr6US8pz7VPr9jnXwW5GRvm0DOPhHudz2eEXEiABUOjhIiABEiABEiABEiABEiABEiCBAyNwF11C6ImN4bGY41UCzeJ75wzM7KT0dZFG1YKhJ6UcqZYdYPVfMoLIjDICFnGt0fAzPSijawyxppRn3vMLfSI6yPMsWSV4dc540tjk3TLKKYauueL0Ma99ficBEihPgEJPeT5VvvoGW683kM+/qbLdd8Bc4QXmF1ffAUeOxoWtlftYWjuauTkrCZAACZAACZAACZDAO0zgxYRb2FkYsKJdIsNPXU6vjCvxJemkeLkGVMsOACnExDD0yJxB182R9XGkGBRF19wmtn9fwpxIs0pnkNsy7/E7XsNNKw3MW2dHCVVNSvAyb9XRQy0TWDajocwxPCYBEghMgEJPYFRvNzB//0ec/qgONSfkz7HWmbcz+I7d/XzgC+vZGpN/Wp6tjJ2Xz/r5T1h5x3ytujuvRvGZeK/fTOCPqhunQRIgARIgARIgARIggfeZwOORFtSHoui6oyJV5nplfZ4Rt9CDO/J8Rwmhp1p2BMu5Hp+IGwCpbnFeCjRSeIqiubUF9eEoIk0xWTw63OIRiLxvRwlGYa/Qk8HodxHU+wk9isnlRIm0Lu8U/E4CJFCWAIWesniqdLEwg8ZaKfDUftuP8bEfMXxfCiJVmuFozejn+3s/nu9IVz4ooQdAuvMMak6cQfz+0b4Kzk4CJEACJEACJEACJPAOERD1eURnrdYxPNZ5WvsRevZrp5BHNrtu/MhW7kGEnsfDMUuQEr6ns4ppNokO8TzfTWAZQGHDtL2u2rQbkUGu6J/SQo/0x10I+h16i3SFBN47Agcu9Gzn9D/4Umy2kcuuI6d/8ZUaBkDYCjKujImjubTYheNWJE8I4/qX5NF4ciCz/pEIWdE75246qVsfmtCDZ/04Kd5x8zRc/z07EOI0SgIkQAIkQAIkQAIk8M4TEMWFRQpTuA1DD426M3tN3XoLOzodzG71rqJ1gqRuyXtjuPHQTVpG/QhRRgs6IgpI/fwg6g7tNXXrKYaaRKTPMB6+o2lbhY08Ckfkm7Wf3iiRzud+NW//TQiDue3KdrbyyB6WT5W94QgfAm8t9KyoQl6uELzddaTHuxEVaq/+Rx9uQVfSKGLiN6YhjtEnxQtr9c4AmhtMW224kda/LNdla0A9j/FZKuzR12cfOFU7dbdNpWy1IaUiXqpm+8gNvcDwlyJayS1ifXBCDx6h91PBoQkJvTSP/N3QARIgARIgARIgARIggSMhsLuOVI+IiImhw9wDCWd0Meaeuy7XfIsxV8uOayanGHPXnHnBU4xZpZK133b/n1sZfeOt72Pa0TWAPBE6RjFm19/49Xm7K5nb1lF+W032uva0F35Iujuq+TqXx8Jgm0xzU3vTC+2J0rWHXiTQbO2b3UyzDybQIbqz6f1tOIrL409dhayzP8ed63qc+LQEN+3cNnIvlzA1GEdEzOO6psbkfsONVlEMXM3n3btrU69m0WOOC0XQPLjodG5D5WcP5rOekJ/7JfB2Qo+9KN25lrm5XkRCMbSPzOLhWh65zCy6rEUaxbUHwtVtpK/HUB8WY+5iObuOlfQELosq755cTmkrgkjHGOaeryP7chGjHTE0Dy8ia6mqSklu6sUtUSDM+FnI+CifJXzeL0B53zMkvo+j9fsEnu+sItXXgNOfnsXJL3/C7ck4WiOyfk3NibP4+ooa5zfhzgaWEm04J+4VP+ca0Dn9DHmXOPQGK7/2o7Fejfk0hMbBGayYY3Y28Hz6R3x9zrETT9z32AGeC9++jyPxDPhjTo8/j+u60r/lT9yxU38Jvb86UTvWI7xO4GsRyfLlTy4fTKHn+asZdEbOy2f6NIS414YwFNBnMa4yIz+4PueCzqn8W0oYLM41wMs0/T8ifasOMdd/MH3m1adezaC3OaS4nMW55n6kXhmFul3czuJc+yjmxXVx3lpv/Uh5I8TsaxNYMkzpKflJAiRAAiRAAiRAAiRwwARscSaCyyNLxiZYz6taqTfoVurivDrXNIi0VkGqZUdPa37q9ur9qpW6uKbORfoXZTewwgw6xMa/e9a4cw23/lG8ZzMGWIe6vbpZc8fvnDX40RgiotV7z11XFzKvzUP/nh60/Ip0TCC9lsfy7W7re71HoPP6JYMKouj411Nkd7eRTY9JIcfTZU3e91IVrhYCiyP0bNtzG3vgdinEmJ3SdNRVV8K9D04tZByWrybR3hRD5KIScoqEHuWDiDxLr6NQyGCqU6btuYTA3F10XYyg/uJVDM1nkM2+RHr8KiJGal+QZw/ksxcqv++ZwFsIPWsykuZiTC54T1GtQs4jsihF2K4un8tg7oER4QNgNSEVSVs11tXXY4NI50o9mxZ6fKq3F91S3uei4YFPzKLVSs06i8++kpt9q+jyNxOYviJr8+gizPLTL7LnT9y+dEpG/nx0Fufqz6NWFW/+7OYL6cnOCyS+dewf++tZZ8w/n8mUoZ0XGP5G2TlxCrWfnsExy7diMWZe+XbyqxBq9RgdmWPa+eiMJUYcV3WGPvun8kd4paKVjl0x/wMA2EKPbfcUjtnFqE8hNmeoEOZcZX0OwCjoOws8J4D8AuKfO+/x+CdnIVmcQezXDXvG/GSD9f5q+1ztC+zr5sHKZJPDXPD9q3xnx776Cc8Fmmf9OK14H/8qhHOfnJLv8W9xzBee4frfpT+nzXcB4PmQEhW/nYb7by/m7DwmARIgARIgARIgARI4EAK7GdzqkJvk6I+z1h+0zRo5umOVbCUeQXRwEYXdbTwekx23mscz0q1q2Sn5kGpfFGrBjQebwNZTO81sVLkgbrX+OB+KoGNq3Yokyd4Rf9CPINJz10fAMibT+7hwN6Z+3ways0ok6MWcd1+nahbZ+0TDzNEdbiLZKcSXNjg88kj+IM5dxZT3j622oyptzRTszCLXnhoPuqV8RAgohtAD5LE8v+iOHhJ1moTwZkQ+adHE3T3NdsZ9oLu2eYWe9CAuhCKIml3gdn/DNRGEoWoxCUNyLbTgmp1Z4zYPnbJX4dn35LN3Cn4PTGDfQo/+5dSeSKBLLDiP0OP1oJDstkLBot7q8uZAb2Eyteiax4zfNuZ461i16TMWfNEQdWKvPpeyU3xeCz1i830GjdMvsGVG2ARJ3VpTnZtOnMd13aZqZwPziWk7UsYRT75A/K4SGKwxIpJIemWPqQ3h+jMlpryeQevfpDBwvHPBdl8LPUJ8qr00jRVDe7HtfPkjll6rW15Pq6LSTpqWHucVHPR5Yfv0/8ziD+Hfzgtct9K86lBzyek6Zo+t5HMARvbDVTgIPCfeYP6KEtc+bsCwZrrzDInEgjtK6l5cijHGs/m6obt0nahDXadiI/SkexNIZORLmP9evi9Xd7ZMAuOqiLct6Hw1anT60ml0dQhN/xcV+/aFyJMkQAIkQAIkQAIk8O4RkJtYsWn3/3FKS8gUF3Ncc9+svbGvlp2yhES6TovhZ7gNPXfcf4jH7hpSfVKE0r5Guiex7BVr/CbKiEgSw37TVYyatYrUPXqf+G4JPb+hR6Q5xdzBBDrtqOOX4nIj8nF0WZFemEH+Vk0kT+YKdIHtK5O4aXU7cyJ6/HACat9r+CTT6K5iKsj7KCH02M/k6fYmUwnjuPW78Eal9bVMlE5BQ7Bn35PP/iB4NgCB/Qk9uRlZbf3KJFZ31YIrI/Rs/64V3G4kX5X2Sv9C0+Foq1b9nyi65jax/fsS5kRaVjoDrYRLS2r+77pxrW8APeJnJInHXpV1jz6X9tLviiP01PlFcwQRenQK1IlTaJx2okSc2XQNmDoc/94Ra5zr4sgZUzfgjirRBZNrTjjRRLbQ8/cfsWQKU4YdV+SNUKNbpQChhYSVf6q26r8aKhGMiJ7Pf7JFKOGhHl9jt13fg88VGblplP62hzkL02hUUUlmsWlf21rAsZ/NdxSeD5yVkVsfxzHv4u6M12lgNZ/3+6dg6bl0BJa4VZ+rvQRPKrVjmEckQAIkQAIkQAIkQALvDgHdFStIAdxyXr+FHd05y73H8ky2b/uy8U42e3TFjD1PEuyrrqPkjX4JEH2Uu9NrRchEemZlqZHCXXQ1eqOgVHRQ+CpuvdLt7isIPVqoMVLApGjSgo7rah/cN4apJyVa1Ov7vc9UohaTjryxinErHlZ63dY6Hs6LVLFFLHvWbZBn35PPwd4WR/kQ2IfQ416UtrLoI/QsDMYQESFfIueydRhzL0spn8IzlZfa2IuUUiTl4oqiubUF9eEoIk0xWdQq3AI7PG3rLrqE2toUR8/4JEb7VJEpcwyC++zDKMApR+jxrc8SROgRIsjNkJ1mdewTUZ/nkYyEER7Y0SxlasCUG7PyE05bgsUXdsSQLfS0OtE11sMagsrpZlnHR9TyET+N52SKkY7g0Ta8z21HzHhEj6Lze/S5LKMAb8oaspc5dZTOCYdbyWm00OJ5Zvf4VQx/JcWyGi93c2B+Fq2fqHEnTuG0qM9jhlxhA+PfyOvnElIY1GLesWambZkoeUwCJEACJEACJEACJEACeyKgRRFDVLHuz0wgKlLXzDSnIsPbeDzeZok99eEWREWt2tYxPDSibnIq26U9ISOopPhRXuh5PNKC+lAUXXd0gYZtWPeFY7jcN4Fb4wO4rCKofLNo9DN5hR6dEtY+CTtW4tUMOqx0sgisKDR174WWNqs49QVRvkU1S3LPVenZ9+hzEVueCEpgz0KPVun0oiwn9GT/M4vU7Qnc+EGF+31XutaOTqtqHnlqF456PCzzW8U/jLReddmkjCYy8gWxlXdF+egCzvVXktZi3YvPQcG5x1VH6BE288+m0Rk5aws+NbUhDItULi0ilCv2W26Mfc0RLLRIUyQ42GPrIOrRWIWhdYFo9amjjnSETmOZiB6diSaer0joMebyikXOMzs+l2Xkfimlv+1lTlukc/vga1zbLSv0OOlVRdy9RndWMT/Whs8+1oJPHWqvzNq1d7SwU/PNBP7ABhJhOa4xybQtL0p+JwESIAESIAESIAESIIHABLQo0jnj6nKFAEJP7qEsvnx5cBKjPWofHI7jpq5Gkpu1InzqrewY6VFFoUenebWO4bEu1m3duo2cGVWjCyb71RHSz+QVegAsjys/G9rQ8YPoGBZD83eieLPMroEqmF0vCjY/UBFDu+uYsmoWtdh1jCo++159DvzCONBLYG9Cjwo7q7/YjdFfdGXvYVkUquEqRlOzeGjl8HmnAWzxxVW1XY3LTMhK5B6l0xUuZphMWTmMnnZ9xnUrOshSM3sx9xY+u0yW/VI9ocee5vV99OrIjy9HsbIzg5hOIVIRHPZYfbAzi1ZVwFenVulLomiyLMrs1NcpKfTYdk6h9Z5twfdACzc6wkcP0uedFC15pei8PZdPXRkfn7V969PLyHWxzJe9zGlHQp1C/H4Zm+KSjv6pUKNHp79JgaaCTevyG6xMX7KLN7fqTpx25FUTEiuq+1mtk5oXxDLHkAAJkAAJkAAJkAAJvAcEdjeR20/601YeWVMIqOKjFjYqpGNZ6V55t1BSxfkP1NR+U7dEp7JwBK427Do6xqrRs4m5HiGgxNAxPmN3jL7RLrJgomgfm0XqP57Uq92MXSh7yKfGkZeDDpZwdcwSg8oIPeJyIbNo+5PObOKhFXShoozUvZHBJfd0Ku2refwlUPHZ3bea30r6bA7i8Z4I7E3o0a3ZRHs2+0e1aVOpVT13PN22bHdUAaeQuzCVU4Hdp35PiXzBioonMhj9TrX9W1bt5Gx/he9Bfbadr3BQDaHnTzxffGZHa1gT6miSj7uQ3nmD25dUZMennpo6b/5UxZ+NMa7aOH/idrO891h4wk4HKyn0wLDjaZteBGKuTdabKdV1yxPdUiT0mHNV9LkSoyLvSpwwnq/inE6Hq5pvE+7iywV35MxW8pLF4qRZpyn/COM9cXROP7N92Zq5pES3s+g0e6DvvMGWLnW0dh9Lrlp4TiSQTtWCYKfea+jbJmtuV/Fme0YekAAJkAAJkAAJkAAJvIsEChsZzI33yj96+5TC2H45i55WtXdRBZ4vtLvTgHyfK7eEIdWO2yqiHG7DDaNbktxPGYWSXcWjy6cQrSZ7rfQdXZzZJWoA8PM52qfq1fg6+y6eVMWYWyZgZifYhYt/KbHnVftXXXNWP5kuON1+e9nqyubspeW++oIoRSLKnYiUqB9n7QwX7K4j1SOyXGLoSLo2B9p00efymEjxisDrQyWhx21IFVZuFIETAHZnZQMmbwMks2ZRxWfXKWfumcS3kj4XD+WZgAT2JvT4GvUpxvzqaXEldqHwWd25hvFwVxnSbfbCcfiqk/oeVxTQGm79Q4k4YtH5zaXzDD3/MB33fXx2Lu7j6O2FnvzdNiti49jnbRienkHq1wm0qpbex1tnpAC0MorPVMROzd9C6EzMYLyvASdr62CLCyJ9SI2RtibQWa+6RomuVqqrk3jI0kKPShVz2ZlBanoUsa9O4ZjZulvXuxFRRwa5YkFHXvQ9H9DnQIwMH8oeBpxT2NDzig5ikuk0htvPW2KNGTmlCyib53T3LNGNLb6oPBKt3XW01okzONc3gVTiR3wtavIIEW9LX1fXfp1BYki3Yze6sgHQ4pLwTczRek8rRWWfnhdJgARIgARIgARIgASOnMBvuGH9MVoJOV6hZyuDUbHv+W4At0RDmtw60mNxWftFlajwfwTVOj3cgp5UBrm1RQy1CiHByYiwSmyIRjfmz88Dsv5M54zd/avIfnpQtlfvmEB6LY/l293W9/oeFXKuU4xaBjD1n5fIZjNI9UjhwV3LpcjyO3ZCt1fXXaeEe37nPG6XCFSAOn854YnWUbf7BjLYIk8El0eWitvZ767h8XOveKL2ysa7tj2sENFjjxMHauyF7lk176ZqLd+LlN7LA1hNxB1RKciz79Vnl1P8shcCByD0ZDAq2vSF47gxLztkbecymOqU9XbsGjyi3Z5V4KkFPXcyyGbXjR8nxC99Xd7XMbVuhf1l7/TKXy49d5HTBZyFUJR+adXpKWRm0SOieUIxdM15F75G8+4JPdhZRarzPI5rIUelaZ1sGnXamwv3MwnEVEFkubmvgyjc3KvbrYsxazOIe8ecuYRx3RpcYSgr9JSwU/PRWXzdN2O3fAd0xIuTEiZu9RV0ypwP5HNQRur5Kn4E5CTs5O/1SyFGvRdL9DnXhoTNVHfycnOw26DXNmDcFOFFe3YlFun3WFN7Fl8Pynbr+aVRNJ6Rha/t6x+dR/zXVfdjFWZUy/s61JTp4uW+id9IgARIgARIgARIgATeHQJl9iaeWqTQmQuhbiRdtVqMp3kyZgk2ziZdNOdV567rvzwa463DPFLdUdQ3dmOqZJdkLXS02TVZoJveGDVhVh/cdf/Rf/c3XBMNei4O46F32nf5uxK16n9IIrsFuPehynE9Rrc812VDwldxUzciyi7KNvaqw5bfIxcJPbsZK/JHROZEf5zFsmuvvG7tex8PSwHt8sgiVkR6XiGDVJ88F7H2ynKm7ZzaZz+Qa0DUBlqx7KnUO5Ua1jy8aD2nvZ/2+qufVfFwMnN6MScKTQd49qA++zHiub0ROAChB0B2EaMdqpCyDgMMR3F58DelDr+UYpC+VvRp/OLaXUOqTxWHUuMi3ZPOL4/sojssUYwJt6HndqZY9bTZlPllao85ooOdN8i/3pA/hTLRGQU15rU7fcjltR6TL2PHdUOJL2/+VD7pFDH3OC1mOClF7ut7+hbE56CMgk4cZE5layuvuHuZZvpRJyJ+ijpevcGWeJ+l3uWOZruh0u88TmvfXvuz94zmVxIgARIgARIgARIggfeOwF72Jk8xJGqRWvVe5IPmHk7iRt8YUkqgWf2X3Du5U3dUGQ0tSHgZqU1887iuGCzSddaQGhnAjYSOJlHpTB4bTjpTqQ7Lau9n+Oyd/l39vvzzVURUWpUQXSIdE67uWYVfuq2IlvqLA1jQwltmEh2i05a5x411Y2jB/Kuv+4m9Qo+sVeuxYdizOmHtriM9EpddqY1rzX1JZ68M3brdz5ZK0dtdx8Kge79d33QVoz71gFbvDMg0Qz1fUy9umVFFlZ49oM9uOvy2HwJVEHrKTCuKfyn1MbdVZlyQS1Yxr/XSxcTsuSoUBQsyF8fsjUA2ga9FJJKnHs/ejLzt6A3MD7lbweuW8O7PBJ6/7VQ+96c7RXocU6d80PAUCZAACZAACZAACZBAWQIBhZ7dTTwekxvy5mEtvuhUnQjqVTelhT6Z3TD0yJxU/6Hd+IO6fVmlejX2ImW0AMe/B5RYoQSB/RYo3r2LLiGWeAQie/p3/UDvMzf86/IUNtaR0yKP8Sx2JE2J+4yhb3m4jZzec/v4Edi4fs6sk13je69VGFxECZUeV/nZq+Szr4M8KQgcrNBDxh8MAVmf5hRic28ZPbRvYsGFnqWdfU/if6MSusxC1/4DeZYESIAESIAESIAESIAEvAQqCD2qIY4s2BtDx89PkTXqpOT+PYGevmHcUhEYMjqkBUNP3PPIzsU+Qo/uqNS/6BQBFrfuZpAcHEDPyKzMytA1Xjpn3OMqtBzXUS/NY0a0kNs1fiMBEqgyAQo9VQb6wZorvMD84jP/9KP/eihv8MeTBaRfHZXI9V8PmA9IAiRAAiRAAiRAAv/FBCoIPYUMFlKzuDXSi8sibSsUQftUpTSg4EKPTBOKomvOP2LFBm8IPa4krXJCz+4irom6rBe7kfzdtsQDEiCBAyZAoeeAAdM8CZAACZAATG/L5AAABCxJREFUCZAACZAACZAACZQmUEHoMW9UhXPrQy1GQWRzALC31C3dTekqpsy0LbdJ+W3PqVt5zO2xNbjftDxHAiSwdwIUevbOjHeQAAmQAAmQAAmQAAmQAAmQQJUI7EHoEX1vfpYtrZvHX/rOr4sxd82Zl0sVY1bnm4bx0EgHM+90jlUx5pYJrDgnbX/cxZ+3feoJGTfxkARI4EAJUOg5ULw0TgIkQAIkQAIkQAIkQAIkQALlCJQSevJYflKcovV4WHY3br+d9zeq26v3G63U1bmItw5PYQYdooOSR7zxN6zbq8dxy07D8jvniDyR7hnVddnfIs+SAAkcDAEKPQfDlVZJgARIgARIgARIgARIgARIoDQB3VU4m5Riy8VBzOnuSVvA9lyvVY8n0j2Jh2ubwO4mVtNjsr21UfMmfV0KP9GRp2ou1UUr1IIbDzaBracYbRUt2duK07103R3Vscvl7NokLotuWWZbdNWGvf6HJLJbQPZOLyKi7XjPXcjMrzwWrrdYfl9on8DDNdGdyfnx607lmpNfSIAEqkKAQk9VMNIICZAACZAACZAACZAACZAACQQnIIsgy+LKosCy+dORFIWRt7GSGpDCjnk91otbz3U0j46oiSDS95vTDSv3G260GDbDbei5UxwdhEdjllCjW7O7vFdRQEIguvnCubL881VEhACkfIp0TOChru+jxCl9zfsZGdZilGOPRyRAAtUnQKGn+kxpkQRIgARIgARIgARIgARIgASqRqCwoaJiNnw6Y+1uIpfNo+BTY0ffl9vanyvbuXVkc64eW9LQVl5G6vj5s7+peBcJkEAVCVDoqSJMmiIBEiABEiABEiABEiABEiABEiABEiCBoyRAoeco6XNuEiABEiABEiABEiABEiABEiABEiABEqgiAQo9VYRJUyRAAiRAAiRAAiRAAiRAAiRAAiRAAiRwlAQo9Bwlfc5NAiRAAiRAAiRAAiRAAiRAAiRAAiRAAlUkQKGnijBpigRIgARIgARIgARIgARIgARIgARIgASOkgCFnqOkz7lJgARIgARIgARIgARIgARIgARIgARIoIoEKPRUESZNkQAJkAAJkAAJkAAJkAAJkAAJkAAJkMBREqDQc5T0OTcJkAAJkAAJkAAJkAAJkAAJkAAJkAAJVJEAhZ4qwqQpEiABEiABEiABEiABEiABEiABEiABEjhKAhR6jpI+5yYBEiABEiABEiABEiABEiABEiABEiCBKhKg0FNFmDRFAiRAAiRAAiRAAiRAAiRAAiRAAiRAAkdJgELPUdLn3CRAAiRAAiRAAiRAAiRAAiRAAiRAAiRQRQJ/efDgAfhDBlwDXANcA1wDXANcA1wDXANcA1wDXANcA1wDXANcA+//GmBETxVVM5oiARIgARIgARIgARIgARIgARIgARIggaMk8H9OAY1YZLoskgAAAABJRU5ErkJggg==)"
   ]
  },
  {
   "cell_type": "code",
   "execution_count": null,
   "metadata": {
    "colab": {
     "base_uri": "https://localhost:8080/",
     "height": 300
    },
    "colab_type": "code",
    "id": "Gm8_TvdID75a",
    "outputId": "b08748c7-db43-43a6-9ea4-2d3f2fc7196c"
   },
   "outputs": [
    {
     "data": {
      "text/plain": [
       "Text(0.5, 1.0, 'rf feature importances')"
      ]
     },
     "execution_count": 131,
     "metadata": {
      "tags": []
     },
     "output_type": "execute_result"
    },
    {
     "data": {
      "image/png": "[encoded data removed]",
      "text/plain": [
       "<Figure size 432x288 with 1 Axes>"
      ]
     },
     "metadata": {
      "needs_background": "light",
      "tags": []
     },
     "output_type": "display_data"
    }
   ],
   "source": [
    "feat_importance=pd.Series(rf.feature_importances_,index=train_x.columns) \n",
    "feat_importance.nlargest(5).plot(kind='barh') \n",
    "plt.title('rf feature importances')\n"
   ]
  },
  {
   "cell_type": "code",
   "execution_count": null,
   "metadata": {
    "colab": {
     "base_uri": "https://localhost:8080/",
     "height": 480
    },
    "colab_type": "code",
    "id": "ihoH0-54ErSE",
    "outputId": "18f813e7-aa37-4a4c-eca1-1b26dae02bd9"
   },
   "outputs": [
    {
     "data": {
      "text/plain": [
       "<matplotlib.axes._subplots.AxesSubplot at 0x7fdc43231b70>"
      ]
     },
     "execution_count": 135,
     "metadata": {
      "tags": []
     },
     "output_type": "execute_result"
    },
    {
     "data": {
      "image/png": "[encoded data removed]",
      "text/plain": [
       "<Figure size 1008x504 with 1 Axes>"
      ]
     },
     "metadata": {
      "needs_background": "light",
      "tags": []
     },
     "output_type": "display_data"
    }
   ],
   "source": [
    "from xgboost import plot_importance\n",
    "plt.rcParams[\"figure.figsize\"] = (14, 7)\n",
    "plot_importance(xgb)"
   ]
  },
  {
   "cell_type": "markdown",
   "metadata": {
    "colab_type": "text",
    "id": "ZoFwpAnDFeu5"
   },
   "source": [
    "- 두 모델 공통적으로 old 변수가 OC를 가장 판단하는데 가장 중요한 변수로 작용하였다. 이어서 profit_diff,bedCount 등의 변수가 예측하는데 중요한 변수로 되었다."
   ]
  },
  {
   "cell_type": "markdown",
   "metadata": {
    "colab_type": "text",
    "id": "NWXH2s7oOmWT"
   },
   "source": [
    "# **MODELING**\n",
    "- 인공신경망"
   ]
  },
  {
   "cell_type": "code",
   "execution_count": null,
   "metadata": {
    "colab": {},
    "colab_type": "code",
    "id": "ZgHtW5I6OsEj"
   },
   "outputs": [],
   "source": [
    "import torch\n",
    "import torch.nn as nn\n",
    "import torch.optim as optim\n",
    "import torch.nn.init as init\n",
    "\n",
    "# + CNN할때 필요한 것\n",
    "import torch.utils.data as data\n",
    "import torchvision.datasets as dset\n",
    "import torchvision.transforms as transforms\n",
    "from torch.utils.data import DataLoader"
   ]
  },
  {
   "cell_type": "code",
   "execution_count": null,
   "metadata": {
    "colab": {},
    "colab_type": "code",
    "id": "69xFcCSfjVio"
   },
   "outputs": [],
   "source": [
    "device = torch.device(\"cuda:0\" if torch.cuda.is_available() else \"cpu\")"
   ]
  },
  {
   "cell_type": "code",
   "execution_count": null,
   "metadata": {
    "colab": {},
    "colab_type": "code",
    "id": "5e9qtrRGdKQC"
   },
   "outputs": [],
   "source": [
    "train_df = train_data.drop(['OC'],axis=1)\n",
    "train_OC = train_data['OC']"
   ]
  },
  {
   "cell_type": "code",
   "execution_count": null,
   "metadata": {
    "colab": {},
    "colab_type": "code",
    "id": "7ExPXh9BchTA"
   },
   "outputs": [],
   "source": [
    "from sklearn.model_selection import train_test_split # 검정용 데이터 생성\n",
    "valid_train_x,valid_x,valid_train_y,valid_y = train_test_split(train_df,train_OC,test_size=.2,random_state=42)\n",
    "\n",
    "valid_train_tensor = torch.tensor(valid_train_x.values,dtype=torch.float) # 검정용 데이터 train set (학습 x 부분)\n",
    "valid_train_tensor_y = torch.tensor(valid_train_y.values,dtype=torch.float) # 검정용 데이터 train set (학습 y 부분= 정답)\n",
    "\n",
    "train_tensor = valid_train_tensor.type(torch.FloatTensor).to(device)\n",
    "train_tensor_y = valid_train_tensor_y.type(torch.LongTensor).to(device)\n",
    "\n",
    "valid_test_tensor = torch.tensor(valid_x.values,dtype=torch.float).to(device)"
   ]
  },
  {
   "cell_type": "code",
   "execution_count": null,
   "metadata": {
    "colab": {},
    "colab_type": "code",
    "id": "FVJlBaACfeDc"
   },
   "outputs": [],
   "source": [
    "num_epoch = 10000\n",
    "lr = [0.005,0.002,0.0005,0.0002]\n",
    "s_lr = [0.05,0.02,0.005,0.002] # 시그모이드는 학습률 크게"
   ]
  },
  {
   "cell_type": "code",
   "execution_count": null,
   "metadata": {
    "colab": {
     "base_uri": "https://localhost:8080/",
     "height": 210
    },
    "colab_type": "code",
    "id": "Qu1Whbfdg3yV",
    "outputId": "28845f21-87ad-4823-f493-e9ba23ff1977"
   },
   "outputs": [
    {
     "data": {
      "text/plain": [
       "Sequential(\n",
       "  (0): Linear(in_features=73, out_features=438, bias=True)\n",
       "  (1): ReLU()\n",
       "  (2): Linear(in_features=438, out_features=730, bias=True)\n",
       "  (3): ReLU()\n",
       "  (4): Linear(in_features=730, out_features=438, bias=True)\n",
       "  (5): ReLU()\n",
       "  (6): Linear(in_features=438, out_features=73, bias=True)\n",
       "  (7): LeakyReLU(negative_slope=0.01)\n",
       "  (8): Linear(in_features=73, out_features=2, bias=True)\n",
       ")"
      ]
     },
     "execution_count": 83,
     "metadata": {
      "tags": []
     },
     "output_type": "execute_result"
    }
   ],
   "source": [
    "# 활성화 함수를 변경 시키면서 성능 확인 필요\n",
    "\n",
    "w = 73  # input의 개수\n",
    "model = nn.Sequential(\n",
    "          nn.Linear(1*w,6*w),\n",
    "          nn.ReLU(),\n",
    "          nn.Linear(6*w,10*w),\n",
    "          nn.ReLU(),\n",
    "          nn.Linear(10*w,6*w),\n",
    "          nn.ReLU(),\n",
    "          nn.Linear(6*w,1*w),\n",
    "          nn.LeakyReLU(),\n",
    "          nn.Linear(w,2), \n",
    "      )\n",
    "\n",
    "loss_func = nn.CrossEntropyLoss()\n",
    "# optimizer = optim.Adam(model.parameters(),lr=0.002)\n",
    "#optimizer2 = optim.Adam(model.parmeters(),lr=0.0002)\n",
    "model.to(device)"
   ]
  },
  {
   "cell_type": "code",
   "execution_count": null,
   "metadata": {
    "colab": {},
    "colab_type": "code",
    "id": "Tqniq3fm8dlb"
   },
   "outputs": [],
   "source": [
    "# 모델 함수로 만들어서 계속 초기화 할 수 있도록\n",
    "\n",
    "def model_RRRLR():\n",
    "    w = 73  # input의 개수\n",
    "    model = nn.Sequential(\n",
    "          nn.Linear(1*w,6*w), nn.ReLU(),\n",
    "          nn.Linear(6*w,10*w), nn.ReLU(),\n",
    "          nn.Linear(10*w,6*w), nn.ReLU(),\n",
    "          nn.Linear(6*w,1*w), nn.LeakyReLU(),\n",
    "          nn.Linear(w,2) )\n",
    "    loss_func = nn.CrossEntropyLoss()\n",
    "    return model.to(device)\n",
    "\n",
    "def model_RRRR():\n",
    "    w = 73  # input의 개수\n",
    "    model = nn.Sequential(\n",
    "          nn.Linear(1*w,6*w), nn.ReLU(),\n",
    "          nn.Linear(6*w,10*w), nn.ReLU(),\n",
    "          nn.Linear(10*w,6*w), nn.ReLU(),\n",
    "          nn.Linear(6*w,1*w), nn.ReLU(),\n",
    "          nn.Linear(w,2) )\n",
    "    loss_func = nn.CrossEntropyLoss()\n",
    "    return model.to(device)\n",
    "\n",
    "def model_RRRT():\n",
    "    w = 73  # input의 개수\n",
    "    model = nn.Sequential(\n",
    "          nn.Linear(1*w,6*w), nn.ReLU(),\n",
    "          nn.Linear(6*w,10*w), nn.ReLU(),\n",
    "          nn.Linear(10*w,6*w), nn.ReLU(),\n",
    "          nn.Linear(6*w,1*w), nn.Tanh(),\n",
    "          nn.Linear(w,2) )\n",
    "    loss_func = nn.CrossEntropyLoss()\n",
    "    return model.to(device)\n",
    "\n",
    "def model_SSSS():\n",
    "    w = 73  # input의 개수\n",
    "    model = nn.Sequential(\n",
    "          nn.Linear(1*w,6*w), nn.Sigmoid(),\n",
    "          nn.Linear(6*w,10*w), nn.Sigmoid(),\n",
    "          nn.Linear(10*w,6*w), nn.Sigmoid(),\n",
    "          nn.Linear(6*w,1*w), nn.Sigmoid(),\n",
    "          nn.Linear(w,2) )\n",
    "    loss_func = nn.CrossEntropyLoss()\n",
    "    return model.to(device)\n",
    "\n",
    "def model_TTTT():\n",
    "    w = 73  # input의 개수\n",
    "    model = nn.Sequential(\n",
    "          nn.Linear(1*w,6*w), nn.Tanh(),\n",
    "          nn.Linear(6*w,10*w), nn.Tanh(),\n",
    "          nn.Linear(10*w,6*w), nn.Tanh(),\n",
    "          nn.Linear(6*w,1*w), nn.Tanh(),\n",
    "          nn.Linear(w,2) )\n",
    "    loss_func = nn.CrossEntropyLoss()\n",
    "    return model.to(device)\n",
    "\n",
    "def model_LRLRLRLR():\n",
    "    w = 73  # input의 개수\n",
    "    model = nn.Sequential(\n",
    "          nn.Linear(1*w,6*w), nn.LeakyReLU(),\n",
    "          nn.Linear(6*w,10*w), nn.LeakyReLU(),\n",
    "          nn.Linear(10*w,6*w), nn.LeakyReLU(),\n",
    "          nn.Linear(6*w,1*w), nn.LeakyReLU(),\n",
    "          nn.Linear(w,2) )\n",
    "    loss_func = nn.CrossEntropyLoss()\n",
    "    return model.to(device)"
   ]
  },
  {
   "cell_type": "markdown",
   "metadata": {
    "colab_type": "text",
    "id": "bZXIAgV0B8h4"
   },
   "source": [
    "## ReLU - ReLU - RELU - LeakyReLU"
   ]
  },
  {
   "cell_type": "code",
   "execution_count": null,
   "metadata": {
    "colab": {
     "base_uri": "https://localhost:8080/",
     "height": 791
    },
    "colab_type": "code",
    "id": "gK2iW8QFhRNi",
    "outputId": "8cd5ae4a-49b4-43e9-cfc2-11cec210d34b"
   },
   "outputs": [
    {
     "name": "stdout",
     "output_type": "stream",
     "text": [
      "학습률 : 0.005\n",
      "tensor(1828784.7500, device='cuda:0', grad_fn=<NllLossBackward>)\n",
      "tensor(96.9898, device='cuda:0', grad_fn=<NllLossBackward>)\n",
      "tensor(37.1877, device='cuda:0', grad_fn=<NllLossBackward>)\n",
      "tensor(147.8693, device='cuda:0', grad_fn=<NllLossBackward>)\n",
      "tensor(88.9446, device='cuda:0', grad_fn=<NllLossBackward>)\n",
      "tensor(161.2969, device='cuda:0', grad_fn=<NllLossBackward>)\n",
      "tensor(31.0882, device='cuda:0', grad_fn=<NllLossBackward>)\n",
      "tensor(5843734.5000, device='cuda:0', grad_fn=<NllLossBackward>)\n",
      "tensor(71826., device='cuda:0', grad_fn=<NllLossBackward>)\n",
      "tensor(143222.9375, device='cuda:0', grad_fn=<NllLossBackward>)\n",
      "학습률 : 0.002\n",
      "tensor(73652088., device='cuda:0', grad_fn=<NllLossBackward>)\n",
      "tensor(508.2491, device='cuda:0', grad_fn=<NllLossBackward>)\n",
      "tensor(115.1421, device='cuda:0', grad_fn=<NllLossBackward>)\n",
      "tensor(179.0111, device='cuda:0', grad_fn=<NllLossBackward>)\n",
      "tensor(18.8826, device='cuda:0', grad_fn=<NllLossBackward>)\n",
      "tensor(382.8789, device='cuda:0', grad_fn=<NllLossBackward>)\n",
      "tensor(119.8823, device='cuda:0', grad_fn=<NllLossBackward>)\n",
      "tensor(133.5694, device='cuda:0', grad_fn=<NllLossBackward>)\n",
      "tensor(100.2537, device='cuda:0', grad_fn=<NllLossBackward>)\n",
      "tensor(31.0778, device='cuda:0', grad_fn=<NllLossBackward>)\n",
      "학습률 : 0.0005\n",
      "tensor(38616412., device='cuda:0', grad_fn=<NllLossBackward>)\n",
      "tensor(3765.6042, device='cuda:0', grad_fn=<NllLossBackward>)\n",
      "tensor(1973.2792, device='cuda:0', grad_fn=<NllLossBackward>)\n",
      "tensor(622.7010, device='cuda:0', grad_fn=<NllLossBackward>)\n",
      "tensor(995.4896, device='cuda:0', grad_fn=<NllLossBackward>)\n",
      "tensor(815.0443, device='cuda:0', grad_fn=<NllLossBackward>)\n",
      "tensor(483.6318, device='cuda:0', grad_fn=<NllLossBackward>)\n",
      "tensor(143.6243, device='cuda:0', grad_fn=<NllLossBackward>)\n",
      "tensor(9.3152, device='cuda:0', grad_fn=<NllLossBackward>)\n",
      "tensor(210.7738, device='cuda:0', grad_fn=<NllLossBackward>)\n",
      "학습률 : 0.0002\n",
      "tensor(6494021.5000, device='cuda:0', grad_fn=<NllLossBackward>)\n",
      "tensor(23172.0410, device='cuda:0', grad_fn=<NllLossBackward>)\n",
      "tensor(3778.0208, device='cuda:0', grad_fn=<NllLossBackward>)\n",
      "tensor(7649.2544, device='cuda:0', grad_fn=<NllLossBackward>)\n",
      "tensor(3347.1062, device='cuda:0', grad_fn=<NllLossBackward>)\n",
      "tensor(3092.7478, device='cuda:0', grad_fn=<NllLossBackward>)\n",
      "tensor(761.1188, device='cuda:0', grad_fn=<NllLossBackward>)\n",
      "tensor(1007.4875, device='cuda:0', grad_fn=<NllLossBackward>)\n",
      "tensor(332.8636, device='cuda:0', grad_fn=<NllLossBackward>)\n",
      "tensor(280.7232, device='cuda:0', grad_fn=<NllLossBackward>)\n"
     ]
    }
   ],
   "source": [
    "loss_array_array = []\n",
    "model_array = []\n",
    "for r in lr:\n",
    "    loss_array = []\n",
    "    model = model_RRRLR()\n",
    "    optimizer = optim.Adam(model.parameters(),r)\n",
    "    print(\"학습률 : {}\".format(r))\n",
    "    for i in range(num_epoch):\n",
    "        optimizer.zero_grad()\n",
    "        output = model(train_tensor).to(device)\n",
    "        loss = loss_func(output,train_tensor_y)\n",
    "        if i%1000==0:\n",
    "            print(loss)\n",
    "        loss.backward()\n",
    "        optimizer.step()\n",
    "        loss_array.append(loss)\n",
    "    model_array.append(model)\n",
    "    loss_array_array.append(loss_array)"
   ]
  },
  {
   "cell_type": "code",
   "execution_count": null,
   "metadata": {
    "colab": {
     "base_uri": "https://localhost:8080/",
     "height": 1000
    },
    "colab_type": "code",
    "id": "QTWYD0xthf8G",
    "outputId": "40b71342-9809-46e0-983a-5bdeb0347719"
   },
   "outputs": [
    {
     "data": {
      "image/png": "[encoded data removed]",
      "text/plain": [
       "<Figure size 432x288 with 1 Axes>"
      ]
     },
     "metadata": {
      "needs_background": "light",
      "tags": []
     },
     "output_type": "display_data"
    },
    {
     "data": {
      "image/png": "[encoded data removed]",
      "text/plain": [
       "<Figure size 432x288 with 1 Axes>"
      ]
     },
     "metadata": {
      "needs_background": "light",
      "tags": []
     },
     "output_type": "display_data"
    },
    {
     "data": {
      "image/png": "[encoded data removed]",
      "text/plain": [
       "<Figure size 432x288 with 1 Axes>"
      ]
     },
     "metadata": {
      "needs_background": "light",
      "tags": []
     },
     "output_type": "display_data"
    },
    {
     "data": {
      "image/png": "[encoded data removed]",
      "text/plain": [
       "<Figure size 432x288 with 1 Axes>"
      ]
     },
     "metadata": {
      "needs_background": "light",
      "tags": []
     },
     "output_type": "display_data"
    }
   ],
   "source": [
    "for loss_array in loss_array_array:\n",
    "    plt.plot(loss_array)\n",
    "    plt.title(\"valid data loss graph\")\n",
    "    plt.show()"
   ]
  },
  {
   "cell_type": "code",
   "execution_count": null,
   "metadata": {
    "colab": {},
    "colab_type": "code",
    "id": "bjjDSKvLhqlQ"
   },
   "outputs": [],
   "source": [
    "output_array = []\n",
    "for m in model_array:\n",
    "    output = m(valid_test_tensor)\n",
    "    output_array.append(output)\n",
    "# output"
   ]
  },
  {
   "cell_type": "code",
   "execution_count": null,
   "metadata": {
    "colab": {},
    "colab_type": "code",
    "id": "kj-cnZa2iI9V"
   },
   "outputs": [],
   "source": [
    "valid_result_array=[]\n",
    "for output in output_array:\n",
    "    valid_result = []\n",
    "    for i in output:\n",
    "        if i.argmax() == 1:\n",
    "            valid_result.append(1)\n",
    "        else:\n",
    "            valid_result.append(0)\n",
    "    valid_result_array.append(valid_result)"
   ]
  },
  {
   "cell_type": "code",
   "execution_count": null,
   "metadata": {
    "colab": {
     "base_uri": "https://localhost:8080/",
     "height": 87
    },
    "colab_type": "code",
    "id": "aPjJ0MtvioGc",
    "outputId": "0aad45b1-747a-4e3e-9d19-589737899193"
   },
   "outputs": [
    {
     "name": "stdout",
     "output_type": "stream",
     "text": [
      "0.9508196721311475\n",
      "0.9344262295081968\n",
      "0.9672131147540983\n",
      "0.9672131147540983\n"
     ]
    }
   ],
   "source": [
    "from sklearn.metrics import accuracy_score # 정확도 측정\n",
    "for valid_result in valid_result_array:\n",
    "    print(accuracy_score(valid_y,valid_result)) # 오류나면 데이터type 통일해주기"
   ]
  },
  {
   "cell_type": "markdown",
   "metadata": {
    "colab_type": "text",
    "id": "THJZIJc9CMFO"
   },
   "source": [
    "## ReLU - ReLU - ReLU - ReLU"
   ]
  },
  {
   "cell_type": "code",
   "execution_count": null,
   "metadata": {
    "colab": {
     "base_uri": "https://localhost:8080/",
     "height": 228
    },
    "colab_type": "code",
    "id": "-_3Odu2yB5uC",
    "outputId": "57a31567-e17f-4c9f-b5cc-0db9db3a8581"
   },
   "outputs": [
    {
     "name": "stdout",
     "output_type": "stream",
     "text": [
      "학습률 : 0.005\n",
      "tensor(29709250., device='cuda:0', grad_fn=<NllLossBackward>)\n",
      "tensor(0.1632, device='cuda:0', grad_fn=<NllLossBackward>)\n",
      "학습률 : 0.002\n",
      "tensor(59496948., device='cuda:0', grad_fn=<NllLossBackward>)\n",
      "tensor(0.1333, device='cuda:0', grad_fn=<NllLossBackward>)\n",
      "학습률 : 0.0005\n",
      "tensor(26882674., device='cuda:0', grad_fn=<NllLossBackward>)\n",
      "tensor(3630.6670, device='cuda:0', grad_fn=<NllLossBackward>)\n",
      "학습률 : 0.0002\n",
      "tensor(5322987.5000, device='cuda:0', grad_fn=<NllLossBackward>)\n",
      "tensor(3424.7825, device='cuda:0', grad_fn=<NllLossBackward>)\n"
     ]
    }
   ],
   "source": [
    "loss_array_array = []\n",
    "model_array = []\n",
    "for r in lr:\n",
    "    loss_array = []\n",
    "    model = model_RRRR()\n",
    "    optimizer = optim.Adam(model.parameters(),r)\n",
    "    print(\"학습률 : {}\".format(r))\n",
    "    for i in range(num_epoch):\n",
    "        optimizer.zero_grad()\n",
    "        output = model(train_tensor).to(device)\n",
    "        loss = loss_func(output,train_tensor_y)\n",
    "        if i%5000==0:\n",
    "            print(loss)\n",
    "        loss.backward()\n",
    "        optimizer.step()\n",
    "        loss_array.append(loss)\n",
    "    model_array.append(model)\n",
    "    loss_array_array.append(loss_array)"
   ]
  },
  {
   "cell_type": "code",
   "execution_count": null,
   "metadata": {
    "colab": {
     "base_uri": "https://localhost:8080/",
     "height": 1000
    },
    "colab_type": "code",
    "id": "MXGa5_cFCehV",
    "outputId": "7eab7588-1073-44ec-b2ba-5315e50235c7"
   },
   "outputs": [
    {
     "data": {
      "image/png": "[encoded data removed]",
      "text/plain": [
       "<Figure size 432x288 with 1 Axes>"
      ]
     },
     "metadata": {
      "needs_background": "light",
      "tags": []
     },
     "output_type": "display_data"
    },
    {
     "data": {
      "image/png": "[encoded data removed]",
      "text/plain": [
       "<Figure size 432x288 with 1 Axes>"
      ]
     },
     "metadata": {
      "needs_background": "light",
      "tags": []
     },
     "output_type": "display_data"
    },
    {
     "data": {
      "image/png": "[encoded data removed]",
      "text/plain": [
       "<Figure size 432x288 with 1 Axes>"
      ]
     },
     "metadata": {
      "needs_background": "light",
      "tags": []
     },
     "output_type": "display_data"
    },
    {
     "data": {
      "image/png": "[encoded data removed]",
      "text/plain": [
       "<Figure size 432x288 with 1 Axes>"
      ]
     },
     "metadata": {
      "needs_background": "light",
      "tags": []
     },
     "output_type": "display_data"
    }
   ],
   "source": [
    "for loss_array in loss_array_array:\n",
    "    plt.plot(loss_array)\n",
    "    plt.title(\"valid data loss graph\")\n",
    "    plt.show()"
   ]
  },
  {
   "cell_type": "code",
   "execution_count": null,
   "metadata": {
    "colab": {},
    "colab_type": "code",
    "id": "822buC34Cirs"
   },
   "outputs": [],
   "source": [
    "output_array = []\n",
    "for m in model_array:\n",
    "    output = m(valid_test_tensor)\n",
    "    output_array.append(output)"
   ]
  },
  {
   "cell_type": "code",
   "execution_count": null,
   "metadata": {
    "colab": {},
    "colab_type": "code",
    "id": "uiskRDbAFrW3"
   },
   "outputs": [],
   "source": [
    "valid_result_array=[]\n",
    "for output in output_array:\n",
    "    valid_result = []\n",
    "    for i in output:\n",
    "        if i.argmax() == 1:\n",
    "            valid_result.append(1)\n",
    "        else:\n",
    "            valid_result.append(0)\n",
    "    valid_result_array.append(valid_result)"
   ]
  },
  {
   "cell_type": "code",
   "execution_count": null,
   "metadata": {
    "colab": {
     "base_uri": "https://localhost:8080/",
     "height": 87
    },
    "colab_type": "code",
    "id": "oynJ8gPqClAR",
    "outputId": "cdce16f5-985e-477e-d585-f2825616199b"
   },
   "outputs": [
    {
     "name": "stdout",
     "output_type": "stream",
     "text": [
      "0.9672131147540983\n",
      "0.9508196721311475\n",
      "0.9672131147540983\n",
      "0.9672131147540983\n"
     ]
    }
   ],
   "source": [
    "for valid_result in valid_result_array:\n",
    "    print(accuracy_score(valid_y,valid_result)) # 오류나면 데이터type 통일해주기"
   ]
  },
  {
   "cell_type": "markdown",
   "metadata": {
    "colab_type": "text",
    "id": "XH2QMrr-CpV7"
   },
   "source": [
    "## ReLU - ReLU - ReLU - Tanh"
   ]
  },
  {
   "cell_type": "code",
   "execution_count": null,
   "metadata": {
    "colab": {
     "base_uri": "https://localhost:8080/",
     "height": 228
    },
    "colab_type": "code",
    "id": "cn5_YvF7C_r5",
    "outputId": "28211dce-6a0c-4b53-85f4-a3cedd456765"
   },
   "outputs": [
    {
     "name": "stdout",
     "output_type": "stream",
     "text": [
      "학습률 : 0.005\n",
      "tensor(0.5011, device='cuda:0', grad_fn=<NllLossBackward>)\n",
      "tensor(0.0376, device='cuda:0', grad_fn=<NllLossBackward>)\n",
      "학습률 : 0.002\n",
      "tensor(0.6251, device='cuda:0', grad_fn=<NllLossBackward>)\n",
      "tensor(0.0227, device='cuda:0', grad_fn=<NllLossBackward>)\n",
      "학습률 : 0.0005\n",
      "tensor(1.4855, device='cuda:0', grad_fn=<NllLossBackward>)\n",
      "tensor(0.0687, device='cuda:0', grad_fn=<NllLossBackward>)\n",
      "학습률 : 0.0002\n",
      "tensor(1.1225, device='cuda:0', grad_fn=<NllLossBackward>)\n",
      "tensor(0.1099, device='cuda:0', grad_fn=<NllLossBackward>)\n"
     ]
    }
   ],
   "source": [
    "loss_array_array = []\n",
    "model_array = []\n",
    "for r in lr:\n",
    "    loss_array = []\n",
    "    model = model_RRRT()\n",
    "    optimizer = optim.Adam(model.parameters(),r)\n",
    "    print(\"학습률 : {}\".format(r))\n",
    "    for i in range(num_epoch):\n",
    "        optimizer.zero_grad()\n",
    "        output = model(train_tensor).to(device)\n",
    "        loss = loss_func(output,train_tensor_y)\n",
    "        if i%5000==0:\n",
    "            print(loss)\n",
    "        loss.backward()\n",
    "        optimizer.step()\n",
    "        loss_array.append(loss)\n",
    "    model_array.append(model)\n",
    "    loss_array_array.append(loss_array)"
   ]
  },
  {
   "cell_type": "code",
   "execution_count": null,
   "metadata": {
    "colab": {
     "base_uri": "https://localhost:8080/",
     "height": 1000
    },
    "colab_type": "code",
    "id": "MJwBICJ0C_o9",
    "outputId": "2e085f13-9c90-4c57-fedb-4b88cf951876"
   },
   "outputs": [
    {
     "data": {
      "image/png": "[encoded data removed]",
      "text/plain": [
       "<Figure size 432x288 with 1 Axes>"
      ]
     },
     "metadata": {
      "needs_background": "light",
      "tags": []
     },
     "output_type": "display_data"
    },
    {
     "data": {
      "image/png": "[encoded data removed]",
      "text/plain": [
       "<Figure size 432x288 with 1 Axes>"
      ]
     },
     "metadata": {
      "needs_background": "light",
      "tags": []
     },
     "output_type": "display_data"
    },
    {
     "data": {
      "image/png": "[encoded data removed]",
      "text/plain": [
       "<Figure size 432x288 with 1 Axes>"
      ]
     },
     "metadata": {
      "needs_background": "light",
      "tags": []
     },
     "output_type": "display_data"
    },
    {
     "data": {
      "image/png": "[encoded data removed]",
      "text/plain": [
       "<Figure size 432x288 with 1 Axes>"
      ]
     },
     "metadata": {
      "needs_background": "light",
      "tags": []
     },
     "output_type": "display_data"
    }
   ],
   "source": [
    "for loss_array in loss_array_array:\n",
    "    plt.plot(loss_array)\n",
    "    plt.title(\"valid data loss graph\")\n",
    "    plt.show()"
   ]
  },
  {
   "cell_type": "code",
   "execution_count": null,
   "metadata": {
    "colab": {},
    "colab_type": "code",
    "id": "QX5yGvOiC_l_"
   },
   "outputs": [],
   "source": [
    "output_array = []\n",
    "for m in model_array:\n",
    "    output = m(valid_test_tensor)\n",
    "    output_array.append(output)"
   ]
  },
  {
   "cell_type": "code",
   "execution_count": null,
   "metadata": {
    "colab": {},
    "colab_type": "code",
    "id": "z-Oh20_ZFuFz"
   },
   "outputs": [],
   "source": [
    "valid_result_array=[]\n",
    "for output in output_array:\n",
    "    valid_result = []\n",
    "    for i in output:\n",
    "        if i.argmax() == 1:\n",
    "            valid_result.append(1)\n",
    "        else:\n",
    "            valid_result.append(0)\n",
    "    valid_result_array.append(valid_result)"
   ]
  },
  {
   "cell_type": "code",
   "execution_count": null,
   "metadata": {
    "colab": {
     "base_uri": "https://localhost:8080/",
     "height": 87
    },
    "colab_type": "code",
    "id": "OqXlTGY9C_jP",
    "outputId": "437c8480-4223-4036-97f5-07d7edbe6816"
   },
   "outputs": [
    {
     "name": "stdout",
     "output_type": "stream",
     "text": [
      "0.8360655737704918\n",
      "0.8852459016393442\n",
      "0.9344262295081968\n",
      "0.9180327868852459\n"
     ]
    }
   ],
   "source": [
    "for valid_result in valid_result_array:\n",
    "    print(accuracy_score(valid_y,valid_result)) # 오류나면 데이터type 통일해주기"
   ]
  },
  {
   "cell_type": "markdown",
   "metadata": {
    "colab_type": "text",
    "id": "-REI0MkODNPV"
   },
   "source": [
    "## Sigmoid - Sigmoid - Sigmoid - Sigmoid"
   ]
  },
  {
   "cell_type": "code",
   "execution_count": null,
   "metadata": {
    "colab": {
     "base_uri": "https://localhost:8080/",
     "height": 228
    },
    "colab_type": "code",
    "id": "kgn-aSdcDTg2",
    "outputId": "33bdd2c1-d6e2-4588-d619-a72da4a48959"
   },
   "outputs": [
    {
     "name": "stdout",
     "output_type": "stream",
     "text": [
      "학습률 : 0.05\n",
      "tensor(0.5091, device='cuda:0', grad_fn=<NllLossBackward>)\n",
      "tensor(0.0176, device='cuda:0', grad_fn=<NllLossBackward>)\n",
      "학습률 : 0.02\n",
      "tensor(0.7074, device='cuda:0', grad_fn=<NllLossBackward>)\n",
      "tensor(0.0199, device='cuda:0', grad_fn=<NllLossBackward>)\n",
      "학습률 : 0.005\n",
      "tensor(1.7313, device='cuda:0', grad_fn=<NllLossBackward>)\n",
      "tensor(0.0547, device='cuda:0', grad_fn=<NllLossBackward>)\n",
      "학습률 : 0.002\n",
      "tensor(1.2300, device='cuda:0', grad_fn=<NllLossBackward>)\n",
      "tensor(0.0447, device='cuda:0', grad_fn=<NllLossBackward>)\n"
     ]
    }
   ],
   "source": [
    "loss_array_array = []\n",
    "model_array = []\n",
    "for r in s_lr:\n",
    "    loss_array = []\n",
    "    model = model_RRRT()\n",
    "    optimizer = optim.Adam(model.parameters(),r)\n",
    "    print(\"학습률 : {}\".format(r))\n",
    "    for i in range(num_epoch):\n",
    "        optimizer.zero_grad()\n",
    "        output = model(train_tensor).to(device)\n",
    "        loss = loss_func(output,train_tensor_y)\n",
    "        if i%5000==0:\n",
    "            print(loss)\n",
    "        loss.backward()\n",
    "        optimizer.step()\n",
    "        loss_array.append(loss)\n",
    "    model_array.append(model)\n",
    "    loss_array_array.append(loss_array)"
   ]
  },
  {
   "cell_type": "code",
   "execution_count": null,
   "metadata": {
    "colab": {
     "base_uri": "https://localhost:8080/",
     "height": 1000
    },
    "colab_type": "code",
    "id": "c9f-fzwrDTeM",
    "outputId": "1d9ca7b9-feea-4430-8678-0ec3e6c4e5f3"
   },
   "outputs": [
    {
     "data": {
      "image/png": "[encoded data removed]",
      "text/plain": [
       "<Figure size 432x288 with 1 Axes>"
      ]
     },
     "metadata": {
      "needs_background": "light",
      "tags": []
     },
     "output_type": "display_data"
    },
    {
     "data": {
      "image/png": "[encoded data removed]",
      "text/plain": [
       "<Figure size 432x288 with 1 Axes>"
      ]
     },
     "metadata": {
      "needs_background": "light",
      "tags": []
     },
     "output_type": "display_data"
    },
    {
     "data": {
      "image/png": "[encoded data removed]",
      "text/plain": [
       "<Figure size 432x288 with 1 Axes>"
      ]
     },
     "metadata": {
      "needs_background": "light",
      "tags": []
     },
     "output_type": "display_data"
    },
    {
     "data": {
      "image/png": "[encoded data removed]",
      "text/plain": [
       "<Figure size 432x288 with 1 Axes>"
      ]
     },
     "metadata": {
      "needs_background": "light",
      "tags": []
     },
     "output_type": "display_data"
    }
   ],
   "source": [
    "for loss_array in loss_array_array:\n",
    "    plt.plot(loss_array)\n",
    "    plt.title(\"valid data loss graph\")\n",
    "    plt.show()"
   ]
  },
  {
   "cell_type": "code",
   "execution_count": null,
   "metadata": {
    "colab": {},
    "colab_type": "code",
    "id": "6_6xIqknDTbq"
   },
   "outputs": [],
   "source": [
    "output_array = []\n",
    "for m in model_array:\n",
    "    output = m(valid_test_tensor)\n",
    "    output_array.append(output)"
   ]
  },
  {
   "cell_type": "code",
   "execution_count": null,
   "metadata": {
    "colab": {},
    "colab_type": "code",
    "id": "U6mf6gEtFwJ0"
   },
   "outputs": [],
   "source": [
    "valid_result_array=[]\n",
    "for output in output_array:\n",
    "    valid_result = []\n",
    "    for i in output:\n",
    "        if i.argmax() == 1:\n",
    "            valid_result.append(1)\n",
    "        else:\n",
    "            valid_result.append(0)\n",
    "    valid_result_array.append(valid_result)"
   ]
  },
  {
   "cell_type": "code",
   "execution_count": null,
   "metadata": {
    "colab": {
     "base_uri": "https://localhost:8080/",
     "height": 87
    },
    "colab_type": "code",
    "id": "bBKgkZr-DTXm",
    "outputId": "a51eb2a7-3ec4-4531-a93e-d0b3cd3008e7"
   },
   "outputs": [
    {
     "name": "stdout",
     "output_type": "stream",
     "text": [
      "0.9016393442622951\n",
      "0.8852459016393442\n",
      "0.819672131147541\n",
      "0.9344262295081968\n"
     ]
    }
   ],
   "source": [
    "for valid_result in valid_result_array:\n",
    "    print(accuracy_score(valid_y,valid_result)) # 오류나면 데이터type 통일해주기"
   ]
  },
  {
   "cell_type": "markdown",
   "metadata": {
    "colab_type": "text",
    "id": "N9tV-ci5JLdi"
   },
   "source": [
    "## Tanh - Tanh - Tanh - Tanh"
   ]
  },
  {
   "cell_type": "code",
   "execution_count": null,
   "metadata": {
    "colab": {
     "base_uri": "https://localhost:8080/",
     "height": 228
    },
    "colab_type": "code",
    "id": "HpenDvpJJYwu",
    "outputId": "189012ca-3f9c-4088-98d1-af04ad3c3e33"
   },
   "outputs": [
    {
     "name": "stdout",
     "output_type": "stream",
     "text": [
      "학습률 : 0.005\n",
      "tensor(0.7940, device='cuda:0', grad_fn=<NllLossBackward>)\n",
      "tensor(0.0173, device='cuda:0', grad_fn=<NllLossBackward>)\n",
      "학습률 : 0.002\n",
      "tensor(0.6572, device='cuda:0', grad_fn=<NllLossBackward>)\n",
      "tensor(0.0173, device='cuda:0', grad_fn=<NllLossBackward>)\n",
      "학습률 : 0.0005\n",
      "tensor(0.6587, device='cuda:0', grad_fn=<NllLossBackward>)\n",
      "tensor(0.0173, device='cuda:0', grad_fn=<NllLossBackward>)\n",
      "학습률 : 0.0002\n",
      "tensor(0.7804, device='cuda:0', grad_fn=<NllLossBackward>)\n",
      "tensor(0.0173, device='cuda:0', grad_fn=<NllLossBackward>)\n"
     ]
    }
   ],
   "source": [
    "loss_array_array = []\n",
    "model_array = []\n",
    "for r in lr:\n",
    "    loss_array = []\n",
    "    model = model_TTTT()\n",
    "    optimizer = optim.Adam(model.parameters(),r)\n",
    "    print(\"학습률 : {}\".format(r))\n",
    "    for i in range(num_epoch):\n",
    "        optimizer.zero_grad()\n",
    "        output = model(train_tensor).to(device)\n",
    "        loss = loss_func(output,train_tensor_y)\n",
    "        if i%5000==0:\n",
    "            print(loss)\n",
    "        loss.backward()\n",
    "        optimizer.step()\n",
    "        loss_array.append(loss)\n",
    "    model_array.append(model)\n",
    "    loss_array_array.append(loss_array)"
   ]
  },
  {
   "cell_type": "code",
   "execution_count": null,
   "metadata": {
    "colab": {
     "base_uri": "https://localhost:8080/",
     "height": 1000
    },
    "colab_type": "code",
    "id": "XOGA3bvkJY1W",
    "outputId": "97ee4fe4-b6c3-4d19-a5dc-1f78c813bcab"
   },
   "outputs": [
    {
     "data": {
      "image/png": "[encoded data removed]",
      "text/plain": [
       "<Figure size 432x288 with 1 Axes>"
      ]
     },
     "metadata": {
      "needs_background": "light",
      "tags": []
     },
     "output_type": "display_data"
    },
    {
     "data": {
      "image/png": "[encoded data removed]",
      "text/plain": [
       "<Figure size 432x288 with 1 Axes>"
      ]
     },
     "metadata": {
      "needs_background": "light",
      "tags": []
     },
     "output_type": "display_data"
    },
    {
     "data": {
      "image/png": "[encoded data removed]",
      "text/plain": [
       "<Figure size 432x288 with 1 Axes>"
      ]
     },
     "metadata": {
      "needs_background": "light",
      "tags": []
     },
     "output_type": "display_data"
    },
    {
     "data": {
      "image/png": "[encoded data removed]",
      "text/plain": [
       "<Figure size 432x288 with 1 Axes>"
      ]
     },
     "metadata": {
      "needs_background": "light",
      "tags": []
     },
     "output_type": "display_data"
    }
   ],
   "source": [
    "for loss_array in loss_array_array:\n",
    "    plt.plot(loss_array)\n",
    "    plt.title(\"valid data loss graph\")\n",
    "    plt.show()"
   ]
  },
  {
   "cell_type": "code",
   "execution_count": null,
   "metadata": {
    "colab": {},
    "colab_type": "code",
    "id": "-HV3nZHQJY7g"
   },
   "outputs": [],
   "source": [
    "output_array = []\n",
    "for m in model_array:\n",
    "    output = m(valid_test_tensor)\n",
    "    output_array.append(output)"
   ]
  },
  {
   "cell_type": "code",
   "execution_count": null,
   "metadata": {
    "colab": {},
    "colab_type": "code",
    "id": "eoB7_MkqJZET"
   },
   "outputs": [],
   "source": [
    "valid_result_array=[]\n",
    "for output in output_array:\n",
    "    valid_result = []\n",
    "    for i in output:\n",
    "        if i.argmax() == 1:\n",
    "            valid_result.append(1)\n",
    "        else:\n",
    "            valid_result.append(0)\n",
    "    valid_result_array.append(valid_result)"
   ]
  },
  {
   "cell_type": "code",
   "execution_count": null,
   "metadata": {
    "colab": {
     "base_uri": "https://localhost:8080/",
     "height": 87
    },
    "colab_type": "code",
    "id": "Sq4DCo1sJZA4",
    "outputId": "b9234d1e-d2c2-4372-8397-24d6a6e6f79f"
   },
   "outputs": [
    {
     "name": "stdout",
     "output_type": "stream",
     "text": [
      "0.9180327868852459\n",
      "0.9508196721311475\n",
      "0.9344262295081968\n",
      "0.9508196721311475\n"
     ]
    }
   ],
   "source": [
    "for valid_result in valid_result_array:\n",
    "    print(accuracy_score(valid_y,valid_result)) # 오류나면 데이터type 통일해주기"
   ]
  },
  {
   "cell_type": "markdown",
   "metadata": {
    "colab_type": "text",
    "id": "cPyt538NJRX8"
   },
   "source": [
    "## LeakyReLU - LeakyReLU - LeakyReLU - LeakyReLU"
   ]
  },
  {
   "cell_type": "code",
   "execution_count": null,
   "metadata": {
    "colab": {
     "base_uri": "https://localhost:8080/",
     "height": 228
    },
    "colab_type": "code",
    "id": "yFhpINS6J5pl",
    "outputId": "e0fb8e23-f2ab-4f6d-aded-4e1a4c246a85"
   },
   "outputs": [
    {
     "name": "stdout",
     "output_type": "stream",
     "text": [
      "학습률 : 0.005\n",
      "tensor(2566436.2500, device='cuda:0', grad_fn=<NllLossBackward>)\n",
      "tensor(267.5387, device='cuda:0', grad_fn=<NllLossBackward>)\n",
      "학습률 : 0.002\n",
      "tensor(11951636., device='cuda:0', grad_fn=<NllLossBackward>)\n",
      "tensor(902.5310, device='cuda:0', grad_fn=<NllLossBackward>)\n",
      "학습률 : 0.0005\n",
      "tensor(14195371., device='cuda:0', grad_fn=<NllLossBackward>)\n",
      "tensor(1443517.8750, device='cuda:0', grad_fn=<NllLossBackward>)\n",
      "학습률 : 0.0002\n",
      "tensor(2753409.5000, device='cuda:0', grad_fn=<NllLossBackward>)\n",
      "tensor(2489.4126, device='cuda:0', grad_fn=<NllLossBackward>)\n"
     ]
    }
   ],
   "source": [
    "loss_array_array = []\n",
    "model_array = []\n",
    "for r in lr:\n",
    "    loss_array = []\n",
    "    model = model_LRLRLRLR()\n",
    "    optimizer = optim.Adam(model.parameters(),r)\n",
    "    print(\"학습률 : {}\".format(r))\n",
    "    for i in range(num_epoch):\n",
    "        optimizer.zero_grad()\n",
    "        output = model(train_tensor).to(device)\n",
    "        loss = loss_func(output,train_tensor_y)\n",
    "        if i%5000==0:\n",
    "            print(loss)\n",
    "        loss.backward()\n",
    "        optimizer.step()\n",
    "        loss_array.append(loss)\n",
    "    model_array.append(model)\n",
    "    loss_array_array.append(loss_array)"
   ]
  },
  {
   "cell_type": "code",
   "execution_count": null,
   "metadata": {
    "colab": {
     "base_uri": "https://localhost:8080/",
     "height": 1000
    },
    "colab_type": "code",
    "id": "6XGMHBVHJ5m4",
    "outputId": "f14583b8-6b87-42e2-92e6-03b8d8cd3484"
   },
   "outputs": [
    {
     "data": {
      "image/png": "[encoded data removed]",
      "text/plain": [
       "<Figure size 432x288 with 1 Axes>"
      ]
     },
     "metadata": {
      "needs_background": "light",
      "tags": []
     },
     "output_type": "display_data"
    },
    {
     "data": {
      "image/png": "[encoded data removed]",
      "text/plain": [
       "<Figure size 432x288 with 1 Axes>"
      ]
     },
     "metadata": {
      "needs_background": "light",
      "tags": []
     },
     "output_type": "display_data"
    },
    {
     "data": {
      "image/png": "[encoded data removed]",
      "text/plain": [
       "<Figure size 432x288 with 1 Axes>"
      ]
     },
     "metadata": {
      "needs_background": "light",
      "tags": []
     },
     "output_type": "display_data"
    },
    {
     "data": {
      "image/png": "[encoded data removed]",
      "text/plain": [
       "<Figure size 432x288 with 1 Axes>"
      ]
     },
     "metadata": {
      "needs_background": "light",
      "tags": []
     },
     "output_type": "display_data"
    }
   ],
   "source": [
    "for loss_array in loss_array_array:\n",
    "    plt.plot(loss_array)\n",
    "    plt.title(\"valid data loss graph\")\n",
    "    plt.show()"
   ]
  },
  {
   "cell_type": "code",
   "execution_count": null,
   "metadata": {
    "colab": {},
    "colab_type": "code",
    "id": "04YrFSP9J5kE"
   },
   "outputs": [],
   "source": [
    "output_array = []\n",
    "for m in model_array:\n",
    "    output = m(valid_test_tensor)\n",
    "    output_array.append(output)"
   ]
  },
  {
   "cell_type": "code",
   "execution_count": null,
   "metadata": {
    "colab": {},
    "colab_type": "code",
    "id": "YtZCUR6XJ5hN"
   },
   "outputs": [],
   "source": [
    "valid_result_array=[]\n",
    "for output in output_array:\n",
    "    valid_result = []\n",
    "    for i in output:\n",
    "        if i.argmax() == 1:\n",
    "            valid_result.append(1)\n",
    "        else:\n",
    "            valid_result.append(0)\n",
    "    valid_result_array.append(valid_result)"
   ]
  },
  {
   "cell_type": "code",
   "execution_count": null,
   "metadata": {
    "colab": {
     "base_uri": "https://localhost:8080/",
     "height": 87
    },
    "colab_type": "code",
    "id": "noG1foPSJ5ek",
    "outputId": "a2cf1e2a-58f8-4e8e-c776-b3783e7a57d9"
   },
   "outputs": [
    {
     "name": "stdout",
     "output_type": "stream",
     "text": [
      "0.9344262295081968\n",
      "0.9508196721311475\n",
      "0.9672131147540983\n",
      "0.9672131147540983\n"
     ]
    }
   ],
   "source": [
    "for valid_result in valid_result_array:\n",
    "    print(accuracy_score(valid_y,valid_result)) # 오류나면 데이터type 통일해주기"
   ]
  },
  {
   "cell_type": "markdown",
   "metadata": {
    "colab_type": "text",
    "id": "Oqx0XaDuHnX7"
   },
   "source": [
    "## 정확도 측정 결과\n",
    "\n",
    "![image.png](data:image/png;base64,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)"
   ]
  },
  {
   "cell_type": "markdown",
   "metadata": {
    "colab_type": "text",
    "id": "mhcON33XfVN4"
   },
   "source": [
    "# Modeling test data"
   ]
  },
  {
   "cell_type": "code",
   "execution_count": null,
   "metadata": {
    "colab": {},
    "colab_type": "code",
    "id": "xhxG0vpdPPFw"
   },
   "outputs": [],
   "source": [
    "\n",
    "train_df_tensor = torch.tensor(train_df.values,dtype=torch.float)\n",
    "train_data_Output = torch.tensor(train_OC.values, dtype=torch.float)\n",
    "test_df = test_data.drop('OC',axis=1)\n",
    "test_df_tensor = torch.tensor(test_df.values,dtype=torch.float)"
   ]
  },
  {
   "cell_type": "code",
   "execution_count": null,
   "metadata": {
    "colab": {},
    "colab_type": "code",
    "id": "gdPPJf-TPD5w"
   },
   "outputs": [],
   "source": [
    "num_epoch = 10000\n",
    "\n",
    "# train_tensor = train_tensor.type(torch.FloatTensor)\n",
    "#train_tensor = train_tensor.cuda() # GPU로 보냄\n",
    "#noise = init.normal_(train_tensor,std=1)\n",
    "# x = init.uniform_(train_tensor,-15,15)\n",
    "lr = [0.005,0.002,0.0005,0.0002]"
   ]
  },
  {
   "cell_type": "code",
   "execution_count": null,
   "metadata": {
    "colab": {},
    "colab_type": "code",
    "id": "Sq8bBONJPFwK"
   },
   "outputs": [],
   "source": [
    "# # 아래 코드는 특성의 개수가 73 -> 6*73 -> 10*73 -> 6*73 -> 73 -> 1개로 변하는 인공신경망입니다. \n",
    "\n",
    "# w = 73  # input의 개수\n",
    "# model = nn.Sequential(\n",
    "#           nn.Linear(1*w,6*w),\n",
    "#           nn.ReLU(),\n",
    "#           nn.Linear(6*w,10*w),\n",
    "#           nn.ReLU(),\n",
    "#           nn.Linear(10*w,6*w),\n",
    "#           nn.ReLU(),\n",
    "#           nn.Linear(6*w,1*w),\n",
    "#           nn.LeakyReLU(),\n",
    "#           nn.Linear(w,2),\n",
    "#       )\n",
    "\n",
    "# loss_func = nn.CrossEntropyLoss()\n",
    "# optimizer = optim.Adam(model.parameters(),lr=0.002)\n",
    "# #optimizer2 = optim.Adam(model.parmeters(),lr=0.0002)\n",
    "# model.to(device)"
   ]
  },
  {
   "cell_type": "code",
   "execution_count": null,
   "metadata": {
    "colab": {},
    "colab_type": "code",
    "id": "apvFGGcEu0hk"
   },
   "outputs": [],
   "source": [
    "final_train_tensor = torch.tensor(train_df.values,dtype=torch.float).to(device)\n",
    "train_y_tensor = torch.tensor(train_OC.values,dtype=torch.float).to(device)\n",
    "final_train_tensor = final_train_tensor.type(torch.FloatTensor).to(device)\n",
    "train_y_tensor = train_y_tensor.type(torch.LongTensor).to(device)"
   ]
  },
  {
   "cell_type": "code",
   "execution_count": null,
   "metadata": {
    "colab": {},
    "colab_type": "code",
    "id": "Gu22Hnf7oShI"
   },
   "outputs": [],
   "source": [
    "test_x = test_data.drop('OC',axis=1)\n",
    "test_tensor = torch.tensor(test_x.values,dtype=torch.float).to(device)"
   ]
  },
  {
   "cell_type": "code",
   "execution_count": null,
   "metadata": {
    "colab": {
     "base_uri": "https://localhost:8080/",
     "height": 193
    },
    "colab_type": "code",
    "id": "7KadKlTuRmMz",
    "outputId": "224e4b24-de7c-460e-baf2-873e3850f355"
   },
   "outputs": [
    {
     "name": "stdout",
     "output_type": "stream",
     "text": [
      "tensor(40525448., device='cuda:0', grad_fn=<NllLossBackward>)\n",
      "tensor(5737.2456, device='cuda:0', grad_fn=<NllLossBackward>)\n",
      "tensor(19227.3457, device='cuda:0', grad_fn=<NllLossBackward>)\n",
      "tensor(8675.5332, device='cuda:0', grad_fn=<NllLossBackward>)\n",
      "tensor(2017.1469, device='cuda:0', grad_fn=<NllLossBackward>)\n",
      "tensor(958.8677, device='cuda:0', grad_fn=<NllLossBackward>)\n",
      "tensor(486.0355, device='cuda:0', grad_fn=<NllLossBackward>)\n",
      "tensor(70.5464, device='cuda:0', grad_fn=<NllLossBackward>)\n",
      "tensor(2.4756, device='cuda:0', grad_fn=<NllLossBackward>)\n",
      "tensor(14675.6328, device='cuda:0', grad_fn=<NllLossBackward>)\n"
     ]
    }
   ],
   "source": [
    "model = model_RRRLR()\n",
    "loss_func = nn.CrossEntropyLoss()\n",
    "optimizer = optim.Adam(model.parameters(),lr=0.0005)\n",
    "model.to(device)\n",
    "loss_array = []\n",
    "for i in range(num_epoch):\n",
    "    optimizer.zero_grad()\n",
    "    output = model(final_train_tensor).to(device)\n",
    "    loss = loss_func(output,train_y_tensor)\n",
    "    if i%1000==0:\n",
    "        print(loss)\n",
    "    loss.backward()\n",
    "    optimizer.step()\n",
    "    loss_array.append(loss)"
   ]
  },
  {
   "cell_type": "code",
   "execution_count": null,
   "metadata": {
    "colab": {
     "base_uri": "https://localhost:8080/",
     "height": 300
    },
    "colab_type": "code",
    "id": "WzTtoKSESFQa",
    "outputId": "b1ab4f75-4f3c-4d18-aa51-481bad0dbbb8"
   },
   "outputs": [
    {
     "data": {
      "image/png": "[encoded data removed]",
      "text/plain": [
       "<Figure size 432x288 with 1 Axes>"
      ]
     },
     "metadata": {
      "needs_background": "light",
      "tags": []
     },
     "output_type": "display_data"
    },
    {
     "name": "stdout",
     "output_type": "stream",
     "text": [
      "tensor(218.8876, device='cuda:0', grad_fn=<NllLossBackward>)\n"
     ]
    }
   ],
   "source": [
    "# 손실 그래프\n",
    "plt.plot(loss_array)\n",
    "plt.title(\"lr=0.0005_RRRLR\")\n",
    "plt.show()\n",
    "print(loss_array[-1])"
   ]
  },
  {
   "cell_type": "code",
   "execution_count": null,
   "metadata": {
    "colab": {
     "base_uri": "https://localhost:8080/",
     "height": 193
    },
    "colab_type": "code",
    "id": "GX9BGfd80rtn",
    "outputId": "4a99c567-e89f-48b4-fb08-8e784c6c77f2"
   },
   "outputs": [
    {
     "name": "stdout",
     "output_type": "stream",
     "text": [
      "tensor(7725928.5000, device='cuda:0', grad_fn=<NllLossBackward>)\n",
      "tensor(7151.9966, device='cuda:0', grad_fn=<NllLossBackward>)\n",
      "tensor(31342.8203, device='cuda:0', grad_fn=<NllLossBackward>)\n",
      "tensor(5864.6211, device='cuda:0', grad_fn=<NllLossBackward>)\n",
      "tensor(3355.1101, device='cuda:0', grad_fn=<NllLossBackward>)\n",
      "tensor(1041.5259, device='cuda:0', grad_fn=<NllLossBackward>)\n",
      "tensor(2898.9993, device='cuda:0', grad_fn=<NllLossBackward>)\n",
      "tensor(2320.8613, device='cuda:0', grad_fn=<NllLossBackward>)\n",
      "tensor(813.8175, device='cuda:0', grad_fn=<NllLossBackward>)\n",
      "tensor(306.7185, device='cuda:0', grad_fn=<NllLossBackward>)\n"
     ]
    }
   ],
   "source": [
    "model = model_RRRLR()\n",
    "loss_func = nn.CrossEntropyLoss()\n",
    "optimizer = optim.Adam(model.parameters(),lr=0.0002)\n",
    "model.to(device)\n",
    "loss_array = []\n",
    "for i in range(num_epoch):\n",
    "    optimizer.zero_grad()\n",
    "    output = model(final_train_tensor).to(device)\n",
    "    loss = loss_func(output,train_y_tensor)\n",
    "    if i%1000==0:\n",
    "        print(loss)\n",
    "    loss.backward()\n",
    "    optimizer.step()\n",
    "    loss_array.append(loss)"
   ]
  },
  {
   "cell_type": "code",
   "execution_count": null,
   "metadata": {
    "colab": {
     "base_uri": "https://localhost:8080/",
     "height": 193
    },
    "colab_type": "code",
    "id": "Jzs2vCTd2ak2",
    "outputId": "f6574282-6ba0-44e4-b372-730be65c3183"
   },
   "outputs": [
    {
     "name": "stdout",
     "output_type": "stream",
     "text": [
      "tensor(88838728., device='cuda:0', grad_fn=<NllLossBackward>)\n",
      "tensor(6955.7974, device='cuda:0', grad_fn=<NllLossBackward>)\n",
      "tensor(5976.5698, device='cuda:0', grad_fn=<NllLossBackward>)\n",
      "tensor(7903.1162, device='cuda:0', grad_fn=<NllLossBackward>)\n",
      "tensor(5816.8589, device='cuda:0', grad_fn=<NllLossBackward>)\n",
      "tensor(621.4550, device='cuda:0', grad_fn=<NllLossBackward>)\n",
      "tensor(178.6750, device='cuda:0', grad_fn=<NllLossBackward>)\n",
      "tensor(140.7881, device='cuda:0', grad_fn=<NllLossBackward>)\n",
      "tensor(57.2482, device='cuda:0', grad_fn=<NllLossBackward>)\n",
      "tensor(0.8540, device='cuda:0', grad_fn=<NllLossBackward>)\n"
     ]
    }
   ],
   "source": [
    "model = model_RRRR()\n",
    "loss_func = nn.CrossEntropyLoss()\n",
    "optimizer = optim.Adam(model.parameters(),lr=0.0005)\n",
    "model.to(device)\n",
    "loss_array = []\n",
    "for i in range(num_epoch):\n",
    "    optimizer.zero_grad()\n",
    "    output = model(final_train_tensor).to(device)\n",
    "    loss = loss_func(output,train_y_tensor)\n",
    "    if i%1000==0:\n",
    "        print(loss)\n",
    "    loss.backward()\n",
    "    optimizer.step()\n",
    "    loss_array.append(loss)"
   ]
  },
  {
   "cell_type": "code",
   "execution_count": null,
   "metadata": {
    "colab": {
     "base_uri": "https://localhost:8080/",
     "height": 300
    },
    "colab_type": "code",
    "id": "OtEcCl6G0-Ct",
    "outputId": "baffb44a-684a-43af-8d34-64c5f7cb906b"
   },
   "outputs": [
    {
     "data": {
      "image/png": "[encoded data removed]",
      "text/plain": [
       "<Figure size 432x288 with 1 Axes>"
      ]
     },
     "metadata": {
      "needs_background": "light",
      "tags": []
     },
     "output_type": "display_data"
    },
    {
     "name": "stdout",
     "output_type": "stream",
     "text": [
      "tensor(36.9545, device='cuda:0', grad_fn=<NllLossBackward>)\n"
     ]
    }
   ],
   "source": [
    "# 손실 그래프\n",
    "plt.plot(loss_array)\n",
    "plt.title(\"lr=0.0002_RRRLR\")\n",
    "plt.show()\n",
    "print(loss_array[-1])"
   ]
  },
  {
   "cell_type": "markdown",
   "metadata": {
    "colab_type": "text",
    "id": "GUEBeFuULb6D"
   },
   "source": [
    "![image.png](data:image/png;base64,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)"
   ]
  },
  {
   "cell_type": "code",
   "execution_count": null,
   "metadata": {
    "colab": {
     "base_uri": "https://localhost:8080/",
     "height": 300
    },
    "colab_type": "code",
    "id": "pAMhUhki2pUB",
    "outputId": "92dc599c-a07d-4e1a-f122-18a04af4454e"
   },
   "outputs": [
    {
     "data": {
      "image/png": "[encoded data removed]",
      "text/plain": [
       "<Figure size 432x288 with 1 Axes>"
      ]
     },
     "metadata": {
      "needs_background": "light",
      "tags": []
     },
     "output_type": "display_data"
    },
    {
     "name": "stdout",
     "output_type": "stream",
     "text": [
      "tensor(0.1018, device='cuda:0', grad_fn=<NllLossBackward>)\n"
     ]
    }
   ],
   "source": [
    "plt.plot(loss_array)\n",
    "plt.title(\"lr=0.0005_RRRR\")\n",
    "plt.show()\n",
    "print(loss_array[-1])"
   ]
  },
  {
   "cell_type": "markdown",
   "metadata": {
    "colab_type": "text",
    "id": "_yJZD8CNLygp"
   },
   "source": [
    "![image.png](data:image/png;base64,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)"
   ]
  },
  {
   "cell_type": "code",
   "execution_count": null,
   "metadata": {
    "colab": {
     "base_uri": "https://localhost:8080/",
     "height": 476
    },
    "colab_type": "code",
    "id": "12AUNVxT3GSE",
    "outputId": "14e8c441-d7d3-4379-b5c7-1847e50a4cd0"
   },
   "outputs": [
    {
     "name": "stdout",
     "output_type": "stream",
     "text": [
      "tensor(0.6759, device='cuda:0', grad_fn=<NllLossBackward>)\n",
      "tensor(0.0185, device='cuda:0', grad_fn=<NllLossBackward>)\n",
      "tensor(0.0184, device='cuda:0', grad_fn=<NllLossBackward>)\n",
      "tensor(0.0184, device='cuda:0', grad_fn=<NllLossBackward>)\n",
      "tensor(0.0184, device='cuda:0', grad_fn=<NllLossBackward>)\n",
      "tensor(0.0184, device='cuda:0', grad_fn=<NllLossBackward>)\n",
      "tensor(0.0184, device='cuda:0', grad_fn=<NllLossBackward>)\n",
      "tensor(0.0184, device='cuda:0', grad_fn=<NllLossBackward>)\n",
      "tensor(0.0184, device='cuda:0', grad_fn=<NllLossBackward>)\n",
      "tensor(0.0184, device='cuda:0', grad_fn=<NllLossBackward>)\n"
     ]
    },
    {
     "data": {
      "image/png": "[encoded data removed]",
      "text/plain": [
       "<Figure size 432x288 with 1 Axes>"
      ]
     },
     "metadata": {
      "needs_background": "light",
      "tags": []
     },
     "output_type": "display_data"
    },
    {
     "name": "stdout",
     "output_type": "stream",
     "text": [
      "tensor(0.0184, device='cuda:0', grad_fn=<NllLossBackward>)\n"
     ]
    }
   ],
   "source": [
    "model = model_TTTT()\n",
    "loss_func = nn.CrossEntropyLoss()\n",
    "optimizer = optim.Adam(model.parameters(),lr=0.005)\n",
    "model.to(device)\n",
    "loss_array = []\n",
    "for i in range(num_epoch):\n",
    "    optimizer.zero_grad()\n",
    "    output = model(final_train_tensor).to(device)\n",
    "    loss = loss_func(output,train_y_tensor)\n",
    "    if i%1000==0:\n",
    "        print(loss)\n",
    "    loss.backward()\n",
    "    optimizer.step()\n",
    "    loss_array.append(loss)\n",
    "plt.plot(loss_array)\n",
    "plt.title(\"lr=0.005_TTTT\")\n",
    "plt.show()\n",
    "print(loss_array[-1])"
   ]
  },
  {
   "cell_type": "markdown",
   "metadata": {
    "colab_type": "text",
    "id": "Lbu0lUoKW1-w"
   },
   "source": [
    "![image.png](data:image/png;base64,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)"
   ]
  },
  {
   "cell_type": "code",
   "execution_count": null,
   "metadata": {
    "colab": {
     "base_uri": "https://localhost:8080/",
     "height": 476
    },
    "colab_type": "code",
    "id": "at1-XDQN2_td",
    "outputId": "f6cbc623-5d15-4c3e-adc0-d46696441505"
   },
   "outputs": [
    {
     "name": "stdout",
     "output_type": "stream",
     "text": [
      "tensor(22342502., device='cuda:0', grad_fn=<NllLossBackward>)\n",
      "tensor(69337.3594, device='cuda:0', grad_fn=<NllLossBackward>)\n",
      "tensor(22333.0840, device='cuda:0', grad_fn=<NllLossBackward>)\n",
      "tensor(8852.5781, device='cuda:0', grad_fn=<NllLossBackward>)\n",
      "tensor(10784.2744, device='cuda:0', grad_fn=<NllLossBackward>)\n",
      "tensor(8970.0195, device='cuda:0', grad_fn=<NllLossBackward>)\n",
      "tensor(984.5632, device='cuda:0', grad_fn=<NllLossBackward>)\n",
      "tensor(945.1361, device='cuda:0', grad_fn=<NllLossBackward>)\n",
      "tensor(1026.5258, device='cuda:0', grad_fn=<NllLossBackward>)\n",
      "tensor(852.4100, device='cuda:0', grad_fn=<NllLossBackward>)\n"
     ]
    },
    {
     "data": {
      "image/png": "[encoded data removed]",
      "text/plain": [
       "<Figure size 432x288 with 1 Axes>"
      ]
     },
     "metadata": {
      "needs_background": "light",
      "tags": []
     },
     "output_type": "display_data"
    },
    {
     "name": "stdout",
     "output_type": "stream",
     "text": [
      "tensor(79.2826, device='cuda:0', grad_fn=<NllLossBackward>)\n"
     ]
    }
   ],
   "source": [
    "model = model_LRLRLRLR()\n",
    "loss_func = nn.CrossEntropyLoss()\n",
    "optimizer = optim.Adam(model.parameters(),lr=0.0002)\n",
    "model.to(device)\n",
    "loss_array = []\n",
    "for i in range(num_epoch):\n",
    "    optimizer.zero_grad()\n",
    "    output = model(final_train_tensor).to(device)\n",
    "    loss = loss_func(output,train_y_tensor)\n",
    "    if i%1000==0:\n",
    "        print(loss)\n",
    "    loss.backward()\n",
    "    optimizer.step()\n",
    "    loss_array.append(loss)\n",
    "\n",
    "plt.plot(loss_array)\n",
    "plt.title(\"lr=0.0002_LRLRLRLR\")\n",
    "plt.show()\n",
    "print(loss_array[-1])"
   ]
  },
  {
   "cell_type": "markdown",
   "metadata": {
    "colab_type": "text",
    "id": "236mN2X6XWnR"
   },
   "source": [
    "![image.png](data:image/png;base64,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)"
   ]
  },
  {
   "cell_type": "code",
   "execution_count": null,
   "metadata": {
    "colab": {},
    "colab_type": "code",
    "id": "A0NKNdPFSIBS"
   },
   "outputs": [],
   "source": [
    "# TEST\n",
    "model.to(device)\n",
    "\n",
    "output = model(test_tensor)"
   ]
  },
  {
   "cell_type": "code",
   "execution_count": null,
   "metadata": {
    "colab": {},
    "colab_type": "code",
    "id": "yx4UdHtsSNTh"
   },
   "outputs": [],
   "source": [
    "result = []\n",
    "for i in output:\n",
    "    if i.argmax() == 1:\n",
    "        result.append(1)\n",
    "    else:\n",
    "        result.append(0)\n",
    "answer['OC'] = result\n",
    "answer['OC']\n",
    "# answer.to_csv('lr=0.0002_LRLRLRLR.csv',index=False)"
   ]
  },
  {
   "cell_type": "markdown",
   "metadata": {
    "colab_type": "text",
    "id": "RYFw3d-qXqFL"
   },
   "source": [
    "## 결론\n",
    "\n",
    "반복 수 10000번, 학습률 0.005 하이퍼볼릭 탄젠트 4번이 정확도 85%로 가장 좋은 모델.\n",
    "\n",
    "Xgboost와 점수차이는 크게 나지 않음."
   ]
  }
 ],
 "metadata": {
  "accelerator": "GPU",
  "colab": {
   "collapsed_sections": [],
   "name": "final.ipynb",
   "provenance": [],
   "toc_visible": true
  },
  "kernelspec": {
   "display_name": "Python 3",
   "language": "python",
   "name": "python3"
  },
  "language_info": {
   "codemirror_mode": {
    "name": "ipython",
    "version": 3
   },
   "file_extension": ".py",
   "mimetype": "text/x-python",
   "name": "python",
   "nbconvert_exporter": "python",
   "pygments_lexer": "ipython3",
   "version": "3.7.1"
  }
 },
 "nbformat": 4,
 "nbformat_minor": 1
}
