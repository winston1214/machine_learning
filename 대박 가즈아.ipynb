{
 "cells": [
  {
   "cell_type": "code",
   "execution_count": 2,
   "metadata": {},
   "outputs": [],
   "source": [
    "import pandas as pd\n",
    "import numpy as np\n",
    "from urllib.request import urlopen\n",
    "import bs4\n",
    "import matplotlib.pyplot as plt\n",
    "import seaborn as sns\n",
    "plt.style.use('ggplot')"
   ]
  },
  {
   "cell_type": "code",
   "execution_count": 3,
   "metadata": {},
   "outputs": [
    {
     "name": "stdout",
     "output_type": "stream",
     "text": [
      "2020-07-07 21:53:01.693432\n"
     ]
    }
   ],
   "source": [
    "import datetime as dt\n",
    "print(dt.datetime.now())"
   ]
  },
  {
   "cell_type": "code",
   "execution_count": 4,
   "metadata": {},
   "outputs": [],
   "source": [
    "page_n = 1\n",
    "idx = 'https://dhlottery.co.kr/gameResult.do?method=byWin&drwNo='+str(page_n)"
   ]
  },
  {
   "cell_type": "code",
   "execution_count": 6,
   "metadata": {},
   "outputs": [],
   "source": [
    "source = urlopen(idx).read()\n",
    "source= bs4.BeautifulSoup(source,'html.parser')"
   ]
  },
  {
   "cell_type": "code",
   "execution_count": 5,
   "metadata": {},
   "outputs": [],
   "source": [
    "sentence = source.find(\"meta\", {\"name\":\"description\"}).get('content')"
   ]
  },
  {
   "cell_type": "code",
   "execution_count": 6,
   "metadata": {},
   "outputs": [
    {
     "data": {
      "text/plain": [
       "'동행복권 1회 당첨번호 10,23,29,33,37,40+16. 1등 총 0명, 1인당 당첨금액 0원.'"
      ]
     },
     "execution_count": 6,
     "metadata": {},
     "output_type": "execute_result"
    }
   ],
   "source": [
    "sentence"
   ]
  },
  {
   "cell_type": "code",
   "execution_count": 7,
   "metadata": {},
   "outputs": [
    {
     "data": {
      "text/plain": [
       "['10', '23', '29', '33', '37', '40+16']"
      ]
     },
     "execution_count": 7,
     "metadata": {},
     "output_type": "execute_result"
    }
   ],
   "source": [
    "import re\n",
    "tmp = sentence.split('당첨번호')[1].split('.')[0].lstrip().split(',')\n",
    "last = tmp[-1].split('+')\n",
    "tmp"
   ]
  },
  {
   "cell_type": "code",
   "execution_count": 8,
   "metadata": {},
   "outputs": [
    {
     "data": {
      "text/plain": [
       "['10', '23', '29', '33', '37', '40', '16']"
      ]
     },
     "execution_count": 8,
     "metadata": {},
     "output_type": "execute_result"
    }
   ],
   "source": [
    "tmp.remove(tmp[-1])\n",
    "tmp.append(last[0])\n",
    "tmp.append(last[1])\n",
    "tmp"
   ]
  },
  {
   "cell_type": "code",
   "execution_count": 9,
   "metadata": {},
   "outputs": [
    {
     "data": {
      "text/plain": [
       "918"
      ]
     },
     "execution_count": 9,
     "metadata": {},
     "output_type": "execute_result"
    }
   ],
   "source": [
    "# 마지막 날짜 추출\n",
    "# <select id=\"dwrNoList\" title=\"회차 선택\">\n",
    "x=str(source.find('select',{'id':'dwrNoList'}).find('option'))\n",
    "x= x.split('>')[1].split('<')[0]\n",
    "x= int(x)\n",
    "x"
   ]
  },
  {
   "cell_type": "code",
   "execution_count": 10,
   "metadata": {},
   "outputs": [
    {
     "data": {
      "text/html": [
       "<div>\n",
       "<style scoped>\n",
       "    .dataframe tbody tr th:only-of-type {\n",
       "        vertical-align: middle;\n",
       "    }\n",
       "\n",
       "    .dataframe tbody tr th {\n",
       "        vertical-align: top;\n",
       "    }\n",
       "\n",
       "    .dataframe thead th {\n",
       "        text-align: right;\n",
       "    }\n",
       "</style>\n",
       "<table border=\"1\" class=\"dataframe\">\n",
       "  <thead>\n",
       "    <tr style=\"text-align: right;\">\n",
       "      <th></th>\n",
       "      <th>0</th>\n",
       "      <th>1</th>\n",
       "      <th>2</th>\n",
       "      <th>3</th>\n",
       "      <th>4</th>\n",
       "      <th>5</th>\n",
       "      <th>6</th>\n",
       "      <th>list</th>\n",
       "    </tr>\n",
       "  </thead>\n",
       "  <tbody>\n",
       "    <tr>\n",
       "      <th>1회</th>\n",
       "      <td>10</td>\n",
       "      <td>23</td>\n",
       "      <td>29</td>\n",
       "      <td>33</td>\n",
       "      <td>37</td>\n",
       "      <td>40</td>\n",
       "      <td>16</td>\n",
       "      <td>[10, 23, 29, 33, 37, 40, 16]</td>\n",
       "    </tr>\n",
       "    <tr>\n",
       "      <th>2회</th>\n",
       "      <td>9</td>\n",
       "      <td>13</td>\n",
       "      <td>21</td>\n",
       "      <td>25</td>\n",
       "      <td>32</td>\n",
       "      <td>42</td>\n",
       "      <td>2</td>\n",
       "      <td>[9, 13, 21, 25, 32, 42, 2]</td>\n",
       "    </tr>\n",
       "    <tr>\n",
       "      <th>3회</th>\n",
       "      <td>11</td>\n",
       "      <td>16</td>\n",
       "      <td>19</td>\n",
       "      <td>21</td>\n",
       "      <td>27</td>\n",
       "      <td>31</td>\n",
       "      <td>30</td>\n",
       "      <td>[11, 16, 19, 21, 27, 31, 30]</td>\n",
       "    </tr>\n",
       "    <tr>\n",
       "      <th>4회</th>\n",
       "      <td>14</td>\n",
       "      <td>27</td>\n",
       "      <td>30</td>\n",
       "      <td>31</td>\n",
       "      <td>40</td>\n",
       "      <td>42</td>\n",
       "      <td>2</td>\n",
       "      <td>[14, 27, 30, 31, 40, 42, 2]</td>\n",
       "    </tr>\n",
       "    <tr>\n",
       "      <th>5회</th>\n",
       "      <td>16</td>\n",
       "      <td>24</td>\n",
       "      <td>29</td>\n",
       "      <td>40</td>\n",
       "      <td>41</td>\n",
       "      <td>42</td>\n",
       "      <td>3</td>\n",
       "      <td>[16, 24, 29, 40, 41, 42, 3]</td>\n",
       "    </tr>\n",
       "  </tbody>\n",
       "</table>\n",
       "</div>"
      ],
      "text/plain": [
       "     0   1   2   3   4   5   6                          list\n",
       "1회  10  23  29  33  37  40  16  [10, 23, 29, 33, 37, 40, 16]\n",
       "2회   9  13  21  25  32  42   2    [9, 13, 21, 25, 32, 42, 2]\n",
       "3회  11  16  19  21  27  31  30  [11, 16, 19, 21, 27, 31, 30]\n",
       "4회  14  27  30  31  40  42   2   [14, 27, 30, 31, 40, 42, 2]\n",
       "5회  16  24  29  40  41  42   3   [16, 24, 29, 40, 41, 42, 3]"
      ]
     },
     "execution_count": 10,
     "metadata": {},
     "output_type": "execute_result"
    }
   ],
   "source": [
    "adress = 'https://dhlottery.co.kr/gameResult.do?method=byWin&drwNo='+str(1) # 업데이트 되기 때문에 어느 숫자든 노상관\n",
    "source = urlopen(adress).read()\n",
    "source= bs4.BeautifulSoup(source,'html.parser')\n",
    "last_page=str(source.find('select',{'id':'dwrNoList'}).find('option'))\n",
    "last_page= last_page.split('>')[1].split('<')[0]\n",
    "last_page= int(last_page)\n",
    "lotto=pd.DataFrame() # 각각의 value 저장\n",
    "dic={} # list를 저장하기 위한 임시 변수\n",
    "for page_n in range(1,last_page+1):\n",
    "    adress = 'https://dhlottery.co.kr/gameResult.do?method=byWin&drwNo='+str(page_n)\n",
    "    source = urlopen(adress).read()\n",
    "    source= bs4.BeautifulSoup(source,'html.parser')\n",
    "    sentense = source.head.find(\"meta\", {\"name\":\"description\"}).get('content')\n",
    "\n",
    "    number = sentense.split('당첨번호')[1].split('.')[0].lstrip().split(',')\n",
    "    last = number[-1].split('+')\n",
    "    number.remove(number[-1])\n",
    "    number.append(last[0])\n",
    "    number.append(last[1])\n",
    "    \n",
    "    \n",
    "    lotto['{}회'.format(page_n)]=number\n",
    "    dic['{}회'.format(page_n)] = number\n",
    "lotto=lotto.T\n",
    "x= pd.DataFrame(pd.Series(dic,index=dic.keys()))\n",
    "x.rename(columns = {0 : 'list'}, inplace = True)\n",
    "lotto = pd.concat([lotto,x],axis=1,join='outer')\n",
    "lotto.head()"
   ]
  },
  {
   "cell_type": "code",
   "execution_count": 11,
   "metadata": {},
   "outputs": [],
   "source": [
    "for i in lotto.columns.difference(['list']):\n",
    "    lotto[i] = lotto[i].astype(int)\n",
    "lotto['list'] = lotto['list'].apply(lambda x: list(map(int,x)))"
   ]
  },
  {
   "cell_type": "code",
   "execution_count": 12,
   "metadata": {},
   "outputs": [
    {
     "data": {
      "text/html": [
       "<div>\n",
       "<style scoped>\n",
       "    .dataframe tbody tr th:only-of-type {\n",
       "        vertical-align: middle;\n",
       "    }\n",
       "\n",
       "    .dataframe tbody tr th {\n",
       "        vertical-align: top;\n",
       "    }\n",
       "\n",
       "    .dataframe thead th {\n",
       "        text-align: right;\n",
       "    }\n",
       "</style>\n",
       "<table border=\"1\" class=\"dataframe\">\n",
       "  <thead>\n",
       "    <tr style=\"text-align: right;\">\n",
       "      <th></th>\n",
       "      <th>0</th>\n",
       "      <th>1</th>\n",
       "      <th>2</th>\n",
       "      <th>3</th>\n",
       "      <th>4</th>\n",
       "      <th>5</th>\n",
       "      <th>6</th>\n",
       "      <th>list</th>\n",
       "    </tr>\n",
       "  </thead>\n",
       "  <tbody>\n",
       "    <tr>\n",
       "      <th>1회</th>\n",
       "      <td>10</td>\n",
       "      <td>23</td>\n",
       "      <td>29</td>\n",
       "      <td>33</td>\n",
       "      <td>37</td>\n",
       "      <td>40</td>\n",
       "      <td>16</td>\n",
       "      <td>[10, 23, 29, 33, 37, 40, 16]</td>\n",
       "    </tr>\n",
       "    <tr>\n",
       "      <th>2회</th>\n",
       "      <td>9</td>\n",
       "      <td>13</td>\n",
       "      <td>21</td>\n",
       "      <td>25</td>\n",
       "      <td>32</td>\n",
       "      <td>42</td>\n",
       "      <td>2</td>\n",
       "      <td>[9, 13, 21, 25, 32, 42, 2]</td>\n",
       "    </tr>\n",
       "    <tr>\n",
       "      <th>3회</th>\n",
       "      <td>11</td>\n",
       "      <td>16</td>\n",
       "      <td>19</td>\n",
       "      <td>21</td>\n",
       "      <td>27</td>\n",
       "      <td>31</td>\n",
       "      <td>30</td>\n",
       "      <td>[11, 16, 19, 21, 27, 31, 30]</td>\n",
       "    </tr>\n",
       "    <tr>\n",
       "      <th>4회</th>\n",
       "      <td>14</td>\n",
       "      <td>27</td>\n",
       "      <td>30</td>\n",
       "      <td>31</td>\n",
       "      <td>40</td>\n",
       "      <td>42</td>\n",
       "      <td>2</td>\n",
       "      <td>[14, 27, 30, 31, 40, 42, 2]</td>\n",
       "    </tr>\n",
       "    <tr>\n",
       "      <th>5회</th>\n",
       "      <td>16</td>\n",
       "      <td>24</td>\n",
       "      <td>29</td>\n",
       "      <td>40</td>\n",
       "      <td>41</td>\n",
       "      <td>42</td>\n",
       "      <td>3</td>\n",
       "      <td>[16, 24, 29, 40, 41, 42, 3]</td>\n",
       "    </tr>\n",
       "    <tr>\n",
       "      <th>...</th>\n",
       "      <td>...</td>\n",
       "      <td>...</td>\n",
       "      <td>...</td>\n",
       "      <td>...</td>\n",
       "      <td>...</td>\n",
       "      <td>...</td>\n",
       "      <td>...</td>\n",
       "      <td>...</td>\n",
       "    </tr>\n",
       "    <tr>\n",
       "      <th>914회</th>\n",
       "      <td>16</td>\n",
       "      <td>19</td>\n",
       "      <td>24</td>\n",
       "      <td>33</td>\n",
       "      <td>42</td>\n",
       "      <td>44</td>\n",
       "      <td>27</td>\n",
       "      <td>[16, 19, 24, 33, 42, 44, 27]</td>\n",
       "    </tr>\n",
       "    <tr>\n",
       "      <th>915회</th>\n",
       "      <td>2</td>\n",
       "      <td>6</td>\n",
       "      <td>11</td>\n",
       "      <td>13</td>\n",
       "      <td>22</td>\n",
       "      <td>37</td>\n",
       "      <td>14</td>\n",
       "      <td>[2, 6, 11, 13, 22, 37, 14]</td>\n",
       "    </tr>\n",
       "    <tr>\n",
       "      <th>916회</th>\n",
       "      <td>6</td>\n",
       "      <td>21</td>\n",
       "      <td>22</td>\n",
       "      <td>32</td>\n",
       "      <td>35</td>\n",
       "      <td>36</td>\n",
       "      <td>17</td>\n",
       "      <td>[6, 21, 22, 32, 35, 36, 17]</td>\n",
       "    </tr>\n",
       "    <tr>\n",
       "      <th>917회</th>\n",
       "      <td>1</td>\n",
       "      <td>3</td>\n",
       "      <td>23</td>\n",
       "      <td>24</td>\n",
       "      <td>27</td>\n",
       "      <td>43</td>\n",
       "      <td>34</td>\n",
       "      <td>[1, 3, 23, 24, 27, 43, 34]</td>\n",
       "    </tr>\n",
       "    <tr>\n",
       "      <th>918회</th>\n",
       "      <td>7</td>\n",
       "      <td>11</td>\n",
       "      <td>12</td>\n",
       "      <td>31</td>\n",
       "      <td>33</td>\n",
       "      <td>38</td>\n",
       "      <td>5</td>\n",
       "      <td>[7, 11, 12, 31, 33, 38, 5]</td>\n",
       "    </tr>\n",
       "  </tbody>\n",
       "</table>\n",
       "<p>918 rows × 8 columns</p>\n",
       "</div>"
      ],
      "text/plain": [
       "       0   1   2   3   4   5   6                          list\n",
       "1회    10  23  29  33  37  40  16  [10, 23, 29, 33, 37, 40, 16]\n",
       "2회     9  13  21  25  32  42   2    [9, 13, 21, 25, 32, 42, 2]\n",
       "3회    11  16  19  21  27  31  30  [11, 16, 19, 21, 27, 31, 30]\n",
       "4회    14  27  30  31  40  42   2   [14, 27, 30, 31, 40, 42, 2]\n",
       "5회    16  24  29  40  41  42   3   [16, 24, 29, 40, 41, 42, 3]\n",
       "...   ..  ..  ..  ..  ..  ..  ..                           ...\n",
       "914회  16  19  24  33  42  44  27  [16, 19, 24, 33, 42, 44, 27]\n",
       "915회   2   6  11  13  22  37  14    [2, 6, 11, 13, 22, 37, 14]\n",
       "916회   6  21  22  32  35  36  17   [6, 21, 22, 32, 35, 36, 17]\n",
       "917회   1   3  23  24  27  43  34    [1, 3, 23, 24, 27, 43, 34]\n",
       "918회   7  11  12  31  33  38   5    [7, 11, 12, 31, 33, 38, 5]\n",
       "\n",
       "[918 rows x 8 columns]"
      ]
     },
     "execution_count": 12,
     "metadata": {},
     "output_type": "execute_result"
    }
   ],
   "source": [
    "lotto"
   ]
  },
  {
   "cell_type": "code",
   "execution_count": 13,
   "metadata": {
    "scrolled": true
   },
   "outputs": [],
   "source": [
    "from collections import Counter\n",
    "tmp=[]\n",
    "for i in range(7):\n",
    "    for j in range(lotto.shape[0]):\n",
    "        tmp.append(lotto[i][j])\n",
    "count = Counter(tmp)"
   ]
  },
  {
   "cell_type": "code",
   "execution_count": 14,
   "metadata": {},
   "outputs": [],
   "source": [
    "df = pd.DataFrame(pd.Series(count,index=count.keys())).sort_values(by=0,ascending=False)\n",
    "df['count'] = df[0]/lotto.shape[0]*100\n",
    "df = df.reset_index()"
   ]
  },
  {
   "cell_type": "code",
   "execution_count": 15,
   "metadata": {},
   "outputs": [
    {
     "data": {
      "text/html": [
       "<div>\n",
       "<style scoped>\n",
       "    .dataframe tbody tr th:only-of-type {\n",
       "        vertical-align: middle;\n",
       "    }\n",
       "\n",
       "    .dataframe tbody tr th {\n",
       "        vertical-align: top;\n",
       "    }\n",
       "\n",
       "    .dataframe thead th {\n",
       "        text-align: right;\n",
       "    }\n",
       "</style>\n",
       "<table border=\"1\" class=\"dataframe\">\n",
       "  <thead>\n",
       "    <tr style=\"text-align: right;\">\n",
       "      <th></th>\n",
       "      <th>index</th>\n",
       "      <th>0</th>\n",
       "      <th>count</th>\n",
       "    </tr>\n",
       "  </thead>\n",
       "  <tbody>\n",
       "    <tr>\n",
       "      <th>0</th>\n",
       "      <td>43</td>\n",
       "      <td>166</td>\n",
       "      <td>18.082789</td>\n",
       "    </tr>\n",
       "    <tr>\n",
       "      <th>1</th>\n",
       "      <td>27</td>\n",
       "      <td>161</td>\n",
       "      <td>17.538126</td>\n",
       "    </tr>\n",
       "    <tr>\n",
       "      <th>2</th>\n",
       "      <td>34</td>\n",
       "      <td>159</td>\n",
       "      <td>17.320261</td>\n",
       "    </tr>\n",
       "    <tr>\n",
       "      <th>3</th>\n",
       "      <td>17</td>\n",
       "      <td>157</td>\n",
       "      <td>17.102397</td>\n",
       "    </tr>\n",
       "    <tr>\n",
       "      <th>4</th>\n",
       "      <td>1</td>\n",
       "      <td>155</td>\n",
       "      <td>16.884532</td>\n",
       "    </tr>\n",
       "    <tr>\n",
       "      <th>5</th>\n",
       "      <td>33</td>\n",
       "      <td>153</td>\n",
       "      <td>16.666667</td>\n",
       "    </tr>\n",
       "  </tbody>\n",
       "</table>\n",
       "</div>"
      ],
      "text/plain": [
       "   index    0      count\n",
       "0     43  166  18.082789\n",
       "1     27  161  17.538126\n",
       "2     34  159  17.320261\n",
       "3     17  157  17.102397\n",
       "4      1  155  16.884532\n",
       "5     33  153  16.666667"
      ]
     },
     "execution_count": 15,
     "metadata": {},
     "output_type": "execute_result"
    }
   ],
   "source": [
    "df.head(6)"
   ]
  },
  {
   "cell_type": "code",
   "execution_count": 16,
   "metadata": {},
   "outputs": [
    {
     "data": {
      "text/plain": [
       "(array([ 0,  1,  2,  3,  4,  5,  6,  7,  8,  9, 10, 11, 12, 13, 14, 15, 16,\n",
       "        17, 18, 19, 20, 21, 22, 23, 24, 25, 26, 27, 28, 29, 30, 31, 32, 33,\n",
       "        34, 35, 36, 37, 38, 39, 40, 41, 42, 43, 44]),\n",
       " <a list of 45 Text xticklabel objects>)"
      ]
     },
     "execution_count": 16,
     "metadata": {},
     "output_type": "execute_result"
    },
    {
     "data": {
      "image/png": "[encoded data removed]",
      "text/plain": [
       "<Figure size 1440x864 with 1 Axes>"
      ]
     },
     "metadata": {},
     "output_type": "display_data"
    }
   ],
   "source": [
    "plt.figure(figsize=(20,12))\n",
    "sns.barplot(data=df,x='index',y='count')\n",
    "plt.title(\"Probability of All Number\")\n",
    "plt.xticks(fontsize=20,rotation=60)"
   ]
  },
  {
   "cell_type": "code",
   "execution_count": 17,
   "metadata": {},
   "outputs": [
    {
     "data": {
      "text/plain": [
       "(array([ 0,  1,  2,  3,  4,  5,  6,  7,  8,  9, 10, 11, 12, 13, 14, 15, 16,\n",
       "        17, 18, 19, 20, 21, 22, 23, 24, 25, 26, 27, 28, 29, 30, 31, 32, 33,\n",
       "        34, 35, 36, 37, 38, 39, 40, 41, 42, 43, 44]),\n",
       " <a list of 45 Text yticklabel objects>)"
      ]
     },
     "execution_count": 17,
     "metadata": {},
     "output_type": "execute_result"
    },
    {
     "data": {
      "image/png": "[encoded data removed]",
      "text/plain": [
       "<Figure size 1440x864 with 1 Axes>"
      ]
     },
     "metadata": {},
     "output_type": "display_data"
    }
   ],
   "source": [
    "plt.figure(figsize=(20,12))\n",
    "sns.barplot(data=df,y='index',x='count',orient='h')\n",
    "plt.title(\"Probability of All Number\")\n",
    "plt.xticks(fontsize=20,rotation=60)\n",
    "plt.yticks(fontsize=15)"
   ]
  },
  {
   "cell_type": "code",
   "execution_count": 18,
   "metadata": {},
   "outputs": [
    {
     "data": {
      "text/plain": [
       "Text(0.5, 1.0, 'Top 10')"
      ]
     },
     "execution_count": 18,
     "metadata": {},
     "output_type": "execute_result"
    },
    {
     "data": {
      "image/png": "[encoded data removed]",
      "text/plain": [
       "<Figure size 864x576 with 1 Axes>"
      ]
     },
     "metadata": {},
     "output_type": "display_data"
    }
   ],
   "source": [
    "plt.figure(figsize=(12,8))\n",
    "sns.barplot(x=df.head(10)['index'],y=df.head(10)['count'])\n",
    "plt.title('Top 10')"
   ]
  }
 ],
 "metadata": {
  "kernelspec": {
   "display_name": "Python 3",
   "language": "python",
   "name": "python3"
  },
  "language_info": {
   "codemirror_mode": {
    "name": "ipython",
    "version": 3
   },
   "file_extension": ".py",
   "mimetype": "text/x-python",
   "name": "python",
   "nbconvert_exporter": "python",
   "pygments_lexer": "ipython3",
   "version": "3.7.1"
  }
 },
 "nbformat": 4,
 "nbformat_minor": 2
}
