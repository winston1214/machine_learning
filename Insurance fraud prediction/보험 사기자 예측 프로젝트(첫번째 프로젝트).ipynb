{
 "cells": [
  {
   "cell_type": "code",
   "execution_count": 1,
   "metadata": {},
   "outputs": [],
   "source": [
    "import pandas as pd"
   ]
  },
  {
   "cell_type": "markdown",
   "metadata": {},
   "source": [
    "## 데이터 불러오기"
   ]
  },
  {
   "cell_type": "code",
   "execution_count": 2,
   "metadata": {},
   "outputs": [],
   "source": [
    "pd.set_option('display.max_columns',40) # 컬럼 보여지는거 늘리기"
   ]
  },
  {
   "cell_type": "code",
   "execution_count": 3,
   "metadata": {},
   "outputs": [
    {
     "data": {
      "text/html": [
       "<div>\n",
       "<style scoped>\n",
       "    .dataframe tbody tr th:only-of-type {\n",
       "        vertical-align: middle;\n",
       "    }\n",
       "\n",
       "    .dataframe tbody tr th {\n",
       "        vertical-align: top;\n",
       "    }\n",
       "\n",
       "    .dataframe thead th {\n",
       "        text-align: right;\n",
       "    }\n",
       "</style>\n",
       "<table border=\"1\" class=\"dataframe\">\n",
       "  <thead>\n",
       "    <tr style=\"text-align: right;\">\n",
       "      <th></th>\n",
       "      <th>CUST_ID</th>\n",
       "      <th>DIVIDED_SET</th>\n",
       "      <th>SIU_CUST_YN</th>\n",
       "      <th>SEX</th>\n",
       "      <th>AGE</th>\n",
       "      <th>RESI_COST</th>\n",
       "      <th>RESI_TYPE_CODE</th>\n",
       "      <th>FP_CAREER</th>\n",
       "      <th>CUST_RGST</th>\n",
       "      <th>CTPR</th>\n",
       "      <th>OCCP_GRP_1</th>\n",
       "      <th>OCCP_GRP_2</th>\n",
       "      <th>TOTALPREM</th>\n",
       "      <th>MINCRDT</th>\n",
       "      <th>MAXCRDT</th>\n",
       "      <th>WEDD_YN</th>\n",
       "      <th>MATE_OCCP_GRP_1</th>\n",
       "      <th>MATE_OCCP_GRP_2</th>\n",
       "      <th>CHLD_CNT</th>\n",
       "      <th>LTBN_CHLD_AGE</th>\n",
       "      <th>MAX_PAYM_YM</th>\n",
       "      <th>MAX_PRM</th>\n",
       "      <th>CUST_INCM</th>\n",
       "      <th>RCBASE_HSHD_INCM</th>\n",
       "      <th>JPBASE_HSHD_INCM</th>\n",
       "    </tr>\n",
       "  </thead>\n",
       "  <tbody>\n",
       "    <tr>\n",
       "      <th>0</th>\n",
       "      <td>1</td>\n",
       "      <td>1</td>\n",
       "      <td>N</td>\n",
       "      <td>2</td>\n",
       "      <td>47</td>\n",
       "      <td>21111</td>\n",
       "      <td>20.0</td>\n",
       "      <td>N</td>\n",
       "      <td>199910.0</td>\n",
       "      <td>충북</td>\n",
       "      <td>3.사무직</td>\n",
       "      <td>사무직</td>\n",
       "      <td>146980441.0</td>\n",
       "      <td>NaN</td>\n",
       "      <td>NaN</td>\n",
       "      <td>Y</td>\n",
       "      <td>3.사무직</td>\n",
       "      <td>2차산업 종사자</td>\n",
       "      <td>2.0</td>\n",
       "      <td>13.0</td>\n",
       "      <td>200811.0</td>\n",
       "      <td>319718.0</td>\n",
       "      <td>4879.0</td>\n",
       "      <td>10094</td>\n",
       "      <td>11337.0</td>\n",
       "    </tr>\n",
       "    <tr>\n",
       "      <th>1</th>\n",
       "      <td>2</td>\n",
       "      <td>1</td>\n",
       "      <td>N</td>\n",
       "      <td>1</td>\n",
       "      <td>53</td>\n",
       "      <td>40000</td>\n",
       "      <td>20.0</td>\n",
       "      <td>N</td>\n",
       "      <td>199910.0</td>\n",
       "      <td>서울</td>\n",
       "      <td>3.사무직</td>\n",
       "      <td>사무직</td>\n",
       "      <td>94600109.0</td>\n",
       "      <td>1.0</td>\n",
       "      <td>6.0</td>\n",
       "      <td>Y</td>\n",
       "      <td>1.주부</td>\n",
       "      <td>주부</td>\n",
       "      <td>2.0</td>\n",
       "      <td>17.0</td>\n",
       "      <td>200012.0</td>\n",
       "      <td>341341.0</td>\n",
       "      <td>6509.0</td>\n",
       "      <td>9143</td>\n",
       "      <td>6509.0</td>\n",
       "    </tr>\n",
       "    <tr>\n",
       "      <th>2</th>\n",
       "      <td>3</td>\n",
       "      <td>1</td>\n",
       "      <td>N</td>\n",
       "      <td>1</td>\n",
       "      <td>60</td>\n",
       "      <td>0</td>\n",
       "      <td>NaN</td>\n",
       "      <td>N</td>\n",
       "      <td>199910.0</td>\n",
       "      <td>서울</td>\n",
       "      <td>5.서비스</td>\n",
       "      <td>2차산업 종사자</td>\n",
       "      <td>18501269.0</td>\n",
       "      <td>NaN</td>\n",
       "      <td>NaN</td>\n",
       "      <td>N</td>\n",
       "      <td>NaN</td>\n",
       "      <td>NaN</td>\n",
       "      <td>0.0</td>\n",
       "      <td>0.0</td>\n",
       "      <td>200305.0</td>\n",
       "      <td>131300.0</td>\n",
       "      <td>4180.0</td>\n",
       "      <td>0</td>\n",
       "      <td>4180.0</td>\n",
       "    </tr>\n",
       "    <tr>\n",
       "      <th>3</th>\n",
       "      <td>4</td>\n",
       "      <td>1</td>\n",
       "      <td>N</td>\n",
       "      <td>2</td>\n",
       "      <td>64</td>\n",
       "      <td>12861</td>\n",
       "      <td>40.0</td>\n",
       "      <td>Y</td>\n",
       "      <td>199910.0</td>\n",
       "      <td>경기</td>\n",
       "      <td>2.자영업</td>\n",
       "      <td>3차산업 종사자</td>\n",
       "      <td>317223657.0</td>\n",
       "      <td>2.0</td>\n",
       "      <td>99.0</td>\n",
       "      <td>N</td>\n",
       "      <td>NaN</td>\n",
       "      <td>NaN</td>\n",
       "      <td>0.0</td>\n",
       "      <td>0.0</td>\n",
       "      <td>201009.0</td>\n",
       "      <td>1493184.0</td>\n",
       "      <td>NaN</td>\n",
       "      <td>4270</td>\n",
       "      <td>5914.0</td>\n",
       "    </tr>\n",
       "    <tr>\n",
       "      <th>4</th>\n",
       "      <td>5</td>\n",
       "      <td>1</td>\n",
       "      <td>N</td>\n",
       "      <td>2</td>\n",
       "      <td>54</td>\n",
       "      <td>0</td>\n",
       "      <td>NaN</td>\n",
       "      <td>Y</td>\n",
       "      <td>199910.0</td>\n",
       "      <td>광주</td>\n",
       "      <td>2.자영업</td>\n",
       "      <td>3차산업 종사자</td>\n",
       "      <td>10506072.0</td>\n",
       "      <td>8.0</td>\n",
       "      <td>8.0</td>\n",
       "      <td>Y</td>\n",
       "      <td>3.사무직</td>\n",
       "      <td>고위 공무원</td>\n",
       "      <td>3.0</td>\n",
       "      <td>19.0</td>\n",
       "      <td>200807.0</td>\n",
       "      <td>166760.0</td>\n",
       "      <td>3894.0</td>\n",
       "      <td>0</td>\n",
       "      <td>8885.0</td>\n",
       "    </tr>\n",
       "  </tbody>\n",
       "</table>\n",
       "</div>"
      ],
      "text/plain": [
       "   CUST_ID  DIVIDED_SET SIU_CUST_YN  SEX  AGE  RESI_COST  RESI_TYPE_CODE  \\\n",
       "0        1            1           N    2   47      21111            20.0   \n",
       "1        2            1           N    1   53      40000            20.0   \n",
       "2        3            1           N    1   60          0             NaN   \n",
       "3        4            1           N    2   64      12861            40.0   \n",
       "4        5            1           N    2   54          0             NaN   \n",
       "\n",
       "  FP_CAREER  CUST_RGST CTPR OCCP_GRP_1 OCCP_GRP_2    TOTALPREM  MINCRDT  \\\n",
       "0         N   199910.0   충북      3.사무직        사무직  146980441.0      NaN   \n",
       "1         N   199910.0   서울      3.사무직        사무직   94600109.0      1.0   \n",
       "2         N   199910.0   서울      5.서비스   2차산업 종사자   18501269.0      NaN   \n",
       "3         Y   199910.0   경기      2.자영업   3차산업 종사자  317223657.0      2.0   \n",
       "4         Y   199910.0   광주      2.자영업   3차산업 종사자   10506072.0      8.0   \n",
       "\n",
       "   MAXCRDT WEDD_YN MATE_OCCP_GRP_1 MATE_OCCP_GRP_2  CHLD_CNT  LTBN_CHLD_AGE  \\\n",
       "0      NaN       Y           3.사무직        2차산업 종사자       2.0           13.0   \n",
       "1      6.0       Y            1.주부              주부       2.0           17.0   \n",
       "2      NaN       N             NaN             NaN       0.0            0.0   \n",
       "3     99.0       N             NaN             NaN       0.0            0.0   \n",
       "4      8.0       Y           3.사무직          고위 공무원       3.0           19.0   \n",
       "\n",
       "   MAX_PAYM_YM    MAX_PRM  CUST_INCM  RCBASE_HSHD_INCM  JPBASE_HSHD_INCM  \n",
       "0     200811.0   319718.0     4879.0             10094           11337.0  \n",
       "1     200012.0   341341.0     6509.0              9143            6509.0  \n",
       "2     200305.0   131300.0     4180.0                 0            4180.0  \n",
       "3     201009.0  1493184.0        NaN              4270            5914.0  \n",
       "4     200807.0   166760.0     3894.0                 0            8885.0  "
      ]
     },
     "execution_count": 3,
     "metadata": {},
     "output_type": "execute_result"
    }
   ],
   "source": [
    "cust_data=pd.read_csv('CUST_DATA.csv',encoding='utf-16',engine='python',sep=',')\n",
    "cust_data.head()"
   ]
  },
  {
   "cell_type": "code",
   "execution_count": 4,
   "metadata": {},
   "outputs": [],
   "source": [
    "# 타이핑의 편의를 위해 컬럼명을 소문자로 변경\n",
    "cust_data.columns=cust_data.columns.str.lower()"
   ]
  },
  {
   "cell_type": "code",
   "execution_count": 5,
   "metadata": {},
   "outputs": [
    {
     "data": {
      "text/plain": [
       "Index(['cust_id', 'divided_set', 'siu_cust_yn', 'sex', 'age', 'resi_cost',\n",
       "       'resi_type_code', 'fp_career', 'cust_rgst', 'ctpr', 'occp_grp_1',\n",
       "       'occp_grp_2', 'totalprem', 'mincrdt', 'maxcrdt', 'wedd_yn',\n",
       "       'mate_occp_grp_1', 'mate_occp_grp_2', 'chld_cnt', 'ltbn_chld_age',\n",
       "       'max_paym_ym', 'max_prm', 'cust_incm', 'rcbase_hshd_incm',\n",
       "       'jpbase_hshd_incm'],\n",
       "      dtype='object')"
      ]
     },
     "execution_count": 5,
     "metadata": {},
     "output_type": "execute_result"
    }
   ],
   "source": [
    "cust_data.columns"
   ]
  },
  {
   "cell_type": "code",
   "execution_count": 6,
   "metadata": {},
   "outputs": [
    {
     "data": {
      "text/plain": [
       "(22400, 25)"
      ]
     },
     "execution_count": 6,
     "metadata": {},
     "output_type": "execute_result"
    }
   ],
   "source": [
    "cust_data.shape"
   ]
  },
  {
   "cell_type": "markdown",
   "metadata": {},
   "source": [
    "## 데이터 파악"
   ]
  },
  {
   "cell_type": "code",
   "execution_count": 7,
   "metadata": {},
   "outputs": [
    {
     "data": {
      "text/plain": [
       "cust_id                 0\n",
       "divided_set             0\n",
       "siu_cust_yn          1793\n",
       "sex                     0\n",
       "age                     0\n",
       "resi_cost               0\n",
       "resi_type_code       1254\n",
       "fp_career               0\n",
       "cust_rgst             456\n",
       "ctpr                  621\n",
       "occp_grp_1            595\n",
       "occp_grp_2            595\n",
       "totalprem            5791\n",
       "mincrdt              9476\n",
       "maxcrdt              9476\n",
       "wedd_yn               473\n",
       "mate_occp_grp_1     11827\n",
       "mate_occp_grp_2     11827\n",
       "chld_cnt              473\n",
       "ltbn_chld_age         473\n",
       "max_paym_ym          6486\n",
       "max_prm              6486\n",
       "cust_incm            5263\n",
       "rcbase_hshd_incm        0\n",
       "jpbase_hshd_incm      680\n",
       "dtype: int64"
      ]
     },
     "execution_count": 7,
     "metadata": {},
     "output_type": "execute_result"
    }
   ],
   "source": [
    "#  결측치 파악\n",
    "cust_data.isnull().sum()"
   ]
  },
  {
   "cell_type": "code",
   "execution_count": 8,
   "metadata": {},
   "outputs": [
    {
     "data": {
      "text/plain": [
       "cust_id              0.000000\n",
       "divided_set          0.000000\n",
       "siu_cust_yn          8.004464\n",
       "sex                  0.000000\n",
       "age                  0.000000\n",
       "resi_cost            0.000000\n",
       "resi_type_code       5.598214\n",
       "fp_career            0.000000\n",
       "cust_rgst            2.035714\n",
       "ctpr                 2.772321\n",
       "occp_grp_1           2.656250\n",
       "occp_grp_2           2.656250\n",
       "totalprem           25.852679\n",
       "mincrdt             42.303571\n",
       "maxcrdt             42.303571\n",
       "wedd_yn              2.111607\n",
       "mate_occp_grp_1     52.799107\n",
       "mate_occp_grp_2     52.799107\n",
       "chld_cnt             2.111607\n",
       "ltbn_chld_age        2.111607\n",
       "max_paym_ym         28.955357\n",
       "max_prm             28.955357\n",
       "cust_incm           23.495536\n",
       "rcbase_hshd_incm     0.000000\n",
       "jpbase_hshd_incm     3.035714\n",
       "dtype: float64"
      ]
     },
     "execution_count": 8,
     "metadata": {},
     "output_type": "execute_result"
    }
   ],
   "source": [
    "# 결측치 비율 => 70% 이상이면 삭제\n",
    "cust_data.isnull().sum()/cust_data.shape[0] * 100"
   ]
  },
  {
   "cell_type": "code",
   "execution_count": 9,
   "metadata": {},
   "outputs": [
    {
     "name": "stdout",
     "output_type": "stream",
     "text": [
      "<class 'pandas.core.frame.DataFrame'>\n",
      "RangeIndex: 22400 entries, 0 to 22399\n",
      "Data columns (total 25 columns):\n",
      "cust_id             22400 non-null int64\n",
      "divided_set         22400 non-null int64\n",
      "siu_cust_yn         20607 non-null object\n",
      "sex                 22400 non-null int64\n",
      "age                 22400 non-null int64\n",
      "resi_cost           22400 non-null int64\n",
      "resi_type_code      21146 non-null float64\n",
      "fp_career           22400 non-null object\n",
      "cust_rgst           21944 non-null float64\n",
      "ctpr                21779 non-null object\n",
      "occp_grp_1          21805 non-null object\n",
      "occp_grp_2          21805 non-null object\n",
      "totalprem           16609 non-null float64\n",
      "mincrdt             12924 non-null float64\n",
      "maxcrdt             12924 non-null float64\n",
      "wedd_yn             21927 non-null object\n",
      "mate_occp_grp_1     10573 non-null object\n",
      "mate_occp_grp_2     10573 non-null object\n",
      "chld_cnt            21927 non-null float64\n",
      "ltbn_chld_age       21927 non-null float64\n",
      "max_paym_ym         15914 non-null float64\n",
      "max_prm             15914 non-null float64\n",
      "cust_incm           17137 non-null float64\n",
      "rcbase_hshd_incm    22400 non-null int64\n",
      "jpbase_hshd_incm    21720 non-null float64\n",
      "dtypes: float64(11), int64(6), object(8)\n",
      "memory usage: 4.3+ MB\n"
     ]
    }
   ],
   "source": [
    "cust_data.info()\n",
    "# 범주형 데이터: siu_cust_yn,fp_career,ctpr,occp_grp_1,occp_grp_2,wedd_yn,mate_occp_1,2 "
   ]
  },
  {
   "cell_type": "code",
   "execution_count": 10,
   "metadata": {},
   "outputs": [
    {
     "data": {
      "text/html": [
       "<div>\n",
       "<style scoped>\n",
       "    .dataframe tbody tr th:only-of-type {\n",
       "        vertical-align: middle;\n",
       "    }\n",
       "\n",
       "    .dataframe tbody tr th {\n",
       "        vertical-align: top;\n",
       "    }\n",
       "\n",
       "    .dataframe thead th {\n",
       "        text-align: right;\n",
       "    }\n",
       "</style>\n",
       "<table border=\"1\" class=\"dataframe\">\n",
       "  <thead>\n",
       "    <tr style=\"text-align: right;\">\n",
       "      <th></th>\n",
       "      <th>cust_id</th>\n",
       "      <th>divided_set</th>\n",
       "      <th>sex</th>\n",
       "      <th>age</th>\n",
       "      <th>resi_cost</th>\n",
       "      <th>resi_type_code</th>\n",
       "      <th>cust_rgst</th>\n",
       "      <th>totalprem</th>\n",
       "      <th>mincrdt</th>\n",
       "      <th>maxcrdt</th>\n",
       "      <th>chld_cnt</th>\n",
       "      <th>ltbn_chld_age</th>\n",
       "      <th>max_paym_ym</th>\n",
       "      <th>max_prm</th>\n",
       "      <th>cust_incm</th>\n",
       "      <th>rcbase_hshd_incm</th>\n",
       "      <th>jpbase_hshd_incm</th>\n",
       "    </tr>\n",
       "  </thead>\n",
       "  <tbody>\n",
       "    <tr>\n",
       "      <th>count</th>\n",
       "      <td>22400.000000</td>\n",
       "      <td>22400.000000</td>\n",
       "      <td>22400.000000</td>\n",
       "      <td>22400.000000</td>\n",
       "      <td>22400.000000</td>\n",
       "      <td>21146.000000</td>\n",
       "      <td>21944.000000</td>\n",
       "      <td>1.660900e+04</td>\n",
       "      <td>12924.000000</td>\n",
       "      <td>12924.000000</td>\n",
       "      <td>21927.000000</td>\n",
       "      <td>21927.000000</td>\n",
       "      <td>15914.000000</td>\n",
       "      <td>1.591400e+04</td>\n",
       "      <td>17137.000000</td>\n",
       "      <td>22400.000000</td>\n",
       "      <td>21720.000000</td>\n",
       "    </tr>\n",
       "    <tr>\n",
       "      <th>mean</th>\n",
       "      <td>11200.500000</td>\n",
       "      <td>1.080045</td>\n",
       "      <td>1.565134</td>\n",
       "      <td>44.734866</td>\n",
       "      <td>15914.413973</td>\n",
       "      <td>25.765251</td>\n",
       "      <td>198924.250638</td>\n",
       "      <td>2.998266e+07</td>\n",
       "      <td>5.838904</td>\n",
       "      <td>19.480656</td>\n",
       "      <td>0.709491</td>\n",
       "      <td>8.603731</td>\n",
       "      <td>200881.825437</td>\n",
       "      <td>4.807763e+05</td>\n",
       "      <td>2704.184863</td>\n",
       "      <td>4768.733884</td>\n",
       "      <td>5198.238950</td>\n",
       "    </tr>\n",
       "    <tr>\n",
       "      <th>std</th>\n",
       "      <td>6466.467351</td>\n",
       "      <td>0.271368</td>\n",
       "      <td>0.495750</td>\n",
       "      <td>15.445707</td>\n",
       "      <td>14963.317519</td>\n",
       "      <td>20.691869</td>\n",
       "      <td>16989.329112</td>\n",
       "      <td>4.897438e+07</td>\n",
       "      <td>3.515198</td>\n",
       "      <td>32.363151</td>\n",
       "      <td>0.953671</td>\n",
       "      <td>11.585592</td>\n",
       "      <td>522.266749</td>\n",
       "      <td>1.327265e+06</td>\n",
       "      <td>2188.208641</td>\n",
       "      <td>3072.385280</td>\n",
       "      <td>2714.947843</td>\n",
       "    </tr>\n",
       "    <tr>\n",
       "      <th>min</th>\n",
       "      <td>1.000000</td>\n",
       "      <td>1.000000</td>\n",
       "      <td>1.000000</td>\n",
       "      <td>2.000000</td>\n",
       "      <td>0.000000</td>\n",
       "      <td>11.000000</td>\n",
       "      <td>101.000000</td>\n",
       "      <td>5.000000e+02</td>\n",
       "      <td>0.000000</td>\n",
       "      <td>0.000000</td>\n",
       "      <td>0.000000</td>\n",
       "      <td>0.000000</td>\n",
       "      <td>199801.000000</td>\n",
       "      <td>6.000000e+00</td>\n",
       "      <td>0.000000</td>\n",
       "      <td>0.000000</td>\n",
       "      <td>0.000000</td>\n",
       "    </tr>\n",
       "    <tr>\n",
       "      <th>25%</th>\n",
       "      <td>5600.750000</td>\n",
       "      <td>1.000000</td>\n",
       "      <td>1.000000</td>\n",
       "      <td>34.000000</td>\n",
       "      <td>6732.750000</td>\n",
       "      <td>20.000000</td>\n",
       "      <td>200306.000000</td>\n",
       "      <td>6.665459e+06</td>\n",
       "      <td>6.000000</td>\n",
       "      <td>6.000000</td>\n",
       "      <td>0.000000</td>\n",
       "      <td>0.000000</td>\n",
       "      <td>200404.000000</td>\n",
       "      <td>1.129440e+05</td>\n",
       "      <td>0.000000</td>\n",
       "      <td>2995.000000</td>\n",
       "      <td>3557.750000</td>\n",
       "    </tr>\n",
       "    <tr>\n",
       "      <th>50%</th>\n",
       "      <td>11200.500000</td>\n",
       "      <td>1.000000</td>\n",
       "      <td>2.000000</td>\n",
       "      <td>46.000000</td>\n",
       "      <td>12222.000000</td>\n",
       "      <td>20.000000</td>\n",
       "      <td>200306.000000</td>\n",
       "      <td>1.622463e+07</td>\n",
       "      <td>6.000000</td>\n",
       "      <td>6.000000</td>\n",
       "      <td>0.000000</td>\n",
       "      <td>0.000000</td>\n",
       "      <td>200901.000000</td>\n",
       "      <td>2.265920e+05</td>\n",
       "      <td>3432.000000</td>\n",
       "      <td>4807.000000</td>\n",
       "      <td>4681.000000</td>\n",
       "    </tr>\n",
       "    <tr>\n",
       "      <th>75%</th>\n",
       "      <td>16800.250000</td>\n",
       "      <td>1.000000</td>\n",
       "      <td>2.000000</td>\n",
       "      <td>56.000000</td>\n",
       "      <td>20988.000000</td>\n",
       "      <td>30.000000</td>\n",
       "      <td>200402.000000</td>\n",
       "      <td>3.479439e+07</td>\n",
       "      <td>6.000000</td>\n",
       "      <td>7.000000</td>\n",
       "      <td>1.000000</td>\n",
       "      <td>19.000000</td>\n",
       "      <td>201402.000000</td>\n",
       "      <td>4.852868e+05</td>\n",
       "      <td>4398.000000</td>\n",
       "      <td>6607.250000</td>\n",
       "      <td>6839.500000</td>\n",
       "    </tr>\n",
       "    <tr>\n",
       "      <th>max</th>\n",
       "      <td>22400.000000</td>\n",
       "      <td>2.000000</td>\n",
       "      <td>2.000000</td>\n",
       "      <td>89.000000</td>\n",
       "      <td>305555.000000</td>\n",
       "      <td>99.000000</td>\n",
       "      <td>201602.000000</td>\n",
       "      <td>1.840052e+09</td>\n",
       "      <td>99.000000</td>\n",
       "      <td>99.000000</td>\n",
       "      <td>6.000000</td>\n",
       "      <td>35.000000</td>\n",
       "      <td>207110.000000</td>\n",
       "      <td>5.686262e+07</td>\n",
       "      <td>12687.000000</td>\n",
       "      <td>19829.000000</td>\n",
       "      <td>25872.000000</td>\n",
       "    </tr>\n",
       "  </tbody>\n",
       "</table>\n",
       "</div>"
      ],
      "text/plain": [
       "            cust_id   divided_set           sex           age      resi_cost  \\\n",
       "count  22400.000000  22400.000000  22400.000000  22400.000000   22400.000000   \n",
       "mean   11200.500000      1.080045      1.565134     44.734866   15914.413973   \n",
       "std     6466.467351      0.271368      0.495750     15.445707   14963.317519   \n",
       "min        1.000000      1.000000      1.000000      2.000000       0.000000   \n",
       "25%     5600.750000      1.000000      1.000000     34.000000    6732.750000   \n",
       "50%    11200.500000      1.000000      2.000000     46.000000   12222.000000   \n",
       "75%    16800.250000      1.000000      2.000000     56.000000   20988.000000   \n",
       "max    22400.000000      2.000000      2.000000     89.000000  305555.000000   \n",
       "\n",
       "       resi_type_code      cust_rgst     totalprem       mincrdt  \\\n",
       "count    21146.000000   21944.000000  1.660900e+04  12924.000000   \n",
       "mean        25.765251  198924.250638  2.998266e+07      5.838904   \n",
       "std         20.691869   16989.329112  4.897438e+07      3.515198   \n",
       "min         11.000000     101.000000  5.000000e+02      0.000000   \n",
       "25%         20.000000  200306.000000  6.665459e+06      6.000000   \n",
       "50%         20.000000  200306.000000  1.622463e+07      6.000000   \n",
       "75%         30.000000  200402.000000  3.479439e+07      6.000000   \n",
       "max         99.000000  201602.000000  1.840052e+09     99.000000   \n",
       "\n",
       "            maxcrdt      chld_cnt  ltbn_chld_age    max_paym_ym       max_prm  \\\n",
       "count  12924.000000  21927.000000   21927.000000   15914.000000  1.591400e+04   \n",
       "mean      19.480656      0.709491       8.603731  200881.825437  4.807763e+05   \n",
       "std       32.363151      0.953671      11.585592     522.266749  1.327265e+06   \n",
       "min        0.000000      0.000000       0.000000  199801.000000  6.000000e+00   \n",
       "25%        6.000000      0.000000       0.000000  200404.000000  1.129440e+05   \n",
       "50%        6.000000      0.000000       0.000000  200901.000000  2.265920e+05   \n",
       "75%        7.000000      1.000000      19.000000  201402.000000  4.852868e+05   \n",
       "max       99.000000      6.000000      35.000000  207110.000000  5.686262e+07   \n",
       "\n",
       "          cust_incm  rcbase_hshd_incm  jpbase_hshd_incm  \n",
       "count  17137.000000      22400.000000      21720.000000  \n",
       "mean    2704.184863       4768.733884       5198.238950  \n",
       "std     2188.208641       3072.385280       2714.947843  \n",
       "min        0.000000          0.000000          0.000000  \n",
       "25%        0.000000       2995.000000       3557.750000  \n",
       "50%     3432.000000       4807.000000       4681.000000  \n",
       "75%     4398.000000       6607.250000       6839.500000  \n",
       "max    12687.000000      19829.000000      25872.000000  "
      ]
     },
     "execution_count": 10,
     "metadata": {},
     "output_type": "execute_result"
    }
   ],
   "source": [
    "# 데이터 기술통계 파악 : 연속형 데이터\n",
    "cust_data.describe()"
   ]
  },
  {
   "cell_type": "code",
   "execution_count": 11,
   "metadata": {},
   "outputs": [
    {
     "data": {
      "text/html": [
       "<div>\n",
       "<style scoped>\n",
       "    .dataframe tbody tr th:only-of-type {\n",
       "        vertical-align: middle;\n",
       "    }\n",
       "\n",
       "    .dataframe tbody tr th {\n",
       "        vertical-align: top;\n",
       "    }\n",
       "\n",
       "    .dataframe thead th {\n",
       "        text-align: right;\n",
       "    }\n",
       "</style>\n",
       "<table border=\"1\" class=\"dataframe\">\n",
       "  <thead>\n",
       "    <tr style=\"text-align: right;\">\n",
       "      <th></th>\n",
       "      <th>siu_cust_yn</th>\n",
       "      <th>fp_career</th>\n",
       "      <th>ctpr</th>\n",
       "      <th>occp_grp_1</th>\n",
       "      <th>occp_grp_2</th>\n",
       "      <th>wedd_yn</th>\n",
       "      <th>mate_occp_grp_1</th>\n",
       "      <th>mate_occp_grp_2</th>\n",
       "    </tr>\n",
       "  </thead>\n",
       "  <tbody>\n",
       "    <tr>\n",
       "      <th>count</th>\n",
       "      <td>20607</td>\n",
       "      <td>22400</td>\n",
       "      <td>21779</td>\n",
       "      <td>21805</td>\n",
       "      <td>21805</td>\n",
       "      <td>21927</td>\n",
       "      <td>10573</td>\n",
       "      <td>10573</td>\n",
       "    </tr>\n",
       "    <tr>\n",
       "      <th>unique</th>\n",
       "      <td>2</td>\n",
       "      <td>2</td>\n",
       "      <td>17</td>\n",
       "      <td>8</td>\n",
       "      <td>25</td>\n",
       "      <td>2</td>\n",
       "      <td>8</td>\n",
       "      <td>24</td>\n",
       "    </tr>\n",
       "    <tr>\n",
       "      <th>top</th>\n",
       "      <td>N</td>\n",
       "      <td>N</td>\n",
       "      <td>경기</td>\n",
       "      <td>8.기타</td>\n",
       "      <td>주부</td>\n",
       "      <td>Y</td>\n",
       "      <td>1.주부</td>\n",
       "      <td>주부</td>\n",
       "    </tr>\n",
       "    <tr>\n",
       "      <th>freq</th>\n",
       "      <td>18801</td>\n",
       "      <td>21182</td>\n",
       "      <td>5200</td>\n",
       "      <td>4879</td>\n",
       "      <td>4837</td>\n",
       "      <td>12010</td>\n",
       "      <td>2394</td>\n",
       "      <td>2402</td>\n",
       "    </tr>\n",
       "  </tbody>\n",
       "</table>\n",
       "</div>"
      ],
      "text/plain": [
       "       siu_cust_yn fp_career   ctpr occp_grp_1 occp_grp_2 wedd_yn  \\\n",
       "count        20607     22400  21779      21805      21805   21927   \n",
       "unique           2         2     17          8         25       2   \n",
       "top              N         N     경기       8.기타         주부       Y   \n",
       "freq         18801     21182   5200       4879       4837   12010   \n",
       "\n",
       "       mate_occp_grp_1 mate_occp_grp_2  \n",
       "count            10573           10573  \n",
       "unique               8              24  \n",
       "top               1.주부              주부  \n",
       "freq              2394            2402  "
      ]
     },
     "execution_count": 11,
     "metadata": {},
     "output_type": "execute_result"
    }
   ],
   "source": [
    "# 범주형 데이터 파악\n",
    "cust_data.describe(include='object')"
   ]
  },
  {
   "cell_type": "code",
   "execution_count": 12,
   "metadata": {},
   "outputs": [],
   "source": [
    "import matplotlib.pyplot as plt"
   ]
  },
  {
   "cell_type": "code",
   "execution_count": 13,
   "metadata": {},
   "outputs": [],
   "source": [
    "# 사기자와 정상인의 비율 \n",
    "plot1=cust_data['siu_cust_yn'].value_counts()\n",
    "plot1.index=['일반인','사기자']"
   ]
  },
  {
   "cell_type": "code",
   "execution_count": 14,
   "metadata": {},
   "outputs": [],
   "source": [
    "# 한글폰트 지정\n",
    "import matplotlib\n",
    "\n",
    "font_name = matplotlib.font_manager.FontProperties(fname='C:/Windows/Fonts/malgun.ttf').get_name()\n",
    "matplotlib.rc('font', family = font_name)"
   ]
  },
  {
   "cell_type": "code",
   "execution_count": 15,
   "metadata": {},
   "outputs": [
    {
     "data": {
      "text/plain": [
       "Text(0.5, 1.0, 'siu_cust_yn')"
      ]
     },
     "execution_count": 15,
     "metadata": {},
     "output_type": "execute_result"
    },
    {
     "data": {
      "image/png": "[encoded data removed]",
      "text/plain": [
       "<Figure size 432x288 with 1 Axes>"
      ]
     },
     "metadata": {},
     "output_type": "display_data"
    }
   ],
   "source": [
    "plot1.plot(kind='pie',autopct='%.2f%%')\n",
    "plt.ylabel('')\n",
    "plt.title('siu_cust_yn')"
   ]
  },
  {
   "cell_type": "code",
   "execution_count": 16,
   "metadata": {},
   "outputs": [],
   "source": [
    "# 정상인, 사기자, 분석대상 분포(시각화)\n",
    "plot2=cust_data['siu_cust_yn'].value_counts(dropna=False)\n",
    "plot2.index=['일반인','사기자','분석대상']"
   ]
  },
  {
   "cell_type": "code",
   "execution_count": 17,
   "metadata": {},
   "outputs": [
    {
     "data": {
      "text/plain": [
       "Text(0.5, 1.0, 'siu_cust_yn(include=NA)')"
      ]
     },
     "execution_count": 17,
     "metadata": {},
     "output_type": "execute_result"
    },
    {
     "data": {
      "image/png": "[encoded data removed]",
      "text/plain": [
       "<Figure size 432x288 with 1 Axes>"
      ]
     },
     "metadata": {},
     "output_type": "display_data"
    }
   ],
   "source": [
    "plot2.plot(kind='pie',autopct='%.2f%%')\n",
    "plt.ylabel('')\n",
    "plt.title('siu_cust_yn(include=NA)')"
   ]
  },
  {
   "cell_type": "markdown",
   "metadata": {},
   "source": [
    "# 결측치 처리\n",
    "- 특정값으로 대체\n",
    "    - RESI_TYPE_CODE, TOTALPREM\n",
    "    - MINCRDT, MAXCRDT\n",
    "    - CTPR"
   ]
  },
  {
   "cell_type": "code",
   "execution_count": 18,
   "metadata": {},
   "outputs": [],
   "source": [
    "cust_data1=cust_data.copy() # 원본 데이터를 유지시키기 위해 다른 변수에 저장"
   ]
  },
  {
   "cell_type": "code",
   "execution_count": 19,
   "metadata": {},
   "outputs": [
    {
     "data": {
      "text/plain": [
       "cust_id                 0\n",
       "divided_set             0\n",
       "siu_cust_yn          1793\n",
       "sex                     0\n",
       "age                     0\n",
       "resi_cost               0\n",
       "resi_type_code       1254\n",
       "fp_career               0\n",
       "cust_rgst             456\n",
       "ctpr                  621\n",
       "occp_grp_1            595\n",
       "occp_grp_2            595\n",
       "totalprem            5791\n",
       "mincrdt              9476\n",
       "maxcrdt              9476\n",
       "wedd_yn               473\n",
       "mate_occp_grp_1     11827\n",
       "mate_occp_grp_2     11827\n",
       "chld_cnt              473\n",
       "ltbn_chld_age         473\n",
       "max_paym_ym          6486\n",
       "max_prm              6486\n",
       "cust_incm            5263\n",
       "rcbase_hshd_incm        0\n",
       "jpbase_hshd_incm      680\n",
       "dtype: int64"
      ]
     },
     "execution_count": 19,
     "metadata": {},
     "output_type": "execute_result"
    }
   ],
   "source": [
    "cust_data1.isnull().sum()"
   ]
  },
  {
   "cell_type": "code",
   "execution_count": 20,
   "metadata": {},
   "outputs": [
    {
     "data": {
      "text/plain": [
       "(1254, 25)"
      ]
     },
     "execution_count": 20,
     "metadata": {},
     "output_type": "execute_result"
    }
   ],
   "source": [
    "# resi_type_code 와 resi_cost의 연관성 => resi_type_code가 결측치면 resi_cost는 0(추정불가)이다\n",
    "cust_data1[(cust_data1['resi_cost']==0) & (cust_data1['resi_type_code'].isnull())].shape"
   ]
  },
  {
   "cell_type": "code",
   "execution_count": 21,
   "metadata": {},
   "outputs": [
    {
     "data": {
      "text/html": [
       "<div>\n",
       "<style scoped>\n",
       "    .dataframe tbody tr th:only-of-type {\n",
       "        vertical-align: middle;\n",
       "    }\n",
       "\n",
       "    .dataframe tbody tr th {\n",
       "        vertical-align: top;\n",
       "    }\n",
       "\n",
       "    .dataframe thead th {\n",
       "        text-align: right;\n",
       "    }\n",
       "</style>\n",
       "<table border=\"1\" class=\"dataframe\">\n",
       "  <thead>\n",
       "    <tr style=\"text-align: right;\">\n",
       "      <th></th>\n",
       "      <th>cust_id</th>\n",
       "      <th>divided_set</th>\n",
       "      <th>siu_cust_yn</th>\n",
       "      <th>sex</th>\n",
       "      <th>age</th>\n",
       "      <th>resi_cost</th>\n",
       "      <th>resi_type_code</th>\n",
       "      <th>fp_career</th>\n",
       "      <th>cust_rgst</th>\n",
       "      <th>ctpr</th>\n",
       "      <th>occp_grp_1</th>\n",
       "      <th>occp_grp_2</th>\n",
       "      <th>totalprem</th>\n",
       "      <th>mincrdt</th>\n",
       "      <th>maxcrdt</th>\n",
       "      <th>wedd_yn</th>\n",
       "      <th>mate_occp_grp_1</th>\n",
       "      <th>mate_occp_grp_2</th>\n",
       "      <th>chld_cnt</th>\n",
       "      <th>ltbn_chld_age</th>\n",
       "      <th>max_paym_ym</th>\n",
       "      <th>max_prm</th>\n",
       "      <th>cust_incm</th>\n",
       "      <th>rcbase_hshd_incm</th>\n",
       "      <th>jpbase_hshd_incm</th>\n",
       "    </tr>\n",
       "  </thead>\n",
       "  <tbody>\n",
       "  </tbody>\n",
       "</table>\n",
       "</div>"
      ],
      "text/plain": [
       "Empty DataFrame\n",
       "Columns: [cust_id, divided_set, siu_cust_yn, sex, age, resi_cost, resi_type_code, fp_career, cust_rgst, ctpr, occp_grp_1, occp_grp_2, totalprem, mincrdt, maxcrdt, wedd_yn, mate_occp_grp_1, mate_occp_grp_2, chld_cnt, ltbn_chld_age, max_paym_ym, max_prm, cust_incm, rcbase_hshd_incm, jpbase_hshd_incm]\n",
       "Index: []"
      ]
     },
     "execution_count": 21,
     "metadata": {},
     "output_type": "execute_result"
    }
   ],
   "source": [
    "cust_data1[(cust_data1['resi_type_code']==99)& (cust_data1['resi_cost'] == 0)] # 주거 형태가 그 외인 집 중 resi_cost가 0인 집은 없다"
   ]
  },
  {
   "cell_type": "code",
   "execution_count": 22,
   "metadata": {},
   "outputs": [
    {
     "data": {
      "text/plain": [
       "20.0"
      ]
     },
     "execution_count": 22,
     "metadata": {},
     "output_type": "execute_result"
    }
   ],
   "source": [
    "# 따라서 99로 분류하기가 어려우므로 최빈값으로 대체\n",
    "cust_data1['resi_type_code'].mode()[0]"
   ]
  },
  {
   "cell_type": "code",
   "execution_count": 23,
   "metadata": {},
   "outputs": [],
   "source": [
    "cust_data1['resi_type_code'].fillna(cust_data1['resi_type_code'].mode()[0],inplace=True)"
   ]
  },
  {
   "cell_type": "code",
   "execution_count": 24,
   "metadata": {},
   "outputs": [
    {
     "data": {
      "text/plain": [
       "0"
      ]
     },
     "execution_count": 24,
     "metadata": {},
     "output_type": "execute_result"
    }
   ],
   "source": [
    "cust_data1['resi_type_code'].isnull().sum()"
   ]
  },
  {
   "cell_type": "code",
   "execution_count": 25,
   "metadata": {},
   "outputs": [],
   "source": [
    "# totalprem이 결측인 사람들은 물론 수입이 없는 사람들도 있지만 많인 사람들이 수입이 있기 때문에 중위값으로 대체\n",
    "cust_data1['totalprem'].fillna(cust_data1['totalprem'].median(),inplace=True)"
   ]
  },
  {
   "cell_type": "code",
   "execution_count": 26,
   "metadata": {},
   "outputs": [
    {
     "data": {
      "text/plain": [
       "(9476, 25)"
      ]
     },
     "execution_count": 26,
     "metadata": {},
     "output_type": "execute_result"
    }
   ],
   "source": [
    "# maxcrdt과 mincrdt이 모두 결측치인 행 개수 : 9476\n",
    "cust_data1[cust_data1[['maxcrdt','mincrdt']].isnull().any(axis=1)].shape"
   ]
  },
  {
   "cell_type": "code",
   "execution_count": 27,
   "metadata": {},
   "outputs": [
    {
     "data": {
      "text/plain": [
       "maxcrdt    9476\n",
       "mincrdt    9476\n",
       "dtype: int64"
      ]
     },
     "execution_count": 27,
     "metadata": {},
     "output_type": "execute_result"
    }
   ],
   "source": [
    "cust_data1[['maxcrdt','mincrdt']].isnull().sum()"
   ]
  },
  {
   "cell_type": "code",
   "execution_count": 28,
   "metadata": {},
   "outputs": [
    {
     "data": {
      "text/html": [
       "<div>\n",
       "<style scoped>\n",
       "    .dataframe tbody tr th:only-of-type {\n",
       "        vertical-align: middle;\n",
       "    }\n",
       "\n",
       "    .dataframe tbody tr th {\n",
       "        vertical-align: top;\n",
       "    }\n",
       "\n",
       "    .dataframe thead th {\n",
       "        text-align: right;\n",
       "    }\n",
       "</style>\n",
       "<table border=\"1\" class=\"dataframe\">\n",
       "  <thead>\n",
       "    <tr style=\"text-align: right;\">\n",
       "      <th></th>\n",
       "      <th>cust_id</th>\n",
       "      <th>divided_set</th>\n",
       "      <th>siu_cust_yn</th>\n",
       "      <th>sex</th>\n",
       "      <th>age</th>\n",
       "      <th>resi_cost</th>\n",
       "      <th>resi_type_code</th>\n",
       "      <th>fp_career</th>\n",
       "      <th>cust_rgst</th>\n",
       "      <th>ctpr</th>\n",
       "      <th>occp_grp_1</th>\n",
       "      <th>occp_grp_2</th>\n",
       "      <th>totalprem</th>\n",
       "      <th>mincrdt</th>\n",
       "      <th>maxcrdt</th>\n",
       "      <th>wedd_yn</th>\n",
       "      <th>mate_occp_grp_1</th>\n",
       "      <th>mate_occp_grp_2</th>\n",
       "      <th>chld_cnt</th>\n",
       "      <th>ltbn_chld_age</th>\n",
       "      <th>max_paym_ym</th>\n",
       "      <th>max_prm</th>\n",
       "      <th>cust_incm</th>\n",
       "      <th>rcbase_hshd_incm</th>\n",
       "      <th>jpbase_hshd_incm</th>\n",
       "    </tr>\n",
       "  </thead>\n",
       "  <tbody>\n",
       "  </tbody>\n",
       "</table>\n",
       "</div>"
      ],
      "text/plain": [
       "Empty DataFrame\n",
       "Columns: [cust_id, divided_set, siu_cust_yn, sex, age, resi_cost, resi_type_code, fp_career, cust_rgst, ctpr, occp_grp_1, occp_grp_2, totalprem, mincrdt, maxcrdt, wedd_yn, mate_occp_grp_1, mate_occp_grp_2, chld_cnt, ltbn_chld_age, max_paym_ym, max_prm, cust_incm, rcbase_hshd_incm, jpbase_hshd_incm]\n",
       "Index: []"
      ]
     },
     "execution_count": 28,
     "metadata": {},
     "output_type": "execute_result"
    }
   ],
   "source": [
    "# maxcrdt이 결측일 때 mincrdt이 결측이 아닌 경우는 없다.\n",
    "# 따라서 결측인 사람은 신용등급이 파악 불가능한 상태\n",
    "cust_data1[(cust_data1['maxcrdt'].isnull()) & (cust_data1['mincrdt'].notnull())]"
   ]
  },
  {
   "cell_type": "code",
   "execution_count": 29,
   "metadata": {},
   "outputs": [],
   "source": [
    "# mincrdt에는 최소값으로 결측치 대체\n",
    "# maxcrdt에는 최대값으로 결측치 대체\n",
    "cust_data1['mincrdt'].fillna(cust_data1['mincrdt'].min(),inplace=True)\n",
    "cust_data1['maxcrdt'].fillna(cust_data1['maxcrdt'].max(),inplace=True)"
   ]
  },
  {
   "cell_type": "code",
   "execution_count": 30,
   "metadata": {},
   "outputs": [],
   "source": [
    "# 거주자들의 최빈값으로 대체\n",
    "cust_data1['ctpr'].fillna(cust_data1['ctpr'].mode()[0],inplace=True)"
   ]
  },
  {
   "cell_type": "code",
   "execution_count": 31,
   "metadata": {},
   "outputs": [
    {
     "data": {
      "text/plain": [
       "'경기'"
      ]
     },
     "execution_count": 31,
     "metadata": {},
     "output_type": "execute_result"
    }
   ],
   "source": [
    "cust_data1['ctpr'].mode()[0]"
   ]
  },
  {
   "cell_type": "code",
   "execution_count": 32,
   "metadata": {},
   "outputs": [
    {
     "data": {
      "text/plain": [
       "cust_id                 0\n",
       "divided_set             0\n",
       "siu_cust_yn          1793\n",
       "sex                     0\n",
       "age                     0\n",
       "resi_cost               0\n",
       "resi_type_code          0\n",
       "fp_career               0\n",
       "cust_rgst             456\n",
       "ctpr                    0\n",
       "occp_grp_1            595\n",
       "occp_grp_2            595\n",
       "totalprem               0\n",
       "mincrdt                 0\n",
       "maxcrdt                 0\n",
       "wedd_yn               473\n",
       "mate_occp_grp_1     11827\n",
       "mate_occp_grp_2     11827\n",
       "chld_cnt              473\n",
       "ltbn_chld_age         473\n",
       "max_paym_ym          6486\n",
       "max_prm              6486\n",
       "cust_incm            5263\n",
       "rcbase_hshd_incm        0\n",
       "jpbase_hshd_incm      680\n",
       "dtype: int64"
      ]
     },
     "execution_count": 32,
     "metadata": {},
     "output_type": "execute_result"
    }
   ],
   "source": [
    "cust_data1.isnull().sum()"
   ]
  },
  {
   "cell_type": "markdown",
   "metadata": {},
   "source": [
    "# 결측치 처리\n",
    "- 다른 변수들을 고려하여 대체\n",
    "    - WEDD_YN : 결혼여부\n",
    "        - 관련 변수 : CHLD_CNT, LTBN_CHLD_AGE, MATE_OCCP_GRP_1\n",
    "        - WEDD_YN의 결측 => N\n",
    "        - WEDD_YN이 결측인 CHLD_CNT, LTBN_CHLD_AGE => 0\n",
    "            - WEDD_YN == N : 0"
   ]
  },
  {
   "cell_type": "code",
   "execution_count": 33,
   "metadata": {},
   "outputs": [
    {
     "data": {
      "text/plain": [
       "chld_cnt             473\n",
       "ltbn_chld_age        473\n",
       "mate_occp_grp_1    11827\n",
       "dtype: int64"
      ]
     },
     "execution_count": 33,
     "metadata": {},
     "output_type": "execute_result"
    }
   ],
   "source": [
    "cust_data1[['chld_cnt','ltbn_chld_age','mate_occp_grp_1']].isnull().sum()"
   ]
  },
  {
   "cell_type": "code",
   "execution_count": 34,
   "metadata": {},
   "outputs": [],
   "source": [
    "# 결혼여부가 결측인 사람들의 chld_cnt,ltbn_chld_age,mate_occp_grp1 확인\n",
    "tmp=cust_data1[cust_data1['wedd_yn'].isnull()][['chld_cnt','ltbn_chld_age','mate_occp_grp_1']]"
   ]
  },
  {
   "cell_type": "code",
   "execution_count": 35,
   "metadata": {},
   "outputs": [
    {
     "data": {
      "text/plain": [
       "chld_cnt           473\n",
       "ltbn_chld_age      473\n",
       "mate_occp_grp_1    473\n",
       "dtype: int64"
      ]
     },
     "execution_count": 35,
     "metadata": {},
     "output_type": "execute_result"
    }
   ],
   "source": [
    "tmp.isnull().sum()"
   ]
  },
  {
   "cell_type": "code",
   "execution_count": 36,
   "metadata": {},
   "outputs": [
    {
     "data": {
      "text/plain": [
       "(473, 3)"
      ]
     },
     "execution_count": 36,
     "metadata": {},
     "output_type": "execute_result"
    }
   ],
   "source": [
    "tmp.shape # 결혼 여부가 결측인 사람들에 대해 아이수,막내아이나이,자녀직업은 모두 결측값"
   ]
  },
  {
   "cell_type": "code",
   "execution_count": 37,
   "metadata": {},
   "outputs": [],
   "source": [
    "# 결혼여부가 결측이 아닌 사람들의 chld_cnt,ltbn_chld_age,mate_occp_grp1 확인\n",
    "tmp2=cust_data1[cust_data1['wedd_yn'].notnull()][['wedd_yn','chld_cnt','ltbn_chld_age','mate_occp_grp_1']]"
   ]
  },
  {
   "cell_type": "code",
   "execution_count": 38,
   "metadata": {},
   "outputs": [
    {
     "data": {
      "text/plain": [
       "Y    12010\n",
       "N     9917\n",
       "Name: wedd_yn, dtype: int64"
      ]
     },
     "execution_count": 38,
     "metadata": {},
     "output_type": "execute_result"
    }
   ],
   "source": [
    "tmp2['wedd_yn'].value_counts()"
   ]
  },
  {
   "cell_type": "code",
   "execution_count": 39,
   "metadata": {},
   "outputs": [
    {
     "data": {
      "text/plain": [
       "wedd_yn               0\n",
       "chld_cnt              0\n",
       "ltbn_chld_age         0\n",
       "mate_occp_grp_1    9917\n",
       "dtype: int64"
      ]
     },
     "execution_count": 39,
     "metadata": {},
     "output_type": "execute_result"
    }
   ],
   "source": [
    "# mate_occp_grp1의 결측값 9917은 미혼자 결측 데이터로 처리\n",
    "tmp2[tmp2['wedd_yn']=='N'].isnull().sum()"
   ]
  },
  {
   "cell_type": "code",
   "execution_count": 40,
   "metadata": {},
   "outputs": [],
   "source": [
    "# 결혼 데이터가 결측인 사람들은 미혼으로 처리\n",
    "# chld_cnt , ltbn_chld_age  = 0\n",
    "x1=cust_data1[cust_data1['wedd_yn'].isnull()]['chld_cnt'].index\n",
    "x2=cust_data1[cust_data1['wedd_yn'].isnull()]['ltbn_chld_age'].index"
   ]
  },
  {
   "cell_type": "code",
   "execution_count": 41,
   "metadata": {},
   "outputs": [
    {
     "name": "stderr",
     "output_type": "stream",
     "text": [
      "C:\\Users\\winst\\Anaconda3\\lib\\site-packages\\ipykernel_launcher.py:1: SettingWithCopyWarning: \n",
      "A value is trying to be set on a copy of a slice from a DataFrame\n",
      "\n",
      "See the caveats in the documentation: http://pandas.pydata.org/pandas-docs/stable/indexing.html#indexing-view-versus-copy\n",
      "  \"\"\"Entry point for launching an IPython kernel.\n",
      "C:\\Users\\winst\\Anaconda3\\lib\\site-packages\\ipykernel_launcher.py:2: SettingWithCopyWarning: \n",
      "A value is trying to be set on a copy of a slice from a DataFrame\n",
      "\n",
      "See the caveats in the documentation: http://pandas.pydata.org/pandas-docs/stable/indexing.html#indexing-view-versus-copy\n",
      "  \n"
     ]
    }
   ],
   "source": [
    "cust_data1['chld_cnt'][x1] = 0\n",
    "cust_data1['ltbn_chld_age'][x2]=0"
   ]
  },
  {
   "cell_type": "code",
   "execution_count": 42,
   "metadata": {},
   "outputs": [],
   "source": [
    "cust_data1['wedd_yn'].fillna('N',inplace=True)"
   ]
  },
  {
   "cell_type": "code",
   "execution_count": 43,
   "metadata": {},
   "outputs": [
    {
     "data": {
      "text/plain": [
       "cust_id                 0\n",
       "divided_set             0\n",
       "siu_cust_yn          1793\n",
       "sex                     0\n",
       "age                     0\n",
       "resi_cost               0\n",
       "resi_type_code          0\n",
       "fp_career               0\n",
       "cust_rgst             456\n",
       "ctpr                    0\n",
       "occp_grp_1            595\n",
       "occp_grp_2            595\n",
       "totalprem               0\n",
       "mincrdt                 0\n",
       "maxcrdt                 0\n",
       "wedd_yn                 0\n",
       "mate_occp_grp_1     11827\n",
       "mate_occp_grp_2     11827\n",
       "chld_cnt                0\n",
       "ltbn_chld_age           0\n",
       "max_paym_ym          6486\n",
       "max_prm              6486\n",
       "cust_incm            5263\n",
       "rcbase_hshd_incm        0\n",
       "jpbase_hshd_incm      680\n",
       "dtype: int64"
      ]
     },
     "execution_count": 43,
     "metadata": {},
     "output_type": "execute_result"
    }
   ],
   "source": [
    "cust_data1.isnull().sum()"
   ]
  },
  {
   "cell_type": "markdown",
   "metadata": {},
   "source": [
    "# 결측치 처리\n",
    "- 다른 변수들을 고려하여 대체\n",
    "    - cust_incm의 결측치\n",
    "        - occp_grp_1을 이용해 직업별 평균 수입으로 대체\n",
    "        - occp_grp_1과 cust_incm 결측인 경우 백수일 가능성 고려\n",
    "            - 9.무직\n",
    "            - 수입:0"
   ]
  },
  {
   "cell_type": "code",
   "execution_count": 44,
   "metadata": {},
   "outputs": [
    {
     "data": {
      "text/plain": [
       "array(['3.사무직', '5.서비스', '2.자영업', '4.전문직', '6.제조업', '1.주부', '8.기타',\n",
       "       '7.1차산업', nan], dtype=object)"
      ]
     },
     "execution_count": 44,
     "metadata": {},
     "output_type": "execute_result"
    }
   ],
   "source": [
    "cust_data1['occp_grp_1'].unique()"
   ]
  },
  {
   "cell_type": "code",
   "execution_count": 45,
   "metadata": {},
   "outputs": [
    {
     "data": {
      "text/plain": [
       "count    3815.0\n",
       "mean        0.0\n",
       "std         0.0\n",
       "min         0.0\n",
       "25%         0.0\n",
       "50%         0.0\n",
       "75%         0.0\n",
       "max         0.0\n",
       "Name: cust_incm, dtype: float64"
      ]
     },
     "execution_count": 45,
     "metadata": {},
     "output_type": "execute_result"
    }
   ],
   "source": [
    "# 주부의 수입은 얼마인지 확인\n",
    "cust_data1[cust_data1['occp_grp_1']=='1.주부']['cust_incm'].describe()"
   ]
  },
  {
   "cell_type": "code",
   "execution_count": 46,
   "metadata": {},
   "outputs": [],
   "source": [
    "# 주부의 수입이 모두 0이므로 수입과 직업이 결측인 데이터는 주부로 대체\n",
    "# 무직이라는 변수를 늘리는 것보다 기존의 변수로 대체하는 것이 훨씬 효율적\n",
    "x=cust_data1[cust_data1[['occp_grp_1','cust_incm']].isnull().all(axis=1)].index"
   ]
  },
  {
   "cell_type": "code",
   "execution_count": 47,
   "metadata": {},
   "outputs": [
    {
     "name": "stderr",
     "output_type": "stream",
     "text": [
      "C:\\Users\\winst\\Anaconda3\\lib\\site-packages\\ipykernel_launcher.py:1: SettingWithCopyWarning: \n",
      "A value is trying to be set on a copy of a slice from a DataFrame\n",
      "\n",
      "See the caveats in the documentation: http://pandas.pydata.org/pandas-docs/stable/indexing.html#indexing-view-versus-copy\n",
      "  \"\"\"Entry point for launching an IPython kernel.\n"
     ]
    }
   ],
   "source": [
    "cust_data1['occp_grp_1'][x]='1.주부'"
   ]
  },
  {
   "cell_type": "code",
   "execution_count": 48,
   "metadata": {},
   "outputs": [
    {
     "name": "stderr",
     "output_type": "stream",
     "text": [
      "C:\\Users\\winst\\Anaconda3\\lib\\site-packages\\ipykernel_launcher.py:1: SettingWithCopyWarning: \n",
      "A value is trying to be set on a copy of a slice from a DataFrame\n",
      "\n",
      "See the caveats in the documentation: http://pandas.pydata.org/pandas-docs/stable/indexing.html#indexing-view-versus-copy\n",
      "  \"\"\"Entry point for launching an IPython kernel.\n"
     ]
    }
   ],
   "source": [
    "cust_data1['cust_incm'][x]=0"
   ]
  },
  {
   "cell_type": "code",
   "execution_count": 49,
   "metadata": {},
   "outputs": [],
   "source": [
    "# 직업별 평균으로 수입 결측치 대체\n",
    "cust_data1['cust_incm'].fillna(cust_data1.groupby('occp_grp_1')['cust_incm'].transform('mean'),inplace=True)"
   ]
  },
  {
   "cell_type": "code",
   "execution_count": 50,
   "metadata": {},
   "outputs": [
    {
     "data": {
      "text/plain": [
       "0"
      ]
     },
     "execution_count": 50,
     "metadata": {},
     "output_type": "execute_result"
    }
   ],
   "source": [
    "cust_data1['cust_incm'].isnull().sum()"
   ]
  },
  {
   "cell_type": "markdown",
   "metadata": {},
   "source": [
    "# 모델링으로 결측치 대체\n",
    "\n",
    "- OCCP_GRP_1 : 직업코드\n",
    "    - 알고리즘 : RandomForest, xgboost 중 하나\n",
    "    - 입력변수 : FP_CAREER, TOTALPREM, CUST_INCM"
   ]
  },
  {
   "cell_type": "code",
   "execution_count": 51,
   "metadata": {},
   "outputs": [
    {
     "data": {
      "text/plain": [
       "N    21182\n",
       "Y     1218\n",
       "Name: fp_career, dtype: int64"
      ]
     },
     "execution_count": 51,
     "metadata": {},
     "output_type": "execute_result"
    }
   ],
   "source": [
    "cust_data1['fp_career'].value_counts()"
   ]
  },
  {
   "cell_type": "code",
   "execution_count": 52,
   "metadata": {},
   "outputs": [
    {
     "data": {
      "text/plain": [
       "0"
      ]
     },
     "execution_count": 52,
     "metadata": {},
     "output_type": "execute_result"
    }
   ],
   "source": [
    "cust_data1['fp_career'].isnull().sum()"
   ]
  },
  {
   "cell_type": "code",
   "execution_count": 53,
   "metadata": {},
   "outputs": [],
   "source": [
    "tmp=cust_data1[['fp_career','totalprem','cust_incm','occp_grp_1']].copy()"
   ]
  },
  {
   "cell_type": "code",
   "execution_count": 54,
   "metadata": {},
   "outputs": [],
   "source": [
    "# fp_carrer가 범주형 변수이므로 onehotencoding 필요\n",
    "from sklearn.preprocessing import OneHotEncoder\n",
    "ohe=OneHotEncoder()\n"
   ]
  },
  {
   "cell_type": "code",
   "execution_count": 55,
   "metadata": {},
   "outputs": [
    {
     "data": {
      "text/plain": [
       "array(['N', 'N', 'N', ..., 'N', 'N', 'N'], dtype=object)"
      ]
     },
     "execution_count": 55,
     "metadata": {},
     "output_type": "execute_result"
    }
   ],
   "source": [
    "tmp['fp_career'].values"
   ]
  },
  {
   "cell_type": "code",
   "execution_count": 56,
   "metadata": {},
   "outputs": [],
   "source": [
    "fp_ohe=ohe.fit_transform(tmp['fp_career'].values.reshape(-1,1)).toarray()"
   ]
  },
  {
   "cell_type": "code",
   "execution_count": 57,
   "metadata": {},
   "outputs": [],
   "source": [
    "fp_ohe_df=pd.DataFrame(fp_ohe,columns=['f1','f2'])"
   ]
  },
  {
   "cell_type": "code",
   "execution_count": 58,
   "metadata": {},
   "outputs": [],
   "source": [
    "tmp.drop('fp_career',axis=1,inplace=True)"
   ]
  },
  {
   "cell_type": "code",
   "execution_count": 59,
   "metadata": {},
   "outputs": [],
   "source": [
    "tmp=pd.concat([tmp,fp_ohe_df],axis=1)"
   ]
  },
  {
   "cell_type": "code",
   "execution_count": 60,
   "metadata": {},
   "outputs": [
    {
     "data": {
      "text/html": [
       "<div>\n",
       "<style scoped>\n",
       "    .dataframe tbody tr th:only-of-type {\n",
       "        vertical-align: middle;\n",
       "    }\n",
       "\n",
       "    .dataframe tbody tr th {\n",
       "        vertical-align: top;\n",
       "    }\n",
       "\n",
       "    .dataframe thead th {\n",
       "        text-align: right;\n",
       "    }\n",
       "</style>\n",
       "<table border=\"1\" class=\"dataframe\">\n",
       "  <thead>\n",
       "    <tr style=\"text-align: right;\">\n",
       "      <th></th>\n",
       "      <th>totalprem</th>\n",
       "      <th>cust_incm</th>\n",
       "      <th>occp_grp_1</th>\n",
       "      <th>f1</th>\n",
       "      <th>f2</th>\n",
       "    </tr>\n",
       "  </thead>\n",
       "  <tbody>\n",
       "    <tr>\n",
       "      <th>0</th>\n",
       "      <td>146980441.0</td>\n",
       "      <td>4879.000000</td>\n",
       "      <td>3.사무직</td>\n",
       "      <td>1.0</td>\n",
       "      <td>0.0</td>\n",
       "    </tr>\n",
       "    <tr>\n",
       "      <th>1</th>\n",
       "      <td>94600109.0</td>\n",
       "      <td>6509.000000</td>\n",
       "      <td>3.사무직</td>\n",
       "      <td>1.0</td>\n",
       "      <td>0.0</td>\n",
       "    </tr>\n",
       "    <tr>\n",
       "      <th>2</th>\n",
       "      <td>18501269.0</td>\n",
       "      <td>4180.000000</td>\n",
       "      <td>5.서비스</td>\n",
       "      <td>1.0</td>\n",
       "      <td>0.0</td>\n",
       "    </tr>\n",
       "    <tr>\n",
       "      <th>3</th>\n",
       "      <td>317223657.0</td>\n",
       "      <td>4621.081266</td>\n",
       "      <td>2.자영업</td>\n",
       "      <td>0.0</td>\n",
       "      <td>1.0</td>\n",
       "    </tr>\n",
       "    <tr>\n",
       "      <th>4</th>\n",
       "      <td>10506072.0</td>\n",
       "      <td>3894.000000</td>\n",
       "      <td>2.자영업</td>\n",
       "      <td>0.0</td>\n",
       "      <td>1.0</td>\n",
       "    </tr>\n",
       "  </tbody>\n",
       "</table>\n",
       "</div>"
      ],
      "text/plain": [
       "     totalprem    cust_incm occp_grp_1   f1   f2\n",
       "0  146980441.0  4879.000000      3.사무직  1.0  0.0\n",
       "1   94600109.0  6509.000000      3.사무직  1.0  0.0\n",
       "2   18501269.0  4180.000000      5.서비스  1.0  0.0\n",
       "3  317223657.0  4621.081266      2.자영업  0.0  1.0\n",
       "4   10506072.0  3894.000000      2.자영업  0.0  1.0"
      ]
     },
     "execution_count": 60,
     "metadata": {},
     "output_type": "execute_result"
    }
   ],
   "source": [
    "tmp.head()"
   ]
  },
  {
   "cell_type": "code",
   "execution_count": 61,
   "metadata": {},
   "outputs": [
    {
     "data": {
      "text/plain": [
       "array(['3.사무직', '5.서비스', '2.자영업', '4.전문직', '6.제조업', '1.주부', '8.기타',\n",
       "       '7.1차산업', nan], dtype=object)"
      ]
     },
     "execution_count": 61,
     "metadata": {},
     "output_type": "execute_result"
    }
   ],
   "source": [
    "tmp['occp_grp_1'].unique()"
   ]
  },
  {
   "cell_type": "code",
   "execution_count": 62,
   "metadata": {},
   "outputs": [],
   "source": [
    "test=tmp[tmp['occp_grp_1'].isnull()][['f1','f2','totalprem','cust_incm','occp_grp_1']].copy()\n",
    "train=tmp[tmp['occp_grp_1'].notnull()][['f1','f2','totalprem','cust_incm','occp_grp_1']].copy()"
   ]
  },
  {
   "cell_type": "code",
   "execution_count": 63,
   "metadata": {},
   "outputs": [],
   "source": [
    "train_x=train[['f1','f2','totalprem','cust_incm']]\n",
    "train_y=train['occp_grp_1']\n",
    "test_x=test[['f1','f2','totalprem','cust_incm']]\n",
    "test_y=test['occp_grp_1']"
   ]
  },
  {
   "cell_type": "code",
   "execution_count": 64,
   "metadata": {},
   "outputs": [],
   "source": [
    "from sklearn.ensemble import RandomForestClassifier\n",
    "from xgboost import XGBClassifier\n",
    "rf=RandomForestClassifier()\n",
    "xgb=XGBClassifier()"
   ]
  },
  {
   "cell_type": "code",
   "execution_count": 65,
   "metadata": {},
   "outputs": [
    {
     "name": "stderr",
     "output_type": "stream",
     "text": [
      "C:\\Users\\winst\\Anaconda3\\lib\\site-packages\\sklearn\\ensemble\\forest.py:246: FutureWarning: The default value of n_estimators will change from 10 in version 0.20 to 100 in 0.22.\n",
      "  \"10 in version 0.20 to 100 in 0.22.\", FutureWarning)\n"
     ]
    },
    {
     "data": {
      "text/plain": [
       "RandomForestClassifier(bootstrap=True, class_weight=None, criterion='gini',\n",
       "            max_depth=None, max_features='auto', max_leaf_nodes=None,\n",
       "            min_impurity_decrease=0.0, min_impurity_split=None,\n",
       "            min_samples_leaf=1, min_samples_split=2,\n",
       "            min_weight_fraction_leaf=0.0, n_estimators=10, n_jobs=None,\n",
       "            oob_score=False, random_state=None, verbose=0,\n",
       "            warm_start=False)"
      ]
     },
     "execution_count": 65,
     "metadata": {},
     "output_type": "execute_result"
    }
   ],
   "source": [
    "rf.fit(train_x,train_y)"
   ]
  },
  {
   "cell_type": "code",
   "execution_count": 66,
   "metadata": {},
   "outputs": [],
   "source": [
    "pred_y=rf.predict(test_x)"
   ]
  },
  {
   "cell_type": "code",
   "execution_count": 67,
   "metadata": {},
   "outputs": [
    {
     "data": {
      "text/plain": [
       "1.0"
      ]
     },
     "execution_count": 67,
     "metadata": {},
     "output_type": "execute_result"
    }
   ],
   "source": [
    "rf.score(test_x,pred_y)"
   ]
  },
  {
   "cell_type": "code",
   "execution_count": 68,
   "metadata": {},
   "outputs": [],
   "source": [
    "nan_idx=test.index"
   ]
  },
  {
   "cell_type": "code",
   "execution_count": 69,
   "metadata": {},
   "outputs": [
    {
     "name": "stderr",
     "output_type": "stream",
     "text": [
      "C:\\Users\\winst\\Anaconda3\\lib\\site-packages\\ipykernel_launcher.py:1: SettingWithCopyWarning: \n",
      "A value is trying to be set on a copy of a slice from a DataFrame\n",
      "\n",
      "See the caveats in the documentation: http://pandas.pydata.org/pandas-docs/stable/indexing.html#indexing-view-versus-copy\n",
      "  \"\"\"Entry point for launching an IPython kernel.\n"
     ]
    }
   ],
   "source": [
    "cust_data1['occp_grp_1'][nan_idx] = pred_y"
   ]
  },
  {
   "cell_type": "code",
   "execution_count": 70,
   "metadata": {},
   "outputs": [
    {
     "data": {
      "text/plain": [
       "0"
      ]
     },
     "execution_count": 70,
     "metadata": {},
     "output_type": "execute_result"
    }
   ],
   "source": [
    "cust_data1['occp_grp_1'].isnull().sum()"
   ]
  },
  {
   "cell_type": "markdown",
   "metadata": {},
   "source": [
    "# 유도변수 생성\n",
    "- age => age_range(~19,~39,~59,~100)('미성년자','청년','중년','장년')\n",
    "- chld_cnt => chld_range"
   ]
  },
  {
   "cell_type": "code",
   "execution_count": 71,
   "metadata": {},
   "outputs": [
    {
     "data": {
      "text/plain": [
       "cust_id                 0\n",
       "divided_set             0\n",
       "siu_cust_yn          1793\n",
       "sex                     0\n",
       "age                     0\n",
       "resi_cost               0\n",
       "resi_type_code          0\n",
       "fp_career               0\n",
       "cust_rgst             456\n",
       "ctpr                    0\n",
       "occp_grp_1              0\n",
       "occp_grp_2            595\n",
       "totalprem               0\n",
       "mincrdt                 0\n",
       "maxcrdt                 0\n",
       "wedd_yn                 0\n",
       "mate_occp_grp_1     11827\n",
       "mate_occp_grp_2     11827\n",
       "chld_cnt                0\n",
       "ltbn_chld_age           0\n",
       "max_paym_ym          6486\n",
       "max_prm              6486\n",
       "cust_incm               0\n",
       "rcbase_hshd_incm        0\n",
       "jpbase_hshd_incm      680\n",
       "dtype: int64"
      ]
     },
     "execution_count": 71,
     "metadata": {},
     "output_type": "execute_result"
    }
   ],
   "source": [
    "cust_data1.isnull().sum()"
   ]
  },
  {
   "cell_type": "code",
   "execution_count": 72,
   "metadata": {},
   "outputs": [
    {
     "data": {
      "text/plain": [
       "count    22400.000000\n",
       "mean        44.734866\n",
       "std         15.445707\n",
       "min          2.000000\n",
       "25%         34.000000\n",
       "50%         46.000000\n",
       "75%         56.000000\n",
       "max         89.000000\n",
       "Name: age, dtype: float64"
      ]
     },
     "execution_count": 72,
     "metadata": {},
     "output_type": "execute_result"
    }
   ],
   "source": [
    "# 최소 연령 = 2 , 최대 연령 = 89\n",
    "cust_data1['age'].describe()"
   ]
  },
  {
   "cell_type": "code",
   "execution_count": 73,
   "metadata": {},
   "outputs": [],
   "source": [
    "cust_data1['age_range']=pd.cut(cust_data1['age'],[0,19,39,59,100],labels=['미성년자','청년','중년','장년'])"
   ]
  },
  {
   "cell_type": "code",
   "execution_count": 74,
   "metadata": {
    "scrolled": false
   },
   "outputs": [
    {
     "data": {
      "text/html": [
       "<div>\n",
       "<style scoped>\n",
       "    .dataframe tbody tr th:only-of-type {\n",
       "        vertical-align: middle;\n",
       "    }\n",
       "\n",
       "    .dataframe tbody tr th {\n",
       "        vertical-align: top;\n",
       "    }\n",
       "\n",
       "    .dataframe thead th {\n",
       "        text-align: right;\n",
       "    }\n",
       "</style>\n",
       "<table border=\"1\" class=\"dataframe\">\n",
       "  <thead>\n",
       "    <tr style=\"text-align: right;\">\n",
       "      <th></th>\n",
       "      <th>age</th>\n",
       "      <th>age_range</th>\n",
       "    </tr>\n",
       "  </thead>\n",
       "  <tbody>\n",
       "    <tr>\n",
       "      <th>0</th>\n",
       "      <td>47</td>\n",
       "      <td>중년</td>\n",
       "    </tr>\n",
       "    <tr>\n",
       "      <th>1</th>\n",
       "      <td>53</td>\n",
       "      <td>중년</td>\n",
       "    </tr>\n",
       "    <tr>\n",
       "      <th>2</th>\n",
       "      <td>60</td>\n",
       "      <td>장년</td>\n",
       "    </tr>\n",
       "    <tr>\n",
       "      <th>3</th>\n",
       "      <td>64</td>\n",
       "      <td>장년</td>\n",
       "    </tr>\n",
       "    <tr>\n",
       "      <th>4</th>\n",
       "      <td>54</td>\n",
       "      <td>중년</td>\n",
       "    </tr>\n",
       "  </tbody>\n",
       "</table>\n",
       "</div>"
      ],
      "text/plain": [
       "   age age_range\n",
       "0   47        중년\n",
       "1   53        중년\n",
       "2   60        장년\n",
       "3   64        장년\n",
       "4   54        중년"
      ]
     },
     "execution_count": 74,
     "metadata": {},
     "output_type": "execute_result"
    }
   ],
   "source": [
    "cust_data1[['age','age_range']].head()"
   ]
  },
  {
   "cell_type": "code",
   "execution_count": 75,
   "metadata": {},
   "outputs": [
    {
     "data": {
      "text/plain": [
       "count    22400.000000\n",
       "mean         0.694509\n",
       "std          0.949046\n",
       "min          0.000000\n",
       "25%          0.000000\n",
       "50%          0.000000\n",
       "75%          1.000000\n",
       "max          6.000000\n",
       "Name: chld_cnt, dtype: float64"
      ]
     },
     "execution_count": 75,
     "metadata": {},
     "output_type": "execute_result"
    }
   ],
   "source": [
    "cust_data1['chld_cnt'].describe()"
   ]
  },
  {
   "cell_type": "code",
   "execution_count": 76,
   "metadata": {},
   "outputs": [],
   "source": [
    "# 0 : no , 1~3 : small ,4~ : big\n",
    "cust_data1['chld_range']=pd.cut(cust_data1['chld_cnt'],[0,1,4,7],labels=['no','small','big'],right=False)"
   ]
  },
  {
   "cell_type": "code",
   "execution_count": 77,
   "metadata": {},
   "outputs": [
    {
     "data": {
      "text/html": [
       "<div>\n",
       "<style scoped>\n",
       "    .dataframe tbody tr th:only-of-type {\n",
       "        vertical-align: middle;\n",
       "    }\n",
       "\n",
       "    .dataframe tbody tr th {\n",
       "        vertical-align: top;\n",
       "    }\n",
       "\n",
       "    .dataframe thead th {\n",
       "        text-align: right;\n",
       "    }\n",
       "</style>\n",
       "<table border=\"1\" class=\"dataframe\">\n",
       "  <thead>\n",
       "    <tr style=\"text-align: right;\">\n",
       "      <th></th>\n",
       "      <th>chld_cnt</th>\n",
       "      <th>chld_range</th>\n",
       "    </tr>\n",
       "  </thead>\n",
       "  <tbody>\n",
       "    <tr>\n",
       "      <th>0</th>\n",
       "      <td>2.0</td>\n",
       "      <td>small</td>\n",
       "    </tr>\n",
       "    <tr>\n",
       "      <th>1</th>\n",
       "      <td>2.0</td>\n",
       "      <td>small</td>\n",
       "    </tr>\n",
       "    <tr>\n",
       "      <th>2</th>\n",
       "      <td>0.0</td>\n",
       "      <td>no</td>\n",
       "    </tr>\n",
       "    <tr>\n",
       "      <th>3</th>\n",
       "      <td>0.0</td>\n",
       "      <td>no</td>\n",
       "    </tr>\n",
       "    <tr>\n",
       "      <th>4</th>\n",
       "      <td>3.0</td>\n",
       "      <td>small</td>\n",
       "    </tr>\n",
       "  </tbody>\n",
       "</table>\n",
       "</div>"
      ],
      "text/plain": [
       "   chld_cnt chld_range\n",
       "0       2.0      small\n",
       "1       2.0      small\n",
       "2       0.0         no\n",
       "3       0.0         no\n",
       "4       3.0      small"
      ]
     },
     "execution_count": 77,
     "metadata": {},
     "output_type": "execute_result"
    }
   ],
   "source": [
    "cust_data1[['chld_cnt','chld_range']].head()"
   ]
  },
  {
   "cell_type": "code",
   "execution_count": 78,
   "metadata": {},
   "outputs": [
    {
     "data": {
      "text/plain": [
       "Index(['cust_id', 'divided_set', 'siu_cust_yn', 'sex', 'age', 'resi_cost',\n",
       "       'resi_type_code', 'fp_career', 'cust_rgst', 'ctpr', 'occp_grp_1',\n",
       "       'occp_grp_2', 'totalprem', 'mincrdt', 'maxcrdt', 'wedd_yn',\n",
       "       'mate_occp_grp_1', 'mate_occp_grp_2', 'chld_cnt', 'ltbn_chld_age',\n",
       "       'max_paym_ym', 'max_prm', 'cust_incm', 'rcbase_hshd_incm',\n",
       "       'jpbase_hshd_incm', 'age_range', 'chld_range'],\n",
       "      dtype='object')"
      ]
     },
     "execution_count": 78,
     "metadata": {},
     "output_type": "execute_result"
    }
   ],
   "source": [
    "cust_data1.columns"
   ]
  },
  {
   "cell_type": "markdown",
   "metadata": {},
   "source": [
    "# 파생변수\n",
    "-  파생변수 추가\n",
    "- CLAIM_DATA \n",
    "    - 사기자에 영향을 주는 요인 \n",
    "        - 평균 입원 일수 : VLID_HOSP_OTDA(통원일/입원일)\n",
    "        - 사고구분 및 청구사유 횟수 : ACCI_DVSN, DMND_RESN_CODE\n",
    "    - 원본 데이터(cust_data)에 합치는 방법 : CUST_ID"
   ]
  },
  {
   "cell_type": "code",
   "execution_count": 79,
   "metadata": {},
   "outputs": [],
   "source": [
    "claim_data=pd.read_csv('CLAIM_DATA.csv',encoding='utf-16',engine='python')"
   ]
  },
  {
   "cell_type": "code",
   "execution_count": 80,
   "metadata": {},
   "outputs": [
    {
     "data": {
      "text/plain": [
       "Index(['CUST_ID', 'POLY_NO', 'ACCI_OCCP_GRP1', 'ACCI_OCCP_GRP2', 'CHANG_FP_YN',\n",
       "       'CNTT_RECP_SQNO', 'RECP_DATE', 'ORIG_RESN_DATE', 'RESN_DATE',\n",
       "       'CRNT_PROG_DVSN', 'ACCI_DVSN', 'CAUS_CODE', 'CAUS_CODE_DTAL',\n",
       "       'DSAS_NAME', 'DMND_RESN_CODE', 'DMND_RSCD_SQNO', 'HOSP_OTPA_STDT',\n",
       "       'HOSP_OTPA_ENDT', 'RESL_CD1', 'RESL_NM1', 'VLID_HOSP_OTDA',\n",
       "       'HOUSE_HOSP_DIST', 'HOSP_CODE', 'ACCI_HOSP_ADDR', 'HOSP_SPEC_DVSN',\n",
       "       'CHME_LICE_NO', 'PAYM_DATE', 'DMND_AMT', 'PAYM_AMT', 'PMMI_DLNG_YN',\n",
       "       'SELF_CHAM', 'NON_PAY', 'TAMT_SFCA', 'PATT_CHRG_TOTA', 'DSCT_AMT',\n",
       "       'COUNT_TRMT_ITEM', 'DCAF_CMPS_XCPA', 'NON_PAY_RATIO', 'HEED_HOSP_YN'],\n",
       "      dtype='object')"
      ]
     },
     "execution_count": 80,
     "metadata": {},
     "output_type": "execute_result"
    }
   ],
   "source": [
    "claim_data.columns"
   ]
  },
  {
   "cell_type": "code",
   "execution_count": 81,
   "metadata": {},
   "outputs": [
    {
     "data": {
      "text/plain": [
       "CUST_ID                 0\n",
       "POLY_NO                 0\n",
       "ACCI_OCCP_GRP1       1417\n",
       "ACCI_OCCP_GRP2       1417\n",
       "CHANG_FP_YN             0\n",
       "CNTT_RECP_SQNO          0\n",
       "RECP_DATE               0\n",
       "ORIG_RESN_DATE          0\n",
       "RESN_DATE               0\n",
       "CRNT_PROG_DVSN          0\n",
       "ACCI_DVSN               0\n",
       "CAUS_CODE               0\n",
       "CAUS_CODE_DTAL          0\n",
       "DSAS_NAME               0\n",
       "DMND_RESN_CODE          0\n",
       "DMND_RSCD_SQNO          0\n",
       "HOSP_OTPA_STDT      32571\n",
       "HOSP_OTPA_ENDT      32571\n",
       "RESL_CD1                0\n",
       "RESL_NM1                0\n",
       "VLID_HOSP_OTDA          0\n",
       "HOUSE_HOSP_DIST     17048\n",
       "HOSP_CODE               9\n",
       "ACCI_HOSP_ADDR      10070\n",
       "HOSP_SPEC_DVSN          9\n",
       "CHME_LICE_NO            0\n",
       "PAYM_DATE              13\n",
       "DMND_AMT                0\n",
       "PAYM_AMT                0\n",
       "PMMI_DLNG_YN            0\n",
       "SELF_CHAM          100053\n",
       "NON_PAY            100053\n",
       "TAMT_SFCA          100053\n",
       "PATT_CHRG_TOTA     100053\n",
       "DSCT_AMT           100053\n",
       "COUNT_TRMT_ITEM    100053\n",
       "DCAF_CMPS_XCPA     110963\n",
       "NON_PAY_RATIO           0\n",
       "HEED_HOSP_YN            0\n",
       "dtype: int64"
      ]
     },
     "execution_count": 81,
     "metadata": {},
     "output_type": "execute_result"
    }
   ],
   "source": [
    "claim_data.isnull().sum()"
   ]
  },
  {
   "cell_type": "code",
   "execution_count": 82,
   "metadata": {},
   "outputs": [],
   "source": [
    "claim_data.columns=claim_data.columns.str.lower()"
   ]
  },
  {
   "cell_type": "code",
   "execution_count": 83,
   "metadata": {
    "scrolled": true
   },
   "outputs": [
    {
     "data": {
      "text/html": [
       "<div>\n",
       "<style scoped>\n",
       "    .dataframe tbody tr th:only-of-type {\n",
       "        vertical-align: middle;\n",
       "    }\n",
       "\n",
       "    .dataframe tbody tr th {\n",
       "        vertical-align: top;\n",
       "    }\n",
       "\n",
       "    .dataframe thead th {\n",
       "        text-align: right;\n",
       "    }\n",
       "</style>\n",
       "<table border=\"1\" class=\"dataframe\">\n",
       "  <thead>\n",
       "    <tr style=\"text-align: right;\">\n",
       "      <th></th>\n",
       "      <th>cust_id</th>\n",
       "      <th>vlid_hosp_otda</th>\n",
       "    </tr>\n",
       "  </thead>\n",
       "  <tbody>\n",
       "    <tr>\n",
       "      <th>0</th>\n",
       "      <td>5936</td>\n",
       "      <td>2</td>\n",
       "    </tr>\n",
       "    <tr>\n",
       "      <th>1</th>\n",
       "      <td>5936</td>\n",
       "      <td>2</td>\n",
       "    </tr>\n",
       "    <tr>\n",
       "      <th>2</th>\n",
       "      <td>5936</td>\n",
       "      <td>2</td>\n",
       "    </tr>\n",
       "    <tr>\n",
       "      <th>3</th>\n",
       "      <td>1043</td>\n",
       "      <td>6</td>\n",
       "    </tr>\n",
       "    <tr>\n",
       "      <th>4</th>\n",
       "      <td>8545</td>\n",
       "      <td>0</td>\n",
       "    </tr>\n",
       "    <tr>\n",
       "      <th>5</th>\n",
       "      <td>4734</td>\n",
       "      <td>4</td>\n",
       "    </tr>\n",
       "    <tr>\n",
       "      <th>6</th>\n",
       "      <td>9416</td>\n",
       "      <td>0</td>\n",
       "    </tr>\n",
       "    <tr>\n",
       "      <th>7</th>\n",
       "      <td>20267</td>\n",
       "      <td>23</td>\n",
       "    </tr>\n",
       "    <tr>\n",
       "      <th>8</th>\n",
       "      <td>2778</td>\n",
       "      <td>29</td>\n",
       "    </tr>\n",
       "    <tr>\n",
       "      <th>9</th>\n",
       "      <td>9019</td>\n",
       "      <td>13</td>\n",
       "    </tr>\n",
       "  </tbody>\n",
       "</table>\n",
       "</div>"
      ],
      "text/plain": [
       "   cust_id  vlid_hosp_otda\n",
       "0     5936               2\n",
       "1     5936               2\n",
       "2     5936               2\n",
       "3     1043               6\n",
       "4     8545               0\n",
       "5     4734               4\n",
       "6     9416               0\n",
       "7    20267              23\n",
       "8     2778              29\n",
       "9     9019              13"
      ]
     },
     "execution_count": 83,
     "metadata": {},
     "output_type": "execute_result"
    }
   ],
   "source": [
    "claim_data[['cust_id','vlid_hosp_otda']].head(10)"
   ]
  },
  {
   "cell_type": "code",
   "execution_count": 84,
   "metadata": {},
   "outputs": [],
   "source": [
    "# 평균 입원 일수 => VLID_HOSP_OTDA를 이용\n",
    "mean_days=claim_data.pivot_table(index='cust_id',values='vlid_hosp_otda',aggfunc='mean')"
   ]
  },
  {
   "cell_type": "code",
   "execution_count": 85,
   "metadata": {},
   "outputs": [
    {
     "data": {
      "text/html": [
       "<div>\n",
       "<style scoped>\n",
       "    .dataframe tbody tr th:only-of-type {\n",
       "        vertical-align: middle;\n",
       "    }\n",
       "\n",
       "    .dataframe tbody tr th {\n",
       "        vertical-align: top;\n",
       "    }\n",
       "\n",
       "    .dataframe thead th {\n",
       "        text-align: right;\n",
       "    }\n",
       "</style>\n",
       "<table border=\"1\" class=\"dataframe\">\n",
       "  <thead>\n",
       "    <tr style=\"text-align: right;\">\n",
       "      <th></th>\n",
       "      <th>vlid_hosp_otda</th>\n",
       "    </tr>\n",
       "    <tr>\n",
       "      <th>cust_id</th>\n",
       "      <th></th>\n",
       "    </tr>\n",
       "  </thead>\n",
       "  <tbody>\n",
       "    <tr>\n",
       "      <th>1</th>\n",
       "      <td>1.250000</td>\n",
       "    </tr>\n",
       "    <tr>\n",
       "      <th>2</th>\n",
       "      <td>2.666667</td>\n",
       "    </tr>\n",
       "    <tr>\n",
       "      <th>3</th>\n",
       "      <td>16.000000</td>\n",
       "    </tr>\n",
       "    <tr>\n",
       "      <th>4</th>\n",
       "      <td>0.000000</td>\n",
       "    </tr>\n",
       "    <tr>\n",
       "      <th>5</th>\n",
       "      <td>25.000000</td>\n",
       "    </tr>\n",
       "  </tbody>\n",
       "</table>\n",
       "</div>"
      ],
      "text/plain": [
       "         vlid_hosp_otda\n",
       "cust_id                \n",
       "1              1.250000\n",
       "2              2.666667\n",
       "3             16.000000\n",
       "4              0.000000\n",
       "5             25.000000"
      ]
     },
     "execution_count": 85,
     "metadata": {},
     "output_type": "execute_result"
    }
   ],
   "source": [
    "mean_days.head()"
   ]
  },
  {
   "cell_type": "code",
   "execution_count": 86,
   "metadata": {},
   "outputs": [],
   "source": [
    "mean_days=mean_days.reset_index()"
   ]
  },
  {
   "cell_type": "code",
   "execution_count": 87,
   "metadata": {},
   "outputs": [],
   "source": [
    "cust_data1=cust_data1.merge(mean_days).copy()"
   ]
  },
  {
   "cell_type": "code",
   "execution_count": 88,
   "metadata": {},
   "outputs": [],
   "source": [
    "cust_data1.rename({'vlid_hosp_otda':'mean_days'},axis=1,inplace=True)"
   ]
  },
  {
   "cell_type": "code",
   "execution_count": 89,
   "metadata": {},
   "outputs": [
    {
     "data": {
      "text/html": [
       "<div>\n",
       "<style scoped>\n",
       "    .dataframe tbody tr th:only-of-type {\n",
       "        vertical-align: middle;\n",
       "    }\n",
       "\n",
       "    .dataframe tbody tr th {\n",
       "        vertical-align: top;\n",
       "    }\n",
       "\n",
       "    .dataframe thead th {\n",
       "        text-align: right;\n",
       "    }\n",
       "</style>\n",
       "<table border=\"1\" class=\"dataframe\">\n",
       "  <thead>\n",
       "    <tr style=\"text-align: right;\">\n",
       "      <th></th>\n",
       "      <th>cust_id</th>\n",
       "      <th>mean_days</th>\n",
       "    </tr>\n",
       "  </thead>\n",
       "  <tbody>\n",
       "    <tr>\n",
       "      <th>0</th>\n",
       "      <td>1</td>\n",
       "      <td>1.250000</td>\n",
       "    </tr>\n",
       "    <tr>\n",
       "      <th>1</th>\n",
       "      <td>2</td>\n",
       "      <td>2.666667</td>\n",
       "    </tr>\n",
       "    <tr>\n",
       "      <th>2</th>\n",
       "      <td>3</td>\n",
       "      <td>16.000000</td>\n",
       "    </tr>\n",
       "    <tr>\n",
       "      <th>3</th>\n",
       "      <td>4</td>\n",
       "      <td>0.000000</td>\n",
       "    </tr>\n",
       "    <tr>\n",
       "      <th>4</th>\n",
       "      <td>5</td>\n",
       "      <td>25.000000</td>\n",
       "    </tr>\n",
       "  </tbody>\n",
       "</table>\n",
       "</div>"
      ],
      "text/plain": [
       "   cust_id  mean_days\n",
       "0        1   1.250000\n",
       "1        2   2.666667\n",
       "2        3  16.000000\n",
       "3        4   0.000000\n",
       "4        5  25.000000"
      ]
     },
     "execution_count": 89,
     "metadata": {},
     "output_type": "execute_result"
    }
   ],
   "source": [
    "cust_data1[['cust_id','mean_days']].head()"
   ]
  },
  {
   "cell_type": "code",
   "execution_count": 90,
   "metadata": {},
   "outputs": [
    {
     "data": {
      "text/plain": [
       "Index(['cust_id', 'divided_set', 'siu_cust_yn', 'sex', 'age', 'resi_cost',\n",
       "       'resi_type_code', 'fp_career', 'cust_rgst', 'ctpr', 'occp_grp_1',\n",
       "       'occp_grp_2', 'totalprem', 'mincrdt', 'maxcrdt', 'wedd_yn',\n",
       "       'mate_occp_grp_1', 'mate_occp_grp_2', 'chld_cnt', 'ltbn_chld_age',\n",
       "       'max_paym_ym', 'max_prm', 'cust_incm', 'rcbase_hshd_incm',\n",
       "       'jpbase_hshd_incm', 'age_range', 'chld_range', 'mean_days'],\n",
       "      dtype='object')"
      ]
     },
     "execution_count": 90,
     "metadata": {},
     "output_type": "execute_result"
    }
   ],
   "source": [
    "cust_data1.columns"
   ]
  },
  {
   "cell_type": "code",
   "execution_count": 91,
   "metadata": {},
   "outputs": [
    {
     "data": {
      "text/plain": [
       "array([1, 3, 2], dtype=int64)"
      ]
     },
     "execution_count": 91,
     "metadata": {},
     "output_type": "execute_result"
    }
   ],
   "source": [
    "# 사고구분 및 청구사유 횟수 : ACCI_DVSN, DMND_RESN_CODE\n",
    "claim_data['acci_dvsn'].unique() "
   ]
  },
  {
   "cell_type": "code",
   "execution_count": 92,
   "metadata": {},
   "outputs": [
    {
     "data": {
      "text/plain": [
       "array([3, 2, 5, 6, 4, 1, 7, 9], dtype=int64)"
      ]
     },
     "execution_count": 92,
     "metadata": {},
     "output_type": "execute_result"
    }
   ],
   "source": [
    "claim_data['dmnd_resn_code'].unique()"
   ]
  },
  {
   "cell_type": "code",
   "execution_count": 93,
   "metadata": {
    "scrolled": true
   },
   "outputs": [
    {
     "data": {
      "text/html": [
       "<div>\n",
       "<style scoped>\n",
       "    .dataframe tbody tr th:only-of-type {\n",
       "        vertical-align: middle;\n",
       "    }\n",
       "\n",
       "    .dataframe tbody tr th {\n",
       "        vertical-align: top;\n",
       "    }\n",
       "\n",
       "    .dataframe thead th {\n",
       "        text-align: right;\n",
       "    }\n",
       "</style>\n",
       "<table border=\"1\" class=\"dataframe\">\n",
       "  <thead>\n",
       "    <tr style=\"text-align: right;\">\n",
       "      <th></th>\n",
       "      <th>acci_dvsn</th>\n",
       "      <th>dmnd_resn_code</th>\n",
       "    </tr>\n",
       "  </thead>\n",
       "  <tbody>\n",
       "    <tr>\n",
       "      <th>0</th>\n",
       "      <td>1</td>\n",
       "      <td>3</td>\n",
       "    </tr>\n",
       "    <tr>\n",
       "      <th>1</th>\n",
       "      <td>1</td>\n",
       "      <td>3</td>\n",
       "    </tr>\n",
       "    <tr>\n",
       "      <th>2</th>\n",
       "      <td>1</td>\n",
       "      <td>3</td>\n",
       "    </tr>\n",
       "    <tr>\n",
       "      <th>3</th>\n",
       "      <td>3</td>\n",
       "      <td>2</td>\n",
       "    </tr>\n",
       "    <tr>\n",
       "      <th>4</th>\n",
       "      <td>3</td>\n",
       "      <td>5</td>\n",
       "    </tr>\n",
       "  </tbody>\n",
       "</table>\n",
       "</div>"
      ],
      "text/plain": [
       "   acci_dvsn  dmnd_resn_code\n",
       "0          1               3\n",
       "1          1               3\n",
       "2          1               3\n",
       "3          3               2\n",
       "4          3               5"
      ]
     },
     "execution_count": 93,
     "metadata": {},
     "output_type": "execute_result"
    }
   ],
   "source": [
    "claim_data[['acci_dvsn','dmnd_resn_code']].head()"
   ]
  },
  {
   "cell_type": "code",
   "execution_count": 94,
   "metadata": {},
   "outputs": [],
   "source": [
    "# 1_1, 1_2 형태로 컬럼을 만들어 저장\n",
    "tmp=claim_data[['cust_id','acci_dvsn','dmnd_resn_code']]"
   ]
  },
  {
   "cell_type": "code",
   "execution_count": 95,
   "metadata": {},
   "outputs": [
    {
     "data": {
      "text/html": [
       "<div>\n",
       "<style scoped>\n",
       "    .dataframe tbody tr th:only-of-type {\n",
       "        vertical-align: middle;\n",
       "    }\n",
       "\n",
       "    .dataframe tbody tr th {\n",
       "        vertical-align: top;\n",
       "    }\n",
       "\n",
       "    .dataframe thead th {\n",
       "        text-align: right;\n",
       "    }\n",
       "</style>\n",
       "<table border=\"1\" class=\"dataframe\">\n",
       "  <thead>\n",
       "    <tr style=\"text-align: right;\">\n",
       "      <th></th>\n",
       "      <th>cust_id</th>\n",
       "      <th>acci_dvsn</th>\n",
       "      <th>dmnd_resn_code</th>\n",
       "    </tr>\n",
       "  </thead>\n",
       "  <tbody>\n",
       "    <tr>\n",
       "      <th>0</th>\n",
       "      <td>5936</td>\n",
       "      <td>1</td>\n",
       "      <td>3</td>\n",
       "    </tr>\n",
       "    <tr>\n",
       "      <th>1</th>\n",
       "      <td>5936</td>\n",
       "      <td>1</td>\n",
       "      <td>3</td>\n",
       "    </tr>\n",
       "    <tr>\n",
       "      <th>2</th>\n",
       "      <td>5936</td>\n",
       "      <td>1</td>\n",
       "      <td>3</td>\n",
       "    </tr>\n",
       "    <tr>\n",
       "      <th>3</th>\n",
       "      <td>1043</td>\n",
       "      <td>3</td>\n",
       "      <td>2</td>\n",
       "    </tr>\n",
       "    <tr>\n",
       "      <th>4</th>\n",
       "      <td>8545</td>\n",
       "      <td>3</td>\n",
       "      <td>5</td>\n",
       "    </tr>\n",
       "  </tbody>\n",
       "</table>\n",
       "</div>"
      ],
      "text/plain": [
       "   cust_id  acci_dvsn  dmnd_resn_code\n",
       "0     5936          1               3\n",
       "1     5936          1               3\n",
       "2     5936          1               3\n",
       "3     1043          3               2\n",
       "4     8545          3               5"
      ]
     },
     "execution_count": 95,
     "metadata": {},
     "output_type": "execute_result"
    }
   ],
   "source": [
    "tmp.head()"
   ]
  },
  {
   "cell_type": "code",
   "execution_count": 96,
   "metadata": {},
   "outputs": [
    {
     "data": {
      "text/plain": [
       "array([[ 5936,  5936,  5936, ...,  6864, 15545, 21542],\n",
       "       [    1,     1,     1, ...,     3,     3,     3],\n",
       "       [    3,     3,     3, ...,     2,     3,     2]], dtype=int64)"
      ]
     },
     "execution_count": 96,
     "metadata": {},
     "output_type": "execute_result"
    }
   ],
   "source": [
    "tmp.T.values"
   ]
  },
  {
   "cell_type": "code",
   "execution_count": 97,
   "metadata": {},
   "outputs": [
    {
     "data": {
      "text/plain": [
       "MultiIndex(levels=[[0, 1, 2], ['A', 'B'], [1, 2, 3]],\n",
       "           labels=[[0, 0, 0, 0, 0, 0, 1, 1, 1, 1, 1, 1, 2, 2, 2, 2, 2, 2], [0, 0, 0, 1, 1, 1, 0, 0, 0, 1, 1, 1, 0, 0, 0, 1, 1, 1], [0, 1, 2, 0, 1, 2, 0, 1, 2, 0, 1, 2, 0, 1, 2, 0, 1, 2]])"
      ]
     },
     "execution_count": 97,
     "metadata": {},
     "output_type": "execute_result"
    }
   ],
   "source": [
    "pd.MultiIndex.from_product([[0,1,2],['A','B'], [1,2,3]])"
   ]
  },
  {
   "cell_type": "code",
   "execution_count": 98,
   "metadata": {},
   "outputs": [],
   "source": [
    "multi = pd.MultiIndex.from_product(list(map(set, tmp.values.T)))"
   ]
  },
  {
   "cell_type": "code",
   "execution_count": 99,
   "metadata": {},
   "outputs": [],
   "source": [
    "cross_table=claim_data.groupby(['cust_id','acci_dvsn','dmnd_resn_code']).size()"
   ]
  },
  {
   "cell_type": "code",
   "execution_count": 100,
   "metadata": {},
   "outputs": [],
   "source": [
    "cross_table2=cross_table.reindex(multi,fill_value=0)"
   ]
  },
  {
   "cell_type": "code",
   "execution_count": 101,
   "metadata": {},
   "outputs": [],
   "source": [
    "cross_table3=cross_table2.unstack([1,2])"
   ]
  },
  {
   "cell_type": "code",
   "execution_count": 102,
   "metadata": {},
   "outputs": [
    {
     "data": {
      "text/plain": [
       "['1_1',\n",
       " '1_2',\n",
       " '1_3',\n",
       " '1_4',\n",
       " '1_5',\n",
       " '1_6',\n",
       " '1_7',\n",
       " '1_9',\n",
       " '2_1',\n",
       " '2_2',\n",
       " '2_3',\n",
       " '2_4',\n",
       " '2_5',\n",
       " '2_6',\n",
       " '2_7',\n",
       " '2_9',\n",
       " '3_1',\n",
       " '3_2',\n",
       " '3_3',\n",
       " '3_4',\n",
       " '3_5',\n",
       " '3_6',\n",
       " '3_7',\n",
       " '3_9']"
      ]
     },
     "execution_count": 102,
     "metadata": {},
     "output_type": "execute_result"
    }
   ],
   "source": [
    "cols=[]\n",
    "for x,y in cross_table3.columns:\n",
    "    cols.append('{}_{}'.format(x,y))\n",
    "cols"
   ]
  },
  {
   "cell_type": "code",
   "execution_count": 103,
   "metadata": {},
   "outputs": [],
   "source": [
    "cross_table3.columns=cols"
   ]
  },
  {
   "cell_type": "code",
   "execution_count": 104,
   "metadata": {},
   "outputs": [
    {
     "data": {
      "text/html": [
       "<div>\n",
       "<style scoped>\n",
       "    .dataframe tbody tr th:only-of-type {\n",
       "        vertical-align: middle;\n",
       "    }\n",
       "\n",
       "    .dataframe tbody tr th {\n",
       "        vertical-align: top;\n",
       "    }\n",
       "\n",
       "    .dataframe thead th {\n",
       "        text-align: right;\n",
       "    }\n",
       "</style>\n",
       "<table border=\"1\" class=\"dataframe\">\n",
       "  <thead>\n",
       "    <tr style=\"text-align: right;\">\n",
       "      <th></th>\n",
       "      <th>1_1</th>\n",
       "      <th>1_2</th>\n",
       "      <th>1_3</th>\n",
       "      <th>1_4</th>\n",
       "      <th>1_5</th>\n",
       "      <th>1_6</th>\n",
       "      <th>1_7</th>\n",
       "      <th>1_9</th>\n",
       "      <th>2_1</th>\n",
       "      <th>2_2</th>\n",
       "      <th>2_3</th>\n",
       "      <th>2_4</th>\n",
       "      <th>2_5</th>\n",
       "      <th>2_6</th>\n",
       "      <th>2_7</th>\n",
       "      <th>2_9</th>\n",
       "      <th>3_1</th>\n",
       "      <th>3_2</th>\n",
       "      <th>3_3</th>\n",
       "      <th>3_4</th>\n",
       "      <th>3_5</th>\n",
       "      <th>3_6</th>\n",
       "      <th>3_7</th>\n",
       "      <th>3_9</th>\n",
       "    </tr>\n",
       "  </thead>\n",
       "  <tbody>\n",
       "    <tr>\n",
       "      <th>1</th>\n",
       "      <td>0</td>\n",
       "      <td>0</td>\n",
       "      <td>0</td>\n",
       "      <td>0</td>\n",
       "      <td>0</td>\n",
       "      <td>0</td>\n",
       "      <td>0</td>\n",
       "      <td>0</td>\n",
       "      <td>0</td>\n",
       "      <td>0</td>\n",
       "      <td>0</td>\n",
       "      <td>0</td>\n",
       "      <td>0</td>\n",
       "      <td>0</td>\n",
       "      <td>0</td>\n",
       "      <td>0</td>\n",
       "      <td>0</td>\n",
       "      <td>0</td>\n",
       "      <td>4</td>\n",
       "      <td>0</td>\n",
       "      <td>0</td>\n",
       "      <td>0</td>\n",
       "      <td>0</td>\n",
       "      <td>0</td>\n",
       "    </tr>\n",
       "    <tr>\n",
       "      <th>2</th>\n",
       "      <td>0</td>\n",
       "      <td>0</td>\n",
       "      <td>0</td>\n",
       "      <td>0</td>\n",
       "      <td>0</td>\n",
       "      <td>0</td>\n",
       "      <td>0</td>\n",
       "      <td>0</td>\n",
       "      <td>0</td>\n",
       "      <td>0</td>\n",
       "      <td>0</td>\n",
       "      <td>0</td>\n",
       "      <td>0</td>\n",
       "      <td>0</td>\n",
       "      <td>0</td>\n",
       "      <td>0</td>\n",
       "      <td>0</td>\n",
       "      <td>0</td>\n",
       "      <td>3</td>\n",
       "      <td>0</td>\n",
       "      <td>0</td>\n",
       "      <td>0</td>\n",
       "      <td>0</td>\n",
       "      <td>0</td>\n",
       "    </tr>\n",
       "    <tr>\n",
       "      <th>3</th>\n",
       "      <td>0</td>\n",
       "      <td>0</td>\n",
       "      <td>0</td>\n",
       "      <td>0</td>\n",
       "      <td>0</td>\n",
       "      <td>0</td>\n",
       "      <td>0</td>\n",
       "      <td>0</td>\n",
       "      <td>0</td>\n",
       "      <td>1</td>\n",
       "      <td>0</td>\n",
       "      <td>0</td>\n",
       "      <td>0</td>\n",
       "      <td>0</td>\n",
       "      <td>0</td>\n",
       "      <td>0</td>\n",
       "      <td>0</td>\n",
       "      <td>0</td>\n",
       "      <td>0</td>\n",
       "      <td>0</td>\n",
       "      <td>0</td>\n",
       "      <td>0</td>\n",
       "      <td>0</td>\n",
       "      <td>0</td>\n",
       "    </tr>\n",
       "    <tr>\n",
       "      <th>4</th>\n",
       "      <td>0</td>\n",
       "      <td>0</td>\n",
       "      <td>0</td>\n",
       "      <td>0</td>\n",
       "      <td>0</td>\n",
       "      <td>9</td>\n",
       "      <td>0</td>\n",
       "      <td>0</td>\n",
       "      <td>0</td>\n",
       "      <td>0</td>\n",
       "      <td>0</td>\n",
       "      <td>0</td>\n",
       "      <td>0</td>\n",
       "      <td>0</td>\n",
       "      <td>0</td>\n",
       "      <td>0</td>\n",
       "      <td>0</td>\n",
       "      <td>0</td>\n",
       "      <td>0</td>\n",
       "      <td>0</td>\n",
       "      <td>0</td>\n",
       "      <td>0</td>\n",
       "      <td>0</td>\n",
       "      <td>0</td>\n",
       "    </tr>\n",
       "    <tr>\n",
       "      <th>5</th>\n",
       "      <td>0</td>\n",
       "      <td>0</td>\n",
       "      <td>0</td>\n",
       "      <td>0</td>\n",
       "      <td>0</td>\n",
       "      <td>0</td>\n",
       "      <td>0</td>\n",
       "      <td>0</td>\n",
       "      <td>0</td>\n",
       "      <td>1</td>\n",
       "      <td>0</td>\n",
       "      <td>0</td>\n",
       "      <td>0</td>\n",
       "      <td>0</td>\n",
       "      <td>0</td>\n",
       "      <td>0</td>\n",
       "      <td>0</td>\n",
       "      <td>0</td>\n",
       "      <td>0</td>\n",
       "      <td>0</td>\n",
       "      <td>0</td>\n",
       "      <td>0</td>\n",
       "      <td>0</td>\n",
       "      <td>0</td>\n",
       "    </tr>\n",
       "  </tbody>\n",
       "</table>\n",
       "</div>"
      ],
      "text/plain": [
       "   1_1  1_2  1_3  1_4  1_5  1_6  1_7  1_9  2_1  2_2  2_3  2_4  2_5  2_6  2_7  \\\n",
       "1    0    0    0    0    0    0    0    0    0    0    0    0    0    0    0   \n",
       "2    0    0    0    0    0    0    0    0    0    0    0    0    0    0    0   \n",
       "3    0    0    0    0    0    0    0    0    0    1    0    0    0    0    0   \n",
       "4    0    0    0    0    0    9    0    0    0    0    0    0    0    0    0   \n",
       "5    0    0    0    0    0    0    0    0    0    1    0    0    0    0    0   \n",
       "\n",
       "   2_9  3_1  3_2  3_3  3_4  3_5  3_6  3_7  3_9  \n",
       "1    0    0    0    4    0    0    0    0    0  \n",
       "2    0    0    0    3    0    0    0    0    0  \n",
       "3    0    0    0    0    0    0    0    0    0  \n",
       "4    0    0    0    0    0    0    0    0    0  \n",
       "5    0    0    0    0    0    0    0    0    0  "
      ]
     },
     "execution_count": 104,
     "metadata": {},
     "output_type": "execute_result"
    }
   ],
   "source": [
    "cross_table3.head()"
   ]
  },
  {
   "cell_type": "code",
   "execution_count": 105,
   "metadata": {
    "scrolled": true
   },
   "outputs": [],
   "source": [
    "cross_table3=cross_table3.reset_index()"
   ]
  },
  {
   "cell_type": "code",
   "execution_count": 106,
   "metadata": {},
   "outputs": [],
   "source": [
    "cross_table3.rename({'index':'cust_id'},axis=1,inplace=True)"
   ]
  },
  {
   "cell_type": "code",
   "execution_count": 107,
   "metadata": {},
   "outputs": [],
   "source": [
    "cust_data1=cust_data1.merge(cross_table3)"
   ]
  },
  {
   "cell_type": "code",
   "execution_count": 108,
   "metadata": {},
   "outputs": [
    {
     "data": {
      "text/plain": [
       "Index(['cust_id', 'divided_set', 'siu_cust_yn', 'sex', 'age', 'resi_cost',\n",
       "       'resi_type_code', 'fp_career', 'cust_rgst', 'ctpr', 'occp_grp_1',\n",
       "       'occp_grp_2', 'totalprem', 'mincrdt', 'maxcrdt', 'wedd_yn',\n",
       "       'mate_occp_grp_1', 'mate_occp_grp_2', 'chld_cnt', 'ltbn_chld_age',\n",
       "       'max_paym_ym', 'max_prm', 'cust_incm', 'rcbase_hshd_incm',\n",
       "       'jpbase_hshd_incm', 'age_range', 'chld_range', 'mean_days', '1_1',\n",
       "       '1_2', '1_3', '1_4', '1_5', '1_6', '1_7', '1_9', '2_1', '2_2', '2_3',\n",
       "       '2_4', '2_5', '2_6', '2_7', '2_9', '3_1', '3_2', '3_3', '3_4', '3_5',\n",
       "       '3_6', '3_7', '3_9'],\n",
       "      dtype='object')"
      ]
     },
     "execution_count": 108,
     "metadata": {},
     "output_type": "execute_result"
    }
   ],
   "source": [
    "cust_data1.columns"
   ]
  },
  {
   "cell_type": "markdown",
   "metadata": {},
   "source": [
    "# 범주형 변수 데이터 탐색\n"
   ]
  },
  {
   "cell_type": "code",
   "execution_count": 109,
   "metadata": {},
   "outputs": [],
   "source": [
    "# 사기자 VS 일반인 사이의 분포 차이 비교를 위한 탐색"
   ]
  },
  {
   "cell_type": "code",
   "execution_count": 110,
   "metadata": {},
   "outputs": [],
   "source": [
    "fraud_age=cust_data1[cust_data1['siu_cust_yn']=='Y']['age_range']"
   ]
  },
  {
   "cell_type": "code",
   "execution_count": 111,
   "metadata": {},
   "outputs": [
    {
     "data": {
      "text/plain": [
       "Text(0.5, 1.0, '사기자 나이')"
      ]
     },
     "execution_count": 111,
     "metadata": {},
     "output_type": "execute_result"
    },
    {
     "data": {
      "image/png": "[encoded data removed]",
      "text/plain": [
       "<Figure size 432x288 with 1 Axes>"
      ]
     },
     "metadata": {},
     "output_type": "display_data"
    }
   ],
   "source": [
    "# 사기자 나이 분포\n",
    "fraud_age.value_counts().plot(kind='pie',autopct='%.2f%%')\n",
    "plt.title('사기자 나이')"
   ]
  },
  {
   "cell_type": "code",
   "execution_count": 112,
   "metadata": {},
   "outputs": [],
   "source": [
    "general_age=cust_data1[cust_data1['siu_cust_yn']=='N']['age_range']"
   ]
  },
  {
   "cell_type": "code",
   "execution_count": 113,
   "metadata": {},
   "outputs": [
    {
     "data": {
      "text/plain": [
       "Text(0.5, 1.0, '일반인 나이')"
      ]
     },
     "execution_count": 113,
     "metadata": {},
     "output_type": "execute_result"
    },
    {
     "data": {
      "image/png": "[encoded data removed]",
      "text/plain": [
       "<Figure size 432x288 with 1 Axes>"
      ]
     },
     "metadata": {},
     "output_type": "display_data"
    }
   ],
   "source": [
    "# 일반인 나이 분포\n",
    "general_age.value_counts().plot(kind='pie',autopct='%.2f')\n",
    "plt.title('일반인 나이')"
   ]
  },
  {
   "cell_type": "code",
   "execution_count": 114,
   "metadata": {},
   "outputs": [],
   "source": [
    "# sex 에 대한 차이 1: man  2: woman \n",
    "fraud_sex= cust_data1[cust_data1['siu_cust_yn']=='N']['sex']"
   ]
  },
  {
   "cell_type": "code",
   "execution_count": 115,
   "metadata": {},
   "outputs": [
    {
     "data": {
      "text/plain": [
       "Text(0.5, 1.0, '일반인 성별')"
      ]
     },
     "execution_count": 115,
     "metadata": {},
     "output_type": "execute_result"
    },
    {
     "data": {
      "image/png": "[encoded data removed]",
      "text/plain": [
       "<Figure size 432x288 with 1 Axes>"
      ]
     },
     "metadata": {},
     "output_type": "display_data"
    }
   ],
   "source": [
    "fraud_sex.value_counts().plot(kind='pie',autopct='%.2f%%')\n",
    "plt.title('일반인 성별')"
   ]
  },
  {
   "cell_type": "code",
   "execution_count": 116,
   "metadata": {},
   "outputs": [],
   "source": [
    "general_sex=cust_data1[cust_data1['siu_cust_yn']=='Y']['sex']"
   ]
  },
  {
   "cell_type": "code",
   "execution_count": 117,
   "metadata": {},
   "outputs": [
    {
     "data": {
      "text/plain": [
       "Text(0.5, 1.0, '사기자 성별')"
      ]
     },
     "execution_count": 117,
     "metadata": {},
     "output_type": "execute_result"
    },
    {
     "data": {
      "image/png": "[encoded data removed]",
      "text/plain": [
       "<Figure size 432x288 with 1 Axes>"
      ]
     },
     "metadata": {},
     "output_type": "display_data"
    }
   ],
   "source": [
    "general_sex.value_counts().plot(kind='pie',autopct='%.2f%%')\n",
    "plt.title('사기자 성별')"
   ]
  },
  {
   "cell_type": "markdown",
   "metadata": {},
   "source": [
    "- 사기자의 나이 분포:\n",
    "    - 중년 나이대가 일반인 보다 사기자가 비율이 좀 더 높다\n",
    "- 사기자 성별 분포:\n",
    "    - 여자가 일반인보다 사기자 비율이 좀 더 높다"
   ]
  },
  {
   "cell_type": "markdown",
   "metadata": {},
   "source": [
    "# 데이터 삭제"
   ]
  },
  {
   "cell_type": "code",
   "execution_count": 118,
   "metadata": {},
   "outputs": [
    {
     "data": {
      "text/plain": [
       "(22400, 52)"
      ]
     },
     "execution_count": 118,
     "metadata": {},
     "output_type": "execute_result"
    }
   ],
   "source": [
    "cust_data1.shape"
   ]
  },
  {
   "cell_type": "code",
   "execution_count": 119,
   "metadata": {},
   "outputs": [
    {
     "data": {
      "text/plain": [
       "Index(['cust_id', 'divided_set', 'siu_cust_yn', 'sex', 'age', 'resi_cost',\n",
       "       'resi_type_code', 'fp_career', 'cust_rgst', 'ctpr', 'occp_grp_1',\n",
       "       'occp_grp_2', 'totalprem', 'mincrdt', 'maxcrdt', 'wedd_yn',\n",
       "       'mate_occp_grp_1', 'mate_occp_grp_2', 'chld_cnt', 'ltbn_chld_age',\n",
       "       'max_paym_ym', 'max_prm', 'cust_incm', 'rcbase_hshd_incm',\n",
       "       'jpbase_hshd_incm', 'age_range', 'chld_range', 'mean_days', '1_1',\n",
       "       '1_2', '1_3', '1_4', '1_5', '1_6', '1_7', '1_9', '2_1', '2_2', '2_3',\n",
       "       '2_4', '2_5', '2_6', '2_7', '2_9', '3_1', '3_2', '3_3', '3_4', '3_5',\n",
       "       '3_6', '3_7', '3_9'],\n",
       "      dtype='object')"
      ]
     },
     "execution_count": 119,
     "metadata": {},
     "output_type": "execute_result"
    }
   ],
   "source": [
    "cust_data1.columns"
   ]
  },
  {
   "cell_type": "code",
   "execution_count": 120,
   "metadata": {
    "scrolled": true
   },
   "outputs": [
    {
     "data": {
      "text/plain": [
       "cust_id                 0\n",
       "divided_set             0\n",
       "siu_cust_yn          1793\n",
       "sex                     0\n",
       "age                     0\n",
       "resi_cost               0\n",
       "resi_type_code          0\n",
       "fp_career               0\n",
       "cust_rgst             456\n",
       "ctpr                    0\n",
       "occp_grp_1              0\n",
       "occp_grp_2            595\n",
       "totalprem               0\n",
       "mincrdt                 0\n",
       "maxcrdt                 0\n",
       "wedd_yn                 0\n",
       "mate_occp_grp_1     11827\n",
       "mate_occp_grp_2     11827\n",
       "chld_cnt                0\n",
       "ltbn_chld_age           0\n",
       "max_paym_ym          6486\n",
       "max_prm              6486\n",
       "cust_incm               0\n",
       "rcbase_hshd_incm        0\n",
       "jpbase_hshd_incm      680\n",
       "age_range               0\n",
       "chld_range              0\n",
       "mean_days               0\n",
       "1_1                     0\n",
       "1_2                     0\n",
       "1_3                     0\n",
       "1_4                     0\n",
       "1_5                     0\n",
       "1_6                     0\n",
       "1_7                     0\n",
       "1_9                     0\n",
       "2_1                     0\n",
       "2_2                     0\n",
       "2_3                     0\n",
       "2_4                     0\n",
       "2_5                     0\n",
       "2_6                     0\n",
       "2_7                     0\n",
       "2_9                     0\n",
       "3_1                     0\n",
       "3_2                     0\n",
       "3_3                     0\n",
       "3_4                     0\n",
       "3_5                     0\n",
       "3_6                     0\n",
       "3_7                     0\n",
       "3_9                     0\n",
       "dtype: int64"
      ]
     },
     "execution_count": 120,
     "metadata": {},
     "output_type": "execute_result"
    }
   ],
   "source": [
    "cust_data1.isnull().sum()"
   ]
  },
  {
   "cell_type": "code",
   "execution_count": 121,
   "metadata": {},
   "outputs": [],
   "source": [
    "# 삭제를 잘못했을때를 대비하여 final_data에 복사 후 사용\n",
    "final_data=cust_data1.copy()"
   ]
  },
  {
   "cell_type": "code",
   "execution_count": 122,
   "metadata": {},
   "outputs": [],
   "source": [
    "# occp_grp_2 , mate_occp_grp2 => 세부 분류 한 것이므로 대체 값 존재\n",
    "final_data.drop(['occp_grp_2','mate_occp_grp_2'],axis=1,inplace=True)"
   ]
  },
  {
   "cell_type": "code",
   "execution_count": 123,
   "metadata": {},
   "outputs": [],
   "source": [
    "# age -> age_range 가 있으므로 삭제\n",
    "final_data.drop('age',axis=1,inplace=True)"
   ]
  },
  {
   "cell_type": "code",
   "execution_count": 124,
   "metadata": {
    "scrolled": true
   },
   "outputs": [
    {
     "data": {
      "text/plain": [
       "cust_id             False\n",
       "divided_set         False\n",
       "sex                 False\n",
       "resi_cost           False\n",
       "resi_type_code      False\n",
       "cust_rgst           False\n",
       "totalprem           False\n",
       "mincrdt             False\n",
       "maxcrdt             False\n",
       "chld_cnt            False\n",
       "ltbn_chld_age       False\n",
       "max_paym_ym         False\n",
       "max_prm             False\n",
       "cust_incm           False\n",
       "rcbase_hshd_incm    False\n",
       "jpbase_hshd_incm    False\n",
       "mean_days           False\n",
       "1_1                 False\n",
       "1_2                 False\n",
       "1_3                 False\n",
       "1_4                 False\n",
       "1_5                 False\n",
       "1_6                 False\n",
       "1_7                 False\n",
       "1_9                 False\n",
       "2_1                 False\n",
       "2_2                 False\n",
       "2_3                 False\n",
       "2_4                 False\n",
       "2_5                 False\n",
       "2_6                 False\n",
       "2_7                  True\n",
       "2_9                  True\n",
       "3_1                 False\n",
       "3_2                 False\n",
       "3_3                 False\n",
       "3_4                 False\n",
       "3_5                 False\n",
       "3_6                 False\n",
       "3_7                 False\n",
       "3_9                 False\n",
       "Name: std, dtype: bool"
      ]
     },
     "execution_count": 124,
     "metadata": {},
     "output_type": "execute_result"
    }
   ],
   "source": [
    "# 분산이 0인 컬럼 삭제 => 2_7,2_9\n",
    "final_data.describe().loc['std']==0"
   ]
  },
  {
   "cell_type": "code",
   "execution_count": 125,
   "metadata": {},
   "outputs": [],
   "source": [
    "final_data.drop(['2_7','2_9'],axis=1,inplace=True)"
   ]
  },
  {
   "cell_type": "code",
   "execution_count": 126,
   "metadata": {
    "scrolled": true
   },
   "outputs": [
    {
     "data": {
      "text/plain": [
       "cust_id                 0\n",
       "divided_set             0\n",
       "siu_cust_yn          1793\n",
       "sex                     0\n",
       "resi_cost               0\n",
       "resi_type_code          0\n",
       "fp_career               0\n",
       "cust_rgst             456\n",
       "ctpr                    0\n",
       "occp_grp_1              0\n",
       "totalprem               0\n",
       "mincrdt                 0\n",
       "maxcrdt                 0\n",
       "wedd_yn                 0\n",
       "mate_occp_grp_1     11827\n",
       "chld_cnt                0\n",
       "ltbn_chld_age           0\n",
       "max_paym_ym          6486\n",
       "max_prm              6486\n",
       "cust_incm               0\n",
       "rcbase_hshd_incm        0\n",
       "jpbase_hshd_incm      680\n",
       "age_range               0\n",
       "chld_range              0\n",
       "mean_days               0\n",
       "1_1                     0\n",
       "1_2                     0\n",
       "1_3                     0\n",
       "1_4                     0\n",
       "1_5                     0\n",
       "1_6                     0\n",
       "1_7                     0\n",
       "1_9                     0\n",
       "2_1                     0\n",
       "2_2                     0\n",
       "2_3                     0\n",
       "2_4                     0\n",
       "2_5                     0\n",
       "2_6                     0\n",
       "3_1                     0\n",
       "3_2                     0\n",
       "3_3                     0\n",
       "3_4                     0\n",
       "3_5                     0\n",
       "3_6                     0\n",
       "3_7                     0\n",
       "3_9                     0\n",
       "dtype: int64"
      ]
     },
     "execution_count": 126,
     "metadata": {},
     "output_type": "execute_result"
    }
   ],
   "source": [
    "final_data.isnull().sum()"
   ]
  },
  {
   "cell_type": "code",
   "execution_count": 127,
   "metadata": {},
   "outputs": [],
   "source": [
    "# max_prm 유의미하지 않다고 판단\n",
    "# max_paym_ym은 연도를 가르키기 때문에 삭제 필요\n",
    "# 고객 등록연월도 같은 이유로 삭제\n",
    "# 추정가구 소득 jpbase_hshd_incm은 rcbase와 기준만 다른 것이므로 삭제\n",
    "# chld_cnt는 chld_range로 대체하여 삭제\n",
    "# mate_occp_grp_1 유의미하지 않은 데이터\n",
    "# ctpr 지역과 상관 x"
   ]
  },
  {
   "cell_type": "code",
   "execution_count": 128,
   "metadata": {},
   "outputs": [],
   "source": [
    "final_data.drop(['max_paym_ym','max_prm','cust_rgst','jpbase_hshd_incm','chld_cnt','mate_occp_grp_1','ctpr'],axis=1,inplace=True)"
   ]
  },
  {
   "cell_type": "code",
   "execution_count": 129,
   "metadata": {},
   "outputs": [
    {
     "data": {
      "text/plain": [
       "Index(['cust_id', 'divided_set', 'siu_cust_yn', 'sex', 'resi_cost',\n",
       "       'resi_type_code', 'fp_career', 'occp_grp_1', 'totalprem', 'mincrdt',\n",
       "       'maxcrdt', 'wedd_yn', 'ltbn_chld_age', 'cust_incm', 'rcbase_hshd_incm',\n",
       "       'age_range', 'chld_range', 'mean_days', '1_1', '1_2', '1_3', '1_4',\n",
       "       '1_5', '1_6', '1_7', '1_9', '2_1', '2_2', '2_3', '2_4', '2_5', '2_6',\n",
       "       '3_1', '3_2', '3_3', '3_4', '3_5', '3_6', '3_7', '3_9'],\n",
       "      dtype='object')"
      ]
     },
     "execution_count": 129,
     "metadata": {},
     "output_type": "execute_result"
    }
   ],
   "source": [
    "final_data.columns"
   ]
  },
  {
   "cell_type": "code",
   "execution_count": 130,
   "metadata": {
    "scrolled": true
   },
   "outputs": [
    {
     "name": "stdout",
     "output_type": "stream",
     "text": [
      "<class 'pandas.core.frame.DataFrame'>\n",
      "Int64Index: 22400 entries, 0 to 22399\n",
      "Data columns (total 40 columns):\n",
      "cust_id             22400 non-null int64\n",
      "divided_set         22400 non-null int64\n",
      "siu_cust_yn         20607 non-null object\n",
      "sex                 22400 non-null int64\n",
      "resi_cost           22400 non-null int64\n",
      "resi_type_code      22400 non-null float64\n",
      "fp_career           22400 non-null object\n",
      "occp_grp_1          22400 non-null object\n",
      "totalprem           22400 non-null float64\n",
      "mincrdt             22400 non-null float64\n",
      "maxcrdt             22400 non-null float64\n",
      "wedd_yn             22400 non-null object\n",
      "ltbn_chld_age       22400 non-null float64\n",
      "cust_incm           22400 non-null float64\n",
      "rcbase_hshd_incm    22400 non-null int64\n",
      "age_range           22400 non-null category\n",
      "chld_range          22400 non-null category\n",
      "mean_days           22400 non-null float64\n",
      "1_1                 22400 non-null int64\n",
      "1_2                 22400 non-null int64\n",
      "1_3                 22400 non-null int64\n",
      "1_4                 22400 non-null int64\n",
      "1_5                 22400 non-null int64\n",
      "1_6                 22400 non-null int64\n",
      "1_7                 22400 non-null int64\n",
      "1_9                 22400 non-null int64\n",
      "2_1                 22400 non-null int64\n",
      "2_2                 22400 non-null int64\n",
      "2_3                 22400 non-null int64\n",
      "2_4                 22400 non-null int64\n",
      "2_5                 22400 non-null int64\n",
      "2_6                 22400 non-null int64\n",
      "3_1                 22400 non-null int64\n",
      "3_2                 22400 non-null int64\n",
      "3_3                 22400 non-null int64\n",
      "3_4                 22400 non-null int64\n",
      "3_5                 22400 non-null int64\n",
      "3_6                 22400 non-null int64\n",
      "3_7                 22400 non-null int64\n",
      "3_9                 22400 non-null int64\n",
      "dtypes: category(2), float64(7), int64(27), object(4)\n",
      "memory usage: 6.7+ MB\n"
     ]
    }
   ],
   "source": [
    "final_data.info()"
   ]
  },
  {
   "cell_type": "code",
   "execution_count": 131,
   "metadata": {},
   "outputs": [],
   "source": [
    "from sklearn.preprocessing import OneHotEncoder"
   ]
  },
  {
   "cell_type": "code",
   "execution_count": 132,
   "metadata": {},
   "outputs": [],
   "source": [
    "def ohe_trans(df, col):\n",
    "    ohe = OneHotEncoder()\n",
    "    x = ohe.fit_transform(df[col].values.reshape(-1,1)).toarray()\n",
    "    tmp = []\n",
    "    for i in range(df[col].unique().size):\n",
    "        tmp.append(col[0]+str(i))\n",
    "        \n",
    "    ohe_df = pd.DataFrame(x, columns=tmp)\n",
    "    return ohe_df"
   ]
  },
  {
   "cell_type": "code",
   "execution_count": 133,
   "metadata": {
    "scrolled": true
   },
   "outputs": [],
   "source": [
    "final_data['age_range']=final_data['age_range'].astype('object')\n",
    "final_data['chld_range']=final_data['chld_range'].astype('object')"
   ]
  },
  {
   "cell_type": "code",
   "execution_count": 134,
   "metadata": {},
   "outputs": [
    {
     "name": "stdout",
     "output_type": "stream",
     "text": [
      "<class 'pandas.core.frame.DataFrame'>\n",
      "Int64Index: 22400 entries, 0 to 22399\n",
      "Data columns (total 2 columns):\n",
      "age_range     22400 non-null object\n",
      "chld_range    22400 non-null object\n",
      "dtypes: object(2)\n",
      "memory usage: 525.0+ KB\n"
     ]
    }
   ],
   "source": [
    "final_data[['age_range','chld_range']].info()"
   ]
  },
  {
   "cell_type": "code",
   "execution_count": 135,
   "metadata": {},
   "outputs": [
    {
     "name": "stderr",
     "output_type": "stream",
     "text": [
      "C:\\Users\\winst\\Anaconda3\\lib\\site-packages\\sklearn\\preprocessing\\_encoders.py:368: FutureWarning: The handling of integer data will change in version 0.22. Currently, the categories are determined based on the range [0, max(values)], while in the future they will be determined based on the unique values.\n",
      "If you want the future behaviour and silence this warning, you can specify \"categories='auto'\".\n",
      "In case you used a LabelEncoder before this OneHotEncoder to convert the categories to integers, then you can now use the OneHotEncoder directly.\n",
      "  warnings.warn(msg, FutureWarning)\n"
     ]
    }
   ],
   "source": [
    "# sex, age_range, fp_career , wedd_yn , chld_range\n",
    "sex_df = ohe_trans(final_data, 'sex')\n",
    "age_df = ohe_trans(final_data, 'age_range')\n",
    "fp_df = ohe_trans(final_data, 'fp_career')\n",
    "wedd_df = ohe_trans(final_data, 'wedd_yn')\n",
    "chld_df = ohe_trans(final_data, 'chld_range')"
   ]
  },
  {
   "cell_type": "code",
   "execution_count": 136,
   "metadata": {},
   "outputs": [],
   "source": [
    "# occp_grp_1\n",
    "occp_df=ohe_trans(final_data,'occp_grp_1')"
   ]
  },
  {
   "cell_type": "code",
   "execution_count": 137,
   "metadata": {},
   "outputs": [],
   "source": [
    "tmp=pd.concat([final_data,sex_df,age_df,fp_df,wedd_df,chld_df,occp_df],axis=1)"
   ]
  },
  {
   "cell_type": "code",
   "execution_count": 138,
   "metadata": {},
   "outputs": [],
   "source": [
    "tmp.drop(['sex','age_range','fp_career','wedd_yn','chld_range','occp_grp_1'],axis=1,inplace=True)"
   ]
  },
  {
   "cell_type": "markdown",
   "metadata": {},
   "source": [
    "# 학습데이터, 테스트 데이터 분리\n",
    "- 학습데이터 : divided = 1\n",
    "- 테스트데이터 : divided =2"
   ]
  },
  {
   "cell_type": "code",
   "execution_count": 139,
   "metadata": {},
   "outputs": [],
   "source": [
    "train=tmp[tmp['divided_set']==1]\n",
    "test=tmp[tmp['divided_set']==2]"
   ]
  },
  {
   "cell_type": "code",
   "execution_count": 140,
   "metadata": {},
   "outputs": [],
   "source": [
    "train_x=train.loc[:,train.columns.difference(['cust_id','siu_cust_yn','divided_set'])]\n",
    "train_y=train['siu_cust_yn']"
   ]
  },
  {
   "cell_type": "code",
   "execution_count": 141,
   "metadata": {},
   "outputs": [],
   "source": [
    "test_x=test.loc[:,test.columns.difference(['cust_id','siu_cust_yn','divided_set'])]\n",
    "test_y=test['siu_cust_yn']"
   ]
  },
  {
   "cell_type": "code",
   "execution_count": 142,
   "metadata": {},
   "outputs": [],
   "source": [
    "# 랜덤포레스트 , xgboost , stacking, extratreeclassifier"
   ]
  },
  {
   "cell_type": "code",
   "execution_count": 143,
   "metadata": {},
   "outputs": [],
   "source": [
    "from sklearn.ensemble import RandomForestClassifier\n",
    "from sklearn.ensemble import ExtraTreesClassifier\n",
    "from xgboost import XGBClassifier\n"
   ]
  },
  {
   "cell_type": "code",
   "execution_count": 144,
   "metadata": {},
   "outputs": [],
   "source": [
    "rf=RandomForestClassifier()\n",
    "et=ExtraTreesClassifier()\n",
    "xgb=XGBClassifier()"
   ]
  },
  {
   "cell_type": "code",
   "execution_count": 145,
   "metadata": {},
   "outputs": [
    {
     "name": "stderr",
     "output_type": "stream",
     "text": [
      "C:\\Users\\winst\\Anaconda3\\lib\\site-packages\\sklearn\\ensemble\\forest.py:246: FutureWarning: The default value of n_estimators will change from 10 in version 0.20 to 100 in 0.22.\n",
      "  \"10 in version 0.20 to 100 in 0.22.\", FutureWarning)\n"
     ]
    },
    {
     "data": {
      "text/plain": [
       "RandomForestClassifier(bootstrap=True, class_weight=None, criterion='gini',\n",
       "            max_depth=None, max_features='auto', max_leaf_nodes=None,\n",
       "            min_impurity_decrease=0.0, min_impurity_split=None,\n",
       "            min_samples_leaf=1, min_samples_split=2,\n",
       "            min_weight_fraction_leaf=0.0, n_estimators=10, n_jobs=None,\n",
       "            oob_score=False, random_state=None, verbose=0,\n",
       "            warm_start=False)"
      ]
     },
     "execution_count": 145,
     "metadata": {},
     "output_type": "execute_result"
    }
   ],
   "source": [
    "rf.fit(train_x,train_y)"
   ]
  },
  {
   "cell_type": "code",
   "execution_count": 146,
   "metadata": {},
   "outputs": [
    {
     "name": "stderr",
     "output_type": "stream",
     "text": [
      "C:\\Users\\winst\\Anaconda3\\lib\\site-packages\\sklearn\\ensemble\\forest.py:246: FutureWarning: The default value of n_estimators will change from 10 in version 0.20 to 100 in 0.22.\n",
      "  \"10 in version 0.20 to 100 in 0.22.\", FutureWarning)\n"
     ]
    },
    {
     "data": {
      "text/plain": [
       "ExtraTreesClassifier(bootstrap=False, class_weight=None, criterion='gini',\n",
       "           max_depth=None, max_features='auto', max_leaf_nodes=None,\n",
       "           min_impurity_decrease=0.0, min_impurity_split=None,\n",
       "           min_samples_leaf=1, min_samples_split=2,\n",
       "           min_weight_fraction_leaf=0.0, n_estimators=10, n_jobs=None,\n",
       "           oob_score=False, random_state=None, verbose=0, warm_start=False)"
      ]
     },
     "execution_count": 146,
     "metadata": {},
     "output_type": "execute_result"
    }
   ],
   "source": [
    "et.fit(train_x,train_y)"
   ]
  },
  {
   "cell_type": "code",
   "execution_count": 147,
   "metadata": {
    "scrolled": true
   },
   "outputs": [
    {
     "data": {
      "text/plain": [
       "XGBClassifier(base_score=0.5, booster='gbtree', colsample_bylevel=1,\n",
       "       colsample_bynode=1, colsample_bytree=1, gamma=0, learning_rate=0.1,\n",
       "       max_delta_step=0, max_depth=3, min_child_weight=1, missing=None,\n",
       "       n_estimators=100, n_jobs=1, nthread=None,\n",
       "       objective='binary:logistic', random_state=0, reg_alpha=0,\n",
       "       reg_lambda=1, scale_pos_weight=1, seed=None, silent=None,\n",
       "       subsample=1, verbosity=1)"
      ]
     },
     "execution_count": 147,
     "metadata": {},
     "output_type": "execute_result"
    }
   ],
   "source": [
    "xgb.fit(train_x,train_y)"
   ]
  },
  {
   "cell_type": "code",
   "execution_count": 148,
   "metadata": {},
   "outputs": [],
   "source": [
    "rf.parms={'max_depth':[None,5,10],'criterion':['gini','entropy'],'max_features':[None,'sqrt','log2']}"
   ]
  },
  {
   "cell_type": "code",
   "execution_count": 149,
   "metadata": {},
   "outputs": [],
   "source": [
    "et.parms={'max_depth':[None,5,10],'criterion':['gini','entropy'],'max_features':[None,'sqrt','log2']}"
   ]
  },
  {
   "cell_type": "code",
   "execution_count": 150,
   "metadata": {},
   "outputs": [],
   "source": [
    "xgb.parms={'max_depth':[3,5,10],'gamma':[0,0.5,1],'max_features':['auto','log','log2'],'eta':[0.05,0.1,0.3]}"
   ]
  },
  {
   "cell_type": "code",
   "execution_count": 151,
   "metadata": {},
   "outputs": [],
   "source": [
    "from sklearn.model_selection import GridSearchCV"
   ]
  },
  {
   "cell_type": "code",
   "execution_count": 152,
   "metadata": {},
   "outputs": [],
   "source": [
    "rf_cv=GridSearchCV(rf,rf.parms)\n",
    "et_cv=GridSearchCV(et,et.parms)\n",
    "xgb_cv=GridSearchCV(xgb,xgb.parms)"
   ]
  },
  {
   "cell_type": "code",
   "execution_count": 153,
   "metadata": {
    "scrolled": true
   },
   "outputs": [
    {
     "name": "stderr",
     "output_type": "stream",
     "text": [
      "C:\\Users\\winst\\Anaconda3\\lib\\site-packages\\sklearn\\model_selection\\_split.py:2053: FutureWarning: You should specify a value for 'cv' instead of relying on the default value. The default value will change from 3 to 5 in version 0.22.\n",
      "  warnings.warn(CV_WARNING, FutureWarning)\n"
     ]
    },
    {
     "data": {
      "text/plain": [
       "GridSearchCV(cv='warn', error_score='raise-deprecating',\n",
       "       estimator=RandomForestClassifier(bootstrap=True, class_weight=None, criterion='gini',\n",
       "            max_depth=None, max_features='auto', max_leaf_nodes=None,\n",
       "            min_impurity_decrease=0.0, min_impurity_split=None,\n",
       "            min_samples_leaf=1, min_samples_split=2,\n",
       "            min_weight_fraction_leaf=0.0, n_estimators=10, n_jobs=None,\n",
       "            oob_score=False, random_state=None, verbose=0,\n",
       "            warm_start=False),\n",
       "       fit_params=None, iid='warn', n_jobs=None,\n",
       "       param_grid={'max_depth': [None, 5, 10], 'criterion': ['gini', 'entropy'], 'max_features': [None, 'sqrt', 'log2']},\n",
       "       pre_dispatch='2*n_jobs', refit=True, return_train_score='warn',\n",
       "       scoring=None, verbose=0)"
      ]
     },
     "execution_count": 153,
     "metadata": {},
     "output_type": "execute_result"
    }
   ],
   "source": [
    "rf_cv.fit(train_x,train_y)"
   ]
  },
  {
   "cell_type": "code",
   "execution_count": 154,
   "metadata": {},
   "outputs": [
    {
     "data": {
      "text/plain": [
       "{'criterion': 'entropy', 'max_depth': 5, 'max_features': None}"
      ]
     },
     "execution_count": 154,
     "metadata": {},
     "output_type": "execute_result"
    }
   ],
   "source": [
    "rf_cv.best_params_"
   ]
  },
  {
   "cell_type": "code",
   "execution_count": 155,
   "metadata": {},
   "outputs": [
    {
     "name": "stderr",
     "output_type": "stream",
     "text": [
      "C:\\Users\\winst\\Anaconda3\\lib\\site-packages\\sklearn\\model_selection\\_split.py:2053: FutureWarning: You should specify a value for 'cv' instead of relying on the default value. The default value will change from 3 to 5 in version 0.22.\n",
      "  warnings.warn(CV_WARNING, FutureWarning)\n"
     ]
    },
    {
     "data": {
      "text/plain": [
       "GridSearchCV(cv='warn', error_score='raise-deprecating',\n",
       "       estimator=ExtraTreesClassifier(bootstrap=False, class_weight=None, criterion='gini',\n",
       "           max_depth=None, max_features='auto', max_leaf_nodes=None,\n",
       "           min_impurity_decrease=0.0, min_impurity_split=None,\n",
       "           min_samples_leaf=1, min_samples_split=2,\n",
       "           min_weight_fraction_leaf=0.0, n_estimators=10, n_jobs=None,\n",
       "           oob_score=False, random_state=None, verbose=0, warm_start=False),\n",
       "       fit_params=None, iid='warn', n_jobs=None,\n",
       "       param_grid={'max_depth': [None, 5, 10], 'criterion': ['gini', 'entropy'], 'max_features': [None, 'sqrt', 'log2']},\n",
       "       pre_dispatch='2*n_jobs', refit=True, return_train_score='warn',\n",
       "       scoring=None, verbose=0)"
      ]
     },
     "execution_count": 155,
     "metadata": {},
     "output_type": "execute_result"
    }
   ],
   "source": [
    "et_cv.fit(train_x,train_y)"
   ]
  },
  {
   "cell_type": "code",
   "execution_count": 156,
   "metadata": {},
   "outputs": [
    {
     "data": {
      "text/plain": [
       "{'criterion': 'entropy', 'max_depth': 10, 'max_features': None}"
      ]
     },
     "execution_count": 156,
     "metadata": {},
     "output_type": "execute_result"
    }
   ],
   "source": [
    "et_cv.best_params_"
   ]
  },
  {
   "cell_type": "code",
   "execution_count": 157,
   "metadata": {},
   "outputs": [
    {
     "name": "stderr",
     "output_type": "stream",
     "text": [
      "C:\\Users\\winst\\Anaconda3\\lib\\site-packages\\sklearn\\model_selection\\_split.py:2053: FutureWarning: You should specify a value for 'cv' instead of relying on the default value. The default value will change from 3 to 5 in version 0.22.\n",
      "  warnings.warn(CV_WARNING, FutureWarning)\n"
     ]
    },
    {
     "data": {
      "text/plain": [
       "GridSearchCV(cv='warn', error_score='raise-deprecating',\n",
       "       estimator=XGBClassifier(base_score=0.5, booster='gbtree', colsample_bylevel=1,\n",
       "       colsample_bynode=1, colsample_bytree=1, gamma=0, learning_rate=0.1,\n",
       "       max_delta_step=0, max_depth=3, min_child_weight=1, missing=None,\n",
       "       n_estimators=100, n_jobs=1, nthread=None,\n",
       "       objective='binary:logistic', random_state=0, reg_alpha=0,\n",
       "       reg_lambda=1, scale_pos_weight=1, seed=None, silent=None,\n",
       "       subsample=1, verbosity=1),\n",
       "       fit_params=None, iid='warn', n_jobs=None,\n",
       "       param_grid={'max_depth': [3, 5, 10], 'gamma': [0, 0.5, 1], 'max_features': ['auto', 'log', 'log2'], 'eta': [0.05, 0.1, 0.3]},\n",
       "       pre_dispatch='2*n_jobs', refit=True, return_train_score='warn',\n",
       "       scoring=None, verbose=0)"
      ]
     },
     "execution_count": 157,
     "metadata": {},
     "output_type": "execute_result"
    }
   ],
   "source": [
    "xgb_cv.fit(train_x,train_y)"
   ]
  },
  {
   "cell_type": "code",
   "execution_count": 158,
   "metadata": {},
   "outputs": [
    {
     "data": {
      "text/plain": [
       "{'eta': 0.05, 'gamma': 1, 'max_depth': 5, 'max_features': 'auto'}"
      ]
     },
     "execution_count": 158,
     "metadata": {},
     "output_type": "execute_result"
    }
   ],
   "source": [
    "xgb_cv.best_params_"
   ]
  },
  {
   "cell_type": "code",
   "execution_count": 159,
   "metadata": {},
   "outputs": [
    {
     "data": {
      "text/html": [
       "<div>\n",
       "<style scoped>\n",
       "    .dataframe tbody tr th:only-of-type {\n",
       "        vertical-align: middle;\n",
       "    }\n",
       "\n",
       "    .dataframe tbody tr th {\n",
       "        vertical-align: top;\n",
       "    }\n",
       "\n",
       "    .dataframe thead th {\n",
       "        text-align: right;\n",
       "    }\n",
       "</style>\n",
       "<table border=\"1\" class=\"dataframe\">\n",
       "  <thead>\n",
       "    <tr style=\"text-align: right;\">\n",
       "      <th></th>\n",
       "      <th>CUST_ID</th>\n",
       "      <th>SIU_CUST_YN</th>\n",
       "    </tr>\n",
       "  </thead>\n",
       "  <tbody>\n",
       "    <tr>\n",
       "      <th>0</th>\n",
       "      <td>37</td>\n",
       "      <td>0</td>\n",
       "    </tr>\n",
       "    <tr>\n",
       "      <th>1</th>\n",
       "      <td>51</td>\n",
       "      <td>0</td>\n",
       "    </tr>\n",
       "    <tr>\n",
       "      <th>2</th>\n",
       "      <td>60</td>\n",
       "      <td>0</td>\n",
       "    </tr>\n",
       "    <tr>\n",
       "      <th>3</th>\n",
       "      <td>65</td>\n",
       "      <td>0</td>\n",
       "    </tr>\n",
       "    <tr>\n",
       "      <th>4</th>\n",
       "      <td>73</td>\n",
       "      <td>0</td>\n",
       "    </tr>\n",
       "  </tbody>\n",
       "</table>\n",
       "</div>"
      ],
      "text/plain": [
       "   CUST_ID  SIU_CUST_YN\n",
       "0       37            0\n",
       "1       51            0\n",
       "2       60            0\n",
       "3       65            0\n",
       "4       73            0"
      ]
     },
     "execution_count": 159,
     "metadata": {},
     "output_type": "execute_result"
    }
   ],
   "source": [
    "# 정답 데이터 적재\n",
    "answer=pd.read_csv('answer.csv')\n",
    "answer.head()"
   ]
  },
  {
   "cell_type": "code",
   "execution_count": 160,
   "metadata": {},
   "outputs": [],
   "source": [
    "answer.columns=answer.columns.str.lower()"
   ]
  },
  {
   "cell_type": "code",
   "execution_count": 161,
   "metadata": {},
   "outputs": [],
   "source": [
    "pred_rf_cv=rf_cv.predict(test_x)"
   ]
  },
  {
   "cell_type": "code",
   "execution_count": 162,
   "metadata": {},
   "outputs": [],
   "source": [
    "answer['pred_rf_cv']=pred_rf_cv"
   ]
  },
  {
   "cell_type": "code",
   "execution_count": 163,
   "metadata": {},
   "outputs": [],
   "source": [
    "pred_et_cv=et_cv.predict(test_x)"
   ]
  },
  {
   "cell_type": "code",
   "execution_count": 164,
   "metadata": {},
   "outputs": [],
   "source": [
    "answer['pred_et_cv']=pred_et_cv"
   ]
  },
  {
   "cell_type": "code",
   "execution_count": 165,
   "metadata": {},
   "outputs": [],
   "source": [
    "pred_xgb_cv=xgb_cv.predict(test_x)"
   ]
  },
  {
   "cell_type": "code",
   "execution_count": 166,
   "metadata": {},
   "outputs": [],
   "source": [
    "answer['pred_xgb_cv']=pred_xgb_cv"
   ]
  },
  {
   "cell_type": "code",
   "execution_count": 167,
   "metadata": {},
   "outputs": [],
   "source": [
    "pred_rf=rf.predict(test_x)\n",
    "answer['pred_rf']=pred_rf\n",
    "pred_et=et.predict(test_x)\n",
    "answer['pred_et']=pred_et\n",
    "pred_xgb=xgb.predict(test_x)\n",
    "answer['pred_xgb']=pred_xgb"
   ]
  },
  {
   "cell_type": "code",
   "execution_count": 168,
   "metadata": {},
   "outputs": [
    {
     "data": {
      "text/html": [
       "<div>\n",
       "<style scoped>\n",
       "    .dataframe tbody tr th:only-of-type {\n",
       "        vertical-align: middle;\n",
       "    }\n",
       "\n",
       "    .dataframe tbody tr th {\n",
       "        vertical-align: top;\n",
       "    }\n",
       "\n",
       "    .dataframe thead th {\n",
       "        text-align: right;\n",
       "    }\n",
       "</style>\n",
       "<table border=\"1\" class=\"dataframe\">\n",
       "  <thead>\n",
       "    <tr style=\"text-align: right;\">\n",
       "      <th></th>\n",
       "      <th>cust_id</th>\n",
       "      <th>siu_cust_yn</th>\n",
       "      <th>pred_rf_cv</th>\n",
       "      <th>pred_et_cv</th>\n",
       "      <th>pred_xgb_cv</th>\n",
       "      <th>pred_rf</th>\n",
       "      <th>pred_et</th>\n",
       "      <th>pred_xgb</th>\n",
       "    </tr>\n",
       "  </thead>\n",
       "  <tbody>\n",
       "    <tr>\n",
       "      <th>0</th>\n",
       "      <td>37</td>\n",
       "      <td>0</td>\n",
       "      <td>N</td>\n",
       "      <td>N</td>\n",
       "      <td>N</td>\n",
       "      <td>N</td>\n",
       "      <td>N</td>\n",
       "      <td>N</td>\n",
       "    </tr>\n",
       "    <tr>\n",
       "      <th>1</th>\n",
       "      <td>51</td>\n",
       "      <td>0</td>\n",
       "      <td>N</td>\n",
       "      <td>N</td>\n",
       "      <td>N</td>\n",
       "      <td>N</td>\n",
       "      <td>N</td>\n",
       "      <td>N</td>\n",
       "    </tr>\n",
       "    <tr>\n",
       "      <th>2</th>\n",
       "      <td>60</td>\n",
       "      <td>0</td>\n",
       "      <td>N</td>\n",
       "      <td>N</td>\n",
       "      <td>N</td>\n",
       "      <td>N</td>\n",
       "      <td>N</td>\n",
       "      <td>N</td>\n",
       "    </tr>\n",
       "    <tr>\n",
       "      <th>3</th>\n",
       "      <td>65</td>\n",
       "      <td>0</td>\n",
       "      <td>N</td>\n",
       "      <td>N</td>\n",
       "      <td>N</td>\n",
       "      <td>N</td>\n",
       "      <td>N</td>\n",
       "      <td>N</td>\n",
       "    </tr>\n",
       "    <tr>\n",
       "      <th>4</th>\n",
       "      <td>73</td>\n",
       "      <td>0</td>\n",
       "      <td>N</td>\n",
       "      <td>N</td>\n",
       "      <td>N</td>\n",
       "      <td>N</td>\n",
       "      <td>N</td>\n",
       "      <td>N</td>\n",
       "    </tr>\n",
       "  </tbody>\n",
       "</table>\n",
       "</div>"
      ],
      "text/plain": [
       "   cust_id  siu_cust_yn pred_rf_cv pred_et_cv pred_xgb_cv pred_rf pred_et  \\\n",
       "0       37            0          N          N           N       N       N   \n",
       "1       51            0          N          N           N       N       N   \n",
       "2       60            0          N          N           N       N       N   \n",
       "3       65            0          N          N           N       N       N   \n",
       "4       73            0          N          N           N       N       N   \n",
       "\n",
       "  pred_xgb  \n",
       "0        N  \n",
       "1        N  \n",
       "2        N  \n",
       "3        N  \n",
       "4        N  "
      ]
     },
     "execution_count": 168,
     "metadata": {},
     "output_type": "execute_result"
    }
   ],
   "source": [
    "answer.head()"
   ]
  },
  {
   "cell_type": "code",
   "execution_count": 169,
   "metadata": {},
   "outputs": [],
   "source": [
    "answer['siu_cust_yn']=answer['siu_cust_yn'].map({0:'N',1:'Y'})"
   ]
  },
  {
   "cell_type": "code",
   "execution_count": 170,
   "metadata": {},
   "outputs": [
    {
     "data": {
      "text/html": [
       "<div>\n",
       "<style scoped>\n",
       "    .dataframe tbody tr th:only-of-type {\n",
       "        vertical-align: middle;\n",
       "    }\n",
       "\n",
       "    .dataframe tbody tr th {\n",
       "        vertical-align: top;\n",
       "    }\n",
       "\n",
       "    .dataframe thead th {\n",
       "        text-align: right;\n",
       "    }\n",
       "</style>\n",
       "<table border=\"1\" class=\"dataframe\">\n",
       "  <thead>\n",
       "    <tr style=\"text-align: right;\">\n",
       "      <th></th>\n",
       "      <th>cust_id</th>\n",
       "      <th>siu_cust_yn</th>\n",
       "      <th>pred_rf_cv</th>\n",
       "      <th>pred_et_cv</th>\n",
       "      <th>pred_xgb_cv</th>\n",
       "      <th>pred_rf</th>\n",
       "      <th>pred_et</th>\n",
       "      <th>pred_xgb</th>\n",
       "    </tr>\n",
       "  </thead>\n",
       "  <tbody>\n",
       "    <tr>\n",
       "      <th>0</th>\n",
       "      <td>37</td>\n",
       "      <td>N</td>\n",
       "      <td>N</td>\n",
       "      <td>N</td>\n",
       "      <td>N</td>\n",
       "      <td>N</td>\n",
       "      <td>N</td>\n",
       "      <td>N</td>\n",
       "    </tr>\n",
       "    <tr>\n",
       "      <th>1</th>\n",
       "      <td>51</td>\n",
       "      <td>N</td>\n",
       "      <td>N</td>\n",
       "      <td>N</td>\n",
       "      <td>N</td>\n",
       "      <td>N</td>\n",
       "      <td>N</td>\n",
       "      <td>N</td>\n",
       "    </tr>\n",
       "    <tr>\n",
       "      <th>2</th>\n",
       "      <td>60</td>\n",
       "      <td>N</td>\n",
       "      <td>N</td>\n",
       "      <td>N</td>\n",
       "      <td>N</td>\n",
       "      <td>N</td>\n",
       "      <td>N</td>\n",
       "      <td>N</td>\n",
       "    </tr>\n",
       "    <tr>\n",
       "      <th>3</th>\n",
       "      <td>65</td>\n",
       "      <td>N</td>\n",
       "      <td>N</td>\n",
       "      <td>N</td>\n",
       "      <td>N</td>\n",
       "      <td>N</td>\n",
       "      <td>N</td>\n",
       "      <td>N</td>\n",
       "    </tr>\n",
       "    <tr>\n",
       "      <th>4</th>\n",
       "      <td>73</td>\n",
       "      <td>N</td>\n",
       "      <td>N</td>\n",
       "      <td>N</td>\n",
       "      <td>N</td>\n",
       "      <td>N</td>\n",
       "      <td>N</td>\n",
       "      <td>N</td>\n",
       "    </tr>\n",
       "  </tbody>\n",
       "</table>\n",
       "</div>"
      ],
      "text/plain": [
       "   cust_id siu_cust_yn pred_rf_cv pred_et_cv pred_xgb_cv pred_rf pred_et  \\\n",
       "0       37           N          N          N           N       N       N   \n",
       "1       51           N          N          N           N       N       N   \n",
       "2       60           N          N          N           N       N       N   \n",
       "3       65           N          N          N           N       N       N   \n",
       "4       73           N          N          N           N       N       N   \n",
       "\n",
       "  pred_xgb  \n",
       "0        N  \n",
       "1        N  \n",
       "2        N  \n",
       "3        N  \n",
       "4        N  "
      ]
     },
     "execution_count": 170,
     "metadata": {},
     "output_type": "execute_result"
    }
   ],
   "source": [
    "answer.head()"
   ]
  },
  {
   "cell_type": "code",
   "execution_count": 171,
   "metadata": {},
   "outputs": [
    {
     "data": {
      "text/plain": [
       "{'rf_cv': 0.8778583379810374,\n",
       " 'et_cv': 0.8834355828220859,\n",
       " 'xgb_cv': 0.8722810931399888,\n",
       " 'rf': 0.8823201338538762,\n",
       " 'et': 0.8906860011154489,\n",
       " 'xgb': 0.8739542665923034}"
      ]
     },
     "execution_count": 171,
     "metadata": {},
     "output_type": "execute_result"
    }
   ],
   "source": [
    "# r2_score\n",
    "models=[rf_cv,et_cv,xgb_cv,rf,et,xgb]\n",
    "tmp={}\n",
    "for m,k in zip(models,['rf_cv','et_cv','xgb_cv','rf','et','xgb']):\n",
    "    s=m.score(test_x,answer['siu_cust_yn'])\n",
    "    tmp[k]=s\n",
    "tmp"
   ]
  },
  {
   "cell_type": "code",
   "execution_count": 172,
   "metadata": {},
   "outputs": [
    {
     "data": {
      "text/plain": [
       "Text(0.5, 1.0, '모델별 r2_score')"
      ]
     },
     "execution_count": 172,
     "metadata": {},
     "output_type": "execute_result"
    },
    {
     "data": {
      "image/png": "[encoded data removed]",
      "text/plain": [
       "<Figure size 432x288 with 1 Axes>"
      ]
     },
     "metadata": {
      "needs_background": "light"
     },
     "output_type": "display_data"
    }
   ],
   "source": [
    "plt.plot(tmp.values(),'bs:')\n",
    "plt.rcParams[\"figure.figsize\"] = (10,5)\n",
    "plt.ylim(0.85,0.89)\n",
    "plt.ylabel('r2_score')\n",
    "plt.title('모델별 r2_score')"
   ]
  },
  {
   "cell_type": "code",
   "execution_count": 173,
   "metadata": {},
   "outputs": [],
   "source": [
    "from sklearn.metrics import f1_score"
   ]
  },
  {
   "cell_type": "code",
   "execution_count": 174,
   "metadata": {},
   "outputs": [],
   "source": [
    "# f1_score는 int,float만 지원\n",
    "answer['siu_cust_yn']=answer['siu_cust_yn'].map({'N':0,'Y':1})\n",
    "answer['pred_rf_cv']=answer['pred_rf_cv'].map({'N':0,'Y':1})\n",
    "answer['pred_et_cv']=answer['pred_et_cv'].map({'N':0,'Y':1})\n",
    "answer['pred_xgb_cv']=answer['pred_xgb_cv'].map({'N':0,'Y':1})\n",
    "answer['pred_rf']=answer['pred_rf'].map({'N':0,'Y':1})\n",
    "answer['pred_et']=answer['pred_et'].map({'N':0,'Y':1})\n",
    "answer['pred_xgb']=answer['pred_xgb'].map({'N':0,'Y':1})"
   ]
  },
  {
   "cell_type": "code",
   "execution_count": 175,
   "metadata": {},
   "outputs": [
    {
     "data": {
      "text/html": [
       "<div>\n",
       "<style scoped>\n",
       "    .dataframe tbody tr th:only-of-type {\n",
       "        vertical-align: middle;\n",
       "    }\n",
       "\n",
       "    .dataframe tbody tr th {\n",
       "        vertical-align: top;\n",
       "    }\n",
       "\n",
       "    .dataframe thead th {\n",
       "        text-align: right;\n",
       "    }\n",
       "</style>\n",
       "<table border=\"1\" class=\"dataframe\">\n",
       "  <thead>\n",
       "    <tr style=\"text-align: right;\">\n",
       "      <th></th>\n",
       "      <th>cust_id</th>\n",
       "      <th>siu_cust_yn</th>\n",
       "      <th>pred_rf_cv</th>\n",
       "      <th>pred_et_cv</th>\n",
       "      <th>pred_xgb_cv</th>\n",
       "      <th>pred_rf</th>\n",
       "      <th>pred_et</th>\n",
       "      <th>pred_xgb</th>\n",
       "    </tr>\n",
       "  </thead>\n",
       "  <tbody>\n",
       "    <tr>\n",
       "      <th>0</th>\n",
       "      <td>37</td>\n",
       "      <td>0</td>\n",
       "      <td>0</td>\n",
       "      <td>0</td>\n",
       "      <td>0</td>\n",
       "      <td>0</td>\n",
       "      <td>0</td>\n",
       "      <td>0</td>\n",
       "    </tr>\n",
       "    <tr>\n",
       "      <th>1</th>\n",
       "      <td>51</td>\n",
       "      <td>0</td>\n",
       "      <td>0</td>\n",
       "      <td>0</td>\n",
       "      <td>0</td>\n",
       "      <td>0</td>\n",
       "      <td>0</td>\n",
       "      <td>0</td>\n",
       "    </tr>\n",
       "    <tr>\n",
       "      <th>2</th>\n",
       "      <td>60</td>\n",
       "      <td>0</td>\n",
       "      <td>0</td>\n",
       "      <td>0</td>\n",
       "      <td>0</td>\n",
       "      <td>0</td>\n",
       "      <td>0</td>\n",
       "      <td>0</td>\n",
       "    </tr>\n",
       "    <tr>\n",
       "      <th>3</th>\n",
       "      <td>65</td>\n",
       "      <td>0</td>\n",
       "      <td>0</td>\n",
       "      <td>0</td>\n",
       "      <td>0</td>\n",
       "      <td>0</td>\n",
       "      <td>0</td>\n",
       "      <td>0</td>\n",
       "    </tr>\n",
       "    <tr>\n",
       "      <th>4</th>\n",
       "      <td>73</td>\n",
       "      <td>0</td>\n",
       "      <td>0</td>\n",
       "      <td>0</td>\n",
       "      <td>0</td>\n",
       "      <td>0</td>\n",
       "      <td>0</td>\n",
       "      <td>0</td>\n",
       "    </tr>\n",
       "  </tbody>\n",
       "</table>\n",
       "</div>"
      ],
      "text/plain": [
       "   cust_id  siu_cust_yn  pred_rf_cv  pred_et_cv  pred_xgb_cv  pred_rf  \\\n",
       "0       37            0           0           0            0        0   \n",
       "1       51            0           0           0            0        0   \n",
       "2       60            0           0           0            0        0   \n",
       "3       65            0           0           0            0        0   \n",
       "4       73            0           0           0            0        0   \n",
       "\n",
       "   pred_et  pred_xgb  \n",
       "0        0         0  \n",
       "1        0         0  \n",
       "2        0         0  \n",
       "3        0         0  \n",
       "4        0         0  "
      ]
     },
     "execution_count": 175,
     "metadata": {},
     "output_type": "execute_result"
    }
   ],
   "source": [
    "answer.head()"
   ]
  },
  {
   "cell_type": "code",
   "execution_count": 176,
   "metadata": {},
   "outputs": [
    {
     "data": {
      "text/plain": [
       "{'pred_rf_cv': 0.051948051948051945,\n",
       " 'pred_et_cv': 0.054298642533936646,\n",
       " 'pred_xgb_cv': 0.05761316872427984,\n",
       " 'pred_rf': 0.06222222222222223,\n",
       " 'pred_et': 0.0392156862745098,\n",
       " 'pred_xgb': 0.05042016806722689}"
      ]
     },
     "execution_count": 176,
     "metadata": {},
     "output_type": "execute_result"
    }
   ],
   "source": [
    "# f1_score\n",
    "models=[rf_cv,et_cv,xgb_cv,rf,et,xgb]\n",
    "tmp2={}\n",
    "for m,k in zip(models,['pred_rf_cv','pred_et_cv','pred_xgb_cv','pred_rf','pred_et','pred_xgb']):\n",
    "    s=f1_score(answer['siu_cust_yn'],answer[k])\n",
    "    tmp2[k]=s\n",
    "tmp2"
   ]
  },
  {
   "cell_type": "code",
   "execution_count": 177,
   "metadata": {},
   "outputs": [
    {
     "data": {
      "text/plain": [
       "Text(0.5, 1.0, '모델별 f1_score')"
      ]
     },
     "execution_count": 177,
     "metadata": {},
     "output_type": "execute_result"
    },
    {
     "data": {
      "image/png": "[encoded data removed]",
      "text/plain": [
       "<Figure size 720x360 with 1 Axes>"
      ]
     },
     "metadata": {
      "needs_background": "light"
     },
     "output_type": "display_data"
    }
   ],
   "source": [
    "plt.plot(tmp2.values(),'rs--')\n",
    "plt.rcParams[\"figure.figsize\"] = (4,5)\n",
    "plt.ylabel('f1_score')\n",
    "plt.title('모델별 f1_score')"
   ]
  },
  {
   "cell_type": "code",
   "execution_count": 178,
   "metadata": {
    "scrolled": true
   },
   "outputs": [
    {
     "data": {
      "image/png": "[encoded data removed]",
      "text/plain": [
       "<Figure size 288x360 with 2 Axes>"
      ]
     },
     "metadata": {
      "needs_background": "light"
     },
     "output_type": "display_data"
    }
   ],
   "source": [
    "fig, ax0 = plt.subplots()\n",
    "ax1 = ax0.twinx()\n",
    "ax0.set_title('모델별 r2_score와 f1_score')\n",
    "ax0.plot(tmp.values(), 'bs:', label=\"r2_score\")\n",
    "ax0.set_ylabel(\"r2_score\")\n",
    "ax0.grid(False)\n",
    "ax1.plot(tmp2.values(), 'rs--', label=\"f1_score\")\n",
    "ax1.set_ylabel(\"f1_score\")\n",
    "ax1.grid(False)\n",
    "ax0.legend(loc='best')\n",
    "ax1.legend(loc='lower right')\n",
    "plt.show()"
   ]
  },
  {
   "cell_type": "code",
   "execution_count": 179,
   "metadata": {},
   "outputs": [],
   "source": [
    "# 변수의 중요도 나타내기\n",
    "# from xgboost import plot_importance\n",
    "# %matplotlib inline\n",
    "# plot_importance(xgb)"
   ]
  },
  {
   "cell_type": "code",
   "execution_count": 180,
   "metadata": {},
   "outputs": [],
   "source": [
    "# 어떤 변수가 가장 큰 영향을 끼치는지"
   ]
  },
  {
   "cell_type": "code",
   "execution_count": 181,
   "metadata": {},
   "outputs": [],
   "source": [
    "# onehotencoding을 하지 말고 라벨 인코딩을 이용하여도 실행"
   ]
  },
  {
   "cell_type": "code",
   "execution_count": 182,
   "metadata": {},
   "outputs": [],
   "source": [
    "from xgboost import plot_importance"
   ]
  },
  {
   "cell_type": "code",
   "execution_count": 183,
   "metadata": {},
   "outputs": [],
   "source": [
    "%matplotlib inline"
   ]
  },
  {
   "cell_type": "code",
   "execution_count": 184,
   "metadata": {},
   "outputs": [
    {
     "data": {
      "text/plain": [
       "<matplotlib.axes._subplots.AxesSubplot at 0x17c85fbb278>"
      ]
     },
     "execution_count": 184,
     "metadata": {},
     "output_type": "execute_result"
    },
    {
     "data": {
      "image/png": "[encoded data removed]",
      "text/plain": [
       "<Figure size 432x288 with 1 Axes>"
      ]
     },
     "metadata": {
      "needs_background": "light"
     },
     "output_type": "display_data"
    }
   ],
   "source": [
    "plot_importance(xgb)"
   ]
  },
  {
   "cell_type": "code",
   "execution_count": 185,
   "metadata": {},
   "outputs": [],
   "source": [
    "# xgboost\n",
    "# mean_days => 평균 입원 일수가 가장 큰 영향을 차지하였다.\n",
    "# 이어서 3_2 칼럼이 사기자 구분에 큰 영향을 끼쳤다."
   ]
  },
  {
   "cell_type": "code",
   "execution_count": 186,
   "metadata": {},
   "outputs": [
    {
     "data": {
      "image/png": "[encoded data removed]",
      "text/plain": [
       "<Figure size 432x288 with 1 Axes>"
      ]
     },
     "metadata": {
      "needs_background": "light"
     },
     "output_type": "display_data"
    }
   ],
   "source": [
    "feat_importances = pd.Series(rf.feature_importances_, index=train_x.columns)\n",
    "feat_importances.nlargest(5).plot(kind='barh')\n",
    "plt.title('rf featrue importances')\n",
    "plt.show()"
   ]
  },
  {
   "cell_type": "code",
   "execution_count": 187,
   "metadata": {},
   "outputs": [
    {
     "data": {
      "text/plain": [
       "Text(0.5, 1.0, 'et feature importances')"
      ]
     },
     "execution_count": 187,
     "metadata": {},
     "output_type": "execute_result"
    },
    {
     "data": {
      "image/png": "[encoded data removed]",
      "text/plain": [
       "<Figure size 432x288 with 1 Axes>"
      ]
     },
     "metadata": {
      "needs_background": "light"
     },
     "output_type": "display_data"
    }
   ],
   "source": [
    "# extratree\n",
    "# importances = forest.feature_importances_\n",
    "feat_importance=pd.Series(et.feature_importances_,index=train_x.columns)\n",
    "feat_importance.nlargest(5).plot(kind='barh')\n",
    "plt.title('et feature importances')"
   ]
  },
  {
   "cell_type": "markdown",
   "metadata": {},
   "source": [
    "# ※입원 여부, 입원 기간이 사기자 구분할 때 중요한 변수이다."
   ]
  }
 ],
 "metadata": {
  "kernelspec": {
   "display_name": "Python 3",
   "language": "python",
   "name": "python3"
  },
  "language_info": {
   "codemirror_mode": {
    "name": "ipython",
    "version": 3
   },
   "file_extension": ".py",
   "mimetype": "text/x-python",
   "name": "python",
   "nbconvert_exporter": "python",
   "pygments_lexer": "ipython3",
   "version": "3.7.1"
  }
 },
 "nbformat": 4,
 "nbformat_minor": 2
}
